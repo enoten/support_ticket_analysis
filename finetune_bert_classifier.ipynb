{
 "cells": [
  {
   "cell_type": "markdown",
   "id": "77f17474-1423-418d-b369-3743abba6b40",
   "metadata": {},
   "source": [
    "### Fine-tune BERT Base model for Support Ticket Dataset Classification"
   ]
  },
  {
   "cell_type": "code",
   "execution_count": 1,
   "id": "a32b5c69-b8b2-4807-b6c5-d5ed3d237b7e",
   "metadata": {},
   "outputs": [],
   "source": [
    "from datasets import load_dataset\n",
    "from datasets import DatasetDict, Dataset\n",
    "\n",
    "import matplotlib.pyplot as plt\n",
    "\n",
    "from transformers import (logging,\n",
    "    AutoTokenizer, DataCollatorWithPadding, \n",
    "    AutoModelForSequenceClassification, TrainingArguments, Trainer\n",
    "    )\n",
    "import evaluate\n",
    "import numpy as np\n",
    "import pandas as pd\n",
    "\n",
    "# ignore warnings from transformers lib\n",
    "logging.set_verbosity_error() "
   ]
  },
  {
   "cell_type": "markdown",
   "id": "2c799a68-36aa-4ecc-8c57-2becf92b38e2",
   "metadata": {},
   "source": [
    "### 1. Load data from Support Tickets Dataset"
   ]
  },
  {
   "cell_type": "markdown",
   "id": "a6b3f3f9-0e19-4583-808a-209e22651fdf",
   "metadata": {},
   "source": [
    "<b>1.1 Load Support Tickets Dataset fom HuggingFace Hub</b>"
   ]
  },
  {
   "cell_type": "code",
   "execution_count": 6,
   "id": "f4fbd278-3ace-49cb-9765-5dbed896d5ae",
   "metadata": {},
   "outputs": [
    {
     "name": "stderr",
     "output_type": "stream",
     "text": [
      "Using the latest cached version of the dataset since phi-ai-info/support_tickets couldn't be found on the Hugging Face Hub\n",
      "Found the latest cached dataset configuration 'nano' at C:\\Users\\18623\\.cache\\huggingface\\datasets\\phi-ai-info___support_tickets\\nano\\0.0.0\\bb2d0b2803655329c606fd62d6b838df8bd85796 (last modified on Mon Dec 23 16:57:00 2024).\n"
     ]
    }
   ],
   "source": [
    "support_tickets = load_dataset(\"phi-ai-info/support_tickets\",name='nano')"
   ]
  },
  {
   "cell_type": "code",
   "execution_count": 7,
   "id": "edb6b85e-9b43-44cc-a335-e415635d7c31",
   "metadata": {},
   "outputs": [
    {
     "data": {
      "text/plain": [
       "DatasetDict({\n",
       "    train: Dataset({\n",
       "        features: ['subject', 'description', 'key_phrase'],\n",
       "        num_rows: 60\n",
       "    })\n",
       "})"
      ]
     },
     "execution_count": 7,
     "metadata": {},
     "output_type": "execute_result"
    }
   ],
   "source": [
    "support_tickets"
   ]
  },
  {
   "cell_type": "markdown",
   "id": "c739075f-69ad-4cae-b049-7e175e0307b4",
   "metadata": {},
   "source": [
    "<b>2.1 Convert support_tickets Dataset into Pandas DataFrame</b>"
   ]
  },
  {
   "cell_type": "code",
   "execution_count": 8,
   "id": "28ed3c2d-9e57-4bd0-b880-5044760613be",
   "metadata": {},
   "outputs": [],
   "source": [
    "def dataset_to_df(dataset_obj, \n",
    "                  label=None):\n",
    "    cols = list(dataset_obj[0].keys())\n",
    "    labels = []\n",
    "\n",
    "    cols_values = {item:[] for item in cols}\n",
    "    for json_rec in dataset_obj:\n",
    "        for item in cols:\n",
    "            cols_values[item].append(json_rec[item])\n",
    "    \n",
    "    if label is not None:\n",
    "        new_key = 'label'\n",
    "        cols += [new_key]\n",
    "        cols_values[new_key] = []\n",
    "        for json_rec in dataset_obj:\n",
    "            cols_values[new_key].append(label[json_rec['key_phrase']])\n",
    "    \n",
    "    return pd.DataFrame({item:cols_values[item] for item in cols})"
   ]
  },
  {
   "cell_type": "code",
   "execution_count": 9,
   "id": "fef9852d-c13e-4af4-a549-27ba0ec504ad",
   "metadata": {},
   "outputs": [],
   "source": [
    "label_dict = {'grant access': 0,\n",
    " 'revoke access': 0,\n",
    " 'access profile': 0,\n",
    " 'disk space': 1,\n",
    " 'disk full': 1,\n",
    " 'disk error': 1,\n",
    " 'add user': 2,\n",
    " 'delete user': 2,\n",
    " 'create user': 2,\n",
    " 'modify user': 2}\n",
    "\n",
    "df_set = dataset_to_df(support_tickets['train'], \n",
    "                       label=label_dict)"
   ]
  },
  {
   "cell_type": "markdown",
   "id": "2ca019e8-7653-4a8a-854e-188a0cc5f400",
   "metadata": {},
   "source": [
    "df_set"
   ]
  },
  {
   "cell_type": "code",
   "execution_count": 10,
   "id": "85828428-668e-4a58-a092-86db1cb73ed8",
   "metadata": {},
   "outputs": [
    {
     "data": {
      "text/plain": [
       "array([28, 44, 42,  7,  8, 19, 52, 30, 10, 33, 54, 20, 59,  1, 11, 41, 17,\n",
       "       38, 58, 48, 13, 31,  5,  9, 35, 39, 53, 16, 43, 18, 40, 36, 14, 25,\n",
       "        2, 26, 56,  0,  4, 49, 15, 50, 23, 55, 45, 24,  6, 34, 21, 12, 47,\n",
       "       22, 37, 27, 29, 57, 51,  3, 32, 46], dtype=int64)"
      ]
     },
     "execution_count": 10,
     "metadata": {},
     "output_type": "execute_result"
    }
   ],
   "source": [
    "random_index = np.random.permutation(df_set.index)\n",
    "random_index"
   ]
  },
  {
   "cell_type": "code",
   "execution_count": 11,
   "id": "e7368c38-3b24-4897-93da-e0ff47da8b7c",
   "metadata": {},
   "outputs": [
    {
     "data": {
      "text/plain": [
       "{'train': array([28, 44, 42,  7,  8, 19, 52, 30, 10, 33, 54, 20, 59,  1, 11, 41, 17,\n",
       "        38, 58, 48, 13, 31,  5,  9, 35, 39, 53, 16, 43, 18, 40, 36, 14, 25,\n",
       "         2, 26, 56,  0,  4, 49], dtype=int64),\n",
       " 'valid': array([15, 50, 23, 55, 45, 24,  6, 34, 21, 12], dtype=int64),\n",
       " 'test': array([47, 22, 37, 27, 29, 57, 51,  3, 32, 46], dtype=int64)}"
      ]
     },
     "execution_count": 11,
     "metadata": {},
     "output_type": "execute_result"
    }
   ],
   "source": [
    "subsets = ['train','valid','test']\n",
    "split_ind = np.array([[0,40],[40,50],[50,60]])\n",
    "ind2subset = {key:random_index[split_ind[i][0]:split_ind[i][1]] for i,key in enumerate(subsets)}\n",
    "ind2subset"
   ]
  },
  {
   "cell_type": "code",
   "execution_count": 12,
   "id": "f9af4e6b-9717-48db-a44f-c9607b4cec5e",
   "metadata": {},
   "outputs": [
    {
     "data": {
      "text/html": [
       "<div>\n",
       "<style scoped>\n",
       "    .dataframe tbody tr th:only-of-type {\n",
       "        vertical-align: middle;\n",
       "    }\n",
       "\n",
       "    .dataframe tbody tr th {\n",
       "        vertical-align: top;\n",
       "    }\n",
       "\n",
       "    .dataframe thead th {\n",
       "        text-align: right;\n",
       "    }\n",
       "</style>\n",
       "<table border=\"1\" class=\"dataframe\">\n",
       "  <thead>\n",
       "    <tr style=\"text-align: right;\">\n",
       "      <th></th>\n",
       "      <th>subject</th>\n",
       "      <th>description</th>\n",
       "      <th>key_phrase</th>\n",
       "      <th>label</th>\n",
       "    </tr>\n",
       "  </thead>\n",
       "  <tbody>\n",
       "    <tr>\n",
       "      <th>28</th>\n",
       "      <td>Disk Error Messages</td>\n",
       "      <td>Receiving disk error messages, please investig...</td>\n",
       "      <td>disk error</td>\n",
       "      <td>1</td>\n",
       "    </tr>\n",
       "    <tr>\n",
       "      <th>44</th>\n",
       "      <td>Create new User Account</td>\n",
       "      <td>create a user profile using known information.</td>\n",
       "      <td>create user</td>\n",
       "      <td>2</td>\n",
       "    </tr>\n",
       "    <tr>\n",
       "      <th>42</th>\n",
       "      <td>Delete David's User</td>\n",
       "      <td>Delete David user as he's left the company.</td>\n",
       "      <td>delete user</td>\n",
       "      <td>2</td>\n",
       "    </tr>\n",
       "    <tr>\n",
       "      <th>7</th>\n",
       "      <td>Revoke Admin Access</td>\n",
       "      <td>Revoke admin access for a user.</td>\n",
       "      <td>revoke access</td>\n",
       "      <td>0</td>\n",
       "    </tr>\n",
       "    <tr>\n",
       "      <th>8</th>\n",
       "      <td>Access Level Update</td>\n",
       "      <td>update access profile with more levels for sal...</td>\n",
       "      <td>access profile</td>\n",
       "      <td>0</td>\n",
       "    </tr>\n",
       "    <tr>\n",
       "      <th>19</th>\n",
       "      <td>Revoke Access to Old System</td>\n",
       "      <td>Revoke access to old system for all users.</td>\n",
       "      <td>revoke access</td>\n",
       "      <td>0</td>\n",
       "    </tr>\n",
       "    <tr>\n",
       "      <th>52</th>\n",
       "      <td>modify User Email</td>\n",
       "      <td>Modify user (me) email address.</td>\n",
       "      <td>modify user</td>\n",
       "      <td>2</td>\n",
       "    </tr>\n",
       "    <tr>\n",
       "      <th>30</th>\n",
       "      <td>Disk Space Capacity Upgrade</td>\n",
       "      <td>Request to increase disk space size.</td>\n",
       "      <td>disk space</td>\n",
       "      <td>1</td>\n",
       "    </tr>\n",
       "    <tr>\n",
       "      <th>10</th>\n",
       "      <td>Access Removal for Inactive Users</td>\n",
       "      <td>Revoke access for inactive users.</td>\n",
       "      <td>revoke access</td>\n",
       "      <td>0</td>\n",
       "    </tr>\n",
       "    <tr>\n",
       "      <th>33</th>\n",
       "      <td>Disk Space Optimization</td>\n",
       "      <td>Need help optimizing disk space usage.</td>\n",
       "      <td>disk space</td>\n",
       "      <td>1</td>\n",
       "    </tr>\n",
       "    <tr>\n",
       "      <th>54</th>\n",
       "      <td>Modify User Permission</td>\n",
       "      <td>Modify permissions for users for the marketing...</td>\n",
       "      <td>modify user</td>\n",
       "      <td>2</td>\n",
       "    </tr>\n",
       "    <tr>\n",
       "      <th>20</th>\n",
       "      <td>Low Disk Space Warning</td>\n",
       "      <td>Our team's shared drive is running low on disk...</td>\n",
       "      <td>disk space</td>\n",
       "      <td>1</td>\n",
       "    </tr>\n",
       "    <tr>\n",
       "      <th>59</th>\n",
       "      <td>Modify User Account</td>\n",
       "      <td>Modify my user account by providing more rights</td>\n",
       "      <td>modify user</td>\n",
       "      <td>2</td>\n",
       "    </tr>\n",
       "    <tr>\n",
       "      <th>1</th>\n",
       "      <td>Revoke Access to Sensitive Data</td>\n",
       "      <td>Revoke user access to sensitive information.</td>\n",
       "      <td>revoke access</td>\n",
       "      <td>0</td>\n",
       "    </tr>\n",
       "    <tr>\n",
       "      <th>11</th>\n",
       "      <td>Update Access Profile Permissions</td>\n",
       "      <td>Update access profile with permissions for mar...</td>\n",
       "      <td>access profile</td>\n",
       "      <td>0</td>\n",
       "    </tr>\n",
       "    <tr>\n",
       "      <th>41</th>\n",
       "      <td>Delete Departing Employee user</td>\n",
       "      <td>Please delete user for Micheal account as he's...</td>\n",
       "      <td>delete user</td>\n",
       "      <td>2</td>\n",
       "    </tr>\n",
       "    <tr>\n",
       "      <th>17</th>\n",
       "      <td>Update Access Levels</td>\n",
       "      <td>Update access levels for profile for IT depart...</td>\n",
       "      <td>access profile</td>\n",
       "      <td>0</td>\n",
       "    </tr>\n",
       "    <tr>\n",
       "      <th>38</th>\n",
       "      <td>Disk Failure Replacement</td>\n",
       "      <td>Need replacement for failed disk due to block ...</td>\n",
       "      <td>disk error</td>\n",
       "      <td>1</td>\n",
       "    </tr>\n",
       "    <tr>\n",
       "      <th>58</th>\n",
       "      <td>Create Test User</td>\n",
       "      <td>Create test user account for training.</td>\n",
       "      <td>create user</td>\n",
       "      <td>2</td>\n",
       "    </tr>\n",
       "    <tr>\n",
       "      <th>48</th>\n",
       "      <td>Create Temporary User</td>\n",
       "      <td>Create temporary user account for contractor.</td>\n",
       "      <td>create user</td>\n",
       "      <td>2</td>\n",
       "    </tr>\n",
       "    <tr>\n",
       "      <th>13</th>\n",
       "      <td>Revoke All Access</td>\n",
       "      <td>Revoke all access for departing employee.</td>\n",
       "      <td>revoke access</td>\n",
       "      <td>0</td>\n",
       "    </tr>\n",
       "    <tr>\n",
       "      <th>31</th>\n",
       "      <td>Disk Full Alert</td>\n",
       "      <td>Received disk full alert, need immediate atten...</td>\n",
       "      <td>disk full</td>\n",
       "      <td>1</td>\n",
       "    </tr>\n",
       "    <tr>\n",
       "      <th>5</th>\n",
       "      <td>Profile Update for New Role</td>\n",
       "      <td>Update access profile to reflect new job respo...</td>\n",
       "      <td>access profile</td>\n",
       "      <td>0</td>\n",
       "    </tr>\n",
       "    <tr>\n",
       "      <th>9</th>\n",
       "      <td>Grant Access Request for Training</td>\n",
       "      <td>Need to grant access to training materials.</td>\n",
       "      <td>grant access</td>\n",
       "      <td>0</td>\n",
       "    </tr>\n",
       "    <tr>\n",
       "      <th>35</th>\n",
       "      <td>Disk Storage Request</td>\n",
       "      <td>Need additional disk space for growing data.</td>\n",
       "      <td>disk space</td>\n",
       "      <td>1</td>\n",
       "    </tr>\n",
       "    <tr>\n",
       "      <th>39</th>\n",
       "      <td>Disk Space Reallocation</td>\n",
       "      <td>Need to reallocate disk space for new priorities.</td>\n",
       "      <td>disk space</td>\n",
       "      <td>1</td>\n",
       "    </tr>\n",
       "    <tr>\n",
       "      <th>53</th>\n",
       "      <td>Create User Account for New Hire</td>\n",
       "      <td>Need to create new user account for recent hire.</td>\n",
       "      <td>create user</td>\n",
       "      <td>2</td>\n",
       "    </tr>\n",
       "    <tr>\n",
       "      <th>16</th>\n",
       "      <td>Access Removal for Old Projects</td>\n",
       "      <td>Revoke access to old project files.</td>\n",
       "      <td>revoke access</td>\n",
       "      <td>0</td>\n",
       "    </tr>\n",
       "    <tr>\n",
       "      <th>43</th>\n",
       "      <td>Create New User Account</td>\n",
       "      <td>create a new user account for our intern.</td>\n",
       "      <td>create user</td>\n",
       "      <td>2</td>\n",
       "    </tr>\n",
       "    <tr>\n",
       "      <th>18</th>\n",
       "      <td>Grant Special Access</td>\n",
       "      <td>Grant special access to sensitive data.</td>\n",
       "      <td>grant access</td>\n",
       "      <td>0</td>\n",
       "    </tr>\n",
       "    <tr>\n",
       "      <th>40</th>\n",
       "      <td>New Employee Onboarding</td>\n",
       "      <td>Request to add a user for a new employee to sy...</td>\n",
       "      <td>add user</td>\n",
       "      <td>2</td>\n",
       "    </tr>\n",
       "    <tr>\n",
       "      <th>36</th>\n",
       "      <td>Disk Error Diagnosis</td>\n",
       "      <td>Need assistance diagnosing disk error.</td>\n",
       "      <td>disk error</td>\n",
       "      <td>1</td>\n",
       "    </tr>\n",
       "    <tr>\n",
       "      <th>14</th>\n",
       "      <td>Access Profile Update</td>\n",
       "      <td>Update access profile for new team members.</td>\n",
       "      <td>access profile</td>\n",
       "      <td>0</td>\n",
       "    </tr>\n",
       "    <tr>\n",
       "      <th>25</th>\n",
       "      <td>Server Disk Full</td>\n",
       "      <td>Server disk is full, causing system slowdown.</td>\n",
       "      <td>disk full</td>\n",
       "      <td>1</td>\n",
       "    </tr>\n",
       "    <tr>\n",
       "      <th>2</th>\n",
       "      <td>Update Access Profile</td>\n",
       "      <td>Modify my access profile to include admin rights</td>\n",
       "      <td>access profile</td>\n",
       "      <td>0</td>\n",
       "    </tr>\n",
       "    <tr>\n",
       "      <th>26</th>\n",
       "      <td>Disk Error</td>\n",
       "      <td>disk error caused data loss, need assistance.</td>\n",
       "      <td>disk error</td>\n",
       "      <td>1</td>\n",
       "    </tr>\n",
       "    <tr>\n",
       "      <th>56</th>\n",
       "      <td>Delete Duplicate Users</td>\n",
       "      <td>Delete duplicate users account.</td>\n",
       "      <td>delete user</td>\n",
       "      <td>2</td>\n",
       "    </tr>\n",
       "    <tr>\n",
       "      <th>0</th>\n",
       "      <td>Grant Access to Confidential Files</td>\n",
       "      <td>Grant user access to confidential documents.</td>\n",
       "      <td>grant access</td>\n",
       "      <td>0</td>\n",
       "    </tr>\n",
       "    <tr>\n",
       "      <th>4</th>\n",
       "      <td>Access Removal for Departing Employee</td>\n",
       "      <td>Revoke access for departing employee.</td>\n",
       "      <td>revoke access</td>\n",
       "      <td>0</td>\n",
       "    </tr>\n",
       "    <tr>\n",
       "      <th>49</th>\n",
       "      <td>Modify User Account Deactivation</td>\n",
       "      <td>Modify my user account to be temporarily inact...</td>\n",
       "      <td>modify user</td>\n",
       "      <td>2</td>\n",
       "    </tr>\n",
       "  </tbody>\n",
       "</table>\n",
       "</div>"
      ],
      "text/plain": [
       "                                  subject  \\\n",
       "28                    Disk Error Messages   \n",
       "44                Create new User Account   \n",
       "42                    Delete David's User   \n",
       "7                     Revoke Admin Access   \n",
       "8                     Access Level Update   \n",
       "19            Revoke Access to Old System   \n",
       "52                      modify User Email   \n",
       "30            Disk Space Capacity Upgrade   \n",
       "10      Access Removal for Inactive Users   \n",
       "33                Disk Space Optimization   \n",
       "54                 Modify User Permission   \n",
       "20                 Low Disk Space Warning   \n",
       "59                    Modify User Account   \n",
       "1         Revoke Access to Sensitive Data   \n",
       "11      Update Access Profile Permissions   \n",
       "41         Delete Departing Employee user   \n",
       "17                   Update Access Levels   \n",
       "38               Disk Failure Replacement   \n",
       "58                       Create Test User   \n",
       "48                  Create Temporary User   \n",
       "13                      Revoke All Access   \n",
       "31                        Disk Full Alert   \n",
       "5             Profile Update for New Role   \n",
       "9       Grant Access Request for Training   \n",
       "35                   Disk Storage Request   \n",
       "39                Disk Space Reallocation   \n",
       "53       Create User Account for New Hire   \n",
       "16        Access Removal for Old Projects   \n",
       "43                Create New User Account   \n",
       "18                   Grant Special Access   \n",
       "40                New Employee Onboarding   \n",
       "36                   Disk Error Diagnosis   \n",
       "14                  Access Profile Update   \n",
       "25                       Server Disk Full   \n",
       "2                   Update Access Profile   \n",
       "26                             Disk Error   \n",
       "56                 Delete Duplicate Users   \n",
       "0      Grant Access to Confidential Files   \n",
       "4   Access Removal for Departing Employee   \n",
       "49       Modify User Account Deactivation   \n",
       "\n",
       "                                          description      key_phrase  label  \n",
       "28  Receiving disk error messages, please investig...      disk error      1  \n",
       "44     create a user profile using known information.     create user      2  \n",
       "42        Delete David user as he's left the company.     delete user      2  \n",
       "7                     Revoke admin access for a user.   revoke access      0  \n",
       "8   update access profile with more levels for sal...  access profile      0  \n",
       "19         Revoke access to old system for all users.   revoke access      0  \n",
       "52                    Modify user (me) email address.     modify user      2  \n",
       "30               Request to increase disk space size.      disk space      1  \n",
       "10                  Revoke access for inactive users.   revoke access      0  \n",
       "33             Need help optimizing disk space usage.      disk space      1  \n",
       "54  Modify permissions for users for the marketing...     modify user      2  \n",
       "20  Our team's shared drive is running low on disk...      disk space      1  \n",
       "59    Modify my user account by providing more rights     modify user      2  \n",
       "1        Revoke user access to sensitive information.   revoke access      0  \n",
       "11  Update access profile with permissions for mar...  access profile      0  \n",
       "41  Please delete user for Micheal account as he's...     delete user      2  \n",
       "17  Update access levels for profile for IT depart...  access profile      0  \n",
       "38  Need replacement for failed disk due to block ...      disk error      1  \n",
       "58             Create test user account for training.     create user      2  \n",
       "48      Create temporary user account for contractor.     create user      2  \n",
       "13          Revoke all access for departing employee.   revoke access      0  \n",
       "31  Received disk full alert, need immediate atten...       disk full      1  \n",
       "5   Update access profile to reflect new job respo...  access profile      0  \n",
       "9         Need to grant access to training materials.    grant access      0  \n",
       "35       Need additional disk space for growing data.      disk space      1  \n",
       "39  Need to reallocate disk space for new priorities.      disk space      1  \n",
       "53   Need to create new user account for recent hire.     create user      2  \n",
       "16                Revoke access to old project files.   revoke access      0  \n",
       "43          create a new user account for our intern.     create user      2  \n",
       "18            Grant special access to sensitive data.    grant access      0  \n",
       "40  Request to add a user for a new employee to sy...        add user      2  \n",
       "36             Need assistance diagnosing disk error.      disk error      1  \n",
       "14        Update access profile for new team members.  access profile      0  \n",
       "25      Server disk is full, causing system slowdown.       disk full      1  \n",
       "2    Modify my access profile to include admin rights  access profile      0  \n",
       "26      disk error caused data loss, need assistance.      disk error      1  \n",
       "56                    Delete duplicate users account.     delete user      2  \n",
       "0        Grant user access to confidential documents.    grant access      0  \n",
       "4               Revoke access for departing employee.   revoke access      0  \n",
       "49  Modify my user account to be temporarily inact...     modify user      2  "
      ]
     },
     "execution_count": 12,
     "metadata": {},
     "output_type": "execute_result"
    }
   ],
   "source": [
    "df_set.iloc[ind2subset['train']]"
   ]
  },
  {
   "cell_type": "markdown",
   "id": "6109c01d-879b-418f-a175-39a0d277af20",
   "metadata": {},
   "source": [
    "<b>1.3 Create a Dataset with Train, Validation and Test splits</b>"
   ]
  },
  {
   "cell_type": "code",
   "execution_count": 13,
   "id": "21ddef4f-3947-48f4-89e8-7447379adf72",
   "metadata": {},
   "outputs": [
    {
     "data": {
      "text/plain": [
       "DatasetDict({\n",
       "    train: Dataset({\n",
       "        features: ['subject', 'description', 'key_phrase', 'label', '__index_level_0__'],\n",
       "        num_rows: 40\n",
       "    })\n",
       "    valid: Dataset({\n",
       "        features: ['subject', 'description', 'key_phrase', 'label', '__index_level_0__'],\n",
       "        num_rows: 10\n",
       "    })\n",
       "    test: Dataset({\n",
       "        features: ['subject', 'description', 'key_phrase', 'label', '__index_level_0__'],\n",
       "        num_rows: 10\n",
       "    })\n",
       "})"
      ]
     },
     "execution_count": 13,
     "metadata": {},
     "output_type": "execute_result"
    }
   ],
   "source": [
    "ds_splits = DatasetDict({\n",
    "                        'train': Dataset.from_pandas(\n",
    "                                                    df_set.iloc[ind2subset['train']]\n",
    "                                                    ),\n",
    "                        'valid': Dataset.from_pandas(\n",
    "                                                    df_set.iloc[ind2subset['valid']]\n",
    "                                                    ),\n",
    "                        'test': Dataset.from_pandas(\n",
    "                                                    df_set.iloc[ind2subset['test']]\n",
    "                                                    )\n",
    "                        })\n",
    "ds_splits"
   ]
  },
  {
   "cell_type": "code",
   "execution_count": 14,
   "id": "de527a40-d6e0-406f-95aa-bcc41d7d8223",
   "metadata": {},
   "outputs": [
    {
     "data": {
      "text/plain": [
       "DatasetDict({\n",
       "    train: Dataset({\n",
       "        features: ['subject', 'description', 'key_phrase', 'label', '__index_level_0__'],\n",
       "        num_rows: 40\n",
       "    })\n",
       "    valid: Dataset({\n",
       "        features: ['subject', 'description', 'key_phrase', 'label', '__index_level_0__'],\n",
       "        num_rows: 10\n",
       "    })\n",
       "    test: Dataset({\n",
       "        features: ['subject', 'description', 'key_phrase', 'label', '__index_level_0__'],\n",
       "        num_rows: 10\n",
       "    })\n",
       "})"
      ]
     },
     "execution_count": 14,
     "metadata": {},
     "output_type": "execute_result"
    }
   ],
   "source": [
    "subsets = ['train','valid','test']\n",
    "split_dict = { key: Dataset.from_pandas(df_set.iloc[ind2subset[key]]) for key in subsets}\n",
    "support_tickets_splits = DatasetDict(split_dict)\n",
    "support_tickets_splits"
   ]
  },
  {
   "cell_type": "markdown",
   "id": "2bf82a01",
   "metadata": {},
   "source": [
    "### 2. Train BERT base Model"
   ]
  },
  {
   "cell_type": "markdown",
   "id": "4014827b-2f92-457b-83be-7709943a0746",
   "metadata": {},
   "source": [
    "<b>2.1 Load model from HuggingFace Hub</b>"
   ]
  },
  {
   "cell_type": "code",
   "execution_count": 15,
   "id": "ec0311bd",
   "metadata": {},
   "outputs": [],
   "source": [
    "model_path = \"google-bert/bert-base-uncased\"\n",
    "\n",
    "tokenizer = AutoTokenizer.from_pretrained(model_path)\n",
    "\n",
    "id2label = {0: \"access\", 1: \"disk\", 2: \"user\"}\n",
    "label2id = {id2label[key]:key for key in id2label}\n",
    "\n",
    "model = AutoModelForSequenceClassification.from_pretrained(model_path, \n",
    "                                                           num_labels=len(list(id2label.keys())), \n",
    "                                                           id2label=id2label, \n",
    "                                                           label2id=label2id,\n",
    "                                                          )"
   ]
  },
  {
   "cell_type": "markdown",
   "id": "826084b6",
   "metadata": {},
   "source": [
    "<b>2.2 Viz Model Stru</b>"
   ]
  },
  {
   "cell_type": "code",
   "execution_count": 16,
   "id": "03aa44f2",
   "metadata": {
    "scrolled": true
   },
   "outputs": [
    {
     "name": "stdout",
     "output_type": "stream",
     "text": [
      "bert.embeddings.word_embeddings.weight True\n",
      "bert.embeddings.position_embeddings.weight True\n",
      "bert.embeddings.token_type_embeddings.weight True\n",
      "bert.embeddings.LayerNorm.weight True\n",
      "bert.embeddings.LayerNorm.bias True\n",
      "bert.encoder.layer.0.attention.self.query.weight True\n",
      "bert.encoder.layer.0.attention.self.query.bias True\n",
      "bert.encoder.layer.0.attention.self.key.weight True\n",
      "bert.encoder.layer.0.attention.self.key.bias True\n",
      "bert.encoder.layer.0.attention.self.value.weight True\n",
      "bert.encoder.layer.0.attention.self.value.bias True\n",
      "bert.encoder.layer.0.attention.output.dense.weight True\n",
      "bert.encoder.layer.0.attention.output.dense.bias True\n",
      "bert.encoder.layer.0.attention.output.LayerNorm.weight True\n",
      "bert.encoder.layer.0.attention.output.LayerNorm.bias True\n",
      "bert.encoder.layer.0.intermediate.dense.weight True\n",
      "bert.encoder.layer.0.intermediate.dense.bias True\n",
      "bert.encoder.layer.0.output.dense.weight True\n",
      "bert.encoder.layer.0.output.dense.bias True\n",
      "bert.encoder.layer.0.output.LayerNorm.weight True\n",
      "bert.encoder.layer.0.output.LayerNorm.bias True\n",
      "bert.encoder.layer.1.attention.self.query.weight True\n",
      "bert.encoder.layer.1.attention.self.query.bias True\n",
      "bert.encoder.layer.1.attention.self.key.weight True\n",
      "bert.encoder.layer.1.attention.self.key.bias True\n",
      "bert.encoder.layer.1.attention.self.value.weight True\n",
      "bert.encoder.layer.1.attention.self.value.bias True\n",
      "bert.encoder.layer.1.attention.output.dense.weight True\n",
      "bert.encoder.layer.1.attention.output.dense.bias True\n",
      "bert.encoder.layer.1.attention.output.LayerNorm.weight True\n",
      "bert.encoder.layer.1.attention.output.LayerNorm.bias True\n",
      "bert.encoder.layer.1.intermediate.dense.weight True\n",
      "bert.encoder.layer.1.intermediate.dense.bias True\n",
      "bert.encoder.layer.1.output.dense.weight True\n",
      "bert.encoder.layer.1.output.dense.bias True\n",
      "bert.encoder.layer.1.output.LayerNorm.weight True\n",
      "bert.encoder.layer.1.output.LayerNorm.bias True\n",
      "bert.encoder.layer.2.attention.self.query.weight True\n",
      "bert.encoder.layer.2.attention.self.query.bias True\n",
      "bert.encoder.layer.2.attention.self.key.weight True\n",
      "bert.encoder.layer.2.attention.self.key.bias True\n",
      "bert.encoder.layer.2.attention.self.value.weight True\n",
      "bert.encoder.layer.2.attention.self.value.bias True\n",
      "bert.encoder.layer.2.attention.output.dense.weight True\n",
      "bert.encoder.layer.2.attention.output.dense.bias True\n",
      "bert.encoder.layer.2.attention.output.LayerNorm.weight True\n",
      "bert.encoder.layer.2.attention.output.LayerNorm.bias True\n",
      "bert.encoder.layer.2.intermediate.dense.weight True\n",
      "bert.encoder.layer.2.intermediate.dense.bias True\n",
      "bert.encoder.layer.2.output.dense.weight True\n",
      "bert.encoder.layer.2.output.dense.bias True\n",
      "bert.encoder.layer.2.output.LayerNorm.weight True\n",
      "bert.encoder.layer.2.output.LayerNorm.bias True\n",
      "bert.encoder.layer.3.attention.self.query.weight True\n",
      "bert.encoder.layer.3.attention.self.query.bias True\n",
      "bert.encoder.layer.3.attention.self.key.weight True\n",
      "bert.encoder.layer.3.attention.self.key.bias True\n",
      "bert.encoder.layer.3.attention.self.value.weight True\n",
      "bert.encoder.layer.3.attention.self.value.bias True\n",
      "bert.encoder.layer.3.attention.output.dense.weight True\n",
      "bert.encoder.layer.3.attention.output.dense.bias True\n",
      "bert.encoder.layer.3.attention.output.LayerNorm.weight True\n",
      "bert.encoder.layer.3.attention.output.LayerNorm.bias True\n",
      "bert.encoder.layer.3.intermediate.dense.weight True\n",
      "bert.encoder.layer.3.intermediate.dense.bias True\n",
      "bert.encoder.layer.3.output.dense.weight True\n",
      "bert.encoder.layer.3.output.dense.bias True\n",
      "bert.encoder.layer.3.output.LayerNorm.weight True\n",
      "bert.encoder.layer.3.output.LayerNorm.bias True\n",
      "bert.encoder.layer.4.attention.self.query.weight True\n",
      "bert.encoder.layer.4.attention.self.query.bias True\n",
      "bert.encoder.layer.4.attention.self.key.weight True\n",
      "bert.encoder.layer.4.attention.self.key.bias True\n",
      "bert.encoder.layer.4.attention.self.value.weight True\n",
      "bert.encoder.layer.4.attention.self.value.bias True\n",
      "bert.encoder.layer.4.attention.output.dense.weight True\n",
      "bert.encoder.layer.4.attention.output.dense.bias True\n",
      "bert.encoder.layer.4.attention.output.LayerNorm.weight True\n",
      "bert.encoder.layer.4.attention.output.LayerNorm.bias True\n",
      "bert.encoder.layer.4.intermediate.dense.weight True\n",
      "bert.encoder.layer.4.intermediate.dense.bias True\n",
      "bert.encoder.layer.4.output.dense.weight True\n",
      "bert.encoder.layer.4.output.dense.bias True\n",
      "bert.encoder.layer.4.output.LayerNorm.weight True\n",
      "bert.encoder.layer.4.output.LayerNorm.bias True\n",
      "bert.encoder.layer.5.attention.self.query.weight True\n",
      "bert.encoder.layer.5.attention.self.query.bias True\n",
      "bert.encoder.layer.5.attention.self.key.weight True\n",
      "bert.encoder.layer.5.attention.self.key.bias True\n",
      "bert.encoder.layer.5.attention.self.value.weight True\n",
      "bert.encoder.layer.5.attention.self.value.bias True\n",
      "bert.encoder.layer.5.attention.output.dense.weight True\n",
      "bert.encoder.layer.5.attention.output.dense.bias True\n",
      "bert.encoder.layer.5.attention.output.LayerNorm.weight True\n",
      "bert.encoder.layer.5.attention.output.LayerNorm.bias True\n",
      "bert.encoder.layer.5.intermediate.dense.weight True\n",
      "bert.encoder.layer.5.intermediate.dense.bias True\n",
      "bert.encoder.layer.5.output.dense.weight True\n",
      "bert.encoder.layer.5.output.dense.bias True\n",
      "bert.encoder.layer.5.output.LayerNorm.weight True\n",
      "bert.encoder.layer.5.output.LayerNorm.bias True\n",
      "bert.encoder.layer.6.attention.self.query.weight True\n",
      "bert.encoder.layer.6.attention.self.query.bias True\n",
      "bert.encoder.layer.6.attention.self.key.weight True\n",
      "bert.encoder.layer.6.attention.self.key.bias True\n",
      "bert.encoder.layer.6.attention.self.value.weight True\n",
      "bert.encoder.layer.6.attention.self.value.bias True\n",
      "bert.encoder.layer.6.attention.output.dense.weight True\n",
      "bert.encoder.layer.6.attention.output.dense.bias True\n",
      "bert.encoder.layer.6.attention.output.LayerNorm.weight True\n",
      "bert.encoder.layer.6.attention.output.LayerNorm.bias True\n",
      "bert.encoder.layer.6.intermediate.dense.weight True\n",
      "bert.encoder.layer.6.intermediate.dense.bias True\n",
      "bert.encoder.layer.6.output.dense.weight True\n",
      "bert.encoder.layer.6.output.dense.bias True\n",
      "bert.encoder.layer.6.output.LayerNorm.weight True\n",
      "bert.encoder.layer.6.output.LayerNorm.bias True\n",
      "bert.encoder.layer.7.attention.self.query.weight True\n",
      "bert.encoder.layer.7.attention.self.query.bias True\n",
      "bert.encoder.layer.7.attention.self.key.weight True\n",
      "bert.encoder.layer.7.attention.self.key.bias True\n",
      "bert.encoder.layer.7.attention.self.value.weight True\n",
      "bert.encoder.layer.7.attention.self.value.bias True\n",
      "bert.encoder.layer.7.attention.output.dense.weight True\n",
      "bert.encoder.layer.7.attention.output.dense.bias True\n",
      "bert.encoder.layer.7.attention.output.LayerNorm.weight True\n",
      "bert.encoder.layer.7.attention.output.LayerNorm.bias True\n",
      "bert.encoder.layer.7.intermediate.dense.weight True\n",
      "bert.encoder.layer.7.intermediate.dense.bias True\n",
      "bert.encoder.layer.7.output.dense.weight True\n",
      "bert.encoder.layer.7.output.dense.bias True\n",
      "bert.encoder.layer.7.output.LayerNorm.weight True\n",
      "bert.encoder.layer.7.output.LayerNorm.bias True\n",
      "bert.encoder.layer.8.attention.self.query.weight True\n",
      "bert.encoder.layer.8.attention.self.query.bias True\n",
      "bert.encoder.layer.8.attention.self.key.weight True\n",
      "bert.encoder.layer.8.attention.self.key.bias True\n",
      "bert.encoder.layer.8.attention.self.value.weight True\n",
      "bert.encoder.layer.8.attention.self.value.bias True\n",
      "bert.encoder.layer.8.attention.output.dense.weight True\n",
      "bert.encoder.layer.8.attention.output.dense.bias True\n",
      "bert.encoder.layer.8.attention.output.LayerNorm.weight True\n",
      "bert.encoder.layer.8.attention.output.LayerNorm.bias True\n",
      "bert.encoder.layer.8.intermediate.dense.weight True\n",
      "bert.encoder.layer.8.intermediate.dense.bias True\n",
      "bert.encoder.layer.8.output.dense.weight True\n",
      "bert.encoder.layer.8.output.dense.bias True\n",
      "bert.encoder.layer.8.output.LayerNorm.weight True\n",
      "bert.encoder.layer.8.output.LayerNorm.bias True\n",
      "bert.encoder.layer.9.attention.self.query.weight True\n",
      "bert.encoder.layer.9.attention.self.query.bias True\n",
      "bert.encoder.layer.9.attention.self.key.weight True\n",
      "bert.encoder.layer.9.attention.self.key.bias True\n",
      "bert.encoder.layer.9.attention.self.value.weight True\n",
      "bert.encoder.layer.9.attention.self.value.bias True\n",
      "bert.encoder.layer.9.attention.output.dense.weight True\n",
      "bert.encoder.layer.9.attention.output.dense.bias True\n",
      "bert.encoder.layer.9.attention.output.LayerNorm.weight True\n",
      "bert.encoder.layer.9.attention.output.LayerNorm.bias True\n",
      "bert.encoder.layer.9.intermediate.dense.weight True\n",
      "bert.encoder.layer.9.intermediate.dense.bias True\n",
      "bert.encoder.layer.9.output.dense.weight True\n",
      "bert.encoder.layer.9.output.dense.bias True\n",
      "bert.encoder.layer.9.output.LayerNorm.weight True\n",
      "bert.encoder.layer.9.output.LayerNorm.bias True\n",
      "bert.encoder.layer.10.attention.self.query.weight True\n",
      "bert.encoder.layer.10.attention.self.query.bias True\n",
      "bert.encoder.layer.10.attention.self.key.weight True\n",
      "bert.encoder.layer.10.attention.self.key.bias True\n",
      "bert.encoder.layer.10.attention.self.value.weight True\n",
      "bert.encoder.layer.10.attention.self.value.bias True\n",
      "bert.encoder.layer.10.attention.output.dense.weight True\n",
      "bert.encoder.layer.10.attention.output.dense.bias True\n",
      "bert.encoder.layer.10.attention.output.LayerNorm.weight True\n",
      "bert.encoder.layer.10.attention.output.LayerNorm.bias True\n",
      "bert.encoder.layer.10.intermediate.dense.weight True\n",
      "bert.encoder.layer.10.intermediate.dense.bias True\n",
      "bert.encoder.layer.10.output.dense.weight True\n",
      "bert.encoder.layer.10.output.dense.bias True\n",
      "bert.encoder.layer.10.output.LayerNorm.weight True\n",
      "bert.encoder.layer.10.output.LayerNorm.bias True\n",
      "bert.encoder.layer.11.attention.self.query.weight True\n",
      "bert.encoder.layer.11.attention.self.query.bias True\n",
      "bert.encoder.layer.11.attention.self.key.weight True\n",
      "bert.encoder.layer.11.attention.self.key.bias True\n",
      "bert.encoder.layer.11.attention.self.value.weight True\n",
      "bert.encoder.layer.11.attention.self.value.bias True\n",
      "bert.encoder.layer.11.attention.output.dense.weight True\n",
      "bert.encoder.layer.11.attention.output.dense.bias True\n",
      "bert.encoder.layer.11.attention.output.LayerNorm.weight True\n",
      "bert.encoder.layer.11.attention.output.LayerNorm.bias True\n",
      "bert.encoder.layer.11.intermediate.dense.weight True\n",
      "bert.encoder.layer.11.intermediate.dense.bias True\n",
      "bert.encoder.layer.11.output.dense.weight True\n",
      "bert.encoder.layer.11.output.dense.bias True\n",
      "bert.encoder.layer.11.output.LayerNorm.weight True\n",
      "bert.encoder.layer.11.output.LayerNorm.bias True\n",
      "bert.pooler.dense.weight True\n",
      "bert.pooler.dense.bias True\n",
      "classifier.weight True\n",
      "classifier.bias True\n"
     ]
    }
   ],
   "source": [
    "# print layers\n",
    "for name, param in model.named_parameters():\n",
    "   print(name, param.requires_grad)"
   ]
  },
  {
   "cell_type": "markdown",
   "id": "4e2e3400-8a57-4ff7-a1ae-cc9e212e1d92",
   "metadata": {},
   "source": [
    "<b>2.3 Freeze base model</b>"
   ]
  },
  {
   "cell_type": "code",
   "execution_count": 17,
   "id": "9b569296",
   "metadata": {},
   "outputs": [],
   "source": [
    "# freeze base model parameters and unfreeze base model pooling layers\n",
    "for name, param in model.base_model.named_parameters():\n",
    "    if \"pooler\" in name:\n",
    "        param.requires_grad = True\n",
    "    else:\n",
    "        param.requires_grad = False"
   ]
  },
  {
   "cell_type": "code",
   "execution_count": 18,
   "id": "161d7c59",
   "metadata": {
    "scrolled": true
   },
   "outputs": [
    {
     "name": "stdout",
     "output_type": "stream",
     "text": [
      "bert.embeddings.word_embeddings.weight False\n",
      "bert.embeddings.position_embeddings.weight False\n",
      "bert.embeddings.token_type_embeddings.weight False\n",
      "bert.embeddings.LayerNorm.weight False\n",
      "bert.embeddings.LayerNorm.bias False\n",
      "bert.encoder.layer.0.attention.self.query.weight False\n",
      "bert.encoder.layer.0.attention.self.query.bias False\n",
      "bert.encoder.layer.0.attention.self.key.weight False\n",
      "bert.encoder.layer.0.attention.self.key.bias False\n",
      "bert.encoder.layer.0.attention.self.value.weight False\n",
      "bert.encoder.layer.0.attention.self.value.bias False\n",
      "bert.encoder.layer.0.attention.output.dense.weight False\n",
      "bert.encoder.layer.0.attention.output.dense.bias False\n",
      "bert.encoder.layer.0.attention.output.LayerNorm.weight False\n",
      "bert.encoder.layer.0.attention.output.LayerNorm.bias False\n",
      "bert.encoder.layer.0.intermediate.dense.weight False\n",
      "bert.encoder.layer.0.intermediate.dense.bias False\n",
      "bert.encoder.layer.0.output.dense.weight False\n",
      "bert.encoder.layer.0.output.dense.bias False\n",
      "bert.encoder.layer.0.output.LayerNorm.weight False\n",
      "bert.encoder.layer.0.output.LayerNorm.bias False\n",
      "bert.encoder.layer.1.attention.self.query.weight False\n",
      "bert.encoder.layer.1.attention.self.query.bias False\n",
      "bert.encoder.layer.1.attention.self.key.weight False\n",
      "bert.encoder.layer.1.attention.self.key.bias False\n",
      "bert.encoder.layer.1.attention.self.value.weight False\n",
      "bert.encoder.layer.1.attention.self.value.bias False\n",
      "bert.encoder.layer.1.attention.output.dense.weight False\n",
      "bert.encoder.layer.1.attention.output.dense.bias False\n",
      "bert.encoder.layer.1.attention.output.LayerNorm.weight False\n",
      "bert.encoder.layer.1.attention.output.LayerNorm.bias False\n",
      "bert.encoder.layer.1.intermediate.dense.weight False\n",
      "bert.encoder.layer.1.intermediate.dense.bias False\n",
      "bert.encoder.layer.1.output.dense.weight False\n",
      "bert.encoder.layer.1.output.dense.bias False\n",
      "bert.encoder.layer.1.output.LayerNorm.weight False\n",
      "bert.encoder.layer.1.output.LayerNorm.bias False\n",
      "bert.encoder.layer.2.attention.self.query.weight False\n",
      "bert.encoder.layer.2.attention.self.query.bias False\n",
      "bert.encoder.layer.2.attention.self.key.weight False\n",
      "bert.encoder.layer.2.attention.self.key.bias False\n",
      "bert.encoder.layer.2.attention.self.value.weight False\n",
      "bert.encoder.layer.2.attention.self.value.bias False\n",
      "bert.encoder.layer.2.attention.output.dense.weight False\n",
      "bert.encoder.layer.2.attention.output.dense.bias False\n",
      "bert.encoder.layer.2.attention.output.LayerNorm.weight False\n",
      "bert.encoder.layer.2.attention.output.LayerNorm.bias False\n",
      "bert.encoder.layer.2.intermediate.dense.weight False\n",
      "bert.encoder.layer.2.intermediate.dense.bias False\n",
      "bert.encoder.layer.2.output.dense.weight False\n",
      "bert.encoder.layer.2.output.dense.bias False\n",
      "bert.encoder.layer.2.output.LayerNorm.weight False\n",
      "bert.encoder.layer.2.output.LayerNorm.bias False\n",
      "bert.encoder.layer.3.attention.self.query.weight False\n",
      "bert.encoder.layer.3.attention.self.query.bias False\n",
      "bert.encoder.layer.3.attention.self.key.weight False\n",
      "bert.encoder.layer.3.attention.self.key.bias False\n",
      "bert.encoder.layer.3.attention.self.value.weight False\n",
      "bert.encoder.layer.3.attention.self.value.bias False\n",
      "bert.encoder.layer.3.attention.output.dense.weight False\n",
      "bert.encoder.layer.3.attention.output.dense.bias False\n",
      "bert.encoder.layer.3.attention.output.LayerNorm.weight False\n",
      "bert.encoder.layer.3.attention.output.LayerNorm.bias False\n",
      "bert.encoder.layer.3.intermediate.dense.weight False\n",
      "bert.encoder.layer.3.intermediate.dense.bias False\n",
      "bert.encoder.layer.3.output.dense.weight False\n",
      "bert.encoder.layer.3.output.dense.bias False\n",
      "bert.encoder.layer.3.output.LayerNorm.weight False\n",
      "bert.encoder.layer.3.output.LayerNorm.bias False\n",
      "bert.encoder.layer.4.attention.self.query.weight False\n",
      "bert.encoder.layer.4.attention.self.query.bias False\n",
      "bert.encoder.layer.4.attention.self.key.weight False\n",
      "bert.encoder.layer.4.attention.self.key.bias False\n",
      "bert.encoder.layer.4.attention.self.value.weight False\n",
      "bert.encoder.layer.4.attention.self.value.bias False\n",
      "bert.encoder.layer.4.attention.output.dense.weight False\n",
      "bert.encoder.layer.4.attention.output.dense.bias False\n",
      "bert.encoder.layer.4.attention.output.LayerNorm.weight False\n",
      "bert.encoder.layer.4.attention.output.LayerNorm.bias False\n",
      "bert.encoder.layer.4.intermediate.dense.weight False\n",
      "bert.encoder.layer.4.intermediate.dense.bias False\n",
      "bert.encoder.layer.4.output.dense.weight False\n",
      "bert.encoder.layer.4.output.dense.bias False\n",
      "bert.encoder.layer.4.output.LayerNorm.weight False\n",
      "bert.encoder.layer.4.output.LayerNorm.bias False\n",
      "bert.encoder.layer.5.attention.self.query.weight False\n",
      "bert.encoder.layer.5.attention.self.query.bias False\n",
      "bert.encoder.layer.5.attention.self.key.weight False\n",
      "bert.encoder.layer.5.attention.self.key.bias False\n",
      "bert.encoder.layer.5.attention.self.value.weight False\n",
      "bert.encoder.layer.5.attention.self.value.bias False\n",
      "bert.encoder.layer.5.attention.output.dense.weight False\n",
      "bert.encoder.layer.5.attention.output.dense.bias False\n",
      "bert.encoder.layer.5.attention.output.LayerNorm.weight False\n",
      "bert.encoder.layer.5.attention.output.LayerNorm.bias False\n",
      "bert.encoder.layer.5.intermediate.dense.weight False\n",
      "bert.encoder.layer.5.intermediate.dense.bias False\n",
      "bert.encoder.layer.5.output.dense.weight False\n",
      "bert.encoder.layer.5.output.dense.bias False\n",
      "bert.encoder.layer.5.output.LayerNorm.weight False\n",
      "bert.encoder.layer.5.output.LayerNorm.bias False\n",
      "bert.encoder.layer.6.attention.self.query.weight False\n",
      "bert.encoder.layer.6.attention.self.query.bias False\n",
      "bert.encoder.layer.6.attention.self.key.weight False\n",
      "bert.encoder.layer.6.attention.self.key.bias False\n",
      "bert.encoder.layer.6.attention.self.value.weight False\n",
      "bert.encoder.layer.6.attention.self.value.bias False\n",
      "bert.encoder.layer.6.attention.output.dense.weight False\n",
      "bert.encoder.layer.6.attention.output.dense.bias False\n",
      "bert.encoder.layer.6.attention.output.LayerNorm.weight False\n",
      "bert.encoder.layer.6.attention.output.LayerNorm.bias False\n",
      "bert.encoder.layer.6.intermediate.dense.weight False\n",
      "bert.encoder.layer.6.intermediate.dense.bias False\n",
      "bert.encoder.layer.6.output.dense.weight False\n",
      "bert.encoder.layer.6.output.dense.bias False\n",
      "bert.encoder.layer.6.output.LayerNorm.weight False\n",
      "bert.encoder.layer.6.output.LayerNorm.bias False\n",
      "bert.encoder.layer.7.attention.self.query.weight False\n",
      "bert.encoder.layer.7.attention.self.query.bias False\n",
      "bert.encoder.layer.7.attention.self.key.weight False\n",
      "bert.encoder.layer.7.attention.self.key.bias False\n",
      "bert.encoder.layer.7.attention.self.value.weight False\n",
      "bert.encoder.layer.7.attention.self.value.bias False\n",
      "bert.encoder.layer.7.attention.output.dense.weight False\n",
      "bert.encoder.layer.7.attention.output.dense.bias False\n",
      "bert.encoder.layer.7.attention.output.LayerNorm.weight False\n",
      "bert.encoder.layer.7.attention.output.LayerNorm.bias False\n",
      "bert.encoder.layer.7.intermediate.dense.weight False\n",
      "bert.encoder.layer.7.intermediate.dense.bias False\n",
      "bert.encoder.layer.7.output.dense.weight False\n",
      "bert.encoder.layer.7.output.dense.bias False\n",
      "bert.encoder.layer.7.output.LayerNorm.weight False\n",
      "bert.encoder.layer.7.output.LayerNorm.bias False\n",
      "bert.encoder.layer.8.attention.self.query.weight False\n",
      "bert.encoder.layer.8.attention.self.query.bias False\n",
      "bert.encoder.layer.8.attention.self.key.weight False\n",
      "bert.encoder.layer.8.attention.self.key.bias False\n",
      "bert.encoder.layer.8.attention.self.value.weight False\n",
      "bert.encoder.layer.8.attention.self.value.bias False\n",
      "bert.encoder.layer.8.attention.output.dense.weight False\n",
      "bert.encoder.layer.8.attention.output.dense.bias False\n",
      "bert.encoder.layer.8.attention.output.LayerNorm.weight False\n",
      "bert.encoder.layer.8.attention.output.LayerNorm.bias False\n",
      "bert.encoder.layer.8.intermediate.dense.weight False\n",
      "bert.encoder.layer.8.intermediate.dense.bias False\n",
      "bert.encoder.layer.8.output.dense.weight False\n",
      "bert.encoder.layer.8.output.dense.bias False\n",
      "bert.encoder.layer.8.output.LayerNorm.weight False\n",
      "bert.encoder.layer.8.output.LayerNorm.bias False\n",
      "bert.encoder.layer.9.attention.self.query.weight False\n",
      "bert.encoder.layer.9.attention.self.query.bias False\n",
      "bert.encoder.layer.9.attention.self.key.weight False\n",
      "bert.encoder.layer.9.attention.self.key.bias False\n",
      "bert.encoder.layer.9.attention.self.value.weight False\n",
      "bert.encoder.layer.9.attention.self.value.bias False\n",
      "bert.encoder.layer.9.attention.output.dense.weight False\n",
      "bert.encoder.layer.9.attention.output.dense.bias False\n",
      "bert.encoder.layer.9.attention.output.LayerNorm.weight False\n",
      "bert.encoder.layer.9.attention.output.LayerNorm.bias False\n",
      "bert.encoder.layer.9.intermediate.dense.weight False\n",
      "bert.encoder.layer.9.intermediate.dense.bias False\n",
      "bert.encoder.layer.9.output.dense.weight False\n",
      "bert.encoder.layer.9.output.dense.bias False\n",
      "bert.encoder.layer.9.output.LayerNorm.weight False\n",
      "bert.encoder.layer.9.output.LayerNorm.bias False\n",
      "bert.encoder.layer.10.attention.self.query.weight False\n",
      "bert.encoder.layer.10.attention.self.query.bias False\n",
      "bert.encoder.layer.10.attention.self.key.weight False\n",
      "bert.encoder.layer.10.attention.self.key.bias False\n",
      "bert.encoder.layer.10.attention.self.value.weight False\n",
      "bert.encoder.layer.10.attention.self.value.bias False\n",
      "bert.encoder.layer.10.attention.output.dense.weight False\n",
      "bert.encoder.layer.10.attention.output.dense.bias False\n",
      "bert.encoder.layer.10.attention.output.LayerNorm.weight False\n",
      "bert.encoder.layer.10.attention.output.LayerNorm.bias False\n",
      "bert.encoder.layer.10.intermediate.dense.weight False\n",
      "bert.encoder.layer.10.intermediate.dense.bias False\n",
      "bert.encoder.layer.10.output.dense.weight False\n",
      "bert.encoder.layer.10.output.dense.bias False\n",
      "bert.encoder.layer.10.output.LayerNorm.weight False\n",
      "bert.encoder.layer.10.output.LayerNorm.bias False\n",
      "bert.encoder.layer.11.attention.self.query.weight False\n",
      "bert.encoder.layer.11.attention.self.query.bias False\n",
      "bert.encoder.layer.11.attention.self.key.weight False\n",
      "bert.encoder.layer.11.attention.self.key.bias False\n",
      "bert.encoder.layer.11.attention.self.value.weight False\n",
      "bert.encoder.layer.11.attention.self.value.bias False\n",
      "bert.encoder.layer.11.attention.output.dense.weight False\n",
      "bert.encoder.layer.11.attention.output.dense.bias False\n",
      "bert.encoder.layer.11.attention.output.LayerNorm.weight False\n",
      "bert.encoder.layer.11.attention.output.LayerNorm.bias False\n",
      "bert.encoder.layer.11.intermediate.dense.weight False\n",
      "bert.encoder.layer.11.intermediate.dense.bias False\n",
      "bert.encoder.layer.11.output.dense.weight False\n",
      "bert.encoder.layer.11.output.dense.bias False\n",
      "bert.encoder.layer.11.output.LayerNorm.weight False\n",
      "bert.encoder.layer.11.output.LayerNorm.bias False\n",
      "bert.pooler.dense.weight True\n",
      "bert.pooler.dense.bias True\n",
      "classifier.weight True\n",
      "classifier.bias True\n"
     ]
    }
   ],
   "source": [
    "# print layers\n",
    "for name, param in model.named_parameters():\n",
    "   print(name, param.requires_grad)"
   ]
  },
  {
   "cell_type": "markdown",
   "id": "5d2e421a",
   "metadata": {},
   "source": [
    "#### 3. Training Helpers"
   ]
  },
  {
   "cell_type": "markdown",
   "id": "66acee3d-9f7c-4d4d-add9-b4e6d3b52f94",
   "metadata": {},
   "source": [
    "<b>3.1 Preprocess Text Data</b>"
   ]
  },
  {
   "cell_type": "code",
   "execution_count": 19,
   "id": "cf0dc1e1",
   "metadata": {},
   "outputs": [],
   "source": [
    "# define text preprocessing\n",
    "def preprocess_function(examples):\n",
    "    return tokenizer(examples[\"description\"], truncation=True)"
   ]
  },
  {
   "cell_type": "code",
   "execution_count": 20,
   "id": "b42616c7",
   "metadata": {},
   "outputs": [
    {
     "data": {
      "application/vnd.jupyter.widget-view+json": {
       "model_id": "abf38cf617a340818445494af3bc3017",
       "version_major": 2,
       "version_minor": 0
      },
      "text/plain": [
       "Map:   0%|          | 0/40 [00:00<?, ? examples/s]"
      ]
     },
     "metadata": {},
     "output_type": "display_data"
    },
    {
     "data": {
      "application/vnd.jupyter.widget-view+json": {
       "model_id": "82d2bdcc3e4e4f6e86ee65b109593cc7",
       "version_major": 2,
       "version_minor": 0
      },
      "text/plain": [
       "Map:   0%|          | 0/10 [00:00<?, ? examples/s]"
      ]
     },
     "metadata": {},
     "output_type": "display_data"
    },
    {
     "data": {
      "application/vnd.jupyter.widget-view+json": {
       "model_id": "183778e6cabf4994a7117440b64507cb",
       "version_major": 2,
       "version_minor": 0
      },
      "text/plain": [
       "Map:   0%|          | 0/10 [00:00<?, ? examples/s]"
      ]
     },
     "metadata": {},
     "output_type": "display_data"
    }
   ],
   "source": [
    "# tokenize all datasetse\n",
    "tokenized_data = support_tickets_splits.map(preprocess_function, batched=True)"
   ]
  },
  {
   "cell_type": "code",
   "execution_count": 21,
   "id": "04a04a18",
   "metadata": {},
   "outputs": [],
   "source": [
    "# create data collator\n",
    "data_collator = DataCollatorWithPadding(tokenizer=tokenizer)"
   ]
  },
  {
   "cell_type": "markdown",
   "id": "7e2ce8c7",
   "metadata": {},
   "source": [
    "<b>3.2 Evaluation metrics</b>"
   ]
  },
  {
   "cell_type": "code",
   "execution_count": 22,
   "id": "16b12c6d",
   "metadata": {},
   "outputs": [],
   "source": [
    "# load metrics\n",
    "accuracy = evaluate.load(\"accuracy\")\n",
    "#auc_score = evaluate.load(\"roc_auc\")\n",
    "\n",
    "def compute_softmax(preds):\n",
    "    max_val = preds.max()\n",
    "    pred_exp = np.exp(preds-max_val)\n",
    "    probs = pred_exp/pred_exp.sum(-1, keepdims=True)\n",
    "    return probs \n",
    "\n",
    "\n",
    "def compute_metrics(eval_pred):\n",
    "    # get predictions\n",
    "    predictions, labels = eval_pred\n",
    "    \n",
    "    # apply softmax to get probabilities\n",
    "    probabilities = compute_softmax(predictions)\n",
    "    # use probabilities of the positive class for ROC AUC\n",
    "    positive_class_probs = probabilities[:, 1]\n",
    "    # compute auc\n",
    "    #auc = float(round(auc_score.compute(prediction_scores=positive_class_probs, references=labels)['roc_auc'],3))\n",
    "    \n",
    "    # predict most probable class\n",
    "    predicted_classes = np.argmax(predictions, axis=1)\n",
    "    # compute accuracy\n",
    "    acc = float(round(accuracy.compute(predictions=predicted_classes, references=labels)['accuracy'],3))\n",
    "    \n",
    "    return {\"Accuracy\": acc}#, \"AUC\": auc}"
   ]
  },
  {
   "cell_type": "markdown",
   "id": "68613386",
   "metadata": {},
   "source": [
    "#### 4. Train model"
   ]
  },
  {
   "cell_type": "markdown",
   "id": "00032f77-a1d7-44b7-94ae-8cfb47970669",
   "metadata": {},
   "source": [
    "<b>4.1 Set Training Arguments</b>"
   ]
  },
  {
   "cell_type": "code",
   "execution_count": 23,
   "id": "579f1230",
   "metadata": {},
   "outputs": [],
   "source": [
    "# hyperparameters\n",
    "lr = 1e-2\n",
    "batch_size = 8\n",
    "num_epochs = 100\n",
    "\n",
    "training_args = TrainingArguments(\n",
    "    output_dir=\"bert_ticket_classifier\",\n",
    "    learning_rate=lr,\n",
    "    per_device_train_batch_size=batch_size,\n",
    "    per_device_eval_batch_size=batch_size,\n",
    "    num_train_epochs=num_epochs,\n",
    "    logging_strategy=\"epoch\",\n",
    "    eval_strategy=\"epoch\",\n",
    "    save_strategy=\"epoch\",\n",
    "    load_best_model_at_end=True,\n",
    ")"
   ]
  },
  {
   "cell_type": "markdown",
   "id": "0c4482e9-ebaf-4bd4-8e36-31ad6820b593",
   "metadata": {},
   "source": [
    "<b>4.2 Define Trainer Module</b>"
   ]
  },
  {
   "cell_type": "code",
   "execution_count": 24,
   "id": "2b8e24f5-d794-46b0-8b42-66e3049741e8",
   "metadata": {},
   "outputs": [
    {
     "name": "stderr",
     "output_type": "stream",
     "text": [
      "C:\\Users\\18623\\AppData\\Local\\Temp\\ipykernel_25364\\3503528392.py:1: FutureWarning: `tokenizer` is deprecated and will be removed in version 5.0.0 for `Trainer.__init__`. Use `processing_class` instead.\n",
      "  trainer = Trainer(\n"
     ]
    }
   ],
   "source": [
    "trainer = Trainer(\n",
    "    model=model,\n",
    "    args=training_args,\n",
    "    train_dataset=tokenized_data[\"train\"],\n",
    "    eval_dataset=tokenized_data[\"test\"],\n",
    "    tokenizer=tokenizer,\n",
    "    data_collator=data_collator,\n",
    "    compute_metrics=compute_metrics,\n",
    ")"
   ]
  },
  {
   "cell_type": "markdown",
   "id": "a105c6da-e0e9-42f0-912b-f623296c5148",
   "metadata": {},
   "source": [
    "<b>4.3 Fine-tune BERT Model</b>"
   ]
  },
  {
   "cell_type": "code",
   "execution_count": 25,
   "id": "e4cd1d59-ea44-4f6d-8825-d1c890714bef",
   "metadata": {},
   "outputs": [
    {
     "name": "stderr",
     "output_type": "stream",
     "text": [
      "C:\\Users\\18623\\anaconda3\\envs\\transformers\\lib\\site-packages\\transformers\\models\\bert\\modeling_bert.py:440: UserWarning: 1Torch was not compiled with flash attention. (Triggered internally at C:\\actions-runner\\_work\\pytorch\\pytorch\\builder\\windows\\pytorch\\aten\\src\\ATen\\native\\transformers\\cuda\\sdp_utils.cpp:455.)\n",
      "  attn_output = torch.nn.functional.scaled_dot_product_attention(\n"
     ]
    },
    {
     "name": "stdout",
     "output_type": "stream",
     "text": [
      "{'loss': 1.5991, 'grad_norm': 4.977402210235596, 'learning_rate': 0.0099, 'epoch': 1.0}\n",
      "{'eval_loss': 1.2698894739151, 'eval_Accuracy': 0.6, 'eval_runtime': 0.0399, 'eval_samples_per_second': 250.336, 'eval_steps_per_second': 50.067, 'epoch': 1.0}\n",
      "{'loss': 0.5408, 'grad_norm': 3.542764186859131, 'learning_rate': 0.0098, 'epoch': 2.0}\n",
      "{'eval_loss': 0.49498581886291504, 'eval_Accuracy': 0.9, 'eval_runtime': 0.03, 'eval_samples_per_second': 333.522, 'eval_steps_per_second': 66.704, 'epoch': 2.0}\n",
      "{'loss': 0.4017, 'grad_norm': 1.5795235633850098, 'learning_rate': 0.0097, 'epoch': 3.0}\n",
      "{'eval_loss': 0.6357344388961792, 'eval_Accuracy': 0.8, 'eval_runtime': 0.0388, 'eval_samples_per_second': 257.829, 'eval_steps_per_second': 51.566, 'epoch': 3.0}\n",
      "{'loss': 0.1133, 'grad_norm': 3.6584479808807373, 'learning_rate': 0.0096, 'epoch': 4.0}\n",
      "{'eval_loss': 0.6881271600723267, 'eval_Accuracy': 0.9, 'eval_runtime': 0.0503, 'eval_samples_per_second': 198.721, 'eval_steps_per_second': 39.744, 'epoch': 4.0}\n",
      "{'loss': 0.3718, 'grad_norm': 4.327214241027832, 'learning_rate': 0.0095, 'epoch': 5.0}\n",
      "{'eval_loss': 0.45113030076026917, 'eval_Accuracy': 0.9, 'eval_runtime': 0.0351, 'eval_samples_per_second': 284.632, 'eval_steps_per_second': 56.926, 'epoch': 5.0}\n",
      "{'loss': 0.6542, 'grad_norm': 6.255039691925049, 'learning_rate': 0.0094, 'epoch': 6.0}\n",
      "{'eval_loss': 0.15694613754749298, 'eval_Accuracy': 0.9, 'eval_runtime': 0.0448, 'eval_samples_per_second': 223.095, 'eval_steps_per_second': 44.619, 'epoch': 6.0}\n",
      "{'loss': 0.2743, 'grad_norm': 5.096531391143799, 'learning_rate': 0.009300000000000001, 'epoch': 7.0}\n",
      "{'eval_loss': 0.699618935585022, 'eval_Accuracy': 0.9, 'eval_runtime': 0.0397, 'eval_samples_per_second': 252.08, 'eval_steps_per_second': 50.416, 'epoch': 7.0}\n",
      "{'loss': 0.3088, 'grad_norm': 5.027100086212158, 'learning_rate': 0.0092, 'epoch': 8.0}\n",
      "{'eval_loss': 0.5873324275016785, 'eval_Accuracy': 0.8, 'eval_runtime': 0.0202, 'eval_samples_per_second': 494.594, 'eval_steps_per_second': 98.919, 'epoch': 8.0}\n",
      "{'loss': 0.1833, 'grad_norm': 0.49174830317497253, 'learning_rate': 0.0091, 'epoch': 9.0}\n",
      "{'eval_loss': 0.26951348781585693, 'eval_Accuracy': 0.9, 'eval_runtime': 0.0401, 'eval_samples_per_second': 249.541, 'eval_steps_per_second': 49.908, 'epoch': 9.0}\n",
      "{'loss': 0.17, 'grad_norm': 0.08130905032157898, 'learning_rate': 0.009000000000000001, 'epoch': 10.0}\n",
      "{'eval_loss': 0.12147641181945801, 'eval_Accuracy': 0.9, 'eval_runtime': 0.0299, 'eval_samples_per_second': 334.213, 'eval_steps_per_second': 66.843, 'epoch': 10.0}\n",
      "{'loss': 0.1792, 'grad_norm': 3.7910308837890625, 'learning_rate': 0.0089, 'epoch': 11.0}\n",
      "{'eval_loss': 0.38607409596443176, 'eval_Accuracy': 0.9, 'eval_runtime': 0.0402, 'eval_samples_per_second': 248.631, 'eval_steps_per_second': 49.726, 'epoch': 11.0}\n",
      "{'loss': 0.2179, 'grad_norm': 16.225732803344727, 'learning_rate': 0.0088, 'epoch': 12.0}\n",
      "{'eval_loss': 0.40346449613571167, 'eval_Accuracy': 0.9, 'eval_runtime': 0.0502, 'eval_samples_per_second': 199.241, 'eval_steps_per_second': 39.848, 'epoch': 12.0}\n",
      "{'loss': 0.0774, 'grad_norm': 0.5552466511726379, 'learning_rate': 0.0087, 'epoch': 13.0}\n",
      "{'eval_loss': 0.6300797462463379, 'eval_Accuracy': 0.9, 'eval_runtime': 0.035, 'eval_samples_per_second': 285.447, 'eval_steps_per_second': 57.089, 'epoch': 13.0}\n",
      "{'loss': 0.1359, 'grad_norm': 0.33681634068489075, 'learning_rate': 0.0086, 'epoch': 14.0}\n",
      "{'eval_loss': 0.21458223462104797, 'eval_Accuracy': 0.9, 'eval_runtime': 0.0299, 'eval_samples_per_second': 333.909, 'eval_steps_per_second': 66.782, 'epoch': 14.0}\n",
      "{'loss': 0.2001, 'grad_norm': 4.617513656616211, 'learning_rate': 0.0085, 'epoch': 15.0}\n",
      "{'eval_loss': 0.15764811635017395, 'eval_Accuracy': 0.9, 'eval_runtime': 0.045, 'eval_samples_per_second': 222.185, 'eval_steps_per_second': 44.437, 'epoch': 15.0}\n",
      "{'loss': 0.0023, 'grad_norm': 0.0897284671664238, 'learning_rate': 0.0084, 'epoch': 16.0}\n",
      "{'eval_loss': 0.05900263786315918, 'eval_Accuracy': 1.0, 'eval_runtime': 0.0197, 'eval_samples_per_second': 506.332, 'eval_steps_per_second': 101.266, 'epoch': 16.0}\n",
      "{'loss': 0.0064, 'grad_norm': 0.07716355472803116, 'learning_rate': 0.0083, 'epoch': 17.0}\n",
      "{'eval_loss': 0.16062091290950775, 'eval_Accuracy': 0.9, 'eval_runtime': 0.0298, 'eval_samples_per_second': 335.19, 'eval_steps_per_second': 67.038, 'epoch': 17.0}\n",
      "{'loss': 0.1247, 'grad_norm': 0.0008731074049137533, 'learning_rate': 0.008199999999999999, 'epoch': 18.0}\n",
      "{'eval_loss': 0.032541655004024506, 'eval_Accuracy': 1.0, 'eval_runtime': 0.0296, 'eval_samples_per_second': 337.814, 'eval_steps_per_second': 67.563, 'epoch': 18.0}\n",
      "{'loss': 0.0804, 'grad_norm': 0.5312159061431885, 'learning_rate': 0.008100000000000001, 'epoch': 19.0}\n",
      "{'eval_loss': 0.045130737125873566, 'eval_Accuracy': 1.0, 'eval_runtime': 0.0699, 'eval_samples_per_second': 143.155, 'eval_steps_per_second': 28.631, 'epoch': 19.0}\n",
      "{'loss': 0.0044, 'grad_norm': 0.7251559495925903, 'learning_rate': 0.008, 'epoch': 20.0}\n",
      "{'eval_loss': 0.0828731507062912, 'eval_Accuracy': 1.0, 'eval_runtime': 0.0499, 'eval_samples_per_second': 200.396, 'eval_steps_per_second': 40.079, 'epoch': 20.0}\n",
      "{'loss': 0.0243, 'grad_norm': 1.989444375038147, 'learning_rate': 0.0079, 'epoch': 21.0}\n",
      "{'eval_loss': 0.04904257878661156, 'eval_Accuracy': 1.0, 'eval_runtime': 0.0497, 'eval_samples_per_second': 201.327, 'eval_steps_per_second': 40.265, 'epoch': 21.0}\n",
      "{'loss': 0.3065, 'grad_norm': 0.07856564223766327, 'learning_rate': 0.0078000000000000005, 'epoch': 22.0}\n",
      "{'eval_loss': 0.12981471419334412, 'eval_Accuracy': 1.0, 'eval_runtime': 0.0301, 'eval_samples_per_second': 332.388, 'eval_steps_per_second': 66.478, 'epoch': 22.0}\n",
      "{'loss': 0.1395, 'grad_norm': 0.23738142848014832, 'learning_rate': 0.0077, 'epoch': 23.0}\n",
      "{'eval_loss': 0.11630333960056305, 'eval_Accuracy': 0.9, 'eval_runtime': 0.0402, 'eval_samples_per_second': 249.052, 'eval_steps_per_second': 49.81, 'epoch': 23.0}\n",
      "{'loss': 0.0717, 'grad_norm': 0.10414665937423706, 'learning_rate': 0.0076, 'epoch': 24.0}\n",
      "{'eval_loss': 0.1459144800901413, 'eval_Accuracy': 0.9, 'eval_runtime': 0.03, 'eval_samples_per_second': 332.958, 'eval_steps_per_second': 66.592, 'epoch': 24.0}\n",
      "{'loss': 0.0194, 'grad_norm': 1.3534984588623047, 'learning_rate': 0.0075, 'epoch': 25.0}\n",
      "{'eval_loss': 0.12659098207950592, 'eval_Accuracy': 0.9, 'eval_runtime': 0.0349, 'eval_samples_per_second': 286.41, 'eval_steps_per_second': 57.282, 'epoch': 25.0}\n",
      "{'loss': 0.0278, 'grad_norm': 0.47638553380966187, 'learning_rate': 0.0074, 'epoch': 26.0}\n",
      "{'eval_loss': 0.21621187031269073, 'eval_Accuracy': 0.9, 'eval_runtime': 0.0499, 'eval_samples_per_second': 200.57, 'eval_steps_per_second': 40.114, 'epoch': 26.0}\n",
      "{'loss': 0.0096, 'grad_norm': 0.0009710455196909606, 'learning_rate': 0.0073, 'epoch': 27.0}\n",
      "{'eval_loss': 0.5739232301712036, 'eval_Accuracy': 0.9, 'eval_runtime': 0.025, 'eval_samples_per_second': 400.079, 'eval_steps_per_second': 80.016, 'epoch': 27.0}\n",
      "{'loss': 0.1451, 'grad_norm': 5.449811935424805, 'learning_rate': 0.0072, 'epoch': 28.0}\n",
      "{'eval_loss': 0.3330428898334503, 'eval_Accuracy': 0.8, 'eval_runtime': 0.0309, 'eval_samples_per_second': 323.118, 'eval_steps_per_second': 64.624, 'epoch': 28.0}\n",
      "{'loss': 0.2878, 'grad_norm': 3.022825241088867, 'learning_rate': 0.0070999999999999995, 'epoch': 29.0}\n",
      "{'eval_loss': 0.25769758224487305, 'eval_Accuracy': 0.9, 'eval_runtime': 0.0298, 'eval_samples_per_second': 335.757, 'eval_steps_per_second': 67.151, 'epoch': 29.0}\n",
      "{'loss': 0.0218, 'grad_norm': 0.01785709708929062, 'learning_rate': 0.006999999999999999, 'epoch': 30.0}\n",
      "{'eval_loss': 0.6672718524932861, 'eval_Accuracy': 0.9, 'eval_runtime': 0.0203, 'eval_samples_per_second': 491.943, 'eval_steps_per_second': 98.389, 'epoch': 30.0}\n",
      "{'loss': 0.0382, 'grad_norm': 0.004082970786839724, 'learning_rate': 0.0069, 'epoch': 31.0}\n",
      "{'eval_loss': 0.3071660101413727, 'eval_Accuracy': 0.9, 'eval_runtime': 0.0451, 'eval_samples_per_second': 221.698, 'eval_steps_per_second': 44.34, 'epoch': 31.0}\n",
      "{'loss': 0.0278, 'grad_norm': 0.0005771599244326353, 'learning_rate': 0.0068000000000000005, 'epoch': 32.0}\n",
      "{'eval_loss': 0.3235241770744324, 'eval_Accuracy': 0.8, 'eval_runtime': 0.0348, 'eval_samples_per_second': 287.618, 'eval_steps_per_second': 57.524, 'epoch': 32.0}\n",
      "{'loss': 0.1582, 'grad_norm': 9.451693534851074, 'learning_rate': 0.0067, 'epoch': 33.0}\n",
      "{'eval_loss': 0.882550835609436, 'eval_Accuracy': 0.8, 'eval_runtime': 0.0353, 'eval_samples_per_second': 283.116, 'eval_steps_per_second': 56.623, 'epoch': 33.0}\n",
      "{'loss': 0.0201, 'grad_norm': 0.004500117152929306, 'learning_rate': 0.006600000000000001, 'epoch': 34.0}\n",
      "{'eval_loss': 0.17799820005893707, 'eval_Accuracy': 0.9, 'eval_runtime': 0.025, 'eval_samples_per_second': 400.449, 'eval_steps_per_second': 80.09, 'epoch': 34.0}\n",
      "{'loss': 0.0156, 'grad_norm': 0.007097053807228804, 'learning_rate': 0.006500000000000001, 'epoch': 35.0}\n",
      "{'eval_loss': 0.10081527382135391, 'eval_Accuracy': 1.0, 'eval_runtime': 0.0296, 'eval_samples_per_second': 337.945, 'eval_steps_per_second': 67.589, 'epoch': 35.0}\n",
      "{'loss': 0.0011, 'grad_norm': 0.06795196980237961, 'learning_rate': 0.0064, 'epoch': 36.0}\n",
      "{'eval_loss': 0.11212289333343506, 'eval_Accuracy': 0.9, 'eval_runtime': 0.0422, 'eval_samples_per_second': 237.071, 'eval_steps_per_second': 47.414, 'epoch': 36.0}\n",
      "{'loss': 0.1368, 'grad_norm': 0.10704842954874039, 'learning_rate': 0.0063, 'epoch': 37.0}\n",
      "{'eval_loss': 0.3771078288555145, 'eval_Accuracy': 0.9, 'eval_runtime': 0.0295, 'eval_samples_per_second': 339.095, 'eval_steps_per_second': 67.819, 'epoch': 37.0}\n",
      "{'loss': 0.042, 'grad_norm': 0.040343835949897766, 'learning_rate': 0.0062, 'epoch': 38.0}\n",
      "{'eval_loss': 0.159640371799469, 'eval_Accuracy': 0.9, 'eval_runtime': 0.035, 'eval_samples_per_second': 285.877, 'eval_steps_per_second': 57.175, 'epoch': 38.0}\n",
      "{'loss': 0.0038, 'grad_norm': 0.5632852911949158, 'learning_rate': 0.0061, 'epoch': 39.0}\n",
      "{'eval_loss': 0.1941835880279541, 'eval_Accuracy': 0.9, 'eval_runtime': 0.0302, 'eval_samples_per_second': 330.692, 'eval_steps_per_second': 66.138, 'epoch': 39.0}\n",
      "{'loss': 0.0114, 'grad_norm': 0.07368478924036026, 'learning_rate': 0.006, 'epoch': 40.0}\n",
      "{'eval_loss': 0.7037076354026794, 'eval_Accuracy': 0.8, 'eval_runtime': 0.055, 'eval_samples_per_second': 181.694, 'eval_steps_per_second': 36.339, 'epoch': 40.0}\n",
      "{'loss': 0.0695, 'grad_norm': 0.684235155582428, 'learning_rate': 0.0059, 'epoch': 41.0}\n",
      "{'eval_loss': 0.33104208111763, 'eval_Accuracy': 0.9, 'eval_runtime': 0.0402, 'eval_samples_per_second': 248.939, 'eval_steps_per_second': 49.788, 'epoch': 41.0}\n",
      "{'loss': 0.0559, 'grad_norm': 4.0273566246032715, 'learning_rate': 0.0058, 'epoch': 42.0}\n",
      "{'eval_loss': 0.7750993967056274, 'eval_Accuracy': 0.9, 'eval_runtime': 0.0363, 'eval_samples_per_second': 275.486, 'eval_steps_per_second': 55.097, 'epoch': 42.0}\n",
      "{'loss': 0.0461, 'grad_norm': 4.372898578643799, 'learning_rate': 0.005699999999999999, 'epoch': 43.0}\n",
      "{'eval_loss': 0.7789071798324585, 'eval_Accuracy': 0.9, 'eval_runtime': 0.0399, 'eval_samples_per_second': 250.613, 'eval_steps_per_second': 50.123, 'epoch': 43.0}\n",
      "{'loss': 0.022, 'grad_norm': 1.9298440217971802, 'learning_rate': 0.005600000000000001, 'epoch': 44.0}\n",
      "{'eval_loss': 0.31175047159194946, 'eval_Accuracy': 0.9, 'eval_runtime': 0.0599, 'eval_samples_per_second': 167.001, 'eval_steps_per_second': 33.4, 'epoch': 44.0}\n",
      "{'loss': 0.1372, 'grad_norm': 5.324569225311279, 'learning_rate': 0.0055000000000000005, 'epoch': 45.0}\n",
      "{'eval_loss': 0.974032998085022, 'eval_Accuracy': 0.8, 'eval_runtime': 0.0301, 'eval_samples_per_second': 332.364, 'eval_steps_per_second': 66.473, 'epoch': 45.0}\n",
      "{'loss': 0.0099, 'grad_norm': 0.7090038657188416, 'learning_rate': 0.0054, 'epoch': 46.0}\n",
      "{'eval_loss': 1.2302619218826294, 'eval_Accuracy': 0.7, 'eval_runtime': 0.0303, 'eval_samples_per_second': 330.2, 'eval_steps_per_second': 66.04, 'epoch': 46.0}\n",
      "{'loss': 0.1255, 'grad_norm': 0.009784664027392864, 'learning_rate': 0.0053, 'epoch': 47.0}\n",
      "{'eval_loss': 0.4403145909309387, 'eval_Accuracy': 0.9, 'eval_runtime': 0.0348, 'eval_samples_per_second': 287.305, 'eval_steps_per_second': 57.461, 'epoch': 47.0}\n",
      "{'loss': 0.0629, 'grad_norm': 0.07793273031711578, 'learning_rate': 0.005200000000000001, 'epoch': 48.0}\n",
      "{'eval_loss': 0.9728010892868042, 'eval_Accuracy': 0.8, 'eval_runtime': 0.0502, 'eval_samples_per_second': 199.169, 'eval_steps_per_second': 39.834, 'epoch': 48.0}\n",
      "{'loss': 0.1576, 'grad_norm': 1.666503667831421, 'learning_rate': 0.0051, 'epoch': 49.0}\n",
      "{'eval_loss': 0.7069829106330872, 'eval_Accuracy': 0.8, 'eval_runtime': 0.04, 'eval_samples_per_second': 250.23, 'eval_steps_per_second': 50.046, 'epoch': 49.0}\n",
      "{'loss': 0.0062, 'grad_norm': 0.6007753610610962, 'learning_rate': 0.005, 'epoch': 50.0}\n",
      "{'eval_loss': 1.0811007022857666, 'eval_Accuracy': 0.8, 'eval_runtime': 0.0348, 'eval_samples_per_second': 287.283, 'eval_steps_per_second': 57.457, 'epoch': 50.0}\n",
      "{'loss': 0.0167, 'grad_norm': 0.03276941180229187, 'learning_rate': 0.0049, 'epoch': 51.0}\n",
      "{'eval_loss': 0.35674694180488586, 'eval_Accuracy': 0.9, 'eval_runtime': 0.0286, 'eval_samples_per_second': 349.721, 'eval_steps_per_second': 69.944, 'epoch': 51.0}\n",
      "{'loss': 0.0006, 'grad_norm': 0.03230658173561096, 'learning_rate': 0.0048, 'epoch': 52.0}\n",
      "{'eval_loss': 0.4136897921562195, 'eval_Accuracy': 0.8, 'eval_runtime': 0.0302, 'eval_samples_per_second': 331.573, 'eval_steps_per_second': 66.315, 'epoch': 52.0}\n",
      "{'loss': 0.0144, 'grad_norm': 0.006779508665204048, 'learning_rate': 0.0047, 'epoch': 53.0}\n",
      "{'eval_loss': 0.2966066300868988, 'eval_Accuracy': 0.8, 'eval_runtime': 0.035, 'eval_samples_per_second': 285.887, 'eval_steps_per_second': 57.177, 'epoch': 53.0}\n",
      "{'loss': 0.0006, 'grad_norm': 0.016345590353012085, 'learning_rate': 0.0046, 'epoch': 54.0}\n",
      "{'eval_loss': 0.24992743134498596, 'eval_Accuracy': 0.8, 'eval_runtime': 0.0298, 'eval_samples_per_second': 335.977, 'eval_steps_per_second': 67.195, 'epoch': 54.0}\n",
      "{'loss': 0.0159, 'grad_norm': 0.11166515946388245, 'learning_rate': 0.0045000000000000005, 'epoch': 55.0}\n",
      "{'eval_loss': 0.3757452368736267, 'eval_Accuracy': 0.9, 'eval_runtime': 0.0404, 'eval_samples_per_second': 247.652, 'eval_steps_per_second': 49.53, 'epoch': 55.0}\n",
      "{'loss': 0.0008, 'grad_norm': 0.14842909574508667, 'learning_rate': 0.0044, 'epoch': 56.0}\n",
      "{'eval_loss': 0.7256922721862793, 'eval_Accuracy': 0.9, 'eval_runtime': 0.0351, 'eval_samples_per_second': 285.143, 'eval_steps_per_second': 57.029, 'epoch': 56.0}\n",
      "{'loss': 0.0937, 'grad_norm': 0.01581178791821003, 'learning_rate': 0.0043, 'epoch': 57.0}\n",
      "{'eval_loss': 0.5694283843040466, 'eval_Accuracy': 0.9, 'eval_runtime': 0.0496, 'eval_samples_per_second': 201.799, 'eval_steps_per_second': 40.36, 'epoch': 57.0}\n",
      "{'loss': 0.003, 'grad_norm': 0.10245908051729202, 'learning_rate': 0.0042, 'epoch': 58.0}\n",
      "{'eval_loss': 0.6004184484481812, 'eval_Accuracy': 0.8, 'eval_runtime': 0.0404, 'eval_samples_per_second': 247.756, 'eval_steps_per_second': 49.551, 'epoch': 58.0}\n",
      "{'loss': 0.0153, 'grad_norm': 2.369046926498413, 'learning_rate': 0.0040999999999999995, 'epoch': 59.0}\n",
      "{'eval_loss': 0.6903623342514038, 'eval_Accuracy': 0.9, 'eval_runtime': 0.0253, 'eval_samples_per_second': 395.529, 'eval_steps_per_second': 79.106, 'epoch': 59.0}\n",
      "{'loss': 0.003, 'grad_norm': 0.4920203983783722, 'learning_rate': 0.004, 'epoch': 60.0}\n",
      "{'eval_loss': 0.09093423187732697, 'eval_Accuracy': 1.0, 'eval_runtime': 0.0302, 'eval_samples_per_second': 331.623, 'eval_steps_per_second': 66.325, 'epoch': 60.0}\n",
      "{'loss': 0.0012, 'grad_norm': 0.0006330062169581652, 'learning_rate': 0.0039000000000000003, 'epoch': 61.0}\n",
      "{'eval_loss': 0.35982462763786316, 'eval_Accuracy': 0.9, 'eval_runtime': 0.045, 'eval_samples_per_second': 222.329, 'eval_steps_per_second': 44.466, 'epoch': 61.0}\n",
      "{'loss': 0.0014, 'grad_norm': 0.01445271261036396, 'learning_rate': 0.0038, 'epoch': 62.0}\n",
      "{'eval_loss': 0.45752447843551636, 'eval_Accuracy': 0.9, 'eval_runtime': 0.0248, 'eval_samples_per_second': 403.562, 'eval_steps_per_second': 80.712, 'epoch': 62.0}\n",
      "{'loss': 0.0075, 'grad_norm': 0.000743747572414577, 'learning_rate': 0.0037, 'epoch': 63.0}\n",
      "{'eval_loss': 0.07784660160541534, 'eval_Accuracy': 1.0, 'eval_runtime': 0.0397, 'eval_samples_per_second': 252.051, 'eval_steps_per_second': 50.41, 'epoch': 63.0}\n",
      "{'loss': 0.001, 'grad_norm': 0.007062522228807211, 'learning_rate': 0.0036, 'epoch': 64.0}\n",
      "{'eval_loss': 0.3744111955165863, 'eval_Accuracy': 0.9, 'eval_runtime': 0.03, 'eval_samples_per_second': 333.23, 'eval_steps_per_second': 66.646, 'epoch': 64.0}\n",
      "{'loss': 0.0158, 'grad_norm': 2.3079488277435303, 'learning_rate': 0.0034999999999999996, 'epoch': 65.0}\n",
      "{'eval_loss': 0.30928662419319153, 'eval_Accuracy': 0.9, 'eval_runtime': 0.0497, 'eval_samples_per_second': 201.397, 'eval_steps_per_second': 40.279, 'epoch': 65.0}\n",
      "{'loss': 0.0005, 'grad_norm': 0.0002771314757410437, 'learning_rate': 0.0034000000000000002, 'epoch': 66.0}\n",
      "{'eval_loss': 0.18229803442955017, 'eval_Accuracy': 0.9, 'eval_runtime': 0.05, 'eval_samples_per_second': 199.861, 'eval_steps_per_second': 39.972, 'epoch': 66.0}\n",
      "{'loss': 0.1195, 'grad_norm': 6.096712589263916, 'learning_rate': 0.0033000000000000004, 'epoch': 67.0}\n",
      "{'eval_loss': 0.32167282700538635, 'eval_Accuracy': 0.9, 'eval_runtime': 0.0305, 'eval_samples_per_second': 327.365, 'eval_steps_per_second': 65.473, 'epoch': 67.0}\n",
      "{'loss': 0.0012, 'grad_norm': 0.002209919970482588, 'learning_rate': 0.0032, 'epoch': 68.0}\n",
      "{'eval_loss': 0.18188536167144775, 'eval_Accuracy': 0.9, 'eval_runtime': 0.0354, 'eval_samples_per_second': 282.742, 'eval_steps_per_second': 56.548, 'epoch': 68.0}\n",
      "{'loss': 0.0007, 'grad_norm': 0.01565144583582878, 'learning_rate': 0.0031, 'epoch': 69.0}\n",
      "{'eval_loss': 0.31415194272994995, 'eval_Accuracy': 0.9, 'eval_runtime': 0.0455, 'eval_samples_per_second': 219.892, 'eval_steps_per_second': 43.978, 'epoch': 69.0}\n",
      "{'loss': 0.0009, 'grad_norm': 0.0017007981659844518, 'learning_rate': 0.003, 'epoch': 70.0}\n",
      "{'eval_loss': 0.41298526525497437, 'eval_Accuracy': 0.9, 'eval_runtime': 0.0451, 'eval_samples_per_second': 221.609, 'eval_steps_per_second': 44.322, 'epoch': 70.0}\n",
      "{'loss': 0.0006, 'grad_norm': 0.0001484560052631423, 'learning_rate': 0.0029, 'epoch': 71.0}\n",
      "{'eval_loss': 0.44213494658470154, 'eval_Accuracy': 0.9, 'eval_runtime': 0.0408, 'eval_samples_per_second': 245.381, 'eval_steps_per_second': 49.076, 'epoch': 71.0}\n",
      "{'loss': 0.0001, 'grad_norm': 0.00024870512424968183, 'learning_rate': 0.0028000000000000004, 'epoch': 72.0}\n",
      "{'eval_loss': 0.44805294275283813, 'eval_Accuracy': 0.9, 'eval_runtime': 0.0398, 'eval_samples_per_second': 251.353, 'eval_steps_per_second': 50.271, 'epoch': 72.0}\n",
      "{'loss': 0.0003, 'grad_norm': 0.013123522512614727, 'learning_rate': 0.0027, 'epoch': 73.0}\n",
      "{'eval_loss': 0.4369231164455414, 'eval_Accuracy': 0.9, 'eval_runtime': 0.0448, 'eval_samples_per_second': 223.395, 'eval_steps_per_second': 44.679, 'epoch': 73.0}\n",
      "{'loss': 0.0016, 'grad_norm': 0.0515156164765358, 'learning_rate': 0.0026000000000000003, 'epoch': 74.0}\n",
      "{'eval_loss': 0.3089270293712616, 'eval_Accuracy': 0.9, 'eval_runtime': 0.0349, 'eval_samples_per_second': 286.533, 'eval_steps_per_second': 57.307, 'epoch': 74.0}\n",
      "{'loss': 0.0002, 'grad_norm': 6.359325925586745e-05, 'learning_rate': 0.0025, 'epoch': 75.0}\n",
      "{'eval_loss': 0.2527461051940918, 'eval_Accuracy': 0.8, 'eval_runtime': 0.0499, 'eval_samples_per_second': 200.39, 'eval_steps_per_second': 40.078, 'epoch': 75.0}\n",
      "{'loss': 0.0001, 'grad_norm': 0.009841680526733398, 'learning_rate': 0.0024, 'epoch': 76.0}\n",
      "{'eval_loss': 0.2553005814552307, 'eval_Accuracy': 0.9, 'eval_runtime': 0.0149, 'eval_samples_per_second': 671.282, 'eval_steps_per_second': 134.256, 'epoch': 76.0}\n",
      "{'loss': 0.0019, 'grad_norm': 0.002175689907744527, 'learning_rate': 0.0023, 'epoch': 77.0}\n",
      "{'eval_loss': 0.21604835987091064, 'eval_Accuracy': 0.9, 'eval_runtime': 0.0252, 'eval_samples_per_second': 396.46, 'eval_steps_per_second': 79.292, 'epoch': 77.0}\n",
      "{'loss': 0.0003, 'grad_norm': 0.03670358657836914, 'learning_rate': 0.0022, 'epoch': 78.0}\n",
      "{'eval_loss': 0.26523661613464355, 'eval_Accuracy': 0.9, 'eval_runtime': 0.0277, 'eval_samples_per_second': 361.4, 'eval_steps_per_second': 72.28, 'epoch': 78.0}\n",
      "{'loss': 0.0, 'grad_norm': 0.003993385471403599, 'learning_rate': 0.0021, 'epoch': 79.0}\n",
      "{'eval_loss': 0.2960863709449768, 'eval_Accuracy': 0.9, 'eval_runtime': 0.035, 'eval_samples_per_second': 285.986, 'eval_steps_per_second': 57.197, 'epoch': 79.0}\n",
      "{'loss': 0.0002, 'grad_norm': 0.0004797866567969322, 'learning_rate': 0.002, 'epoch': 80.0}\n",
      "{'eval_loss': 0.28921544551849365, 'eval_Accuracy': 0.9, 'eval_runtime': 0.0496, 'eval_samples_per_second': 201.455, 'eval_steps_per_second': 40.291, 'epoch': 80.0}\n",
      "{'loss': 0.0067, 'grad_norm': 1.2398780584335327, 'learning_rate': 0.0019, 'epoch': 81.0}\n",
      "{'eval_loss': 0.15268400311470032, 'eval_Accuracy': 0.9, 'eval_runtime': 0.0281, 'eval_samples_per_second': 356.343, 'eval_steps_per_second': 71.269, 'epoch': 81.0}\n",
      "{'loss': 0.0001, 'grad_norm': 0.017862219363451004, 'learning_rate': 0.0018, 'epoch': 82.0}\n",
      "{'eval_loss': 0.3295685350894928, 'eval_Accuracy': 0.9, 'eval_runtime': 0.0304, 'eval_samples_per_second': 328.978, 'eval_steps_per_second': 65.796, 'epoch': 82.0}\n",
      "{'loss': 0.0005, 'grad_norm': 0.0007094583124853671, 'learning_rate': 0.0017000000000000001, 'epoch': 83.0}\n",
      "{'eval_loss': 0.5288074612617493, 'eval_Accuracy': 0.9, 'eval_runtime': 0.0435, 'eval_samples_per_second': 229.775, 'eval_steps_per_second': 45.955, 'epoch': 83.0}\n",
      "{'loss': 0.0001, 'grad_norm': 0.00423761922866106, 'learning_rate': 0.0016, 'epoch': 84.0}\n",
      "{'eval_loss': 0.6193736791610718, 'eval_Accuracy': 0.9, 'eval_runtime': 0.0397, 'eval_samples_per_second': 251.771, 'eval_steps_per_second': 50.354, 'epoch': 84.0}\n",
      "{'loss': 0.0005, 'grad_norm': 0.0014924147399142385, 'learning_rate': 0.0015, 'epoch': 85.0}\n",
      "{'eval_loss': 0.6602163910865784, 'eval_Accuracy': 0.9, 'eval_runtime': 0.0298, 'eval_samples_per_second': 335.509, 'eval_steps_per_second': 67.102, 'epoch': 85.0}\n",
      "{'loss': 0.0006, 'grad_norm': 0.09029211103916168, 'learning_rate': 0.0014000000000000002, 'epoch': 86.0}\n",
      "{'eval_loss': 0.6699665188789368, 'eval_Accuracy': 0.9, 'eval_runtime': 0.0299, 'eval_samples_per_second': 334.338, 'eval_steps_per_second': 66.868, 'epoch': 86.0}\n",
      "{'loss': 0.0015, 'grad_norm': 0.21633459627628326, 'learning_rate': 0.0013000000000000002, 'epoch': 87.0}\n",
      "{'eval_loss': 0.6294457316398621, 'eval_Accuracy': 0.9, 'eval_runtime': 0.0205, 'eval_samples_per_second': 487.443, 'eval_steps_per_second': 97.489, 'epoch': 87.0}\n",
      "{'loss': 0.0021, 'grad_norm': 0.014695093967020512, 'learning_rate': 0.0012, 'epoch': 88.0}\n",
      "{'eval_loss': 0.4832707345485687, 'eval_Accuracy': 0.9, 'eval_runtime': 0.0423, 'eval_samples_per_second': 236.27, 'eval_steps_per_second': 47.254, 'epoch': 88.0}\n",
      "{'loss': 0.0, 'grad_norm': 0.00010224250581813976, 'learning_rate': 0.0011, 'epoch': 89.0}\n",
      "{'eval_loss': 0.3909471035003662, 'eval_Accuracy': 0.9, 'eval_runtime': 0.0302, 'eval_samples_per_second': 330.901, 'eval_steps_per_second': 66.18, 'epoch': 89.0}\n",
      "{'loss': 0.0001, 'grad_norm': 0.0004399145254865289, 'learning_rate': 0.001, 'epoch': 90.0}\n",
      "{'eval_loss': 0.34095636010169983, 'eval_Accuracy': 0.9, 'eval_runtime': 0.0298, 'eval_samples_per_second': 335.496, 'eval_steps_per_second': 67.099, 'epoch': 90.0}\n",
      "{'loss': 0.0006, 'grad_norm': 0.10374203324317932, 'learning_rate': 0.0009, 'epoch': 91.0}\n",
      "{'eval_loss': 0.30986908078193665, 'eval_Accuracy': 0.9, 'eval_runtime': 0.0254, 'eval_samples_per_second': 393.019, 'eval_steps_per_second': 78.604, 'epoch': 91.0}\n",
      "{'loss': 0.0021, 'grad_norm': 0.00019161333329975605, 'learning_rate': 0.0008, 'epoch': 92.0}\n",
      "{'eval_loss': 0.24780645966529846, 'eval_Accuracy': 0.9, 'eval_runtime': 0.0255, 'eval_samples_per_second': 392.042, 'eval_steps_per_second': 78.408, 'epoch': 92.0}\n",
      "{'loss': 0.0, 'grad_norm': 0.00042179907904937863, 'learning_rate': 0.0007000000000000001, 'epoch': 93.0}\n",
      "{'eval_loss': 0.18600820004940033, 'eval_Accuracy': 0.9, 'eval_runtime': 0.0401, 'eval_samples_per_second': 249.229, 'eval_steps_per_second': 49.846, 'epoch': 93.0}\n",
      "{'loss': 0.0001, 'grad_norm': 0.010937555693089962, 'learning_rate': 0.0006, 'epoch': 94.0}\n",
      "{'eval_loss': 0.15971951186656952, 'eval_Accuracy': 0.9, 'eval_runtime': 0.0404, 'eval_samples_per_second': 247.298, 'eval_steps_per_second': 49.46, 'epoch': 94.0}\n",
      "{'loss': 0.0, 'grad_norm': 6.717617361573502e-05, 'learning_rate': 0.0005, 'epoch': 95.0}\n",
      "{'eval_loss': 0.14881226420402527, 'eval_Accuracy': 0.9, 'eval_runtime': 0.0296, 'eval_samples_per_second': 337.317, 'eval_steps_per_second': 67.463, 'epoch': 95.0}\n",
      "{'loss': 0.0, 'grad_norm': 2.4046594262472354e-05, 'learning_rate': 0.0004, 'epoch': 96.0}\n",
      "{'eval_loss': 0.14423561096191406, 'eval_Accuracy': 0.9, 'eval_runtime': 0.0451, 'eval_samples_per_second': 221.764, 'eval_steps_per_second': 44.353, 'epoch': 96.0}\n",
      "{'loss': 0.0, 'grad_norm': 4.5978405978530645e-05, 'learning_rate': 0.0003, 'epoch': 97.0}\n",
      "{'eval_loss': 0.1422315537929535, 'eval_Accuracy': 0.9, 'eval_runtime': 0.0459, 'eval_samples_per_second': 217.847, 'eval_steps_per_second': 43.569, 'epoch': 97.0}\n",
      "{'loss': 0.0, 'grad_norm': 0.0006385811720974743, 'learning_rate': 0.0002, 'epoch': 98.0}\n",
      "{'eval_loss': 0.14142301678657532, 'eval_Accuracy': 0.9, 'eval_runtime': 0.0401, 'eval_samples_per_second': 249.426, 'eval_steps_per_second': 49.885, 'epoch': 98.0}\n",
      "{'loss': 0.0, 'grad_norm': 0.0015158827882260084, 'learning_rate': 0.0001, 'epoch': 99.0}\n",
      "{'eval_loss': 0.14110758900642395, 'eval_Accuracy': 0.9, 'eval_runtime': 0.0333, 'eval_samples_per_second': 300.256, 'eval_steps_per_second': 60.051, 'epoch': 99.0}\n",
      "{'loss': 0.0, 'grad_norm': 0.00010230781481368467, 'learning_rate': 0.0, 'epoch': 100.0}\n",
      "{'eval_loss': 0.14102116227149963, 'eval_Accuracy': 0.9, 'eval_runtime': 0.0407, 'eval_samples_per_second': 245.882, 'eval_steps_per_second': 49.176, 'epoch': 100.0}\n",
      "{'train_runtime': 72.2704, 'train_samples_per_second': 55.348, 'train_steps_per_second': 6.918, 'train_loss': 0.08181778241488792, 'epoch': 100.0}\n"
     ]
    },
    {
     "data": {
      "text/plain": [
       "TrainOutput(global_step=500, training_loss=0.08181778241488792, metrics={'train_runtime': 72.2704, 'train_samples_per_second': 55.348, 'train_steps_per_second': 6.918, 'train_loss': 0.08181778241488792, 'epoch': 100.0})"
      ]
     },
     "execution_count": 25,
     "metadata": {},
     "output_type": "execute_result"
    }
   ],
   "source": [
    "trainer.train()"
   ]
  },
  {
   "cell_type": "markdown",
   "id": "36865773-e6e2-4434-ad1d-4e8d42d2f7cd",
   "metadata": {},
   "source": [
    "<b>4.4 Extract Training History</b>"
   ]
  },
  {
   "cell_type": "code",
   "execution_count": 26,
   "id": "ae41fcb7-9c9b-426b-b488-2f626c3d5b4d",
   "metadata": {},
   "outputs": [
    {
     "data": {
      "text/plain": [
       "{'loss': 0.17,\n",
       " 'grad_norm': 0.08130905032157898,\n",
       " 'learning_rate': 0.009000000000000001,\n",
       " 'epoch': 10.0,\n",
       " 'step': 50}"
      ]
     },
     "execution_count": 26,
     "metadata": {},
     "output_type": "execute_result"
    }
   ],
   "source": [
    "trainer.state.log_history[18]"
   ]
  },
  {
   "cell_type": "code",
   "execution_count": 27,
   "id": "6e7711fa-4b9c-48b7-bb22-14202ea9fecc",
   "metadata": {},
   "outputs": [
    {
     "data": {
      "text/plain": [
       "{'eval_loss': 0.12147641181945801,\n",
       " 'eval_Accuracy': 0.9,\n",
       " 'eval_runtime': 0.0299,\n",
       " 'eval_samples_per_second': 334.213,\n",
       " 'eval_steps_per_second': 66.843,\n",
       " 'epoch': 10.0,\n",
       " 'step': 50}"
      ]
     },
     "execution_count": 27,
     "metadata": {},
     "output_type": "execute_result"
    }
   ],
   "source": [
    "trainer.state.log_history[19]"
   ]
  },
  {
   "cell_type": "code",
   "execution_count": 28,
   "id": "5e02a72a-895c-4d1d-b05d-66c31b847e1d",
   "metadata": {},
   "outputs": [
    {
     "data": {
      "text/plain": [
       "{'loss': 0.1792,\n",
       " 'grad_norm': 3.7910308837890625,\n",
       " 'learning_rate': 0.0089,\n",
       " 'epoch': 11.0,\n",
       " 'step': 55}"
      ]
     },
     "execution_count": 28,
     "metadata": {},
     "output_type": "execute_result"
    }
   ],
   "source": [
    "trainer.state.log_history[20]"
   ]
  },
  {
   "cell_type": "code",
   "execution_count": 29,
   "id": "98301720-7d0d-4674-9ca7-331cc986114f",
   "metadata": {},
   "outputs": [
    {
     "data": {
      "text/plain": [
       "(200, 201)"
      ]
     },
     "execution_count": 29,
     "metadata": {},
     "output_type": "execute_result"
    }
   ],
   "source": [
    "len(trainer.state.log_history[:-1]),len(trainer.state.log_history)"
   ]
  },
  {
   "cell_type": "code",
   "execution_count": 30,
   "id": "ca8ac094-ecdb-4fd3-a904-59c3fb785290",
   "metadata": {},
   "outputs": [],
   "source": [
    "learning_history = trainer.state.log_history[:-1]"
   ]
  },
  {
   "cell_type": "code",
   "execution_count": 31,
   "id": "14870d6b-3f1e-4b1e-9d22-37e1177c5aba",
   "metadata": {},
   "outputs": [],
   "source": [
    "hist_dict = {\n",
    "'train_loss': [],\n",
    "'valid_loss': [],\n",
    "'valid_acc': []\n",
    "}\n",
    "\n",
    "for item in learning_history:\n",
    "    if 'loss' in item:\n",
    "        hist_dict['train_loss'].append(item['loss'])\n",
    "        continue\n",
    "        \n",
    "    if 'eval_loss' in item:\n",
    "        hist_dict['valid_loss'].append(item['eval_loss'])\n",
    "        hist_dict['valid_acc'].append(item['eval_Accuracy'])"
   ]
  },
  {
   "cell_type": "code",
   "execution_count": 32,
   "id": "996060fa-06e1-4f2d-86c6-bd1772deb091",
   "metadata": {},
   "outputs": [
    {
     "name": "stdout",
     "output_type": "stream",
     "text": [
      "train_loss [1.5991, 0.5408, 0.4017, 0.1133, 0.3718, 0.6542, 0.2743, 0.3088, 0.1833, 0.17, 0.1792, 0.2179, 0.0774, 0.1359, 0.2001, 0.0023, 0.0064, 0.1247, 0.0804, 0.0044, 0.0243, 0.3065, 0.1395, 0.0717, 0.0194, 0.0278, 0.0096, 0.1451, 0.2878, 0.0218, 0.0382, 0.0278, 0.1582, 0.0201, 0.0156, 0.0011, 0.1368, 0.042, 0.0038, 0.0114, 0.0695, 0.0559, 0.0461, 0.022, 0.1372, 0.0099, 0.1255, 0.0629, 0.1576, 0.0062, 0.0167, 0.0006, 0.0144, 0.0006, 0.0159, 0.0008, 0.0937, 0.003, 0.0153, 0.003, 0.0012, 0.0014, 0.0075, 0.001, 0.0158, 0.0005, 0.1195, 0.0012, 0.0007, 0.0009, 0.0006, 0.0001, 0.0003, 0.0016, 0.0002, 0.0001, 0.0019, 0.0003, 0.0, 0.0002, 0.0067, 0.0001, 0.0005, 0.0001, 0.0005, 0.0006, 0.0015, 0.0021, 0.0, 0.0001, 0.0006, 0.0021, 0.0, 0.0001, 0.0, 0.0, 0.0, 0.0, 0.0, 0.0]\n",
      "valid_loss [1.2698894739151, 0.49498581886291504, 0.6357344388961792, 0.6881271600723267, 0.45113030076026917, 0.15694613754749298, 0.699618935585022, 0.5873324275016785, 0.26951348781585693, 0.12147641181945801, 0.38607409596443176, 0.40346449613571167, 0.6300797462463379, 0.21458223462104797, 0.15764811635017395, 0.05900263786315918, 0.16062091290950775, 0.032541655004024506, 0.045130737125873566, 0.0828731507062912, 0.04904257878661156, 0.12981471419334412, 0.11630333960056305, 0.1459144800901413, 0.12659098207950592, 0.21621187031269073, 0.5739232301712036, 0.3330428898334503, 0.25769758224487305, 0.6672718524932861, 0.3071660101413727, 0.3235241770744324, 0.882550835609436, 0.17799820005893707, 0.10081527382135391, 0.11212289333343506, 0.3771078288555145, 0.159640371799469, 0.1941835880279541, 0.7037076354026794, 0.33104208111763, 0.7750993967056274, 0.7789071798324585, 0.31175047159194946, 0.974032998085022, 1.2302619218826294, 0.4403145909309387, 0.9728010892868042, 0.7069829106330872, 1.0811007022857666, 0.35674694180488586, 0.4136897921562195, 0.2966066300868988, 0.24992743134498596, 0.3757452368736267, 0.7256922721862793, 0.5694283843040466, 0.6004184484481812, 0.6903623342514038, 0.09093423187732697, 0.35982462763786316, 0.45752447843551636, 0.07784660160541534, 0.3744111955165863, 0.30928662419319153, 0.18229803442955017, 0.32167282700538635, 0.18188536167144775, 0.31415194272994995, 0.41298526525497437, 0.44213494658470154, 0.44805294275283813, 0.4369231164455414, 0.3089270293712616, 0.2527461051940918, 0.2553005814552307, 0.21604835987091064, 0.26523661613464355, 0.2960863709449768, 0.28921544551849365, 0.15268400311470032, 0.3295685350894928, 0.5288074612617493, 0.6193736791610718, 0.6602163910865784, 0.6699665188789368, 0.6294457316398621, 0.4832707345485687, 0.3909471035003662, 0.34095636010169983, 0.30986908078193665, 0.24780645966529846, 0.18600820004940033, 0.15971951186656952, 0.14881226420402527, 0.14423561096191406, 0.1422315537929535, 0.14142301678657532, 0.14110758900642395, 0.14102116227149963]\n",
      "valid_acc [0.6, 0.9, 0.8, 0.9, 0.9, 0.9, 0.9, 0.8, 0.9, 0.9, 0.9, 0.9, 0.9, 0.9, 0.9, 1.0, 0.9, 1.0, 1.0, 1.0, 1.0, 1.0, 0.9, 0.9, 0.9, 0.9, 0.9, 0.8, 0.9, 0.9, 0.9, 0.8, 0.8, 0.9, 1.0, 0.9, 0.9, 0.9, 0.9, 0.8, 0.9, 0.9, 0.9, 0.9, 0.8, 0.7, 0.9, 0.8, 0.8, 0.8, 0.9, 0.8, 0.8, 0.8, 0.9, 0.9, 0.9, 0.8, 0.9, 1.0, 0.9, 0.9, 1.0, 0.9, 0.9, 0.9, 0.9, 0.9, 0.9, 0.9, 0.9, 0.9, 0.9, 0.9, 0.8, 0.9, 0.9, 0.9, 0.9, 0.9, 0.9, 0.9, 0.9, 0.9, 0.9, 0.9, 0.9, 0.9, 0.9, 0.9, 0.9, 0.9, 0.9, 0.9, 0.9, 0.9, 0.9, 0.9, 0.9, 0.9]\n"
     ]
    }
   ],
   "source": [
    "for key in  hist_dict:\n",
    "    print(key,hist_dict[key])"
   ]
  },
  {
   "cell_type": "code",
   "execution_count": 33,
   "id": "f16f8a62-208d-4860-8e21-136b8965b62e",
   "metadata": {},
   "outputs": [
    {
     "data": {
      "text/plain": [
       "Text(0.5, 0, 'Epochs')"
      ]
     },
     "execution_count": 33,
     "metadata": {},
     "output_type": "execute_result"
    },
    {
     "data": {
      "image/png": "[encoded data removed]",
      "text/plain": [
       "<Figure size 640x480 with 2 Axes>"
      ]
     },
     "metadata": {},
     "output_type": "display_data"
    }
   ],
   "source": [
    "plt.subplot(1,2,1)\n",
    "for key in  list(hist_dict.keys())[:-1]:\n",
    "    plt.plot(hist_dict[key])\n",
    "plt.legend(list(hist_dict.keys())[:-1])\n",
    "plt.title('Train vs. Validation Loss')\n",
    "plt.xlabel('Epochs')\n",
    "\n",
    "plt.subplot(1,2,2)\n",
    "for key in  [list(hist_dict.keys())[-1]]:\n",
    "    plt.plot(hist_dict[key])\n",
    "plt.legend([list(hist_dict.keys())[-1]])\n",
    "plt.title('Validation Acc')\n",
    "plt.xlabel('Epochs')"
   ]
  },
  {
   "cell_type": "markdown",
   "id": "cf6b12cc",
   "metadata": {},
   "source": [
    "<b> 4.5 Apply Model to Validation Dataset</b>"
   ]
  },
  {
   "cell_type": "code",
   "execution_count": 34,
   "id": "ba1f2710",
   "metadata": {},
   "outputs": [
    {
     "name": "stdout",
     "output_type": "stream",
     "text": [
      "Accuracy 1.0\n"
     ]
    }
   ],
   "source": [
    "# apply model to validation dataset\n",
    "predictions = trainer.predict(tokenized_data[\"test\"])\n",
    "\n",
    "# Extract the logits and labels from the predictions object\n",
    "logits = predictions.predictions\n",
    "labels = predictions.label_ids\n",
    "\n",
    "# Use your compute_metrics function\n",
    "#metrics = compute_metrics((logits, labels))\n",
    "#print(metrics)\n",
    "true_count = 0\n",
    "for pred_l,actu_l in zip(labels,support_tickets_splits['test']['label']): \n",
    "    if pred_l == actu_l:\n",
    "        true_count += 1\n",
    "print(f'Accuracy {true_count/len(labels)}')"
   ]
  },
  {
   "cell_type": "code",
   "execution_count": 35,
   "id": "0d02c7ab-744b-4848-8111-b7e916ba64c4",
   "metadata": {},
   "outputs": [
    {
     "data": {
      "text/plain": [
       "array([2, 1, 1, 1, 1, 2, 2, 0, 1, 2], dtype=int64)"
      ]
     },
     "execution_count": 35,
     "metadata": {},
     "output_type": "execute_result"
    }
   ],
   "source": [
    "labels"
   ]
  },
  {
   "cell_type": "code",
   "execution_count": 36,
   "id": "0465f670-327f-48c4-b64b-0d50bd650684",
   "metadata": {},
   "outputs": [
    {
     "data": {
      "text/plain": [
       "[2, 1, 1, 1, 1, 2, 2, 0, 1, 2]"
      ]
     },
     "execution_count": 36,
     "metadata": {},
     "output_type": "execute_result"
    }
   ],
   "source": [
    "support_tickets_splits['test']['label']"
   ]
  },
  {
   "cell_type": "code",
   "execution_count": 37,
   "id": "ff36f052-6ad2-48bf-8b1a-36597eaab1c0",
   "metadata": {},
   "outputs": [
    {
     "data": {
      "image/png": "[encoded data removed]",
      "text/plain": [
       "<Figure size 800x500 with 2 Axes>"
      ]
     },
     "metadata": {},
     "output_type": "display_data"
    }
   ],
   "source": [
    "from sklearn.metrics import confusion_matrix\n",
    "from sklearn.metrics import classification_report\n",
    "import seaborn as sns\n",
    "\n",
    "font_size = 12\n",
    "label_class = ['access','disk','user']\n",
    "cl_rep = classification_report(support_tickets_splits['test']['label'],\n",
    "                               labels,\n",
    "                               target_names=label_class,\n",
    "                               output_dict=True\n",
    "                            )\n",
    "\n",
    "cm = confusion_matrix(support_tickets_splits['test']['label'],\n",
    "                      labels)\n",
    "\n",
    "plt.figure(figsize = (8, 5))\n",
    "sns.heatmap(cm,\n",
    "            xticklabels=label_class,\n",
    "            yticklabels=label_class,\n",
    "            annot = True,  fmt = '.0f',\n",
    "            annot_kws={'size': font_size})\n",
    "plt.ylabel('Actual')\n",
    "plt.xlabel('Predicted')\n",
    "plt.show()"
   ]
  },
  {
   "cell_type": "code",
   "execution_count": 38,
   "id": "f1832793-145e-4784-8316-ece75174b197",
   "metadata": {},
   "outputs": [
    {
     "data": {
      "text/html": [
       "<div>\n",
       "<style scoped>\n",
       "    .dataframe tbody tr th:only-of-type {\n",
       "        vertical-align: middle;\n",
       "    }\n",
       "\n",
       "    .dataframe tbody tr th {\n",
       "        vertical-align: top;\n",
       "    }\n",
       "\n",
       "    .dataframe thead th {\n",
       "        text-align: right;\n",
       "    }\n",
       "</style>\n",
       "<table border=\"1\" class=\"dataframe\">\n",
       "  <thead>\n",
       "    <tr style=\"text-align: right;\">\n",
       "      <th></th>\n",
       "      <th>access</th>\n",
       "      <th>disk</th>\n",
       "      <th>user</th>\n",
       "      <th>accuracy</th>\n",
       "      <th>macro avg</th>\n",
       "      <th>weighted avg</th>\n",
       "    </tr>\n",
       "  </thead>\n",
       "  <tbody>\n",
       "    <tr>\n",
       "      <th>precision</th>\n",
       "      <td>1.0</td>\n",
       "      <td>1.0</td>\n",
       "      <td>1.0</td>\n",
       "      <td>1.0</td>\n",
       "      <td>1.0</td>\n",
       "      <td>1.0</td>\n",
       "    </tr>\n",
       "    <tr>\n",
       "      <th>recall</th>\n",
       "      <td>1.0</td>\n",
       "      <td>1.0</td>\n",
       "      <td>1.0</td>\n",
       "      <td>1.0</td>\n",
       "      <td>1.0</td>\n",
       "      <td>1.0</td>\n",
       "    </tr>\n",
       "    <tr>\n",
       "      <th>f1-score</th>\n",
       "      <td>1.0</td>\n",
       "      <td>1.0</td>\n",
       "      <td>1.0</td>\n",
       "      <td>1.0</td>\n",
       "      <td>1.0</td>\n",
       "      <td>1.0</td>\n",
       "    </tr>\n",
       "    <tr>\n",
       "      <th>support</th>\n",
       "      <td>1.0</td>\n",
       "      <td>5.0</td>\n",
       "      <td>4.0</td>\n",
       "      <td>1.0</td>\n",
       "      <td>10.0</td>\n",
       "      <td>10.0</td>\n",
       "    </tr>\n",
       "  </tbody>\n",
       "</table>\n",
       "</div>"
      ],
      "text/plain": [
       "           access  disk  user  accuracy  macro avg  weighted avg\n",
       "precision     1.0   1.0   1.0       1.0        1.0           1.0\n",
       "recall        1.0   1.0   1.0       1.0        1.0           1.0\n",
       "f1-score      1.0   1.0   1.0       1.0        1.0           1.0\n",
       "support       1.0   5.0   4.0       1.0       10.0          10.0"
      ]
     },
     "execution_count": 38,
     "metadata": {},
     "output_type": "execute_result"
    }
   ],
   "source": [
    "df = pd.DataFrame(cl_rep)\n",
    "df"
   ]
  },
  {
   "cell_type": "code",
   "execution_count": null,
   "id": "eb89b178",
   "metadata": {},
   "outputs": [],
   "source": [
    "# # push model to hub\n",
    "# trainer.push_to_hub()"
   ]
  },
  {
   "cell_type": "code",
   "execution_count": null,
   "id": "9e405fcd-ff56-4b1a-9302-8ca398ea7a82",
   "metadata": {},
   "outputs": [],
   "source": []
  }
 ],
 "metadata": {
  "kernelspec": {
   "display_name": "Python 3 (ipykernel)",
   "language": "python",
   "name": "python3"
  },
  "language_info": {
   "codemirror_mode": {
    "name": "ipython",
    "version": 3
   },
   "file_extension": ".py",
   "mimetype": "text/x-python",
   "name": "python",
   "nbconvert_exporter": "python",
   "pygments_lexer": "ipython3",
   "version": "3.8.19"
  }
 },
 "nbformat": 4,
 "nbformat_minor": 5
}
