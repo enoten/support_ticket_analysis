{
 "cells": [
  {
   "cell_type": "markdown",
   "id": "77f17474-1423-418d-b369-3743abba6b40",
   "metadata": {},
   "source": [
    "### Fine-tune BERT Base model for Support Ticket Dataset Classification"
   ]
  },
  {
   "cell_type": "code",
   "execution_count": 11,
   "id": "a32b5c69-b8b2-4807-b6c5-d5ed3d237b7e",
   "metadata": {},
   "outputs": [],
   "source": [
    "from datasets import load_dataset\n",
    "from datasets import DatasetDict, Dataset\n",
    "\n",
    "import matplotlib.pyplot as plt\n",
    "\n",
    "from transformers import (logging,\n",
    "    AutoTokenizer, DataCollatorWithPadding, \n",
    "    AutoModelForSequenceClassification, TrainingArguments, Trainer\n",
    "    )\n",
    "import evaluate\n",
    "import numpy as np\n",
    "import pandas as pd\n",
    "\n",
    "# ignore warnings from transformers lib\n",
    "logging.set_verbosity_error() "
   ]
  },
  {
   "cell_type": "markdown",
   "id": "2c799a68-36aa-4ecc-8c57-2becf92b38e2",
   "metadata": {},
   "source": [
    "### 1. Load data from Support Tickets Dataset"
   ]
  },
  {
   "cell_type": "markdown",
   "id": "a6b3f3f9-0e19-4583-808a-209e22651fdf",
   "metadata": {},
   "source": [
    "<b>1.1 Load Support Tickets Dataset fom HuggingFace Hub</b>"
   ]
  },
  {
   "cell_type": "code",
   "execution_count": 2,
   "id": "f4fbd278-3ace-49cb-9765-5dbed896d5ae",
   "metadata": {},
   "outputs": [],
   "source": [
    "support_tickets = load_dataset(\"phi-ai-info/support_tickets\")"
   ]
  },
  {
   "cell_type": "code",
   "execution_count": 3,
   "id": "edb6b85e-9b43-44cc-a335-e415635d7c31",
   "metadata": {},
   "outputs": [
    {
     "data": {
      "text/plain": [
       "DatasetDict({\n",
       "    train: Dataset({\n",
       "        features: ['subject', 'description', 'key_phrase'],\n",
       "        num_rows: 60\n",
       "    })\n",
       "})"
      ]
     },
     "execution_count": 3,
     "metadata": {},
     "output_type": "execute_result"
    }
   ],
   "source": [
    "support_tickets"
   ]
  },
  {
   "cell_type": "markdown",
   "id": "c739075f-69ad-4cae-b049-7e175e0307b4",
   "metadata": {},
   "source": [
    "<b>2.1 Convert support_tickets Dataset into Pandas DataFrame</b>"
   ]
  },
  {
   "cell_type": "code",
   "execution_count": 4,
   "id": "28ed3c2d-9e57-4bd0-b880-5044760613be",
   "metadata": {},
   "outputs": [],
   "source": [
    "def dataset_to_df(dataset_obj, \n",
    "                  label=None):\n",
    "    cols = list(dataset_obj[0].keys())\n",
    "    labels = []\n",
    "\n",
    "    cols_values = {item:[] for item in cols}\n",
    "    for json_rec in dataset_obj:\n",
    "        for item in cols:\n",
    "            cols_values[item].append(json_rec[item])\n",
    "    \n",
    "    if label is not None:\n",
    "        new_key = 'label'\n",
    "        cols += [new_key]\n",
    "        cols_values[new_key] = []\n",
    "        for json_rec in dataset_obj:\n",
    "            cols_values[new_key].append(label[json_rec['key_phrase']])\n",
    "    \n",
    "    return pd.DataFrame({item:cols_values[item] for item in cols})"
   ]
  },
  {
   "cell_type": "code",
   "execution_count": 5,
   "id": "fef9852d-c13e-4af4-a549-27ba0ec504ad",
   "metadata": {},
   "outputs": [],
   "source": [
    "label_dict = {'grant access': 0,\n",
    " 'revoke access': 0,\n",
    " 'access profile': 0,\n",
    " 'disk space': 1,\n",
    " 'disk full': 1,\n",
    " 'disk error': 1,\n",
    " 'add user': 2,\n",
    " 'delete user': 2,\n",
    " 'create user': 2,\n",
    " 'modify user': 2}\n",
    "\n",
    "df_set = dataset_to_df(support_tickets['train'], \n",
    "                       label=label_dict)"
   ]
  },
  {
   "cell_type": "markdown",
   "id": "2ca019e8-7653-4a8a-854e-188a0cc5f400",
   "metadata": {},
   "source": [
    "df_set"
   ]
  },
  {
   "cell_type": "code",
   "execution_count": 6,
   "id": "85828428-668e-4a58-a092-86db1cb73ed8",
   "metadata": {},
   "outputs": [
    {
     "data": {
      "text/plain": [
       "array([59, 10, 54, 17, 48, 47, 29, 39, 44, 30, 41, 13, 33,  3, 25, 34,  8,\n",
       "       20, 12, 14, 24, 42, 27,  1,  5, 37,  6,  7, 16, 43, 40, 11, 21,  2,\n",
       "       49,  9, 26, 56, 15, 45, 36, 46, 23, 52, 31, 38, 19,  4, 51, 28, 57,\n",
       "       55, 32, 22, 50, 58, 18, 35,  0, 53], dtype=int64)"
      ]
     },
     "execution_count": 6,
     "metadata": {},
     "output_type": "execute_result"
    }
   ],
   "source": [
    "random_index = np.random.permutation(df_set.index)\n",
    "random_index"
   ]
  },
  {
   "cell_type": "code",
   "execution_count": 7,
   "id": "e7368c38-3b24-4897-93da-e0ff47da8b7c",
   "metadata": {},
   "outputs": [
    {
     "data": {
      "text/plain": [
       "{'train': array([59, 10, 54, 17, 48, 47, 29, 39, 44, 30, 41, 13, 33,  3, 25, 34,  8,\n",
       "        20, 12, 14, 24, 42, 27,  1,  5, 37,  6,  7, 16, 43, 40, 11, 21,  2,\n",
       "        49,  9, 26, 56, 15, 45], dtype=int64),\n",
       " 'valid': array([36, 46, 23, 52, 31, 38, 19,  4, 51, 28], dtype=int64),\n",
       " 'test': array([57, 55, 32, 22, 50, 58, 18, 35,  0, 53], dtype=int64)}"
      ]
     },
     "execution_count": 7,
     "metadata": {},
     "output_type": "execute_result"
    }
   ],
   "source": [
    "subsets = ['train','valid','test']\n",
    "split_ind = np.array([[0,40],[40,50],[50,60]])\n",
    "ind2subset = {key:random_index[split_ind[i][0]:split_ind[i][1]] for i,key in enumerate(subsets)}\n",
    "ind2subset"
   ]
  },
  {
   "cell_type": "code",
   "execution_count": 8,
   "id": "f9af4e6b-9717-48db-a44f-c9607b4cec5e",
   "metadata": {},
   "outputs": [
    {
     "data": {
      "text/html": [
       "<div>\n",
       "<style scoped>\n",
       "    .dataframe tbody tr th:only-of-type {\n",
       "        vertical-align: middle;\n",
       "    }\n",
       "\n",
       "    .dataframe tbody tr th {\n",
       "        vertical-align: top;\n",
       "    }\n",
       "\n",
       "    .dataframe thead th {\n",
       "        text-align: right;\n",
       "    }\n",
       "</style>\n",
       "<table border=\"1\" class=\"dataframe\">\n",
       "  <thead>\n",
       "    <tr style=\"text-align: right;\">\n",
       "      <th></th>\n",
       "      <th>subject</th>\n",
       "      <th>description</th>\n",
       "      <th>key_phrase</th>\n",
       "      <th>label</th>\n",
       "    </tr>\n",
       "  </thead>\n",
       "  <tbody>\n",
       "    <tr>\n",
       "      <th>59</th>\n",
       "      <td>Modify User Account</td>\n",
       "      <td>Modify my user account by providing more rights</td>\n",
       "      <td>modify user</td>\n",
       "      <td>2</td>\n",
       "    </tr>\n",
       "    <tr>\n",
       "      <th>10</th>\n",
       "      <td>Access Removal for Inactive Users</td>\n",
       "      <td>Revoke access for inactive users.</td>\n",
       "      <td>revoke access</td>\n",
       "      <td>0</td>\n",
       "    </tr>\n",
       "    <tr>\n",
       "      <th>54</th>\n",
       "      <td>Modify User Permission</td>\n",
       "      <td>Modify permissions for users for the marketing...</td>\n",
       "      <td>modify user</td>\n",
       "      <td>2</td>\n",
       "    </tr>\n",
       "    <tr>\n",
       "      <th>17</th>\n",
       "      <td>Update Access Levels</td>\n",
       "      <td>Update access levels for profile for IT depart...</td>\n",
       "      <td>access profile</td>\n",
       "      <td>0</td>\n",
       "    </tr>\n",
       "    <tr>\n",
       "      <th>48</th>\n",
       "      <td>Create Temporary User</td>\n",
       "      <td>Create temporary user account for contractor.</td>\n",
       "      <td>create user</td>\n",
       "      <td>2</td>\n",
       "    </tr>\n",
       "    <tr>\n",
       "      <th>47</th>\n",
       "      <td>Add User Role</td>\n",
       "      <td>add a new user for Don's.</td>\n",
       "      <td>add user</td>\n",
       "      <td>2</td>\n",
       "    </tr>\n",
       "    <tr>\n",
       "      <th>29</th>\n",
       "      <td>Insufficient Disk Space</td>\n",
       "      <td>Lack of disk space hindering system performance.</td>\n",
       "      <td>disk space</td>\n",
       "      <td>1</td>\n",
       "    </tr>\n",
       "    <tr>\n",
       "      <th>39</th>\n",
       "      <td>Disk Space Reallocation</td>\n",
       "      <td>Need to reallocate disk space for new priorities.</td>\n",
       "      <td>disk space</td>\n",
       "      <td>1</td>\n",
       "    </tr>\n",
       "    <tr>\n",
       "      <th>44</th>\n",
       "      <td>Create new User Account</td>\n",
       "      <td>create a user profile using known information.</td>\n",
       "      <td>create user</td>\n",
       "      <td>2</td>\n",
       "    </tr>\n",
       "    <tr>\n",
       "      <th>30</th>\n",
       "      <td>Disk Space Capacity Upgrade</td>\n",
       "      <td>Request to increase disk space size.</td>\n",
       "      <td>disk space</td>\n",
       "      <td>1</td>\n",
       "    </tr>\n",
       "    <tr>\n",
       "      <th>41</th>\n",
       "      <td>Delete Departing Employee user</td>\n",
       "      <td>Please delete user for Micheal account as he's...</td>\n",
       "      <td>delete user</td>\n",
       "      <td>2</td>\n",
       "    </tr>\n",
       "    <tr>\n",
       "      <th>13</th>\n",
       "      <td>Revoke All Access</td>\n",
       "      <td>Revoke all access for departing employee.</td>\n",
       "      <td>revoke access</td>\n",
       "      <td>0</td>\n",
       "    </tr>\n",
       "    <tr>\n",
       "      <th>33</th>\n",
       "      <td>Disk Space Optimization</td>\n",
       "      <td>Need help optimizing disk space usage.</td>\n",
       "      <td>disk space</td>\n",
       "      <td>1</td>\n",
       "    </tr>\n",
       "    <tr>\n",
       "      <th>3</th>\n",
       "      <td>Grant Access Request for New Project</td>\n",
       "      <td>Please grant access to project files for users...</td>\n",
       "      <td>grant access</td>\n",
       "      <td>0</td>\n",
       "    </tr>\n",
       "    <tr>\n",
       "      <th>25</th>\n",
       "      <td>Server Disk Full</td>\n",
       "      <td>Server disk is full, causing system slowdown.</td>\n",
       "      <td>disk full</td>\n",
       "      <td>1</td>\n",
       "    </tr>\n",
       "    <tr>\n",
       "      <th>34</th>\n",
       "      <td>Server Disk Error</td>\n",
       "      <td>Server disk error causing system downtime.</td>\n",
       "      <td>disk error</td>\n",
       "      <td>1</td>\n",
       "    </tr>\n",
       "    <tr>\n",
       "      <th>8</th>\n",
       "      <td>Access Level Update</td>\n",
       "      <td>update access profile with more levels for sal...</td>\n",
       "      <td>access profile</td>\n",
       "      <td>0</td>\n",
       "    </tr>\n",
       "    <tr>\n",
       "      <th>20</th>\n",
       "      <td>Low Disk Space Warning</td>\n",
       "      <td>Our team's shared drive is running low on disk...</td>\n",
       "      <td>disk space</td>\n",
       "      <td>1</td>\n",
       "    </tr>\n",
       "    <tr>\n",
       "      <th>12</th>\n",
       "      <td>Grant Read-Only Access</td>\n",
       "      <td>Grant read-only access to confidential files.</td>\n",
       "      <td>grant access</td>\n",
       "      <td>0</td>\n",
       "    </tr>\n",
       "    <tr>\n",
       "      <th>14</th>\n",
       "      <td>Access Profile Update</td>\n",
       "      <td>Update access profile for new team members.</td>\n",
       "      <td>access profile</td>\n",
       "      <td>0</td>\n",
       "    </tr>\n",
       "    <tr>\n",
       "      <th>24</th>\n",
       "      <td>Disk Space Allocation</td>\n",
       "      <td>Need to allocate more disk space for new project.</td>\n",
       "      <td>disk space</td>\n",
       "      <td>1</td>\n",
       "    </tr>\n",
       "    <tr>\n",
       "      <th>42</th>\n",
       "      <td>Delete David's User</td>\n",
       "      <td>Delete David user as he's left the company.</td>\n",
       "      <td>delete user</td>\n",
       "      <td>2</td>\n",
       "    </tr>\n",
       "    <tr>\n",
       "      <th>27</th>\n",
       "      <td>Disk Cleanup Request</td>\n",
       "      <td>Need to clean up disk which is full.</td>\n",
       "      <td>disk full</td>\n",
       "      <td>1</td>\n",
       "    </tr>\n",
       "    <tr>\n",
       "      <th>1</th>\n",
       "      <td>Revoke Access to Sensitive Data</td>\n",
       "      <td>Revoke user access to sensitive information.</td>\n",
       "      <td>revoke access</td>\n",
       "      <td>0</td>\n",
       "    </tr>\n",
       "    <tr>\n",
       "      <th>5</th>\n",
       "      <td>Profile Update for New Role</td>\n",
       "      <td>Update access profile to reflect new job respo...</td>\n",
       "      <td>access profile</td>\n",
       "      <td>0</td>\n",
       "    </tr>\n",
       "    <tr>\n",
       "      <th>37</th>\n",
       "      <td>Low Disk Space Alert</td>\n",
       "      <td>Received low disk space alert, need attention.</td>\n",
       "      <td>disk space</td>\n",
       "      <td>1</td>\n",
       "    </tr>\n",
       "    <tr>\n",
       "      <th>6</th>\n",
       "      <td>Grant Temporary Access</td>\n",
       "      <td>Grant temporary access to contractor.</td>\n",
       "      <td>grant access</td>\n",
       "      <td>0</td>\n",
       "    </tr>\n",
       "    <tr>\n",
       "      <th>7</th>\n",
       "      <td>Revoke Admin Access</td>\n",
       "      <td>Revoke admin access for a user.</td>\n",
       "      <td>revoke access</td>\n",
       "      <td>0</td>\n",
       "    </tr>\n",
       "    <tr>\n",
       "      <th>16</th>\n",
       "      <td>Access Removal for Old Projects</td>\n",
       "      <td>Revoke access to old project files.</td>\n",
       "      <td>revoke access</td>\n",
       "      <td>0</td>\n",
       "    </tr>\n",
       "    <tr>\n",
       "      <th>43</th>\n",
       "      <td>Create New User Account</td>\n",
       "      <td>create a new user account for our intern.</td>\n",
       "      <td>create user</td>\n",
       "      <td>2</td>\n",
       "    </tr>\n",
       "    <tr>\n",
       "      <th>40</th>\n",
       "      <td>New Employee Onboarding</td>\n",
       "      <td>Request to add a user for a new employee to sy...</td>\n",
       "      <td>add user</td>\n",
       "      <td>2</td>\n",
       "    </tr>\n",
       "    <tr>\n",
       "      <th>11</th>\n",
       "      <td>Update Access Profile Permissions</td>\n",
       "      <td>Update access profile with permissions for mar...</td>\n",
       "      <td>access profile</td>\n",
       "      <td>0</td>\n",
       "    </tr>\n",
       "    <tr>\n",
       "      <th>21</th>\n",
       "      <td>Disk Full Error</td>\n",
       "      <td>Receiving disk full error, please increase sto...</td>\n",
       "      <td>disk full</td>\n",
       "      <td>1</td>\n",
       "    </tr>\n",
       "    <tr>\n",
       "      <th>2</th>\n",
       "      <td>Update Access Profile</td>\n",
       "      <td>Modify my access profile to include admin rights</td>\n",
       "      <td>access profile</td>\n",
       "      <td>0</td>\n",
       "    </tr>\n",
       "    <tr>\n",
       "      <th>49</th>\n",
       "      <td>Modify User Account Deactivation</td>\n",
       "      <td>Modify my user account to be temporarily inact...</td>\n",
       "      <td>modify user</td>\n",
       "      <td>2</td>\n",
       "    </tr>\n",
       "    <tr>\n",
       "      <th>9</th>\n",
       "      <td>Grant Access Request for Training</td>\n",
       "      <td>Need to grant access to training materials.</td>\n",
       "      <td>grant access</td>\n",
       "      <td>0</td>\n",
       "    </tr>\n",
       "    <tr>\n",
       "      <th>26</th>\n",
       "      <td>Disk Error</td>\n",
       "      <td>disk error caused data loss, need assistance.</td>\n",
       "      <td>disk error</td>\n",
       "      <td>1</td>\n",
       "    </tr>\n",
       "    <tr>\n",
       "      <th>56</th>\n",
       "      <td>Delete Duplicate Users</td>\n",
       "      <td>Delete duplicate users account.</td>\n",
       "      <td>delete user</td>\n",
       "      <td>2</td>\n",
       "    </tr>\n",
       "    <tr>\n",
       "      <th>15</th>\n",
       "      <td>Access Request for New Team</td>\n",
       "      <td>Grant access to team resources.</td>\n",
       "      <td>grant access</td>\n",
       "      <td>0</td>\n",
       "    </tr>\n",
       "    <tr>\n",
       "      <th>45</th>\n",
       "      <td>Add User to Group</td>\n",
       "      <td>Request to add user for John to marketing group.</td>\n",
       "      <td>add user</td>\n",
       "      <td>2</td>\n",
       "    </tr>\n",
       "  </tbody>\n",
       "</table>\n",
       "</div>"
      ],
      "text/plain": [
       "                                 subject  \\\n",
       "59                   Modify User Account   \n",
       "10     Access Removal for Inactive Users   \n",
       "54                Modify User Permission   \n",
       "17                  Update Access Levels   \n",
       "48                 Create Temporary User   \n",
       "47                         Add User Role   \n",
       "29               Insufficient Disk Space   \n",
       "39               Disk Space Reallocation   \n",
       "44               Create new User Account   \n",
       "30           Disk Space Capacity Upgrade   \n",
       "41        Delete Departing Employee user   \n",
       "13                     Revoke All Access   \n",
       "33               Disk Space Optimization   \n",
       "3   Grant Access Request for New Project   \n",
       "25                      Server Disk Full   \n",
       "34                     Server Disk Error   \n",
       "8                    Access Level Update   \n",
       "20                Low Disk Space Warning   \n",
       "12                Grant Read-Only Access   \n",
       "14                 Access Profile Update   \n",
       "24                 Disk Space Allocation   \n",
       "42                   Delete David's User   \n",
       "27                  Disk Cleanup Request   \n",
       "1        Revoke Access to Sensitive Data   \n",
       "5            Profile Update for New Role   \n",
       "37                  Low Disk Space Alert   \n",
       "6                 Grant Temporary Access   \n",
       "7                    Revoke Admin Access   \n",
       "16       Access Removal for Old Projects   \n",
       "43               Create New User Account   \n",
       "40               New Employee Onboarding   \n",
       "11     Update Access Profile Permissions   \n",
       "21                       Disk Full Error   \n",
       "2                  Update Access Profile   \n",
       "49      Modify User Account Deactivation   \n",
       "9      Grant Access Request for Training   \n",
       "26                            Disk Error   \n",
       "56                Delete Duplicate Users   \n",
       "15           Access Request for New Team   \n",
       "45                     Add User to Group   \n",
       "\n",
       "                                          description      key_phrase  label  \n",
       "59    Modify my user account by providing more rights     modify user      2  \n",
       "10                  Revoke access for inactive users.   revoke access      0  \n",
       "54  Modify permissions for users for the marketing...     modify user      2  \n",
       "17  Update access levels for profile for IT depart...  access profile      0  \n",
       "48      Create temporary user account for contractor.     create user      2  \n",
       "47                          add a new user for Don's.        add user      2  \n",
       "29   Lack of disk space hindering system performance.      disk space      1  \n",
       "39  Need to reallocate disk space for new priorities.      disk space      1  \n",
       "44     create a user profile using known information.     create user      2  \n",
       "30               Request to increase disk space size.      disk space      1  \n",
       "41  Please delete user for Micheal account as he's...     delete user      2  \n",
       "13          Revoke all access for departing employee.   revoke access      0  \n",
       "33             Need help optimizing disk space usage.      disk space      1  \n",
       "3   Please grant access to project files for users...    grant access      0  \n",
       "25      Server disk is full, causing system slowdown.       disk full      1  \n",
       "34         Server disk error causing system downtime.      disk error      1  \n",
       "8   update access profile with more levels for sal...  access profile      0  \n",
       "20  Our team's shared drive is running low on disk...      disk space      1  \n",
       "12      Grant read-only access to confidential files.    grant access      0  \n",
       "14        Update access profile for new team members.  access profile      0  \n",
       "24  Need to allocate more disk space for new project.      disk space      1  \n",
       "42        Delete David user as he's left the company.     delete user      2  \n",
       "27               Need to clean up disk which is full.       disk full      1  \n",
       "1        Revoke user access to sensitive information.   revoke access      0  \n",
       "5   Update access profile to reflect new job respo...  access profile      0  \n",
       "37     Received low disk space alert, need attention.      disk space      1  \n",
       "6               Grant temporary access to contractor.    grant access      0  \n",
       "7                     Revoke admin access for a user.   revoke access      0  \n",
       "16                Revoke access to old project files.   revoke access      0  \n",
       "43          create a new user account for our intern.     create user      2  \n",
       "40  Request to add a user for a new employee to sy...        add user      2  \n",
       "11  Update access profile with permissions for mar...  access profile      0  \n",
       "21  Receiving disk full error, please increase sto...       disk full      1  \n",
       "2    Modify my access profile to include admin rights  access profile      0  \n",
       "49  Modify my user account to be temporarily inact...     modify user      2  \n",
       "9         Need to grant access to training materials.    grant access      0  \n",
       "26      disk error caused data loss, need assistance.      disk error      1  \n",
       "56                    Delete duplicate users account.     delete user      2  \n",
       "15                    Grant access to team resources.    grant access      0  \n",
       "45   Request to add user for John to marketing group.        add user      2  "
      ]
     },
     "execution_count": 8,
     "metadata": {},
     "output_type": "execute_result"
    }
   ],
   "source": [
    "df_set.iloc[ind2subset['train']]"
   ]
  },
  {
   "cell_type": "markdown",
   "id": "6109c01d-879b-418f-a175-39a0d277af20",
   "metadata": {},
   "source": [
    "<b>1.3 Create a Dataset with Train, Validation and Test splits</b>"
   ]
  },
  {
   "cell_type": "code",
   "execution_count": 12,
   "id": "21ddef4f-3947-48f4-89e8-7447379adf72",
   "metadata": {},
   "outputs": [
    {
     "data": {
      "text/plain": [
       "DatasetDict({\n",
       "    train: Dataset({\n",
       "        features: ['subject', 'description', 'key_phrase', 'label', '__index_level_0__'],\n",
       "        num_rows: 40\n",
       "    })\n",
       "    valid: Dataset({\n",
       "        features: ['subject', 'description', 'key_phrase', 'label', '__index_level_0__'],\n",
       "        num_rows: 10\n",
       "    })\n",
       "    test: Dataset({\n",
       "        features: ['subject', 'description', 'key_phrase', 'label', '__index_level_0__'],\n",
       "        num_rows: 10\n",
       "    })\n",
       "})"
      ]
     },
     "execution_count": 12,
     "metadata": {},
     "output_type": "execute_result"
    }
   ],
   "source": [
    "ds_splits = DatasetDict({\n",
    "                        'train': Dataset.from_pandas(\n",
    "                                                    df_set.iloc[ind2subset['train']]\n",
    "                                                    ),\n",
    "                        'valid': Dataset.from_pandas(\n",
    "                                                    df_set.iloc[ind2subset['valid']]\n",
    "                                                    ),\n",
    "                        'test': Dataset.from_pandas(\n",
    "                                                    df_set.iloc[ind2subset['test']]\n",
    "                                                    )\n",
    "                        })\n",
    "ds_splits"
   ]
  },
  {
   "cell_type": "code",
   "execution_count": 13,
   "id": "de527a40-d6e0-406f-95aa-bcc41d7d8223",
   "metadata": {},
   "outputs": [
    {
     "data": {
      "text/plain": [
       "DatasetDict({\n",
       "    train: Dataset({\n",
       "        features: ['subject', 'description', 'key_phrase', 'label', '__index_level_0__'],\n",
       "        num_rows: 40\n",
       "    })\n",
       "    valid: Dataset({\n",
       "        features: ['subject', 'description', 'key_phrase', 'label', '__index_level_0__'],\n",
       "        num_rows: 10\n",
       "    })\n",
       "    test: Dataset({\n",
       "        features: ['subject', 'description', 'key_phrase', 'label', '__index_level_0__'],\n",
       "        num_rows: 10\n",
       "    })\n",
       "})"
      ]
     },
     "execution_count": 13,
     "metadata": {},
     "output_type": "execute_result"
    }
   ],
   "source": [
    "subsets = ['train','valid','test']\n",
    "split_dict = { key: Dataset.from_pandas(df_set.iloc[ind2subset[key]]) for key in subsets}\n",
    "support_tickets_splits = DatasetDict(split_dict)\n",
    "support_tickets_splits"
   ]
  },
  {
   "cell_type": "markdown",
   "id": "2bf82a01",
   "metadata": {},
   "source": [
    "### 2. Train BERT base Model"
   ]
  },
  {
   "cell_type": "markdown",
   "id": "4014827b-2f92-457b-83be-7709943a0746",
   "metadata": {},
   "source": [
    "<b>2.1 Load model from HuggingFace Hub</b>"
   ]
  },
  {
   "cell_type": "code",
   "execution_count": 14,
   "id": "ec0311bd",
   "metadata": {},
   "outputs": [],
   "source": [
    "model_path = \"google-bert/bert-base-uncased\"\n",
    "\n",
    "tokenizer = AutoTokenizer.from_pretrained(model_path)\n",
    "\n",
    "id2label = {0: \"access\", 1: \"disk\", 2: \"user\"}\n",
    "label2id = {id2label[key]:key for key in id2label}\n",
    "\n",
    "model = AutoModelForSequenceClassification.from_pretrained(model_path, \n",
    "                                                           num_labels=len(list(id2label.keys())), \n",
    "                                                           id2label=id2label, \n",
    "                                                           label2id=label2id,\n",
    "                                                          )"
   ]
  },
  {
   "cell_type": "markdown",
   "id": "826084b6",
   "metadata": {},
   "source": [
    "<b>2.2 Viz Model Stru</b>"
   ]
  },
  {
   "cell_type": "code",
   "execution_count": 15,
   "id": "03aa44f2",
   "metadata": {
    "scrolled": true
   },
   "outputs": [
    {
     "name": "stdout",
     "output_type": "stream",
     "text": [
      "bert.embeddings.word_embeddings.weight True\n",
      "bert.embeddings.position_embeddings.weight True\n",
      "bert.embeddings.token_type_embeddings.weight True\n",
      "bert.embeddings.LayerNorm.weight True\n",
      "bert.embeddings.LayerNorm.bias True\n",
      "bert.encoder.layer.0.attention.self.query.weight True\n",
      "bert.encoder.layer.0.attention.self.query.bias True\n",
      "bert.encoder.layer.0.attention.self.key.weight True\n",
      "bert.encoder.layer.0.attention.self.key.bias True\n",
      "bert.encoder.layer.0.attention.self.value.weight True\n",
      "bert.encoder.layer.0.attention.self.value.bias True\n",
      "bert.encoder.layer.0.attention.output.dense.weight True\n",
      "bert.encoder.layer.0.attention.output.dense.bias True\n",
      "bert.encoder.layer.0.attention.output.LayerNorm.weight True\n",
      "bert.encoder.layer.0.attention.output.LayerNorm.bias True\n",
      "bert.encoder.layer.0.intermediate.dense.weight True\n",
      "bert.encoder.layer.0.intermediate.dense.bias True\n",
      "bert.encoder.layer.0.output.dense.weight True\n",
      "bert.encoder.layer.0.output.dense.bias True\n",
      "bert.encoder.layer.0.output.LayerNorm.weight True\n",
      "bert.encoder.layer.0.output.LayerNorm.bias True\n",
      "bert.encoder.layer.1.attention.self.query.weight True\n",
      "bert.encoder.layer.1.attention.self.query.bias True\n",
      "bert.encoder.layer.1.attention.self.key.weight True\n",
      "bert.encoder.layer.1.attention.self.key.bias True\n",
      "bert.encoder.layer.1.attention.self.value.weight True\n",
      "bert.encoder.layer.1.attention.self.value.bias True\n",
      "bert.encoder.layer.1.attention.output.dense.weight True\n",
      "bert.encoder.layer.1.attention.output.dense.bias True\n",
      "bert.encoder.layer.1.attention.output.LayerNorm.weight True\n",
      "bert.encoder.layer.1.attention.output.LayerNorm.bias True\n",
      "bert.encoder.layer.1.intermediate.dense.weight True\n",
      "bert.encoder.layer.1.intermediate.dense.bias True\n",
      "bert.encoder.layer.1.output.dense.weight True\n",
      "bert.encoder.layer.1.output.dense.bias True\n",
      "bert.encoder.layer.1.output.LayerNorm.weight True\n",
      "bert.encoder.layer.1.output.LayerNorm.bias True\n",
      "bert.encoder.layer.2.attention.self.query.weight True\n",
      "bert.encoder.layer.2.attention.self.query.bias True\n",
      "bert.encoder.layer.2.attention.self.key.weight True\n",
      "bert.encoder.layer.2.attention.self.key.bias True\n",
      "bert.encoder.layer.2.attention.self.value.weight True\n",
      "bert.encoder.layer.2.attention.self.value.bias True\n",
      "bert.encoder.layer.2.attention.output.dense.weight True\n",
      "bert.encoder.layer.2.attention.output.dense.bias True\n",
      "bert.encoder.layer.2.attention.output.LayerNorm.weight True\n",
      "bert.encoder.layer.2.attention.output.LayerNorm.bias True\n",
      "bert.encoder.layer.2.intermediate.dense.weight True\n",
      "bert.encoder.layer.2.intermediate.dense.bias True\n",
      "bert.encoder.layer.2.output.dense.weight True\n",
      "bert.encoder.layer.2.output.dense.bias True\n",
      "bert.encoder.layer.2.output.LayerNorm.weight True\n",
      "bert.encoder.layer.2.output.LayerNorm.bias True\n",
      "bert.encoder.layer.3.attention.self.query.weight True\n",
      "bert.encoder.layer.3.attention.self.query.bias True\n",
      "bert.encoder.layer.3.attention.self.key.weight True\n",
      "bert.encoder.layer.3.attention.self.key.bias True\n",
      "bert.encoder.layer.3.attention.self.value.weight True\n",
      "bert.encoder.layer.3.attention.self.value.bias True\n",
      "bert.encoder.layer.3.attention.output.dense.weight True\n",
      "bert.encoder.layer.3.attention.output.dense.bias True\n",
      "bert.encoder.layer.3.attention.output.LayerNorm.weight True\n",
      "bert.encoder.layer.3.attention.output.LayerNorm.bias True\n",
      "bert.encoder.layer.3.intermediate.dense.weight True\n",
      "bert.encoder.layer.3.intermediate.dense.bias True\n",
      "bert.encoder.layer.3.output.dense.weight True\n",
      "bert.encoder.layer.3.output.dense.bias True\n",
      "bert.encoder.layer.3.output.LayerNorm.weight True\n",
      "bert.encoder.layer.3.output.LayerNorm.bias True\n",
      "bert.encoder.layer.4.attention.self.query.weight True\n",
      "bert.encoder.layer.4.attention.self.query.bias True\n",
      "bert.encoder.layer.4.attention.self.key.weight True\n",
      "bert.encoder.layer.4.attention.self.key.bias True\n",
      "bert.encoder.layer.4.attention.self.value.weight True\n",
      "bert.encoder.layer.4.attention.self.value.bias True\n",
      "bert.encoder.layer.4.attention.output.dense.weight True\n",
      "bert.encoder.layer.4.attention.output.dense.bias True\n",
      "bert.encoder.layer.4.attention.output.LayerNorm.weight True\n",
      "bert.encoder.layer.4.attention.output.LayerNorm.bias True\n",
      "bert.encoder.layer.4.intermediate.dense.weight True\n",
      "bert.encoder.layer.4.intermediate.dense.bias True\n",
      "bert.encoder.layer.4.output.dense.weight True\n",
      "bert.encoder.layer.4.output.dense.bias True\n",
      "bert.encoder.layer.4.output.LayerNorm.weight True\n",
      "bert.encoder.layer.4.output.LayerNorm.bias True\n",
      "bert.encoder.layer.5.attention.self.query.weight True\n",
      "bert.encoder.layer.5.attention.self.query.bias True\n",
      "bert.encoder.layer.5.attention.self.key.weight True\n",
      "bert.encoder.layer.5.attention.self.key.bias True\n",
      "bert.encoder.layer.5.attention.self.value.weight True\n",
      "bert.encoder.layer.5.attention.self.value.bias True\n",
      "bert.encoder.layer.5.attention.output.dense.weight True\n",
      "bert.encoder.layer.5.attention.output.dense.bias True\n",
      "bert.encoder.layer.5.attention.output.LayerNorm.weight True\n",
      "bert.encoder.layer.5.attention.output.LayerNorm.bias True\n",
      "bert.encoder.layer.5.intermediate.dense.weight True\n",
      "bert.encoder.layer.5.intermediate.dense.bias True\n",
      "bert.encoder.layer.5.output.dense.weight True\n",
      "bert.encoder.layer.5.output.dense.bias True\n",
      "bert.encoder.layer.5.output.LayerNorm.weight True\n",
      "bert.encoder.layer.5.output.LayerNorm.bias True\n",
      "bert.encoder.layer.6.attention.self.query.weight True\n",
      "bert.encoder.layer.6.attention.self.query.bias True\n",
      "bert.encoder.layer.6.attention.self.key.weight True\n",
      "bert.encoder.layer.6.attention.self.key.bias True\n",
      "bert.encoder.layer.6.attention.self.value.weight True\n",
      "bert.encoder.layer.6.attention.self.value.bias True\n",
      "bert.encoder.layer.6.attention.output.dense.weight True\n",
      "bert.encoder.layer.6.attention.output.dense.bias True\n",
      "bert.encoder.layer.6.attention.output.LayerNorm.weight True\n",
      "bert.encoder.layer.6.attention.output.LayerNorm.bias True\n",
      "bert.encoder.layer.6.intermediate.dense.weight True\n",
      "bert.encoder.layer.6.intermediate.dense.bias True\n",
      "bert.encoder.layer.6.output.dense.weight True\n",
      "bert.encoder.layer.6.output.dense.bias True\n",
      "bert.encoder.layer.6.output.LayerNorm.weight True\n",
      "bert.encoder.layer.6.output.LayerNorm.bias True\n",
      "bert.encoder.layer.7.attention.self.query.weight True\n",
      "bert.encoder.layer.7.attention.self.query.bias True\n",
      "bert.encoder.layer.7.attention.self.key.weight True\n",
      "bert.encoder.layer.7.attention.self.key.bias True\n",
      "bert.encoder.layer.7.attention.self.value.weight True\n",
      "bert.encoder.layer.7.attention.self.value.bias True\n",
      "bert.encoder.layer.7.attention.output.dense.weight True\n",
      "bert.encoder.layer.7.attention.output.dense.bias True\n",
      "bert.encoder.layer.7.attention.output.LayerNorm.weight True\n",
      "bert.encoder.layer.7.attention.output.LayerNorm.bias True\n",
      "bert.encoder.layer.7.intermediate.dense.weight True\n",
      "bert.encoder.layer.7.intermediate.dense.bias True\n",
      "bert.encoder.layer.7.output.dense.weight True\n",
      "bert.encoder.layer.7.output.dense.bias True\n",
      "bert.encoder.layer.7.output.LayerNorm.weight True\n",
      "bert.encoder.layer.7.output.LayerNorm.bias True\n",
      "bert.encoder.layer.8.attention.self.query.weight True\n",
      "bert.encoder.layer.8.attention.self.query.bias True\n",
      "bert.encoder.layer.8.attention.self.key.weight True\n",
      "bert.encoder.layer.8.attention.self.key.bias True\n",
      "bert.encoder.layer.8.attention.self.value.weight True\n",
      "bert.encoder.layer.8.attention.self.value.bias True\n",
      "bert.encoder.layer.8.attention.output.dense.weight True\n",
      "bert.encoder.layer.8.attention.output.dense.bias True\n",
      "bert.encoder.layer.8.attention.output.LayerNorm.weight True\n",
      "bert.encoder.layer.8.attention.output.LayerNorm.bias True\n",
      "bert.encoder.layer.8.intermediate.dense.weight True\n",
      "bert.encoder.layer.8.intermediate.dense.bias True\n",
      "bert.encoder.layer.8.output.dense.weight True\n",
      "bert.encoder.layer.8.output.dense.bias True\n",
      "bert.encoder.layer.8.output.LayerNorm.weight True\n",
      "bert.encoder.layer.8.output.LayerNorm.bias True\n",
      "bert.encoder.layer.9.attention.self.query.weight True\n",
      "bert.encoder.layer.9.attention.self.query.bias True\n",
      "bert.encoder.layer.9.attention.self.key.weight True\n",
      "bert.encoder.layer.9.attention.self.key.bias True\n",
      "bert.encoder.layer.9.attention.self.value.weight True\n",
      "bert.encoder.layer.9.attention.self.value.bias True\n",
      "bert.encoder.layer.9.attention.output.dense.weight True\n",
      "bert.encoder.layer.9.attention.output.dense.bias True\n",
      "bert.encoder.layer.9.attention.output.LayerNorm.weight True\n",
      "bert.encoder.layer.9.attention.output.LayerNorm.bias True\n",
      "bert.encoder.layer.9.intermediate.dense.weight True\n",
      "bert.encoder.layer.9.intermediate.dense.bias True\n",
      "bert.encoder.layer.9.output.dense.weight True\n",
      "bert.encoder.layer.9.output.dense.bias True\n",
      "bert.encoder.layer.9.output.LayerNorm.weight True\n",
      "bert.encoder.layer.9.output.LayerNorm.bias True\n",
      "bert.encoder.layer.10.attention.self.query.weight True\n",
      "bert.encoder.layer.10.attention.self.query.bias True\n",
      "bert.encoder.layer.10.attention.self.key.weight True\n",
      "bert.encoder.layer.10.attention.self.key.bias True\n",
      "bert.encoder.layer.10.attention.self.value.weight True\n",
      "bert.encoder.layer.10.attention.self.value.bias True\n",
      "bert.encoder.layer.10.attention.output.dense.weight True\n",
      "bert.encoder.layer.10.attention.output.dense.bias True\n",
      "bert.encoder.layer.10.attention.output.LayerNorm.weight True\n",
      "bert.encoder.layer.10.attention.output.LayerNorm.bias True\n",
      "bert.encoder.layer.10.intermediate.dense.weight True\n",
      "bert.encoder.layer.10.intermediate.dense.bias True\n",
      "bert.encoder.layer.10.output.dense.weight True\n",
      "bert.encoder.layer.10.output.dense.bias True\n",
      "bert.encoder.layer.10.output.LayerNorm.weight True\n",
      "bert.encoder.layer.10.output.LayerNorm.bias True\n",
      "bert.encoder.layer.11.attention.self.query.weight True\n",
      "bert.encoder.layer.11.attention.self.query.bias True\n",
      "bert.encoder.layer.11.attention.self.key.weight True\n",
      "bert.encoder.layer.11.attention.self.key.bias True\n",
      "bert.encoder.layer.11.attention.self.value.weight True\n",
      "bert.encoder.layer.11.attention.self.value.bias True\n",
      "bert.encoder.layer.11.attention.output.dense.weight True\n",
      "bert.encoder.layer.11.attention.output.dense.bias True\n",
      "bert.encoder.layer.11.attention.output.LayerNorm.weight True\n",
      "bert.encoder.layer.11.attention.output.LayerNorm.bias True\n",
      "bert.encoder.layer.11.intermediate.dense.weight True\n",
      "bert.encoder.layer.11.intermediate.dense.bias True\n",
      "bert.encoder.layer.11.output.dense.weight True\n",
      "bert.encoder.layer.11.output.dense.bias True\n",
      "bert.encoder.layer.11.output.LayerNorm.weight True\n",
      "bert.encoder.layer.11.output.LayerNorm.bias True\n",
      "bert.pooler.dense.weight True\n",
      "bert.pooler.dense.bias True\n",
      "classifier.weight True\n",
      "classifier.bias True\n"
     ]
    }
   ],
   "source": [
    "# print layers\n",
    "for name, param in model.named_parameters():\n",
    "   print(name, param.requires_grad)"
   ]
  },
  {
   "cell_type": "markdown",
   "id": "4e2e3400-8a57-4ff7-a1ae-cc9e212e1d92",
   "metadata": {},
   "source": [
    "<b>2.3 Freeze base model</b>"
   ]
  },
  {
   "cell_type": "code",
   "execution_count": 16,
   "id": "9b569296",
   "metadata": {},
   "outputs": [],
   "source": [
    "# freeze base model parameters and unfreeze base model pooling layers\n",
    "for name, param in model.base_model.named_parameters():\n",
    "    if \"pooler\" in name:\n",
    "        param.requires_grad = True\n",
    "    else:\n",
    "        param.requires_grad = False"
   ]
  },
  {
   "cell_type": "code",
   "execution_count": 17,
   "id": "161d7c59",
   "metadata": {
    "scrolled": true
   },
   "outputs": [
    {
     "name": "stdout",
     "output_type": "stream",
     "text": [
      "bert.embeddings.word_embeddings.weight False\n",
      "bert.embeddings.position_embeddings.weight False\n",
      "bert.embeddings.token_type_embeddings.weight False\n",
      "bert.embeddings.LayerNorm.weight False\n",
      "bert.embeddings.LayerNorm.bias False\n",
      "bert.encoder.layer.0.attention.self.query.weight False\n",
      "bert.encoder.layer.0.attention.self.query.bias False\n",
      "bert.encoder.layer.0.attention.self.key.weight False\n",
      "bert.encoder.layer.0.attention.self.key.bias False\n",
      "bert.encoder.layer.0.attention.self.value.weight False\n",
      "bert.encoder.layer.0.attention.self.value.bias False\n",
      "bert.encoder.layer.0.attention.output.dense.weight False\n",
      "bert.encoder.layer.0.attention.output.dense.bias False\n",
      "bert.encoder.layer.0.attention.output.LayerNorm.weight False\n",
      "bert.encoder.layer.0.attention.output.LayerNorm.bias False\n",
      "bert.encoder.layer.0.intermediate.dense.weight False\n",
      "bert.encoder.layer.0.intermediate.dense.bias False\n",
      "bert.encoder.layer.0.output.dense.weight False\n",
      "bert.encoder.layer.0.output.dense.bias False\n",
      "bert.encoder.layer.0.output.LayerNorm.weight False\n",
      "bert.encoder.layer.0.output.LayerNorm.bias False\n",
      "bert.encoder.layer.1.attention.self.query.weight False\n",
      "bert.encoder.layer.1.attention.self.query.bias False\n",
      "bert.encoder.layer.1.attention.self.key.weight False\n",
      "bert.encoder.layer.1.attention.self.key.bias False\n",
      "bert.encoder.layer.1.attention.self.value.weight False\n",
      "bert.encoder.layer.1.attention.self.value.bias False\n",
      "bert.encoder.layer.1.attention.output.dense.weight False\n",
      "bert.encoder.layer.1.attention.output.dense.bias False\n",
      "bert.encoder.layer.1.attention.output.LayerNorm.weight False\n",
      "bert.encoder.layer.1.attention.output.LayerNorm.bias False\n",
      "bert.encoder.layer.1.intermediate.dense.weight False\n",
      "bert.encoder.layer.1.intermediate.dense.bias False\n",
      "bert.encoder.layer.1.output.dense.weight False\n",
      "bert.encoder.layer.1.output.dense.bias False\n",
      "bert.encoder.layer.1.output.LayerNorm.weight False\n",
      "bert.encoder.layer.1.output.LayerNorm.bias False\n",
      "bert.encoder.layer.2.attention.self.query.weight False\n",
      "bert.encoder.layer.2.attention.self.query.bias False\n",
      "bert.encoder.layer.2.attention.self.key.weight False\n",
      "bert.encoder.layer.2.attention.self.key.bias False\n",
      "bert.encoder.layer.2.attention.self.value.weight False\n",
      "bert.encoder.layer.2.attention.self.value.bias False\n",
      "bert.encoder.layer.2.attention.output.dense.weight False\n",
      "bert.encoder.layer.2.attention.output.dense.bias False\n",
      "bert.encoder.layer.2.attention.output.LayerNorm.weight False\n",
      "bert.encoder.layer.2.attention.output.LayerNorm.bias False\n",
      "bert.encoder.layer.2.intermediate.dense.weight False\n",
      "bert.encoder.layer.2.intermediate.dense.bias False\n",
      "bert.encoder.layer.2.output.dense.weight False\n",
      "bert.encoder.layer.2.output.dense.bias False\n",
      "bert.encoder.layer.2.output.LayerNorm.weight False\n",
      "bert.encoder.layer.2.output.LayerNorm.bias False\n",
      "bert.encoder.layer.3.attention.self.query.weight False\n",
      "bert.encoder.layer.3.attention.self.query.bias False\n",
      "bert.encoder.layer.3.attention.self.key.weight False\n",
      "bert.encoder.layer.3.attention.self.key.bias False\n",
      "bert.encoder.layer.3.attention.self.value.weight False\n",
      "bert.encoder.layer.3.attention.self.value.bias False\n",
      "bert.encoder.layer.3.attention.output.dense.weight False\n",
      "bert.encoder.layer.3.attention.output.dense.bias False\n",
      "bert.encoder.layer.3.attention.output.LayerNorm.weight False\n",
      "bert.encoder.layer.3.attention.output.LayerNorm.bias False\n",
      "bert.encoder.layer.3.intermediate.dense.weight False\n",
      "bert.encoder.layer.3.intermediate.dense.bias False\n",
      "bert.encoder.layer.3.output.dense.weight False\n",
      "bert.encoder.layer.3.output.dense.bias False\n",
      "bert.encoder.layer.3.output.LayerNorm.weight False\n",
      "bert.encoder.layer.3.output.LayerNorm.bias False\n",
      "bert.encoder.layer.4.attention.self.query.weight False\n",
      "bert.encoder.layer.4.attention.self.query.bias False\n",
      "bert.encoder.layer.4.attention.self.key.weight False\n",
      "bert.encoder.layer.4.attention.self.key.bias False\n",
      "bert.encoder.layer.4.attention.self.value.weight False\n",
      "bert.encoder.layer.4.attention.self.value.bias False\n",
      "bert.encoder.layer.4.attention.output.dense.weight False\n",
      "bert.encoder.layer.4.attention.output.dense.bias False\n",
      "bert.encoder.layer.4.attention.output.LayerNorm.weight False\n",
      "bert.encoder.layer.4.attention.output.LayerNorm.bias False\n",
      "bert.encoder.layer.4.intermediate.dense.weight False\n",
      "bert.encoder.layer.4.intermediate.dense.bias False\n",
      "bert.encoder.layer.4.output.dense.weight False\n",
      "bert.encoder.layer.4.output.dense.bias False\n",
      "bert.encoder.layer.4.output.LayerNorm.weight False\n",
      "bert.encoder.layer.4.output.LayerNorm.bias False\n",
      "bert.encoder.layer.5.attention.self.query.weight False\n",
      "bert.encoder.layer.5.attention.self.query.bias False\n",
      "bert.encoder.layer.5.attention.self.key.weight False\n",
      "bert.encoder.layer.5.attention.self.key.bias False\n",
      "bert.encoder.layer.5.attention.self.value.weight False\n",
      "bert.encoder.layer.5.attention.self.value.bias False\n",
      "bert.encoder.layer.5.attention.output.dense.weight False\n",
      "bert.encoder.layer.5.attention.output.dense.bias False\n",
      "bert.encoder.layer.5.attention.output.LayerNorm.weight False\n",
      "bert.encoder.layer.5.attention.output.LayerNorm.bias False\n",
      "bert.encoder.layer.5.intermediate.dense.weight False\n",
      "bert.encoder.layer.5.intermediate.dense.bias False\n",
      "bert.encoder.layer.5.output.dense.weight False\n",
      "bert.encoder.layer.5.output.dense.bias False\n",
      "bert.encoder.layer.5.output.LayerNorm.weight False\n",
      "bert.encoder.layer.5.output.LayerNorm.bias False\n",
      "bert.encoder.layer.6.attention.self.query.weight False\n",
      "bert.encoder.layer.6.attention.self.query.bias False\n",
      "bert.encoder.layer.6.attention.self.key.weight False\n",
      "bert.encoder.layer.6.attention.self.key.bias False\n",
      "bert.encoder.layer.6.attention.self.value.weight False\n",
      "bert.encoder.layer.6.attention.self.value.bias False\n",
      "bert.encoder.layer.6.attention.output.dense.weight False\n",
      "bert.encoder.layer.6.attention.output.dense.bias False\n",
      "bert.encoder.layer.6.attention.output.LayerNorm.weight False\n",
      "bert.encoder.layer.6.attention.output.LayerNorm.bias False\n",
      "bert.encoder.layer.6.intermediate.dense.weight False\n",
      "bert.encoder.layer.6.intermediate.dense.bias False\n",
      "bert.encoder.layer.6.output.dense.weight False\n",
      "bert.encoder.layer.6.output.dense.bias False\n",
      "bert.encoder.layer.6.output.LayerNorm.weight False\n",
      "bert.encoder.layer.6.output.LayerNorm.bias False\n",
      "bert.encoder.layer.7.attention.self.query.weight False\n",
      "bert.encoder.layer.7.attention.self.query.bias False\n",
      "bert.encoder.layer.7.attention.self.key.weight False\n",
      "bert.encoder.layer.7.attention.self.key.bias False\n",
      "bert.encoder.layer.7.attention.self.value.weight False\n",
      "bert.encoder.layer.7.attention.self.value.bias False\n",
      "bert.encoder.layer.7.attention.output.dense.weight False\n",
      "bert.encoder.layer.7.attention.output.dense.bias False\n",
      "bert.encoder.layer.7.attention.output.LayerNorm.weight False\n",
      "bert.encoder.layer.7.attention.output.LayerNorm.bias False\n",
      "bert.encoder.layer.7.intermediate.dense.weight False\n",
      "bert.encoder.layer.7.intermediate.dense.bias False\n",
      "bert.encoder.layer.7.output.dense.weight False\n",
      "bert.encoder.layer.7.output.dense.bias False\n",
      "bert.encoder.layer.7.output.LayerNorm.weight False\n",
      "bert.encoder.layer.7.output.LayerNorm.bias False\n",
      "bert.encoder.layer.8.attention.self.query.weight False\n",
      "bert.encoder.layer.8.attention.self.query.bias False\n",
      "bert.encoder.layer.8.attention.self.key.weight False\n",
      "bert.encoder.layer.8.attention.self.key.bias False\n",
      "bert.encoder.layer.8.attention.self.value.weight False\n",
      "bert.encoder.layer.8.attention.self.value.bias False\n",
      "bert.encoder.layer.8.attention.output.dense.weight False\n",
      "bert.encoder.layer.8.attention.output.dense.bias False\n",
      "bert.encoder.layer.8.attention.output.LayerNorm.weight False\n",
      "bert.encoder.layer.8.attention.output.LayerNorm.bias False\n",
      "bert.encoder.layer.8.intermediate.dense.weight False\n",
      "bert.encoder.layer.8.intermediate.dense.bias False\n",
      "bert.encoder.layer.8.output.dense.weight False\n",
      "bert.encoder.layer.8.output.dense.bias False\n",
      "bert.encoder.layer.8.output.LayerNorm.weight False\n",
      "bert.encoder.layer.8.output.LayerNorm.bias False\n",
      "bert.encoder.layer.9.attention.self.query.weight False\n",
      "bert.encoder.layer.9.attention.self.query.bias False\n",
      "bert.encoder.layer.9.attention.self.key.weight False\n",
      "bert.encoder.layer.9.attention.self.key.bias False\n",
      "bert.encoder.layer.9.attention.self.value.weight False\n",
      "bert.encoder.layer.9.attention.self.value.bias False\n",
      "bert.encoder.layer.9.attention.output.dense.weight False\n",
      "bert.encoder.layer.9.attention.output.dense.bias False\n",
      "bert.encoder.layer.9.attention.output.LayerNorm.weight False\n",
      "bert.encoder.layer.9.attention.output.LayerNorm.bias False\n",
      "bert.encoder.layer.9.intermediate.dense.weight False\n",
      "bert.encoder.layer.9.intermediate.dense.bias False\n",
      "bert.encoder.layer.9.output.dense.weight False\n",
      "bert.encoder.layer.9.output.dense.bias False\n",
      "bert.encoder.layer.9.output.LayerNorm.weight False\n",
      "bert.encoder.layer.9.output.LayerNorm.bias False\n",
      "bert.encoder.layer.10.attention.self.query.weight False\n",
      "bert.encoder.layer.10.attention.self.query.bias False\n",
      "bert.encoder.layer.10.attention.self.key.weight False\n",
      "bert.encoder.layer.10.attention.self.key.bias False\n",
      "bert.encoder.layer.10.attention.self.value.weight False\n",
      "bert.encoder.layer.10.attention.self.value.bias False\n",
      "bert.encoder.layer.10.attention.output.dense.weight False\n",
      "bert.encoder.layer.10.attention.output.dense.bias False\n",
      "bert.encoder.layer.10.attention.output.LayerNorm.weight False\n",
      "bert.encoder.layer.10.attention.output.LayerNorm.bias False\n",
      "bert.encoder.layer.10.intermediate.dense.weight False\n",
      "bert.encoder.layer.10.intermediate.dense.bias False\n",
      "bert.encoder.layer.10.output.dense.weight False\n",
      "bert.encoder.layer.10.output.dense.bias False\n",
      "bert.encoder.layer.10.output.LayerNorm.weight False\n",
      "bert.encoder.layer.10.output.LayerNorm.bias False\n",
      "bert.encoder.layer.11.attention.self.query.weight False\n",
      "bert.encoder.layer.11.attention.self.query.bias False\n",
      "bert.encoder.layer.11.attention.self.key.weight False\n",
      "bert.encoder.layer.11.attention.self.key.bias False\n",
      "bert.encoder.layer.11.attention.self.value.weight False\n",
      "bert.encoder.layer.11.attention.self.value.bias False\n",
      "bert.encoder.layer.11.attention.output.dense.weight False\n",
      "bert.encoder.layer.11.attention.output.dense.bias False\n",
      "bert.encoder.layer.11.attention.output.LayerNorm.weight False\n",
      "bert.encoder.layer.11.attention.output.LayerNorm.bias False\n",
      "bert.encoder.layer.11.intermediate.dense.weight False\n",
      "bert.encoder.layer.11.intermediate.dense.bias False\n",
      "bert.encoder.layer.11.output.dense.weight False\n",
      "bert.encoder.layer.11.output.dense.bias False\n",
      "bert.encoder.layer.11.output.LayerNorm.weight False\n",
      "bert.encoder.layer.11.output.LayerNorm.bias False\n",
      "bert.pooler.dense.weight True\n",
      "bert.pooler.dense.bias True\n",
      "classifier.weight True\n",
      "classifier.bias True\n"
     ]
    }
   ],
   "source": [
    "# print layers\n",
    "for name, param in model.named_parameters():\n",
    "   print(name, param.requires_grad)"
   ]
  },
  {
   "cell_type": "markdown",
   "id": "5d2e421a",
   "metadata": {},
   "source": [
    "#### 3. Training Helpers"
   ]
  },
  {
   "cell_type": "markdown",
   "id": "66acee3d-9f7c-4d4d-add9-b4e6d3b52f94",
   "metadata": {},
   "source": [
    "<b>3.1 Preprocess Text Data</b>"
   ]
  },
  {
   "cell_type": "code",
   "execution_count": 26,
   "id": "cf0dc1e1",
   "metadata": {},
   "outputs": [],
   "source": [
    "# define text preprocessing\n",
    "def preprocess_function(examples):\n",
    "    return tokenizer(examples[\"description\"], truncation=True)"
   ]
  },
  {
   "cell_type": "code",
   "execution_count": 27,
   "id": "b42616c7",
   "metadata": {},
   "outputs": [
    {
     "data": {
      "application/vnd.jupyter.widget-view+json": {
       "model_id": "3383f04c3707431cadc36da39d56e942",
       "version_major": 2,
       "version_minor": 0
      },
      "text/plain": [
       "Map:   0%|          | 0/40 [00:00<?, ? examples/s]"
      ]
     },
     "metadata": {},
     "output_type": "display_data"
    },
    {
     "data": {
      "application/vnd.jupyter.widget-view+json": {
       "model_id": "2b9f8477dc8e493eaf29c9c5689491ca",
       "version_major": 2,
       "version_minor": 0
      },
      "text/plain": [
       "Map:   0%|          | 0/10 [00:00<?, ? examples/s]"
      ]
     },
     "metadata": {},
     "output_type": "display_data"
    },
    {
     "data": {
      "application/vnd.jupyter.widget-view+json": {
       "model_id": "61593a6985ca4cccb647e6186d875a77",
       "version_major": 2,
       "version_minor": 0
      },
      "text/plain": [
       "Map:   0%|          | 0/10 [00:00<?, ? examples/s]"
      ]
     },
     "metadata": {},
     "output_type": "display_data"
    }
   ],
   "source": [
    "# tokenize all datasetse\n",
    "tokenized_data = support_tickets_splits.map(preprocess_function, batched=True)"
   ]
  },
  {
   "cell_type": "code",
   "execution_count": 28,
   "id": "04a04a18",
   "metadata": {},
   "outputs": [],
   "source": [
    "# create data collator\n",
    "data_collator = DataCollatorWithPadding(tokenizer=tokenizer)"
   ]
  },
  {
   "cell_type": "markdown",
   "id": "7e2ce8c7",
   "metadata": {},
   "source": [
    "<b>3.2 Evaluation metrics</b>"
   ]
  },
  {
   "cell_type": "code",
   "execution_count": 29,
   "id": "16b12c6d",
   "metadata": {},
   "outputs": [],
   "source": [
    "# load metrics\n",
    "accuracy = evaluate.load(\"accuracy\")\n",
    "#auc_score = evaluate.load(\"roc_auc\")\n",
    "\n",
    "def compute_softmax(preds):\n",
    "    max_val = preds.max()\n",
    "    pred_exp = np.exp(preds-max_val)\n",
    "    probs = pred_exp/pred_exp.sum(-1, keepdims=True)\n",
    "    return probs \n",
    "\n",
    "\n",
    "def compute_metrics(eval_pred):\n",
    "    # get predictions\n",
    "    predictions, labels = eval_pred\n",
    "    \n",
    "    # apply softmax to get probabilities\n",
    "    probabilities = compute_softmax(predictions)\n",
    "    # use probabilities of the positive class for ROC AUC\n",
    "    positive_class_probs = probabilities[:, 1]\n",
    "    # compute auc\n",
    "    #auc = float(round(auc_score.compute(prediction_scores=positive_class_probs, references=labels)['roc_auc'],3))\n",
    "    \n",
    "    # predict most probable class\n",
    "    predicted_classes = np.argmax(predictions, axis=1)\n",
    "    # compute accuracy\n",
    "    acc = float(round(accuracy.compute(predictions=predicted_classes, references=labels)['accuracy'],3))\n",
    "    \n",
    "    return {\"Accuracy\": acc}#, \"AUC\": auc}"
   ]
  },
  {
   "cell_type": "markdown",
   "id": "68613386",
   "metadata": {},
   "source": [
    "#### 4. Train model"
   ]
  },
  {
   "cell_type": "markdown",
   "id": "00032f77-a1d7-44b7-94ae-8cfb47970669",
   "metadata": {},
   "source": [
    "<b>4.1 Set Training Arguments</b>"
   ]
  },
  {
   "cell_type": "code",
   "execution_count": 30,
   "id": "579f1230",
   "metadata": {},
   "outputs": [],
   "source": [
    "# hyperparameters\n",
    "lr = 2e-4\n",
    "batch_size = 8\n",
    "num_epochs = 10\n",
    "\n",
    "training_args = TrainingArguments(\n",
    "    output_dir=\"bert_ticket_classifier\",\n",
    "    learning_rate=lr,\n",
    "    per_device_train_batch_size=batch_size,\n",
    "    per_device_eval_batch_size=batch_size,\n",
    "    num_train_epochs=num_epochs,\n",
    "    logging_strategy=\"epoch\",\n",
    "    eval_strategy=\"epoch\",\n",
    "    save_strategy=\"epoch\",\n",
    "    load_best_model_at_end=True,\n",
    ")"
   ]
  },
  {
   "cell_type": "markdown",
   "id": "0c4482e9-ebaf-4bd4-8e36-31ad6820b593",
   "metadata": {},
   "source": [
    "<b>4.2 Define Trainer Module</b>"
   ]
  },
  {
   "cell_type": "code",
   "execution_count": 31,
   "id": "2b8e24f5-d794-46b0-8b42-66e3049741e8",
   "metadata": {},
   "outputs": [
    {
     "name": "stderr",
     "output_type": "stream",
     "text": [
      "C:\\Users\\18623\\AppData\\Local\\Temp\\ipykernel_32212\\3503528392.py:1: FutureWarning: `tokenizer` is deprecated and will be removed in version 5.0.0 for `Trainer.__init__`. Use `processing_class` instead.\n",
      "  trainer = Trainer(\n"
     ]
    }
   ],
   "source": [
    "trainer = Trainer(\n",
    "    model=model,\n",
    "    args=training_args,\n",
    "    train_dataset=tokenized_data[\"train\"],\n",
    "    eval_dataset=tokenized_data[\"test\"],\n",
    "    tokenizer=tokenizer,\n",
    "    data_collator=data_collator,\n",
    "    compute_metrics=compute_metrics,\n",
    ")"
   ]
  },
  {
   "cell_type": "markdown",
   "id": "a105c6da-e0e9-42f0-912b-f623296c5148",
   "metadata": {},
   "source": [
    "<b>4.3 Fine-tune BERT Model</b>"
   ]
  },
  {
   "cell_type": "code",
   "execution_count": 32,
   "id": "e4cd1d59-ea44-4f6d-8825-d1c890714bef",
   "metadata": {},
   "outputs": [
    {
     "name": "stderr",
     "output_type": "stream",
     "text": [
      "C:\\Users\\18623\\anaconda3\\envs\\transformers\\lib\\site-packages\\transformers\\models\\bert\\modeling_bert.py:440: UserWarning: 1Torch was not compiled with flash attention. (Triggered internally at C:\\actions-runner\\_work\\pytorch\\pytorch\\builder\\windows\\pytorch\\aten\\src\\ATen\\native\\transformers\\cuda\\sdp_utils.cpp:455.)\n",
      "  attn_output = torch.nn.functional.scaled_dot_product_attention(\n"
     ]
    },
    {
     "name": "stdout",
     "output_type": "stream",
     "text": [
      "{'loss': 1.0973, 'grad_norm': 3.6304123401641846, 'learning_rate': 0.00018, 'epoch': 1.0}\n",
      "{'eval_loss': 1.0796819925308228, 'eval_Accuracy': 0.3, 'eval_runtime': 0.0245, 'eval_samples_per_second': 408.618, 'eval_steps_per_second': 81.724, 'epoch': 1.0}\n",
      "{'loss': 1.0282, 'grad_norm': 9.829153060913086, 'learning_rate': 0.00016, 'epoch': 2.0}\n",
      "{'eval_loss': 1.163307785987854, 'eval_Accuracy': 0.2, 'eval_runtime': 1.036, 'eval_samples_per_second': 9.652, 'eval_steps_per_second': 1.93, 'epoch': 2.0}\n",
      "{'loss': 0.9322, 'grad_norm': 4.931828022003174, 'learning_rate': 0.00014, 'epoch': 3.0}\n",
      "{'eval_loss': 1.0480681657791138, 'eval_Accuracy': 0.2, 'eval_runtime': 1.0413, 'eval_samples_per_second': 9.604, 'eval_steps_per_second': 1.921, 'epoch': 3.0}\n",
      "{'loss': 0.9162, 'grad_norm': 7.593883991241455, 'learning_rate': 0.00012, 'epoch': 4.0}\n",
      "{'eval_loss': 0.95982825756073, 'eval_Accuracy': 0.4, 'eval_runtime': 0.0665, 'eval_samples_per_second': 150.294, 'eval_steps_per_second': 30.059, 'epoch': 4.0}\n",
      "{'loss': 0.8149, 'grad_norm': 3.943437337875366, 'learning_rate': 0.0001, 'epoch': 5.0}\n",
      "{'eval_loss': 0.8852310180664062, 'eval_Accuracy': 0.5, 'eval_runtime': 0.0348, 'eval_samples_per_second': 287.13, 'eval_steps_per_second': 57.426, 'epoch': 5.0}\n",
      "{'loss': 0.7575, 'grad_norm': 6.144567966461182, 'learning_rate': 8e-05, 'epoch': 6.0}\n",
      "{'eval_loss': 0.8261047601699829, 'eval_Accuracy': 0.7, 'eval_runtime': 0.4481, 'eval_samples_per_second': 22.317, 'eval_steps_per_second': 4.463, 'epoch': 6.0}\n",
      "{'loss': 0.7442, 'grad_norm': 4.414915084838867, 'learning_rate': 6e-05, 'epoch': 7.0}\n",
      "{'eval_loss': 0.7992247343063354, 'eval_Accuracy': 0.8, 'eval_runtime': 0.0614, 'eval_samples_per_second': 162.979, 'eval_steps_per_second': 32.596, 'epoch': 7.0}\n",
      "{'loss': 0.6678, 'grad_norm': 4.420774459838867, 'learning_rate': 4e-05, 'epoch': 8.0}\n",
      "{'eval_loss': 0.7874425649642944, 'eval_Accuracy': 0.7, 'eval_runtime': 0.0252, 'eval_samples_per_second': 396.13, 'eval_steps_per_second': 79.226, 'epoch': 8.0}\n",
      "{'loss': 0.6813, 'grad_norm': 7.156620502471924, 'learning_rate': 2e-05, 'epoch': 9.0}\n",
      "{'eval_loss': 0.7939541935920715, 'eval_Accuracy': 0.7, 'eval_runtime': 0.0258, 'eval_samples_per_second': 387.465, 'eval_steps_per_second': 77.493, 'epoch': 9.0}\n",
      "{'loss': 0.7039, 'grad_norm': 3.613740921020508, 'learning_rate': 0.0, 'epoch': 10.0}\n",
      "{'eval_loss': 0.7939711809158325, 'eval_Accuracy': 0.7, 'eval_runtime': 0.032, 'eval_samples_per_second': 312.567, 'eval_steps_per_second': 62.513, 'epoch': 10.0}\n",
      "{'train_runtime': 24.5539, 'train_samples_per_second': 16.291, 'train_steps_per_second': 2.036, 'train_loss': 0.8343485164642334, 'epoch': 10.0}\n"
     ]
    },
    {
     "data": {
      "text/plain": [
       "TrainOutput(global_step=50, training_loss=0.8343485164642334, metrics={'train_runtime': 24.5539, 'train_samples_per_second': 16.291, 'train_steps_per_second': 2.036, 'train_loss': 0.8343485164642334, 'epoch': 10.0})"
      ]
     },
     "execution_count": 32,
     "metadata": {},
     "output_type": "execute_result"
    }
   ],
   "source": [
    "trainer.train()"
   ]
  },
  {
   "cell_type": "markdown",
   "id": "36865773-e6e2-4434-ad1d-4e8d42d2f7cd",
   "metadata": {},
   "source": [
    "<b>4.4 Extract Training History</b>"
   ]
  },
  {
   "cell_type": "code",
   "execution_count": 33,
   "id": "ae41fcb7-9c9b-426b-b488-2f626c3d5b4d",
   "metadata": {},
   "outputs": [
    {
     "data": {
      "text/plain": [
       "{'loss': 0.7039,\n",
       " 'grad_norm': 3.613740921020508,\n",
       " 'learning_rate': 0.0,\n",
       " 'epoch': 10.0,\n",
       " 'step': 50}"
      ]
     },
     "execution_count": 33,
     "metadata": {},
     "output_type": "execute_result"
    }
   ],
   "source": [
    "trainer.state.log_history[18]"
   ]
  },
  {
   "cell_type": "code",
   "execution_count": 34,
   "id": "6e7711fa-4b9c-48b7-bb22-14202ea9fecc",
   "metadata": {},
   "outputs": [
    {
     "data": {
      "text/plain": [
       "{'eval_loss': 0.7939711809158325,\n",
       " 'eval_Accuracy': 0.7,\n",
       " 'eval_runtime': 0.032,\n",
       " 'eval_samples_per_second': 312.567,\n",
       " 'eval_steps_per_second': 62.513,\n",
       " 'epoch': 10.0,\n",
       " 'step': 50}"
      ]
     },
     "execution_count": 34,
     "metadata": {},
     "output_type": "execute_result"
    }
   ],
   "source": [
    "trainer.state.log_history[19]"
   ]
  },
  {
   "cell_type": "code",
   "execution_count": 35,
   "id": "5e02a72a-895c-4d1d-b05d-66c31b847e1d",
   "metadata": {},
   "outputs": [
    {
     "data": {
      "text/plain": [
       "{'train_runtime': 24.5539,\n",
       " 'train_samples_per_second': 16.291,\n",
       " 'train_steps_per_second': 2.036,\n",
       " 'total_flos': 3173805601344.0,\n",
       " 'train_loss': 0.8343485164642334,\n",
       " 'epoch': 10.0,\n",
       " 'step': 50}"
      ]
     },
     "execution_count": 35,
     "metadata": {},
     "output_type": "execute_result"
    }
   ],
   "source": [
    "trainer.state.log_history[20]"
   ]
  },
  {
   "cell_type": "code",
   "execution_count": 36,
   "id": "98301720-7d0d-4674-9ca7-331cc986114f",
   "metadata": {},
   "outputs": [
    {
     "data": {
      "text/plain": [
       "(20, 21)"
      ]
     },
     "execution_count": 36,
     "metadata": {},
     "output_type": "execute_result"
    }
   ],
   "source": [
    "len(trainer.state.log_history[:-1]),len(trainer.state.log_history)"
   ]
  },
  {
   "cell_type": "code",
   "execution_count": 37,
   "id": "ca8ac094-ecdb-4fd3-a904-59c3fb785290",
   "metadata": {},
   "outputs": [],
   "source": [
    "learning_history = trainer.state.log_history[:-1]"
   ]
  },
  {
   "cell_type": "code",
   "execution_count": 38,
   "id": "14870d6b-3f1e-4b1e-9d22-37e1177c5aba",
   "metadata": {},
   "outputs": [],
   "source": [
    "hist_dict = {\n",
    "'train_loss': [],\n",
    "'valid_loss': [],\n",
    "'valid_acc': []\n",
    "}\n",
    "\n",
    "for item in learning_history:\n",
    "    if 'loss' in item:\n",
    "        hist_dict['train_loss'].append(item['loss'])\n",
    "        continue\n",
    "        \n",
    "    if 'eval_loss' in item:\n",
    "        hist_dict['valid_loss'].append(item['eval_loss'])\n",
    "        hist_dict['valid_acc'].append(item['eval_Accuracy'])"
   ]
  },
  {
   "cell_type": "code",
   "execution_count": 39,
   "id": "996060fa-06e1-4f2d-86c6-bd1772deb091",
   "metadata": {},
   "outputs": [
    {
     "name": "stdout",
     "output_type": "stream",
     "text": [
      "train_loss [1.0973, 1.0282, 0.9322, 0.9162, 0.8149, 0.7575, 0.7442, 0.6678, 0.6813, 0.7039]\n",
      "valid_loss [1.0796819925308228, 1.163307785987854, 1.0480681657791138, 0.95982825756073, 0.8852310180664062, 0.8261047601699829, 0.7992247343063354, 0.7874425649642944, 0.7939541935920715, 0.7939711809158325]\n",
      "valid_acc [0.3, 0.2, 0.2, 0.4, 0.5, 0.7, 0.8, 0.7, 0.7, 0.7]\n"
     ]
    }
   ],
   "source": [
    "for key in  hist_dict:\n",
    "    print(key,hist_dict[key])"
   ]
  },
  {
   "cell_type": "code",
   "execution_count": 40,
   "id": "f16f8a62-208d-4860-8e21-136b8965b62e",
   "metadata": {},
   "outputs": [
    {
     "data": {
      "text/plain": [
       "Text(0.5, 0, 'Epochs')"
      ]
     },
     "execution_count": 40,
     "metadata": {},
     "output_type": "execute_result"
    },
    {
     "data": {
      "image/png": "[encoded data removed]",
      "text/plain": [
       "<Figure size 640x480 with 2 Axes>"
      ]
     },
     "metadata": {},
     "output_type": "display_data"
    }
   ],
   "source": [
    "plt.subplot(1,2,1)\n",
    "for key in  list(hist_dict.keys())[:-1]:\n",
    "    plt.plot(hist_dict[key])\n",
    "plt.legend(list(hist_dict.keys())[:-1])\n",
    "plt.title('Train vs. Validation Loss')\n",
    "plt.xlabel('Epochs')\n",
    "\n",
    "plt.subplot(1,2,2)\n",
    "for key in  [list(hist_dict.keys())[-1]]:\n",
    "    plt.plot(hist_dict[key])\n",
    "plt.legend([list(hist_dict.keys())[-1]])\n",
    "plt.title('Validation Acc')\n",
    "plt.xlabel('Epochs')"
   ]
  },
  {
   "cell_type": "markdown",
   "id": "cf6b12cc",
   "metadata": {},
   "source": [
    "<b> 4.5 Apply Model to Validation Dataset</b>"
   ]
  },
  {
   "cell_type": "code",
   "execution_count": 46,
   "id": "ba1f2710",
   "metadata": {},
   "outputs": [
    {
     "name": "stdout",
     "output_type": "stream",
     "text": [
      "Accuracy 0.3\n"
     ]
    }
   ],
   "source": [
    "# apply model to validation dataset\n",
    "predictions = trainer.predict(tokenized_data[\"valid\"])\n",
    "\n",
    "# Extract the logits and labels from the predictions object\n",
    "logits = predictions.predictions\n",
    "labels = predictions.label_ids\n",
    "\n",
    "# Use your compute_metrics function\n",
    "#metrics = compute_metrics((logits, labels))\n",
    "#print(metrics)\n",
    "true_count = 0\n",
    "for pred_l,actu_l in zip(labels,support_tickets_splits['test']['label']): \n",
    "    if pred_l == actu_l:\n",
    "        true_count += 1\n",
    "print(f'Accuracy {true_count/len(labels)}')"
   ]
  },
  {
   "cell_type": "code",
   "execution_count": 47,
   "id": "0d02c7ab-744b-4848-8111-b7e916ba64c4",
   "metadata": {},
   "outputs": [
    {
     "data": {
      "text/plain": [
       "array([1, 2, 1, 2, 1, 1, 0, 0, 2, 1], dtype=int64)"
      ]
     },
     "execution_count": 47,
     "metadata": {},
     "output_type": "execute_result"
    }
   ],
   "source": [
    "labels"
   ]
  },
  {
   "cell_type": "code",
   "execution_count": 48,
   "id": "0465f670-327f-48c4-b64b-0d50bd650684",
   "metadata": {},
   "outputs": [
    {
     "data": {
      "text/plain": [
       "[2, 2, 1, 1, 2, 2, 0, 1, 0, 2]"
      ]
     },
     "execution_count": 48,
     "metadata": {},
     "output_type": "execute_result"
    }
   ],
   "source": [
    "support_tickets_splits['test']['label']"
   ]
  },
  {
   "cell_type": "code",
   "execution_count": 49,
   "id": "ff36f052-6ad2-48bf-8b1a-36597eaab1c0",
   "metadata": {},
   "outputs": [
    {
     "data": {
      "image/png": "[encoded data removed]",
      "text/plain": [
       "<Figure size 800x500 with 2 Axes>"
      ]
     },
     "metadata": {},
     "output_type": "display_data"
    }
   ],
   "source": [
    "from sklearn.metrics import confusion_matrix\n",
    "from sklearn.metrics import classification_report\n",
    "import seaborn as sns\n",
    "\n",
    "font_size = 12\n",
    "label_class = ['access','disk','user']\n",
    "cl_rep = classification_report(support_tickets_splits['test']['label'],\n",
    "                               labels,\n",
    "                               target_names=label_class,\n",
    "                               output_dict=True\n",
    "                            )\n",
    "\n",
    "cm = confusion_matrix(support_tickets_splits['test']['label'],\n",
    "                      labels)\n",
    "\n",
    "plt.figure(figsize = (8, 5))\n",
    "sns.heatmap(cm,\n",
    "            xticklabels=label_class,\n",
    "            yticklabels=label_class,\n",
    "            annot = True,  fmt = '.0f',\n",
    "            annot_kws={'size': font_size})\n",
    "plt.ylabel('Actual')\n",
    "plt.xlabel('Predicted')\n",
    "plt.show()"
   ]
  },
  {
   "cell_type": "code",
   "execution_count": 50,
   "id": "f1832793-145e-4784-8316-ece75174b197",
   "metadata": {},
   "outputs": [
    {
     "data": {
      "text/html": [
       "<div>\n",
       "<style scoped>\n",
       "    .dataframe tbody tr th:only-of-type {\n",
       "        vertical-align: middle;\n",
       "    }\n",
       "\n",
       "    .dataframe tbody tr th {\n",
       "        vertical-align: top;\n",
       "    }\n",
       "\n",
       "    .dataframe thead th {\n",
       "        text-align: right;\n",
       "    }\n",
       "</style>\n",
       "<table border=\"1\" class=\"dataframe\">\n",
       "  <thead>\n",
       "    <tr style=\"text-align: right;\">\n",
       "      <th></th>\n",
       "      <th>access</th>\n",
       "      <th>disk</th>\n",
       "      <th>user</th>\n",
       "      <th>accuracy</th>\n",
       "      <th>macro avg</th>\n",
       "      <th>weighted avg</th>\n",
       "    </tr>\n",
       "  </thead>\n",
       "  <tbody>\n",
       "    <tr>\n",
       "      <th>precision</th>\n",
       "      <td>0.5</td>\n",
       "      <td>0.200000</td>\n",
       "      <td>0.333333</td>\n",
       "      <td>0.3</td>\n",
       "      <td>0.344444</td>\n",
       "      <td>0.326667</td>\n",
       "    </tr>\n",
       "    <tr>\n",
       "      <th>recall</th>\n",
       "      <td>0.5</td>\n",
       "      <td>0.333333</td>\n",
       "      <td>0.200000</td>\n",
       "      <td>0.3</td>\n",
       "      <td>0.344444</td>\n",
       "      <td>0.300000</td>\n",
       "    </tr>\n",
       "    <tr>\n",
       "      <th>f1-score</th>\n",
       "      <td>0.5</td>\n",
       "      <td>0.250000</td>\n",
       "      <td>0.250000</td>\n",
       "      <td>0.3</td>\n",
       "      <td>0.333333</td>\n",
       "      <td>0.300000</td>\n",
       "    </tr>\n",
       "    <tr>\n",
       "      <th>support</th>\n",
       "      <td>2.0</td>\n",
       "      <td>3.000000</td>\n",
       "      <td>5.000000</td>\n",
       "      <td>0.3</td>\n",
       "      <td>10.000000</td>\n",
       "      <td>10.000000</td>\n",
       "    </tr>\n",
       "  </tbody>\n",
       "</table>\n",
       "</div>"
      ],
      "text/plain": [
       "           access      disk      user  accuracy  macro avg  weighted avg\n",
       "precision     0.5  0.200000  0.333333       0.3   0.344444      0.326667\n",
       "recall        0.5  0.333333  0.200000       0.3   0.344444      0.300000\n",
       "f1-score      0.5  0.250000  0.250000       0.3   0.333333      0.300000\n",
       "support       2.0  3.000000  5.000000       0.3  10.000000     10.000000"
      ]
     },
     "execution_count": 50,
     "metadata": {},
     "output_type": "execute_result"
    }
   ],
   "source": [
    "df = pd.DataFrame(cl_rep)\n",
    "df"
   ]
  },
  {
   "cell_type": "code",
   "execution_count": 51,
   "id": "eb89b178",
   "metadata": {},
   "outputs": [],
   "source": [
    "# # push model to hub\n",
    "# trainer.push_to_hub()"
   ]
  },
  {
   "cell_type": "code",
   "execution_count": null,
   "id": "9e405fcd-ff56-4b1a-9302-8ca398ea7a82",
   "metadata": {},
   "outputs": [],
   "source": []
  }
 ],
 "metadata": {
  "kernelspec": {
   "display_name": "Python 3 (ipykernel)",
   "language": "python",
   "name": "python3"
  },
  "language_info": {
   "codemirror_mode": {
    "name": "ipython",
    "version": 3
   },
   "file_extension": ".py",
   "mimetype": "text/x-python",
   "name": "python",
   "nbconvert_exporter": "python",
   "pygments_lexer": "ipython3",
   "version": "3.8.19"
  }
 },
 "nbformat": 4,
 "nbformat_minor": 5
}
