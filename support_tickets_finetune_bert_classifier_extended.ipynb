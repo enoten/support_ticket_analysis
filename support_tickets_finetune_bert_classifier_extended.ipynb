{
 "cells": [
  {
   "cell_type": "markdown",
   "id": "fc1bdc46-52bd-47e9-a034-9cc21846faac",
   "metadata": {},
   "source": [
    "<img src=\"fine_tune_LLMs.jpg\" width=\"70%\">"
   ]
  },
  {
   "cell_type": "markdown",
   "id": "367c7131-c3c1-414a-89f1-a337e2508aac",
   "metadata": {},
   "source": [
    "HREF to Video"
   ]
  },
  {
   "cell_type": "markdown",
   "id": "0d6285a9-3535-4b42-bddc-28e2ae7a26a4",
   "metadata": {},
   "source": [
    "# -1 Research Background"
   ]
  },
  {
   "cell_type": "markdown",
   "id": "8e405274-45b0-45b0-80a8-a59ad93aafaf",
   "metadata": {},
   "source": [
    "<fieldset>\n",
    "<legend>References</legend>\n",
    "1. Hinton, G. E., Osindero, S., & Teh, Y. W. (2006). <a href=\"https://www.cs.toronto.edu/~hinton/absps/fastnc.pdf\">A fast learning algorithm for deep belief nets.</a> <i>Neural computation</i>, 18(7), p. 1527-1554. <br>\n",
    "2. Larochelle, H., Bengio, Y., Louradour, J., & Lamblin, P. (2009). <a href=\"https://www.jmlr.org/papers/volume10/larochelle09a/larochelle09a.pdf\">Exploring strategies for training deep neural networks.</a> <i>Journal of machine learning research</i>, 10(1), p. 1-40.\n",
    "</fieldset>"
   ]
  },
  {
   "cell_type": "markdown",
   "id": "c1a623e1-006e-469a-8497-7911afcbe2fc",
   "metadata": {},
   "source": [
    "Snapshots from Larochelle et al. (2009) Exploring strategies for training deep neural networks."
   ]
  },
  {
   "cell_type": "markdown",
   "id": "da7b4059-934f-4aa2-b3e6-5ea1c4033343",
   "metadata": {},
   "source": [
    "<table style=\"border:1; border-color:red\">\n",
    "<th>\n",
    "<td width=60% align='left'><img src=\"yoshio_bengio_2009_snapshot_1.jpg\"></td>\n",
    "<td align='left'><img src=\"yoshio_bengio_2009_snapshot_2.jpg\" width=110%></td>\n",
    "</th>    \n",
    "</table>"
   ]
  },
  {
   "cell_type": "code",
   "execution_count": null,
   "id": "1f7a0912-dfcb-44cd-9e89-4099d0b36855",
   "metadata": {},
   "outputs": [],
   "source": []
  },
  {
   "cell_type": "markdown",
   "id": "0e9a8f8b-4e90-4a73-b696-25c9a430a0db",
   "metadata": {},
   "source": [
    "# 0. Training Multi-Layer Perceptrons (MLPs): Pre-training and Fine-Tuning"
   ]
  },
  {
   "cell_type": "markdown",
   "id": "b6732485-584c-47d1-9262-48b9dd328d14",
   "metadata": {},
   "source": [
    "<b>0.1 MLP Structure</b>"
   ]
  },
  {
   "cell_type": "markdown",
   "id": "6b06372c-d264-4ba5-9fd1-d2d04e75c3da",
   "metadata": {},
   "source": [
    "<img src=\"mlp.jpg\">"
   ]
  },
  {
   "cell_type": "markdown",
   "id": "161ee59e-c06c-4385-acc9-9579cc27d995",
   "metadata": {},
   "source": [
    "<b>0.2 MLP Functionals Components</b>"
   ]
  },
  {
   "cell_type": "markdown",
   "id": "7b598125-5212-4715-9736-3af0bda35ca3",
   "metadata": {},
   "source": [
    "<img src=\"mlp_functional_schema.jpg\" width=60%>"
   ]
  },
  {
   "cell_type": "markdown",
   "id": "f2b89ee9-62ad-4bfa-9cc4-097aa241b86b",
   "metadata": {},
   "source": [
    "<b>0.3 Restricted Boltzmann Machine (RMB)</b>"
   ]
  },
  {
   "cell_type": "markdown",
   "id": "2f53f375-ce4e-478e-bbb7-3820bfa12d34",
   "metadata": {},
   "source": [
    "<img src=\"rbm.jpg\">"
   ]
  },
  {
   "cell_type": "markdown",
   "id": "50678b5d-2bef-4868-8038-b549c911f881",
   "metadata": {},
   "source": [
    "<b>0.4 Stacked RMBs</b>"
   ]
  },
  {
   "cell_type": "markdown",
   "id": "480539d4-3c9d-4e9c-a368-e0c2a58aabff",
   "metadata": {},
   "source": [
    "<img src=\"stacked_rbms.jpg\" width=50%>"
   ]
  },
  {
   "cell_type": "markdown",
   "id": "7c4cd0e0-ba01-4fa9-8b0d-d2752a9f82fb",
   "metadata": {},
   "source": [
    "<b>0.5 Pre-train MLP with RMBs</b>"
   ]
  },
  {
   "cell_type": "markdown",
   "id": "e1ea9ac8-9fdf-45b2-ab3d-5a2b06ba995b",
   "metadata": {},
   "source": [
    "<img src=\"pre_train_MLP_with_RBMs.jpg\" width=60%>"
   ]
  },
  {
   "cell_type": "markdown",
   "id": "0a6de74b-c72b-496f-946c-a0cfb751c936",
   "metadata": {},
   "source": [
    "<b>0.6 Fine-Tuning Pre-Trained MLP</b>"
   ]
  },
  {
   "cell_type": "markdown",
   "id": "829e7305-5166-45af-9723-84b65929d932",
   "metadata": {},
   "source": [
    "<img src=\"fine_tuning_MLP.jpg\" width=60%>"
   ]
  },
  {
   "cell_type": "markdown",
   "id": "483e33fc-b5b8-487c-bf36-04c399b73281",
   "metadata": {},
   "source": [
    "# 1. Transfer Learning "
   ]
  },
  {
   "cell_type": "markdown",
   "id": "0cee7be6-d87d-46e0-bc16-6e3d623b6981",
   "metadata": {},
   "source": [
    "<b>1.1 Transfer Learning: Basic Concept</b>"
   ]
  },
  {
   "cell_type": "markdown",
   "id": "eb2a7045-c33b-4a37-921d-1139bf512f31",
   "metadata": {},
   "source": [
    "<img src=\"transfer_learning.jpg\" width=60%>"
   ]
  },
  {
   "cell_type": "markdown",
   "id": "6920a9cd-34cc-4a0d-a67d-1ad16583001d",
   "metadata": {},
   "source": [
    "<b>1.2 Convolutional Neural Networks: VGG16</b>"
   ]
  },
  {
   "cell_type": "markdown",
   "id": "e6867f9c-8239-49e6-8642-c21b68f9364c",
   "metadata": {},
   "source": [
    "<img src=\"vgg16_architecture.jpg\" width=60%>"
   ]
  },
  {
   "cell_type": "code",
   "execution_count": null,
   "id": "fc2dfb5c-367d-48ce-8947-69bd21afca85",
   "metadata": {},
   "outputs": [],
   "source": []
  },
  {
   "cell_type": "markdown",
   "id": "c51ffc67-18e1-43ef-8e63-99a80c886c64",
   "metadata": {},
   "source": [
    "<img src=\"vgg16_functional_schema.jpg\" width=60%>"
   ]
  },
  {
   "cell_type": "markdown",
   "id": "27b2031e-5824-4827-aa34-1394d3485e55",
   "metadata": {},
   "source": [
    "<b>1.2 Transfer Learning Quick Examples with VGG16</b>"
   ]
  },
  {
   "cell_type": "markdown",
   "id": "a5a8fdf1-2adb-4f04-810e-613047143ccb",
   "metadata": {},
   "source": [
    "<img src=\"transfer_learning_for_CNNs.jpg\">"
   ]
  },
  {
   "cell_type": "markdown",
   "id": "7b1c071c-f3f6-46a1-9462-6252708f2039",
   "metadata": {},
   "source": []
  },
  {
   "cell_type": "code",
   "execution_count": 31,
   "id": "a3d2e13b-2eea-4f18-a497-218b6327be4e",
   "metadata": {},
   "outputs": [],
   "source": [
    "import tensorflow as tf"
   ]
  },
  {
   "cell_type": "code",
   "execution_count": 32,
   "id": "834ad650-c9d6-4158-8716-c0c8132ca697",
   "metadata": {},
   "outputs": [],
   "source": [
    "from tensorflow import keras"
   ]
  },
  {
   "cell_type": "markdown",
   "id": "a18e9349-7fde-47ce-a750-78be84112c86",
   "metadata": {},
   "source": [
    "Step 1. Load trained model "
   ]
  },
  {
   "cell_type": "code",
   "execution_count": 54,
   "id": "4b53ce58-baf2-4db8-97ba-3ca7159b2d55",
   "metadata": {},
   "outputs": [],
   "source": [
    "vgg16_model = keras.applications.vgg16.VGG16(weights='imagenet')"
   ]
  },
  {
   "cell_type": "code",
   "execution_count": 55,
   "id": "20d88bf2-6994-408c-934f-eacc1dcf023f",
   "metadata": {},
   "outputs": [
    {
     "name": "stdout",
     "output_type": "stream",
     "text": [
      "Model: \"vgg16\"\n",
      "_________________________________________________________________\n",
      " Layer (type)                Output Shape              Param #   \n",
      "=================================================================\n",
      " input_1 (InputLayer)        [(None, 224, 224, 3)]     0         \n",
      "                                                                 \n",
      " block1_conv1 (Conv2D)       (None, 224, 224, 64)      1792      \n",
      "                                                                 \n",
      " block1_conv2 (Conv2D)       (None, 224, 224, 64)      36928     \n",
      "                                                                 \n",
      " block1_pool (MaxPooling2D)  (None, 112, 112, 64)      0         \n",
      "                                                                 \n",
      " block2_conv1 (Conv2D)       (None, 112, 112, 128)     73856     \n",
      "                                                                 \n",
      " block2_conv2 (Conv2D)       (None, 112, 112, 128)     147584    \n",
      "                                                                 \n",
      " block2_pool (MaxPooling2D)  (None, 56, 56, 128)       0         \n",
      "                                                                 \n",
      " block3_conv1 (Conv2D)       (None, 56, 56, 256)       295168    \n",
      "                                                                 \n",
      " block3_conv2 (Conv2D)       (None, 56, 56, 256)       590080    \n",
      "                                                                 \n",
      " block3_conv3 (Conv2D)       (None, 56, 56, 256)       590080    \n",
      "                                                                 \n",
      " block3_pool (MaxPooling2D)  (None, 28, 28, 256)       0         \n",
      "                                                                 \n",
      " block4_conv1 (Conv2D)       (None, 28, 28, 512)       1180160   \n",
      "                                                                 \n",
      " block4_conv2 (Conv2D)       (None, 28, 28, 512)       2359808   \n",
      "                                                                 \n",
      " block4_conv3 (Conv2D)       (None, 28, 28, 512)       2359808   \n",
      "                                                                 \n",
      " block4_pool (MaxPooling2D)  (None, 14, 14, 512)       0         \n",
      "                                                                 \n",
      " block5_conv1 (Conv2D)       (None, 14, 14, 512)       2359808   \n",
      "                                                                 \n",
      " block5_conv2 (Conv2D)       (None, 14, 14, 512)       2359808   \n",
      "                                                                 \n",
      " block5_conv3 (Conv2D)       (None, 14, 14, 512)       2359808   \n",
      "                                                                 \n",
      " block5_pool (MaxPooling2D)  (None, 7, 7, 512)         0         \n",
      "                                                                 \n",
      " flatten (Flatten)           (None, 25088)             0         \n",
      "                                                                 \n",
      " fc1 (Dense)                 (None, 4096)              102764544 \n",
      "                                                                 \n",
      " fc2 (Dense)                 (None, 4096)              16781312  \n",
      "                                                                 \n",
      " predictions (Dense)         (None, 1000)              4097000   \n",
      "                                                                 \n",
      "=================================================================\n",
      "Total params: 138357544 (527.79 MB)\n",
      "Trainable params: 138357544 (527.79 MB)\n",
      "Non-trainable params: 0 (0.00 Byte)\n",
      "_________________________________________________________________\n"
     ]
    }
   ],
   "source": [
    "vgg16_model.summary()"
   ]
  },
  {
   "cell_type": "code",
   "execution_count": 64,
   "id": "f67a55bc-51c1-47b9-849b-b4e475b02c20",
   "metadata": {},
   "outputs": [],
   "source": [
    "base_model = keras.applications.vgg16.VGG16(weights='imagenet',\n",
    "                                            include_top=False,\n",
    "                                            input_shape=eurosat_img_shape\n",
    "                                           )"
   ]
  },
  {
   "cell_type": "code",
   "execution_count": 65,
   "id": "d1ddd373-d6e6-4de5-9820-5d2a60b629fb",
   "metadata": {},
   "outputs": [
    {
     "name": "stdout",
     "output_type": "stream",
     "text": [
      "Model: \"vgg16\"\n",
      "_________________________________________________________________\n",
      " Layer (type)                Output Shape              Param #   \n",
      "=================================================================\n",
      " input_4 (InputLayer)        [(None, 64, 64, 3)]       0         \n",
      "                                                                 \n",
      " block1_conv1 (Conv2D)       (None, 64, 64, 64)        1792      \n",
      "                                                                 \n",
      " block1_conv2 (Conv2D)       (None, 64, 64, 64)        36928     \n",
      "                                                                 \n",
      " block1_pool (MaxPooling2D)  (None, 32, 32, 64)        0         \n",
      "                                                                 \n",
      " block2_conv1 (Conv2D)       (None, 32, 32, 128)       73856     \n",
      "                                                                 \n",
      " block2_conv2 (Conv2D)       (None, 32, 32, 128)       147584    \n",
      "                                                                 \n",
      " block2_pool (MaxPooling2D)  (None, 16, 16, 128)       0         \n",
      "                                                                 \n",
      " block3_conv1 (Conv2D)       (None, 16, 16, 256)       295168    \n",
      "                                                                 \n",
      " block3_conv2 (Conv2D)       (None, 16, 16, 256)       590080    \n",
      "                                                                 \n",
      " block3_conv3 (Conv2D)       (None, 16, 16, 256)       590080    \n",
      "                                                                 \n",
      " block3_pool (MaxPooling2D)  (None, 8, 8, 256)         0         \n",
      "                                                                 \n",
      " block4_conv1 (Conv2D)       (None, 8, 8, 512)         1180160   \n",
      "                                                                 \n",
      " block4_conv2 (Conv2D)       (None, 8, 8, 512)         2359808   \n",
      "                                                                 \n",
      " block4_conv3 (Conv2D)       (None, 8, 8, 512)         2359808   \n",
      "                                                                 \n",
      " block4_pool (MaxPooling2D)  (None, 4, 4, 512)         0         \n",
      "                                                                 \n",
      " block5_conv1 (Conv2D)       (None, 4, 4, 512)         2359808   \n",
      "                                                                 \n",
      " block5_conv2 (Conv2D)       (None, 4, 4, 512)         2359808   \n",
      "                                                                 \n",
      " block5_conv3 (Conv2D)       (None, 4, 4, 512)         2359808   \n",
      "                                                                 \n",
      " block5_pool (MaxPooling2D)  (None, 2, 2, 512)         0         \n",
      "                                                                 \n",
      "=================================================================\n",
      "Total params: 14714688 (56.13 MB)\n",
      "Trainable params: 14714688 (56.13 MB)\n",
      "Non-trainable params: 0 (0.00 Byte)\n",
      "_________________________________________________________________\n"
     ]
    }
   ],
   "source": [
    "base_model.summary()"
   ]
  },
  {
   "cell_type": "code",
   "execution_count": 34,
   "id": "6dbee171-e2f1-40b7-8ca7-190660b7c9d6",
   "metadata": {},
   "outputs": [],
   "source": [
    "conv_base = keras.applications.vgg16.VGG16(weights='imagenet',\n",
    "                                           include_top=False,\n",
    "                                           input_shape=eurosat_img_shape)\n",
    "\n",
    "transfer_layer = conv_base.get_layer('block5_pool')\n",
    "conv_base.trainable = False\n",
    "\n",
    "x = keras.layers.Flatten()(transfer_layer.output)\n",
    "x = keras.layers.Dense(256)(x)\n",
    "x = keras.layers.Dropout(0.5)(x)\n",
    "pred = keras.layers.Dense(len(euroSAT_dataset['classes']), activation='softmax')(x)\n",
    "\n",
    "tl_model = keras.Model(conv_base.input,pred)"
   ]
  },
  {
   "cell_type": "code",
   "execution_count": 35,
   "id": "cae9a62c-0bc1-463e-9737-9b1b1af37964",
   "metadata": {},
   "outputs": [],
   "source": [
    "tl_model.compile(loss=\"categorical_crossentropy\",\n",
    "                 optimizer=\"rmsprop\",\n",
    "                 metrics=[\"accuracy\"])"
   ]
  },
  {
   "cell_type": "code",
   "execution_count": 36,
   "id": "28dddcc7-4eb7-4b91-9377-25b747156c39",
   "metadata": {},
   "outputs": [
    {
     "name": "stdout",
     "output_type": "stream",
     "text": [
      "Model: \"model\"\n",
      "_________________________________________________________________\n",
      " Layer (type)                Output Shape              Param #   \n",
      "=================================================================\n",
      " input_1 (InputLayer)        [(None, 64, 64, 3)]       0         \n",
      "                                                                 \n",
      " block1_conv1 (Conv2D)       (None, 64, 64, 64)        1792      \n",
      "                                                                 \n",
      " block1_conv2 (Conv2D)       (None, 64, 64, 64)        36928     \n",
      "                                                                 \n",
      " block1_pool (MaxPooling2D)  (None, 32, 32, 64)        0         \n",
      "                                                                 \n",
      " block2_conv1 (Conv2D)       (None, 32, 32, 128)       73856     \n",
      "                                                                 \n",
      " block2_conv2 (Conv2D)       (None, 32, 32, 128)       147584    \n",
      "                                                                 \n",
      " block2_pool (MaxPooling2D)  (None, 16, 16, 128)       0         \n",
      "                                                                 \n",
      " block3_conv1 (Conv2D)       (None, 16, 16, 256)       295168    \n",
      "                                                                 \n",
      " block3_conv2 (Conv2D)       (None, 16, 16, 256)       590080    \n",
      "                                                                 \n",
      " block3_conv3 (Conv2D)       (None, 16, 16, 256)       590080    \n",
      "                                                                 \n",
      " block3_pool (MaxPooling2D)  (None, 8, 8, 256)         0         \n",
      "                                                                 \n",
      " block4_conv1 (Conv2D)       (None, 8, 8, 512)         1180160   \n",
      "                                                                 \n",
      " block4_conv2 (Conv2D)       (None, 8, 8, 512)         2359808   \n",
      "                                                                 \n",
      " block4_conv3 (Conv2D)       (None, 8, 8, 512)         2359808   \n",
      "                                                                 \n",
      " block4_pool (MaxPooling2D)  (None, 4, 4, 512)         0         \n",
      "                                                                 \n",
      " block5_conv1 (Conv2D)       (None, 4, 4, 512)         2359808   \n",
      "                                                                 \n",
      " block5_conv2 (Conv2D)       (None, 4, 4, 512)         2359808   \n",
      "                                                                 \n",
      " block5_conv3 (Conv2D)       (None, 4, 4, 512)         2359808   \n",
      "                                                                 \n",
      " block5_pool (MaxPooling2D)  (None, 2, 2, 512)         0         \n",
      "                                                                 \n",
      " flatten (Flatten)           (None, 2048)              0         \n",
      "                                                                 \n",
      " dense (Dense)               (None, 256)               524544    \n",
      "                                                                 \n",
      " dropout (Dropout)           (None, 256)               0         \n",
      "                                                                 \n",
      " dense_1 (Dense)             (None, 10)                2570      \n",
      "                                                                 \n",
      "=================================================================\n",
      "Total params: 15241802 (58.14 MB)\n",
      "Trainable params: 527114 (2.01 MB)\n",
      "Non-trainable params: 14714688 (56.13 MB)\n",
      "_________________________________________________________________\n"
     ]
    }
   ],
   "source": [
    "#tl_model.build((180,180,3))\n",
    "tl_model.summary()"
   ]
  },
  {
   "cell_type": "code",
   "execution_count": null,
   "id": "ec5e67a0-b2ac-414e-ba81-285cb9f43c74",
   "metadata": {},
   "outputs": [],
   "source": []
  },
  {
   "cell_type": "code",
   "execution_count": 1,
   "id": "e03996b9-3546-4503-a646-98ba0e0545b8",
   "metadata": {},
   "outputs": [],
   "source": [
    "#history = tl_model.fit(train_imgs,\n",
    "#                       t\n",
    "#                       batch_size=batch_size,\n",
    "#                       epochs=20,\n",
    "#                       steps_per_epoch=100,\n",
    "#                       #verbose=\"auto\",\n",
    "#                       #callbacks=None,\n",
    "#                       validation_data=validation_set,\n",
    "#                       validation_steps=100\n",
    "#                   )"
   ]
  },
  {
   "cell_type": "code",
   "execution_count": null,
   "id": "6aba82c2-a64a-4ff5-96a0-f74eeb3a414b",
   "metadata": {},
   "outputs": [],
   "source": []
  },
  {
   "cell_type": "code",
   "execution_count": null,
   "id": "56b0c2a3-1870-464c-adb9-6af1cc9b4f36",
   "metadata": {},
   "outputs": [],
   "source": []
  },
  {
   "cell_type": "code",
   "execution_count": null,
   "id": "d23d8851-5170-442f-8aa7-679ba9c1f872",
   "metadata": {},
   "outputs": [],
   "source": []
  },
  {
   "cell_type": "code",
   "execution_count": 1,
   "id": "8793f1a9-28b7-439b-8a9f-71b6d143639f",
   "metadata": {},
   "outputs": [],
   "source": [
    "#load EuroSAT dataset\n",
    "import numpy as np\n",
    "\n",
    "euroSAT_load = np.load('euroSAT_dataset.npy',allow_pickle=True)"
   ]
  },
  {
   "cell_type": "code",
   "execution_count": 2,
   "id": "4ccdd885-c631-44c9-b4db-c3fe949912d4",
   "metadata": {},
   "outputs": [],
   "source": [
    "euroSAT_dataset = euroSAT_load[0].copy()"
   ]
  },
  {
   "cell_type": "code",
   "execution_count": 3,
   "id": "50210765-0869-45a0-88bc-46c2954fe5c6",
   "metadata": {},
   "outputs": [
    {
     "data": {
      "text/plain": [
       "dict_keys(['images', 'labels', 'classes', 'classes2label'])"
      ]
     },
     "execution_count": 3,
     "metadata": {},
     "output_type": "execute_result"
    }
   ],
   "source": [
    "euroSAT_dataset.keys()"
   ]
  },
  {
   "cell_type": "code",
   "execution_count": 4,
   "id": "86f45172-350f-470b-9143-c23918f75e3a",
   "metadata": {},
   "outputs": [],
   "source": [
    "num_samples = len(euroSAT_dataset['labels'])"
   ]
  },
  {
   "cell_type": "code",
   "execution_count": 5,
   "id": "4fd3f584-6842-406e-a474-87abea46aa75",
   "metadata": {},
   "outputs": [],
   "source": [
    "dataset_index = np.random.permutation(num_samples)\n",
    "\n",
    "train_ratio = 0.7\n",
    "valid_ratio = 0.15\n",
    "test_ratio = 0.15\n",
    "\n",
    "train_cut = int(num_samples*train_ratio)\n",
    "valid_cut = int(num_samples*(train_ratio+valid_ratio))\n",
    "\n",
    "train_ind = dataset_index[:train_cut]\n",
    "valid_ind = dataset_index[train_cut:valid_cut]\n",
    "test_ind = dataset_index[valid_cut:]"
   ]
  },
  {
   "cell_type": "code",
   "execution_count": 6,
   "id": "6731430b-0b8a-4572-a685-0450f4e66781",
   "metadata": {},
   "outputs": [
    {
     "data": {
      "text/plain": [
       "27000"
      ]
     },
     "execution_count": 6,
     "metadata": {},
     "output_type": "execute_result"
    }
   ],
   "source": [
    "len(train_ind) + len(valid_ind) + len(test_ind)"
   ]
  },
  {
   "cell_type": "code",
   "execution_count": 7,
   "id": "fa248e81-de1c-4527-8405-1072e334b6cc",
   "metadata": {},
   "outputs": [],
   "source": [
    "train_ind = np.squeeze(np.array(train_ind))\n",
    "valid_ind = np.squeeze(np.array(valid_ind))\n",
    "test_ind = np.squeeze(np.array(test_ind))"
   ]
  },
  {
   "cell_type": "code",
   "execution_count": 8,
   "id": "e777883b-c024-43b6-8139-6849592fd411",
   "metadata": {},
   "outputs": [],
   "source": [
    "train_img = euroSAT_dataset['images'][train_ind]\n",
    "train_img = train_img/255\n",
    "\n",
    "valid_img = euroSAT_dataset['images'][valid_ind]\n",
    "valid_img = valid_img/255\n",
    "\n",
    "test_img = euroSAT_dataset['images'][test_ind]\n",
    "test_img = test_img/255"
   ]
  },
  {
   "cell_type": "code",
   "execution_count": 9,
   "id": "c0b197e9-390c-4a8d-b21d-08529594f553",
   "metadata": {},
   "outputs": [],
   "source": [
    "eurosat_img_shape = train_img[0].shape"
   ]
  },
  {
   "cell_type": "code",
   "execution_count": 15,
   "id": "1662a1fa-1895-4d90-95bd-9ffcc76bf1b4",
   "metadata": {},
   "outputs": [],
   "source": [
    "default_type = type(train_img[0])\n",
    "nonetype_list = []\n",
    "for i,img in enumerate(test_img):\n",
    "    if type(img) != default_type:\n",
    "        print(i)\n",
    "        nonetype_list.append(i)"
   ]
  },
  {
   "cell_type": "code",
   "execution_count": 13,
   "id": "ac296901-54e3-4374-ae2c-65c7323b71e5",
   "metadata": {},
   "outputs": [
    {
     "data": {
      "text/plain": [
       "18899"
      ]
     },
     "execution_count": 13,
     "metadata": {},
     "output_type": "execute_result"
    }
   ],
   "source": [
    "i"
   ]
  },
  {
   "cell_type": "code",
   "execution_count": 81,
   "id": "c0256a6d-42f2-436b-9669-316d97e6acf7",
   "metadata": {},
   "outputs": [],
   "source": [
    "train_labels = np.array(euroSAT_dataset['labels'])[train_ind]\n",
    "train_labels = keras.utils.to_categorical(train_labels)\n",
    "\n",
    "valid_labels = np.array(euroSAT_dataset['labels'])[valid_ind]\n",
    "valid_labels = keras.utils.to_categorical(valid_labels)\n",
    "\n",
    "test_labels = np.array(euroSAT_dataset['labels'])[test_ind]\n",
    "train_img[0]. = keras.utils.to_categorical(test_labels)\n"
   ]
  },
  {
   "cell_type": "code",
   "execution_count": 102,
   "id": "2d482cc2-7d65-4e3e-91e2-1ddae428f00b",
   "metadata": {},
   "outputs": [
    {
     "data": {
      "text/plain": [
       "(4050, 10)"
      ]
     },
     "execution_count": 102,
     "metadata": {},
     "output_type": "execute_result"
    }
   ],
   "source": [
    "test_labels.shape"
   ]
  },
  {
   "cell_type": "code",
   "execution_count": 78,
   "id": "ef301e38-e883-43ec-940a-895f23666a08",
   "metadata": {},
   "outputs": [
    {
     "data": {
      "text/plain": [
       "array([[[ 72,  93,  98],\n",
       "        [ 70,  94,  98],\n",
       "        [ 71,  95,  99],\n",
       "        ...,\n",
       "        [ 67,  92,  97],\n",
       "        [ 73,  98, 102],\n",
       "        [ 64,  89,  93]],\n",
       "\n",
       "       [[ 71,  92,  97],\n",
       "        [ 72,  93,  98],\n",
       "        [ 71,  95,  99],\n",
       "        ...,\n",
       "        [ 67,  92,  96],\n",
       "        [ 73,  98, 102],\n",
       "        [ 64,  89,  93]],\n",
       "\n",
       "       [[ 72,  93,  98],\n",
       "        [ 72,  93,  98],\n",
       "        [ 71,  94, 100],\n",
       "        ...,\n",
       "        [ 71,  96, 100],\n",
       "        [ 74,  98, 102],\n",
       "        [ 65,  89,  93]],\n",
       "\n",
       "       ...,\n",
       "\n",
       "       [[ 75,  96,  99],\n",
       "        [ 75,  96,  99],\n",
       "        [ 74,  95,  98],\n",
       "        ...,\n",
       "        [ 77,  95,  99],\n",
       "        [ 75,  94,  98],\n",
       "        [ 77,  96, 100]],\n",
       "\n",
       "       [[ 74,  95,  98],\n",
       "        [ 74,  95,  98],\n",
       "        [ 75,  96,  99],\n",
       "        ...,\n",
       "        [ 77,  96, 100],\n",
       "        [ 76,  95,  99],\n",
       "        [ 78,  97, 101]],\n",
       "\n",
       "       [[ 76,  97, 100],\n",
       "        [ 76,  97, 100],\n",
       "        [ 76,  97, 100],\n",
       "        ...,\n",
       "        [ 76,  95,  99],\n",
       "        [ 75,  94,  98],\n",
       "        [ 79,  98, 102]]], dtype=uint8)"
      ]
     },
     "execution_count": 78,
     "metadata": {},
     "output_type": "execute_result"
    }
   ],
   "source": [
    "train_img[0]"
   ]
  },
  {
   "cell_type": "code",
   "execution_count": 38,
   "id": "851a1cf5-1136-43a5-94db-44af74a72fa7",
   "metadata": {},
   "outputs": [],
   "source": [
    "from tensorflow.keras.preprocessing.image import ImageDataGenerator"
   ]
  },
  {
   "cell_type": "code",
   "execution_count": 39,
   "id": "d3d1eb4c-91c2-48ce-84d6-abef0d145ec0",
   "metadata": {},
   "outputs": [
    {
     "ename": "ValueError",
     "evalue": "`x` (images tensor) and `y` (labels) should have the same length. Found: x.shape = (64, 64, 3), y.shape = (100000, 200)",
     "output_type": "error",
     "traceback": [
      "\u001b[1;31m---------------------------------------------------------------------------\u001b[0m",
      "\u001b[1;31mValueError\u001b[0m                                Traceback (most recent call last)",
      "Cell \u001b[1;32mIn[39], line 4\u001b[0m\n\u001b[0;32m      1\u001b[0m batch_size \u001b[38;5;241m=\u001b[39m \u001b[38;5;241m32\u001b[39m\n\u001b[0;32m      3\u001b[0m datagen_train \u001b[38;5;241m=\u001b[39m ImageDataGenerator(rescale\u001b[38;5;241m=\u001b[39m\u001b[38;5;241m1\u001b[39m\u001b[38;5;241m/\u001b[39m\u001b[38;5;241m255\u001b[39m)\n\u001b[1;32m----> 4\u001b[0m train_set \u001b[38;5;241m=\u001b[39m \u001b[43mdatagen_train\u001b[49m\u001b[38;5;241;43m.\u001b[39;49m\u001b[43mflow\u001b[49m\u001b[43m(\u001b[49m\u001b[43mx\u001b[49m\u001b[38;5;241;43m=\u001b[39;49m\u001b[43mtrain_imgs\u001b[49m\u001b[43m,\u001b[49m\n\u001b[0;32m      5\u001b[0m \u001b[43m                               \u001b[49m\u001b[43my\u001b[49m\u001b[38;5;241;43m=\u001b[39;49m\u001b[43mtrain_labels\u001b[49m\u001b[43m,\u001b[49m\n\u001b[0;32m      6\u001b[0m \u001b[43m                               \u001b[49m\u001b[43mbatch_size\u001b[49m\u001b[38;5;241;43m=\u001b[39;49m\u001b[43mbatch_size\u001b[49m\u001b[43m,\u001b[49m\n\u001b[0;32m      7\u001b[0m \u001b[43m                               \u001b[49m\u001b[43mshuffle\u001b[49m\u001b[38;5;241;43m=\u001b[39;49m\u001b[38;5;28;43;01mTrue\u001b[39;49;00m\u001b[43m)\u001b[49m\n\u001b[0;32m     10\u001b[0m datagen_validation \u001b[38;5;241m=\u001b[39m ImageDataGenerator(rescale\u001b[38;5;241m=\u001b[39m\u001b[38;5;241m1\u001b[39m\u001b[38;5;241m/\u001b[39m\u001b[38;5;241m255\u001b[39m)\n\u001b[0;32m     11\u001b[0m validation_set \u001b[38;5;241m=\u001b[39m datagen_validation\u001b[38;5;241m.\u001b[39mflow(x\u001b[38;5;241m=\u001b[39mvalid_imgs,\n\u001b[0;32m     12\u001b[0m                                          y\u001b[38;5;241m=\u001b[39mvalid_labels,\n\u001b[0;32m     13\u001b[0m                                          batch_size\u001b[38;5;241m=\u001b[39mbatch_size,\n\u001b[0;32m     14\u001b[0m                                          shuffle\u001b[38;5;241m=\u001b[39m\u001b[38;5;28;01mTrue\u001b[39;00m)\n",
      "File \u001b[1;32m~\\anaconda3\\envs\\transformers\\lib\\site-packages\\keras\\src\\preprocessing\\image.py:1545\u001b[0m, in \u001b[0;36mImageDataGenerator.flow\u001b[1;34m(self, x, y, batch_size, shuffle, sample_weight, seed, save_to_dir, save_prefix, save_format, ignore_class_split, subset)\u001b[0m\n\u001b[0;32m   1486\u001b[0m \u001b[38;5;28;01mdef\u001b[39;00m \u001b[38;5;21mflow\u001b[39m(\n\u001b[0;32m   1487\u001b[0m     \u001b[38;5;28mself\u001b[39m,\n\u001b[0;32m   1488\u001b[0m     x,\n\u001b[1;32m   (...)\u001b[0m\n\u001b[0;32m   1498\u001b[0m     subset\u001b[38;5;241m=\u001b[39m\u001b[38;5;28;01mNone\u001b[39;00m,\n\u001b[0;32m   1499\u001b[0m ):\n\u001b[0;32m   1500\u001b[0m \u001b[38;5;250m    \u001b[39m\u001b[38;5;124;03m\"\"\"Takes data & label arrays, generates batches of augmented data.\u001b[39;00m\n\u001b[0;32m   1501\u001b[0m \n\u001b[0;32m   1502\u001b[0m \u001b[38;5;124;03m    Args:\u001b[39;00m\n\u001b[1;32m   (...)\u001b[0m\n\u001b[0;32m   1543\u001b[0m \n\u001b[0;32m   1544\u001b[0m \u001b[38;5;124;03m    \"\"\"\u001b[39;00m\n\u001b[1;32m-> 1545\u001b[0m     \u001b[38;5;28;01mreturn\u001b[39;00m \u001b[43mNumpyArrayIterator\u001b[49m\u001b[43m(\u001b[49m\n\u001b[0;32m   1546\u001b[0m \u001b[43m        \u001b[49m\u001b[43mx\u001b[49m\u001b[43m,\u001b[49m\n\u001b[0;32m   1547\u001b[0m \u001b[43m        \u001b[49m\u001b[43my\u001b[49m\u001b[43m,\u001b[49m\n\u001b[0;32m   1548\u001b[0m \u001b[43m        \u001b[49m\u001b[38;5;28;43mself\u001b[39;49m\u001b[43m,\u001b[49m\n\u001b[0;32m   1549\u001b[0m \u001b[43m        \u001b[49m\u001b[43mbatch_size\u001b[49m\u001b[38;5;241;43m=\u001b[39;49m\u001b[43mbatch_size\u001b[49m\u001b[43m,\u001b[49m\n\u001b[0;32m   1550\u001b[0m \u001b[43m        \u001b[49m\u001b[43mshuffle\u001b[49m\u001b[38;5;241;43m=\u001b[39;49m\u001b[43mshuffle\u001b[49m\u001b[43m,\u001b[49m\n\u001b[0;32m   1551\u001b[0m \u001b[43m        \u001b[49m\u001b[43msample_weight\u001b[49m\u001b[38;5;241;43m=\u001b[39;49m\u001b[43msample_weight\u001b[49m\u001b[43m,\u001b[49m\n\u001b[0;32m   1552\u001b[0m \u001b[43m        \u001b[49m\u001b[43mseed\u001b[49m\u001b[38;5;241;43m=\u001b[39;49m\u001b[43mseed\u001b[49m\u001b[43m,\u001b[49m\n\u001b[0;32m   1553\u001b[0m \u001b[43m        \u001b[49m\u001b[43mdata_format\u001b[49m\u001b[38;5;241;43m=\u001b[39;49m\u001b[38;5;28;43mself\u001b[39;49m\u001b[38;5;241;43m.\u001b[39;49m\u001b[43mdata_format\u001b[49m\u001b[43m,\u001b[49m\n\u001b[0;32m   1554\u001b[0m \u001b[43m        \u001b[49m\u001b[43msave_to_dir\u001b[49m\u001b[38;5;241;43m=\u001b[39;49m\u001b[43msave_to_dir\u001b[49m\u001b[43m,\u001b[49m\n\u001b[0;32m   1555\u001b[0m \u001b[43m        \u001b[49m\u001b[43msave_prefix\u001b[49m\u001b[38;5;241;43m=\u001b[39;49m\u001b[43msave_prefix\u001b[49m\u001b[43m,\u001b[49m\n\u001b[0;32m   1556\u001b[0m \u001b[43m        \u001b[49m\u001b[43msave_format\u001b[49m\u001b[38;5;241;43m=\u001b[39;49m\u001b[43msave_format\u001b[49m\u001b[43m,\u001b[49m\n\u001b[0;32m   1557\u001b[0m \u001b[43m        \u001b[49m\u001b[43mignore_class_split\u001b[49m\u001b[38;5;241;43m=\u001b[39;49m\u001b[43mignore_class_split\u001b[49m\u001b[43m,\u001b[49m\n\u001b[0;32m   1558\u001b[0m \u001b[43m        \u001b[49m\u001b[43msubset\u001b[49m\u001b[38;5;241;43m=\u001b[39;49m\u001b[43msubset\u001b[49m\u001b[43m,\u001b[49m\n\u001b[0;32m   1559\u001b[0m \u001b[43m        \u001b[49m\u001b[43mdtype\u001b[49m\u001b[38;5;241;43m=\u001b[39;49m\u001b[38;5;28;43mself\u001b[39;49m\u001b[38;5;241;43m.\u001b[39;49m\u001b[43mdtype\u001b[49m\u001b[43m,\u001b[49m\n\u001b[0;32m   1560\u001b[0m \u001b[43m    \u001b[49m\u001b[43m)\u001b[49m\n",
      "File \u001b[1;32m~\\anaconda3\\envs\\transformers\\lib\\site-packages\\keras\\src\\preprocessing\\image.py:707\u001b[0m, in \u001b[0;36mNumpyArrayIterator.__init__\u001b[1;34m(self, x, y, image_data_generator, batch_size, shuffle, sample_weight, seed, data_format, save_to_dir, save_prefix, save_format, subset, ignore_class_split, dtype)\u001b[0m\n\u001b[0;32m    704\u001b[0m     x_misc \u001b[38;5;241m=\u001b[39m []\n\u001b[0;32m    706\u001b[0m \u001b[38;5;28;01mif\u001b[39;00m y \u001b[38;5;129;01mis\u001b[39;00m \u001b[38;5;129;01mnot\u001b[39;00m \u001b[38;5;28;01mNone\u001b[39;00m \u001b[38;5;129;01mand\u001b[39;00m \u001b[38;5;28mlen\u001b[39m(x) \u001b[38;5;241m!=\u001b[39m \u001b[38;5;28mlen\u001b[39m(y):\n\u001b[1;32m--> 707\u001b[0m     \u001b[38;5;28;01mraise\u001b[39;00m \u001b[38;5;167;01mValueError\u001b[39;00m(\n\u001b[0;32m    708\u001b[0m         \u001b[38;5;124m\"\u001b[39m\u001b[38;5;124m`x` (images tensor) and `y` (labels) \u001b[39m\u001b[38;5;124m\"\u001b[39m\n\u001b[0;32m    709\u001b[0m         \u001b[38;5;124m\"\u001b[39m\u001b[38;5;124mshould have the same length. \u001b[39m\u001b[38;5;124m\"\u001b[39m\n\u001b[0;32m    710\u001b[0m         \u001b[38;5;124m\"\u001b[39m\u001b[38;5;124mFound: x.shape = \u001b[39m\u001b[38;5;132;01m%s\u001b[39;00m\u001b[38;5;124m, y.shape = \u001b[39m\u001b[38;5;132;01m%s\u001b[39;00m\u001b[38;5;124m\"\u001b[39m\n\u001b[0;32m    711\u001b[0m         \u001b[38;5;241m%\u001b[39m (np\u001b[38;5;241m.\u001b[39masarray(x)\u001b[38;5;241m.\u001b[39mshape, np\u001b[38;5;241m.\u001b[39masarray(y)\u001b[38;5;241m.\u001b[39mshape)\n\u001b[0;32m    712\u001b[0m     )\n\u001b[0;32m    713\u001b[0m \u001b[38;5;28;01mif\u001b[39;00m sample_weight \u001b[38;5;129;01mis\u001b[39;00m \u001b[38;5;129;01mnot\u001b[39;00m \u001b[38;5;28;01mNone\u001b[39;00m \u001b[38;5;129;01mand\u001b[39;00m \u001b[38;5;28mlen\u001b[39m(x) \u001b[38;5;241m!=\u001b[39m \u001b[38;5;28mlen\u001b[39m(sample_weight):\n\u001b[0;32m    714\u001b[0m     \u001b[38;5;28;01mraise\u001b[39;00m \u001b[38;5;167;01mValueError\u001b[39;00m(\n\u001b[0;32m    715\u001b[0m         \u001b[38;5;124m\"\u001b[39m\u001b[38;5;124m`x` (images tensor) and `sample_weight` \u001b[39m\u001b[38;5;124m\"\u001b[39m\n\u001b[0;32m    716\u001b[0m         \u001b[38;5;124m\"\u001b[39m\u001b[38;5;124mshould have the same length. \u001b[39m\u001b[38;5;124m\"\u001b[39m\n\u001b[0;32m    717\u001b[0m         \u001b[38;5;124m\"\u001b[39m\u001b[38;5;124mFound: x.shape = \u001b[39m\u001b[38;5;132;01m%s\u001b[39;00m\u001b[38;5;124m, sample_weight.shape = \u001b[39m\u001b[38;5;132;01m%s\u001b[39;00m\u001b[38;5;124m\"\u001b[39m\n\u001b[0;32m    718\u001b[0m         \u001b[38;5;241m%\u001b[39m (np\u001b[38;5;241m.\u001b[39masarray(x)\u001b[38;5;241m.\u001b[39mshape, np\u001b[38;5;241m.\u001b[39masarray(sample_weight)\u001b[38;5;241m.\u001b[39mshape)\n\u001b[0;32m    719\u001b[0m     )\n",
      "\u001b[1;31mValueError\u001b[0m: `x` (images tensor) and `y` (labels) should have the same length. Found: x.shape = (64, 64, 3), y.shape = (100000, 200)"
     ]
    }
   ],
   "source": [
    "batch_size = 32\n",
    "\n",
    "datagen_train = ImageDataGenerator(rescale=1/255)\n",
    "train_set = datagen_train.flow(x=train_imgs,\n",
    "                               y=train_labels,\n",
    "                               batch_size=batch_size,\n",
    "                               shuffle=True)\n",
    "\n",
    "\n",
    "datagen_validation = ImageDataGenerator(rescale=1/255)\n",
    "validation_set = datagen_validation.flow(x=valid_imgs,\n",
    "                                         y=valid_labels,\n",
    "                                         batch_size=batch_size,\n",
    "                                         shuffle=True)\n",
    "\n",
    "#datagen_test = ImageDataGenerator()\n",
    "#test_set = datagen_train.flow(x=test_img,\n",
    "#                              y=test_labels,\n",
    "#                              batch_size=batch_size,\n",
    "#                              shuffle=True)"
   ]
  },
  {
   "cell_type": "code",
   "execution_count": null,
   "id": "49addaf3-d6a6-4be4-bff4-18b3f75372b3",
   "metadata": {},
   "outputs": [],
   "source": []
  },
  {
   "cell_type": "code",
   "execution_count": null,
   "id": "0777e118-1dbd-4e19-bb34-584a3eb4e05c",
   "metadata": {},
   "outputs": [],
   "source": []
  },
  {
   "cell_type": "code",
   "execution_count": null,
   "id": "064fc7fe-1667-4666-9887-5ac981c03d26",
   "metadata": {},
   "outputs": [],
   "source": []
  },
  {
   "cell_type": "markdown",
   "id": "4c2d702d-9efc-4060-8383-4a8d8b6a2297",
   "metadata": {},
   "source": [
    "## 0. TRANSFORMER vs. BERT Architecture"
   ]
  },
  {
   "cell_type": "markdown",
   "id": "192b2cc9-6703-4c96-b82e-a9efb98c4c64",
   "metadata": {},
   "source": [
    "<img src=\"transformers.jpg\" width=\"70%\">"
   ]
  },
  {
   "cell_type": "code",
   "execution_count": 17,
   "id": "af961c22-0da7-4cb2-b950-29fed0e234df",
   "metadata": {},
   "outputs": [
    {
     "data": {
      "application/vnd.jupyter.widget-view+json": {
       "model_id": "b0360d03b302495da16581fe25b2729c",
       "version_major": 2,
       "version_minor": 0
      },
      "text/plain": [
       "README.md:   0%|          | 0.00/3.90k [00:00<?, ?B/s]"
      ]
     },
     "metadata": {},
     "output_type": "display_data"
    },
    {
     "name": "stderr",
     "output_type": "stream",
     "text": [
      "C:\\Users\\18623\\anaconda3\\envs\\transformers\\lib\\site-packages\\huggingface_hub\\file_download.py:140: UserWarning: `huggingface_hub` cache-system uses symlinks by default to efficiently store duplicated files but your machine does not support them in C:\\Users\\18623\\.cache\\huggingface\\hub\\datasets--zh-plus--tiny-imagenet. Caching files will still work but in a degraded version that might require more space on your disk. This warning can be disabled by setting the `HF_HUB_DISABLE_SYMLINKS_WARNING` environment variable. For more details, see https://huggingface.co/docs/huggingface_hub/how-to-cache#limitations.\n",
      "To support symlinks on Windows, you either need to activate Developer Mode or to run Python as an administrator. In order to activate developer mode, see this article: https://docs.microsoft.com/en-us/windows/apps/get-started/enable-your-device-for-development\n",
      "  warnings.warn(message)\n"
     ]
    },
    {
     "data": {
      "application/vnd.jupyter.widget-view+json": {
       "model_id": "75c796669b834a14bfa4f6abf27c482a",
       "version_major": 2,
       "version_minor": 0
      },
      "text/plain": [
       "dataset_infos.json:   0%|          | 0.00/3.52k [00:00<?, ?B/s]"
      ]
     },
     "metadata": {},
     "output_type": "display_data"
    },
    {
     "data": {
      "application/vnd.jupyter.widget-view+json": {
       "model_id": "2f687239670341bbb93266646a195281",
       "version_major": 2,
       "version_minor": 0
      },
      "text/plain": [
       "(…)-00000-of-00001-1359597a978bc4fa.parquet:   0%|          | 0.00/146M [00:00<?, ?B/s]"
      ]
     },
     "metadata": {},
     "output_type": "display_data"
    },
    {
     "data": {
      "application/vnd.jupyter.widget-view+json": {
       "model_id": "b18497b4c92847459d60f369e3d7fbbf",
       "version_major": 2,
       "version_minor": 0
      },
      "text/plain": [
       "(…)-00000-of-00001-70d52db3c749a935.parquet:   0%|          | 0.00/14.6M [00:00<?, ?B/s]"
      ]
     },
     "metadata": {},
     "output_type": "display_data"
    },
    {
     "data": {
      "application/vnd.jupyter.widget-view+json": {
       "model_id": "80a4b9150d654b80aca83209d006363d",
       "version_major": 2,
       "version_minor": 0
      },
      "text/plain": [
       "Generating train split:   0%|          | 0/100000 [00:00<?, ? examples/s]"
      ]
     },
     "metadata": {},
     "output_type": "display_data"
    },
    {
     "data": {
      "application/vnd.jupyter.widget-view+json": {
       "model_id": "a34ed2d9e54e44f59303e506b4c0519a",
       "version_major": 2,
       "version_minor": 0
      },
      "text/plain": [
       "Generating valid split:   0%|          | 0/10000 [00:00<?, ? examples/s]"
      ]
     },
     "metadata": {},
     "output_type": "display_data"
    }
   ],
   "source": [
    "mini_imgnet = load_dataset(\"zh-plus/tiny-imagenet\")"
   ]
  },
  {
   "cell_type": "code",
   "execution_count": 26,
   "id": "527016fb-5a36-45b5-af9c-a1c1e192a5f3",
   "metadata": {},
   "outputs": [
    {
     "data": {
      "text/plain": [
       "int"
      ]
     },
     "execution_count": 26,
     "metadata": {},
     "output_type": "execute_result"
    }
   ],
   "source": [
    "type(mini_imgnet['valid']['label'][0])"
   ]
  },
  {
   "cell_type": "code",
   "execution_count": 27,
   "id": "23de9f46-a607-4875-be36-029b6935abeb",
   "metadata": {},
   "outputs": [
    {
     "data": {
      "text/plain": [
       "list"
      ]
     },
     "execution_count": 27,
     "metadata": {},
     "output_type": "execute_result"
    }
   ],
   "source": [
    "type(mini_imgnet['valid']['image'])"
   ]
  },
  {
   "cell_type": "code",
   "execution_count": 44,
   "id": "c004a7db-ba5c-43db-a0d2-50763894a2b0",
   "metadata": {},
   "outputs": [
    {
     "ename": "ValueError",
     "evalue": "all input arrays must have the same shape",
     "output_type": "error",
     "traceback": [
      "\u001b[1;31m---------------------------------------------------------------------------\u001b[0m",
      "\u001b[1;31mValueError\u001b[0m                                Traceback (most recent call last)",
      "Cell \u001b[1;32mIn[44], line 5\u001b[0m\n\u001b[0;32m      3\u001b[0m \u001b[38;5;28;01mfor\u001b[39;00m i, img \u001b[38;5;129;01min\u001b[39;00m \u001b[38;5;28menumerate\u001b[39m(valid_imgs):\n\u001b[0;32m      4\u001b[0m     new_image \u001b[38;5;241m=\u001b[39m img\u001b[38;5;241m.\u001b[39mresize((\u001b[38;5;241m200\u001b[39m, \u001b[38;5;241m200\u001b[39m))\n\u001b[1;32m----> 5\u001b[0m     valid_array \u001b[38;5;241m=\u001b[39m \u001b[43mnp\u001b[49m\u001b[38;5;241;43m.\u001b[39;49m\u001b[43mstack\u001b[49m\u001b[43m(\u001b[49m\u001b[43m[\u001b[49m\u001b[43mvalid_array\u001b[49m\u001b[43m,\u001b[49m\u001b[43mnp\u001b[49m\u001b[38;5;241;43m.\u001b[39;49m\u001b[43marray\u001b[49m\u001b[43m(\u001b[49m\u001b[43mnew_image\u001b[49m\u001b[43m)\u001b[49m\u001b[43m]\u001b[49m\u001b[43m)\u001b[49m\n",
      "File \u001b[1;32m<__array_function__ internals>:200\u001b[0m, in \u001b[0;36mstack\u001b[1;34m(*args, **kwargs)\u001b[0m\n",
      "File \u001b[1;32m~\\anaconda3\\envs\\transformers\\lib\\site-packages\\numpy\\core\\shape_base.py:464\u001b[0m, in \u001b[0;36mstack\u001b[1;34m(arrays, axis, out, dtype, casting)\u001b[0m\n\u001b[0;32m    462\u001b[0m shapes \u001b[38;5;241m=\u001b[39m {arr\u001b[38;5;241m.\u001b[39mshape \u001b[38;5;28;01mfor\u001b[39;00m arr \u001b[38;5;129;01min\u001b[39;00m arrays}\n\u001b[0;32m    463\u001b[0m \u001b[38;5;28;01mif\u001b[39;00m \u001b[38;5;28mlen\u001b[39m(shapes) \u001b[38;5;241m!=\u001b[39m \u001b[38;5;241m1\u001b[39m:\n\u001b[1;32m--> 464\u001b[0m     \u001b[38;5;28;01mraise\u001b[39;00m \u001b[38;5;167;01mValueError\u001b[39;00m(\u001b[38;5;124m'\u001b[39m\u001b[38;5;124mall input arrays must have the same shape\u001b[39m\u001b[38;5;124m'\u001b[39m)\n\u001b[0;32m    466\u001b[0m result_ndim \u001b[38;5;241m=\u001b[39m arrays[\u001b[38;5;241m0\u001b[39m]\u001b[38;5;241m.\u001b[39mndim \u001b[38;5;241m+\u001b[39m \u001b[38;5;241m1\u001b[39m\n\u001b[0;32m    467\u001b[0m axis \u001b[38;5;241m=\u001b[39m normalize_axis_index(axis, result_ndim)\n",
      "\u001b[1;31mValueError\u001b[0m: all input arrays must have the same shape"
     ]
    }
   ],
   "source": [
    "valid_array = np.array([])\n",
    "valid_imgs = mini_imgnet['valid']['image'].copy()\n",
    "for i, img in enumerate(valid_imgs):\n",
    "    new_image = img.resize((200, 200))\n",
    "    valid_array = np.stack([valid_array,np.array(new_image)])"
   ]
  },
  {
   "cell_type": "code",
   "execution_count": 41,
   "id": "5260c0f1-7f38-4753-bef3-c787925c46b0",
   "metadata": {},
   "outputs": [
    {
     "ename": "ValueError",
     "evalue": "setting an array element with a sequence. The requested array has an inhomogeneous shape after 3 dimensions. The detected shape was (10000, 64, 64) + inhomogeneous part.",
     "output_type": "error",
     "traceback": [
      "\u001b[1;31m---------------------------------------------------------------------------\u001b[0m",
      "\u001b[1;31mValueError\u001b[0m                                Traceback (most recent call last)",
      "Cell \u001b[1;32mIn[41], line 1\u001b[0m\n\u001b[1;32m----> 1\u001b[0m valid_array \u001b[38;5;241m=\u001b[39m \u001b[43mnp\u001b[49m\u001b[38;5;241;43m.\u001b[39;49m\u001b[43marray\u001b[49m\u001b[43m(\u001b[49m\u001b[43mvalid_imgs\u001b[49m\u001b[43m)\u001b[49m\n",
      "\u001b[1;31mValueError\u001b[0m: setting an array element with a sequence. The requested array has an inhomogeneous shape after 3 dimensions. The detected shape was (10000, 64, 64) + inhomogeneous part."
     ]
    }
   ],
   "source": [
    "valid_array = np.array(valid_imgs)"
   ]
  },
  {
   "cell_type": "code",
   "execution_count": 29,
   "id": "dcecb19f-e039-451f-ac26-95068a594f62",
   "metadata": {},
   "outputs": [],
   "source": [
    "train_imgs = mini_imgnet['train']['image'].copy()\n",
    "for i, img in enumerate(train_imgs):\n",
    "    train_imgs[i] = np.array(img)"
   ]
  },
  {
   "cell_type": "code",
   "execution_count": 33,
   "id": "6eedd0a3-35ac-4eeb-a78d-26a166e97966",
   "metadata": {},
   "outputs": [],
   "source": [
    "train_labels = keras.utils.to_categorical(mini_imgnet['train']['label'],\n",
    "                                         num_classes=200)\n",
    "valid_labels = keras.utils.to_categorical(mini_imgnet['valid']['label'],\n",
    "                                         num_classes=200)"
   ]
  },
  {
   "cell_type": "code",
   "execution_count": null,
   "id": "1df66b21-494e-48b9-9e97-9cfb0fba21be",
   "metadata": {},
   "outputs": [],
   "source": []
  },
  {
   "cell_type": "code",
   "execution_count": null,
   "id": "988120da-9a3b-464c-bc42-c3f7823eefe3",
   "metadata": {},
   "outputs": [],
   "source": []
  },
  {
   "cell_type": "markdown",
   "id": "77f17474-1423-418d-b369-3743abba6b40",
   "metadata": {},
   "source": [
    "### Fine-tune BERT Base model for Support Ticket Dataset Classification"
   ]
  },
  {
   "cell_type": "code",
   "execution_count": 16,
   "id": "a32b5c69-b8b2-4807-b6c5-d5ed3d237b7e",
   "metadata": {},
   "outputs": [],
   "source": [
    "from datasets import load_dataset\n",
    "from datasets import DatasetDict, Dataset\n",
    "\n",
    "import matplotlib.pyplot as plt\n",
    "\n",
    "from transformers import (logging,\n",
    "    AutoTokenizer, DataCollatorWithPadding, \n",
    "    AutoModelForSequenceClassification, TrainingArguments, Trainer\n",
    "    )\n",
    "import evaluate\n",
    "import numpy as np\n",
    "import pandas as pd\n",
    "\n",
    "# ignore warnings from transformers lib\n",
    "logging.set_verbosity_error() "
   ]
  },
  {
   "cell_type": "markdown",
   "id": "2c799a68-36aa-4ecc-8c57-2becf92b38e2",
   "metadata": {},
   "source": [
    "### 1. Load data from Support Tickets Dataset"
   ]
  },
  {
   "cell_type": "markdown",
   "id": "a6b3f3f9-0e19-4583-808a-209e22651fdf",
   "metadata": {},
   "source": [
    "<b>1.1 Load Support Tickets Dataset fom HuggingFace Hub</b>"
   ]
  },
  {
   "cell_type": "code",
   "execution_count": 2,
   "id": "f4fbd278-3ace-49cb-9765-5dbed896d5ae",
   "metadata": {},
   "outputs": [],
   "source": [
    "support_tickets = load_dataset(\"phi-ai-info/support_tickets\",name='alpha')"
   ]
  },
  {
   "cell_type": "code",
   "execution_count": 3,
   "id": "edb6b85e-9b43-44cc-a335-e415635d7c31",
   "metadata": {},
   "outputs": [
    {
     "data": {
      "text/plain": [
       "DatasetDict({\n",
       "    train: Dataset({\n",
       "        features: ['subject', 'description', 'key_phrase', 'class'],\n",
       "        num_rows: 1075\n",
       "    })\n",
       "})"
      ]
     },
     "execution_count": 3,
     "metadata": {},
     "output_type": "execute_result"
    }
   ],
   "source": [
    "support_tickets"
   ]
  },
  {
   "cell_type": "code",
   "execution_count": 4,
   "id": "28ed3c2d-9e57-4bd0-b880-5044760613be",
   "metadata": {},
   "outputs": [],
   "source": [
    "def dataset_to_df(dataset_obj, \n",
    "                  label=None,\n",
    "                  reference='class',\n",
    "                  new_key='label'\n",
    "                 ):\n",
    "    cols = list(dataset_obj[0].keys())\n",
    "\n",
    "    cols_values = {item:[] for item in cols}\n",
    "    for json_rec in dataset_obj:\n",
    "        for item in cols:\n",
    "            cols_values[item].append(json_rec[item])\n",
    "    \n",
    "    if label is not None:\n",
    "        cols += [new_key]\n",
    "        cols_values[new_key] = []\n",
    "        for json_rec in dataset_obj:\n",
    "            cols_values[new_key].append(label[json_rec[reference]])\n",
    "    \n",
    "    return pd.DataFrame({item:cols_values[item] for item in cols})"
   ]
  },
  {
   "cell_type": "code",
   "execution_count": 5,
   "id": "cbaabd4f-d473-41bb-9115-230c68930e9f",
   "metadata": {},
   "outputs": [],
   "source": [
    "label_class_dict = {'revoke access': 'access',\n",
    " 'grant access': 'access',\n",
    " 'access profile': 'access',\n",
    " 'add user': 'user',\n",
    " 'delete user': 'user',\n",
    " 'create user': 'user',\n",
    " 'modify user': 'user',\n",
    " 'user role': 'user',\n",
    " 'disk space': 'storage',\n",
    " 'hard disk': 'storage',\n",
    " 'disk full': 'storage',\n",
    " 'ssd disk': 'storage',\n",
    " 'disk error': 'storage',\n",
    " 'shared disk': 'storage',\n",
    " 'nas disk': 'storage',\n",
    " 'printer functioning': 'printer',\n",
    " 'printer driver': 'printer',\n",
    " 'printer toner': 'printer',\n",
    " 'printer paper': 'printer',\n",
    " 'wifi functioning': 'network',\n",
    " 'network functioning': 'network',\n",
    " 'email server': 'servers',\n",
    " 'web server': 'servers'}"
   ]
  },
  {
   "cell_type": "code",
   "execution_count": 6,
   "id": "6fc4500b-5200-4278-8b31-3e7c27dd4c6d",
   "metadata": {},
   "outputs": [
    {
     "data": {
      "text/plain": [
       "{'user': 0,\n",
       " 'servers': 1,\n",
       " 'printer': 2,\n",
       " 'access': 3,\n",
       " 'network': 4,\n",
       " 'storage': 5}"
      ]
     },
     "execution_count": 6,
     "metadata": {},
     "output_type": "execute_result"
    }
   ],
   "source": [
    "label_name_dict = {item: i for i,item in enumerate(list(set(label_class_dict.values())))}\n",
    "label_name_dict"
   ]
  },
  {
   "cell_type": "code",
   "execution_count": 7,
   "id": "973fbef4-cecb-4a47-971b-4d17bacb235f",
   "metadata": {},
   "outputs": [],
   "source": [
    "label_dict = {'grant access': 0,\n",
    " 'revoke access': 0,\n",
    " 'access profile': 0,\n",
    " 'disk space': 1,\n",
    " 'disk full': 1,\n",
    " 'disk error': 1,\n",
    " 'add user': 2,\n",
    " 'delete user': 2,\n",
    " 'create user': 2,\n",
    " 'modify user': 2}"
   ]
  },
  {
   "cell_type": "code",
   "execution_count": 8,
   "id": "f3f04cee-2112-4ad9-9e26-db24c0151ed2",
   "metadata": {},
   "outputs": [],
   "source": [
    "df_set = dataset_to_df(support_tickets['train'], \n",
    "                       label=label_name_dict)"
   ]
  },
  {
   "cell_type": "code",
   "execution_count": 9,
   "id": "46c459f2-8684-44e8-9c09-653ef8654342",
   "metadata": {},
   "outputs": [
    {
     "data": {
      "text/html": [
       "<div>\n",
       "<style scoped>\n",
       "    .dataframe tbody tr th:only-of-type {\n",
       "        vertical-align: middle;\n",
       "    }\n",
       "\n",
       "    .dataframe tbody tr th {\n",
       "        vertical-align: top;\n",
       "    }\n",
       "\n",
       "    .dataframe thead th {\n",
       "        text-align: right;\n",
       "    }\n",
       "</style>\n",
       "<table border=\"1\" class=\"dataframe\">\n",
       "  <thead>\n",
       "    <tr style=\"text-align: right;\">\n",
       "      <th></th>\n",
       "      <th>subject</th>\n",
       "      <th>description</th>\n",
       "      <th>key_phrase</th>\n",
       "      <th>class</th>\n",
       "      <th>label</th>\n",
       "    </tr>\n",
       "  </thead>\n",
       "  <tbody>\n",
       "    <tr>\n",
       "      <th>0</th>\n",
       "      <td>Revoke User Access</td>\n",
       "      <td>A user who has left the company still has acce...</td>\n",
       "      <td>revoke access</td>\n",
       "      <td>access</td>\n",
       "      <td>3</td>\n",
       "    </tr>\n",
       "    <tr>\n",
       "      <th>1</th>\n",
       "      <td>Revoke Access to Shared Drive</td>\n",
       "      <td>An employee no longer requires access to the s...</td>\n",
       "      <td>revoke access</td>\n",
       "      <td>access</td>\n",
       "      <td>3</td>\n",
       "    </tr>\n",
       "    <tr>\n",
       "      <th>2</th>\n",
       "      <td>Revoke VPN Access</td>\n",
       "      <td>Please remove VPN access for an ex-contractor ...</td>\n",
       "      <td>revoke access</td>\n",
       "      <td>access</td>\n",
       "      <td>3</td>\n",
       "    </tr>\n",
       "    <tr>\n",
       "      <th>3</th>\n",
       "      <td>Urgent: Revoke Unauthorized Access</td>\n",
       "      <td>We suspect unauthorized access to the database...</td>\n",
       "      <td>revoke access</td>\n",
       "      <td>access</td>\n",
       "      <td>3</td>\n",
       "    </tr>\n",
       "    <tr>\n",
       "      <th>4</th>\n",
       "      <td>Remove Admin Privileges</td>\n",
       "      <td>Revoke access to admin tools for a user who no...</td>\n",
       "      <td>revoke access</td>\n",
       "      <td>access</td>\n",
       "      <td>3</td>\n",
       "    </tr>\n",
       "  </tbody>\n",
       "</table>\n",
       "</div>"
      ],
      "text/plain": [
       "                              subject  \\\n",
       "0                  Revoke User Access   \n",
       "1       Revoke Access to Shared Drive   \n",
       "2                   Revoke VPN Access   \n",
       "3  Urgent: Revoke Unauthorized Access   \n",
       "4             Remove Admin Privileges   \n",
       "\n",
       "                                         description     key_phrase   class  \\\n",
       "0  A user who has left the company still has acce...  revoke access  access   \n",
       "1  An employee no longer requires access to the s...  revoke access  access   \n",
       "2  Please remove VPN access for an ex-contractor ...  revoke access  access   \n",
       "3  We suspect unauthorized access to the database...  revoke access  access   \n",
       "4  Revoke access to admin tools for a user who no...  revoke access  access   \n",
       "\n",
       "   label  \n",
       "0      3  \n",
       "1      3  \n",
       "2      3  \n",
       "3      3  \n",
       "4      3  "
      ]
     },
     "execution_count": 9,
     "metadata": {},
     "output_type": "execute_result"
    }
   ],
   "source": [
    "df_set.head()\n"
   ]
  },
  {
   "cell_type": "markdown",
   "id": "2ca019e8-7653-4a8a-854e-188a0cc5f400",
   "metadata": {},
   "source": [
    "df_set"
   ]
  },
  {
   "cell_type": "code",
   "execution_count": 10,
   "id": "85828428-668e-4a58-a092-86db1cb73ed8",
   "metadata": {},
   "outputs": [
    {
     "data": {
      "text/plain": [
       "array([838,  10, 251, ..., 482, 481, 732], dtype=int64)"
      ]
     },
     "execution_count": 10,
     "metadata": {},
     "output_type": "execute_result"
    }
   ],
   "source": [
    "random_index = np.random.permutation(df_set.index)\n",
    "random_index"
   ]
  },
  {
   "cell_type": "code",
   "execution_count": 11,
   "id": "e7368c38-3b24-4897-93da-e0ff47da8b7c",
   "metadata": {},
   "outputs": [
    {
     "data": {
      "text/plain": [
       "{'train': array([ 838,   10,  251,  822,  761,  725,   91,  302,  864,  294,  610,\n",
       "         182,  199,  705,  295,  449,  662,  459,  570,  629,  441,  829,\n",
       "         666,  446,  906,  160,  698,  515,   69,  771,  508,  313,  447,\n",
       "         228, 1064,  765,  930,  322,  124,  258,  438,  910,  298,  759,\n",
       "         271,  434,  975,  270,  918, 1065,  895,   71,  126,  326,  686,\n",
       "         492,  991,  622,  788,  559,  845,  480,  100,  729,  685,   81,\n",
       "         479, 1037,  475,  665,  103,  219,  566,  292,  746,   63,  468,\n",
       "         532,  955,   66,  933,  952,  325,   57,  552,  187,   90,  567,\n",
       "         839,  661, 1055,   55,  977,  491,  361,  358,  831,  641,  737,\n",
       "          17,  535,   34,  578,  319,  694,  919,  369,  588,  467,  937,\n",
       "         699,  626,  950,  653,  814,  153,   72,  727,  162,  844,  345,\n",
       "         548,  427,   51,  893,  720,  638,  672,  787,  204,  300,  266,\n",
       "         987,   45,  556, 1070,  669, 1010,  495,    2,  828,  792,  395,\n",
       "        1039,   54,  942,  164,  381, 1036,  572,  230,  186,   46,  287,\n",
       "         509,  212,  565,  730,  782,   40,  523,  926,  453,  929,  211,\n",
       "         789,  502,  456,  809,  487,  684,  400,  150,  157, 1063,  678,\n",
       "         614,  301,  314,  299,  411,  167,  707,   20,  985,   14,  561,\n",
       "         776, 1056,  584,  463,   79,  706,  812,  595,  859,  690,  912,\n",
       "         115,  608,  892,  555,  574,  928, 1069, 1048,  328,  108,    0,\n",
       "         749,  104,  642,   32,  715,  505,  203,  377,  113,  289,  710,\n",
       "         315,  607,   78,  630,  371,  590,  846,  885,  420,   60,  852,\n",
       "         192, 1038,  391,  521, 1068,  780,  524,   16,  225,  528, 1001,\n",
       "        1031,  347,  123,  363,  941,  687,   23,  336,   44,  923,  936,\n",
       "         368, 1061,  873,  718,  560,  540,  786,  135,  971,  575,  599,\n",
       "         141,  180,  413,  745,   82, 1012,  291,  657,  881,  500,  618,\n",
       "         197,  274,  149, 1008, 1062,  245,  248,  868, 1018,  817,  242,\n",
       "        1060, 1047,  913,  596,  931,  833,    7,  800,  778,  571,  224,\n",
       "          68,  497,  136,  429,  276,  593,   47,  359,  262,  311,  156,\n",
       "         611,  233,  954,   70,  676,  731,  853,  908,  733,   21,  293,\n",
       "         884,  244, 1009,  711,  183,  159,  550,  810,  858,  586,  770,\n",
       "         658,  516, 1049,  856,  458,  419,  379,  735,  353,  769,  882,\n",
       "         968,  263,  247,  367,  637,  316,  342,  887,  620,  332,   94,\n",
       "         173,   86,  213,  997,  775,  146,  890,  382,  634,  519, 1024,\n",
       "         825,   83,   37,  999,  961,  536,  526, 1043,  408,  811,  762,\n",
       "         452,  943,  760,  370,  646,  279,  891,  625,   76,   49,   11,\n",
       "        1027,  423,  392,  713,  712,   38,   88,  813,    4,  902,  992,\n",
       "         582,  752,  681,  537,  520,  355,  944,   50,  656,  781, 1019,\n",
       "         165,  819,  790,  397,  376,  284,   92, 1073,  177,  855,  691,\n",
       "         414,  257,  451,  743,  724,  927,  660,  674,  461,  318, 1026,\n",
       "         542,  958,  309,  206,  848,  777,  804,  221,  704,   42,  105,\n",
       "         486,  744,  217,  312,  357,  393,   19,  613,   85,   87,  801,\n",
       "          26,  281,  422,  738,  925, 1025,  349,  836,  137,  794,  285,\n",
       "        1058,  636,  648,  117,  179,  421,  664,   67, 1017,  511,  234,\n",
       "         917, 1029,  768,  235,  477,  365,  764,  214,  797,  147,  190,\n",
       "         398,  304,  464,  970,  444,  170,  796,  689,  317,  333,  513,\n",
       "         709,  102,  798,  527,  132,  307,  378,  551,  763,  220,   22,\n",
       "         236,  717,  109,  886,  194,  960,  802,  688,  633,  534,   18,\n",
       "         390,  969,  823,    6,  870,  154,  417,  362,  576,  867,  598,\n",
       "         826,  176,  250,  216, 1015,  645,  283,  543,  522,   13,  356,\n",
       "         914,  549,  723,  200,  754, 1067,  457,  756,  932,    9,  739,\n",
       "         133,  373,   93,  352,  261,  757,  483,  518, 1014, 1035,  351,\n",
       "         435,  273,  386,  231,  816,   62,  784,  238,  469,   30,  338,\n",
       "         426,  139,  144,  466,  617,  387,  161,  152,  134,   39,  454,\n",
       "         410,  539,  851,  303,  529,  405,  407,  320,   35,  493,  857,\n",
       "         178,  472,  406, 1000,  982,  412,  905,  652,  605,  671,  934,\n",
       "         990,  546,  383,  101,  924,  127,  601,  305, 1040,  443,  280,\n",
       "         670,  808,  269,   41,   80,  394,  323,   98, 1074,  215,  806,\n",
       "         785,  506,  296,  861,  158,  719,  983,  265,  824,  409,  900,\n",
       "         499,  374,   95,  947,  945,  953,  815], dtype=int64),\n",
       " 'valid': array([ 380,  308,  240,  964,  249,  692,  267,  196,  668,  877,  517,\n",
       "         700,  142,  747,  896,  568,  138,  530,  585,  741,  385,  440,\n",
       "         237,   84,  558,  531,  772,  635,  673,  460,  894,  783,   65,\n",
       "         680,  348,  994,  755,   89,   48,  545, 1045,  978,  888,  569,\n",
       "         389,  742,  897,  544,  907,  966,  433, 1006,  854,  448,  594,\n",
       "          58,  979, 1046,  341,  399,   12,  327,  346,  424,   99,  557,\n",
       "         874,  553,  973,  340, 1059,   53,  122,  437,   27,  455,  501,\n",
       "         418, 1028,  847,  946,  128,   64,   96,  428,  166,  202,  714,\n",
       "         655,  344,  114,  151,  404, 1066,  693,  682,  600,  573,  275,\n",
       "         504,  820, 1072,  889,  962,  375,  533,  476,  728,  188,  619,\n",
       "         243,   36,  650,  223,  773,  834,  232,  592,  615,  989,  184,\n",
       "         843,  450,   75,  795,  140,  911,  976,  863, 1071,  168,  748,\n",
       "        1020,  779,  753,  554,  957,  445,  563, 1007,  169,  736,  462,\n",
       "        1016,  577,   97,  959,  343,  951,  272,  442,  181,  288,  667,\n",
       "         329,  901,  185, 1051,   33,  984,  488,  205,  722,  677,  915,\n",
       "         241,  489,  972,  878,  621,  335,  439, 1032, 1030,  774,   28,\n",
       "         904,  564,  581,  865, 1042,  597,  922,  201,  860,  229,   73,\n",
       "         484,  163,  354,  494,  297,   59,  478,  850,  111,  875,  432,\n",
       "         623, 1021,  876,  591,  696,    1,  916,  818,  155,  278,  583,\n",
       "         189,  830,  841,   52,  580], dtype=int64),\n",
       " 'test': array([ 708,  388,  366,  835,  647,  324,  465,  474,  649,  430,  938,\n",
       "         921,  120,  988,  862,  525,  227,  940,  210, 1023,   24,  974,\n",
       "         512,  286,   25,  799,  869,  998,  654,  143,  310,  145,  758,\n",
       "         290,  209,  842,  683, 1054,  750,  471,  415,  849,  514,  631,\n",
       "         195, 1057,  384,  218, 1005,  821,  207,  254,  119,  193,  239,\n",
       "         879,  171, 1034,  939,  702,  148,  751,  898,  485,  606,   74,\n",
       "         903,  603,  740, 1013,  372,  701,  198,  364,  716, 1004,  651,\n",
       "         643,  604,  675,  807,  659,  562,  538,  253,   77,  431, 1041,\n",
       "           5,  172,  766,  256,  541,  131,   29,  360,  350,  264,  174,\n",
       "         587,  909,  920,  112,  837,  993,  436,  616,  121,  277,   61,\n",
       "         679,  967,  129,  282,   43,  697,  963,  331,  547,  507,  175,\n",
       "        1044,  107,  899,  403,  208,  490,  130,  579,  883,  496,  996,\n",
       "         106,  246,  965,  321,  402,  980,  956,  803,  624,  871,  609,\n",
       "         116,  396,  995,  470, 1053,  337,  628,  330,  222,  866,  498,\n",
       "         726, 1011,    8,  612,  832, 1033,  118,  840,  827,    3,  639,\n",
       "         401,  703,  805,  268,  339,  935,  110,   31,  334,  734,  791,\n",
       "         986,  880,  632,  602,   56,  260,  306,  226, 1050, 1002,  473,\n",
       "         125,  503,  695,  949,  767,  721,  425,  416,  640,  793,  255,\n",
       "         252,  510,  259,   15,  981,  663, 1003, 1052,  627, 1022,  191,\n",
       "         644,  589,  482,  481,  732], dtype=int64)}"
      ]
     },
     "execution_count": 11,
     "metadata": {},
     "output_type": "execute_result"
    }
   ],
   "source": [
    "subsets = ['train','valid','test']\n",
    "train_ratio = 0.6\n",
    "lng = len(random_index)\n",
    "train_start = 0\n",
    "train_end = int(lng*train_ratio)\n",
    "\n",
    "val_ratio = 0.2\n",
    "val_start = train_end+1\n",
    "val_end = int(lng*(train_ratio+val_ratio))\n",
    "\n",
    "test_start = val_end + 1 \n",
    "test_end = lng\n",
    "\n",
    "split_ind = np.array([[train_start,train_end],\n",
    "                      [val_start,val_end],\n",
    "                      [test_start,test_end]])\n",
    "\n",
    "ind2subset = {key:random_index[split_ind[i][0]:split_ind[i][1]] for i,key in enumerate(subsets)}\n",
    "ind2subset"
   ]
  },
  {
   "cell_type": "code",
   "execution_count": 31,
   "id": "f9af4e6b-9717-48db-a44f-c9607b4cec5e",
   "metadata": {},
   "outputs": [
    {
     "data": {
      "text/plain": [
       "array([5, 0, 4, 2, 3, 1], dtype=int64)"
      ]
     },
     "execution_count": 31,
     "metadata": {},
     "output_type": "execute_result"
    }
   ],
   "source": [
    "df_set.iloc[ind2subset['valid']]['label'].unique()"
   ]
  },
  {
   "cell_type": "markdown",
   "id": "6109c01d-879b-418f-a175-39a0d277af20",
   "metadata": {},
   "source": [
    "<b>1.3 Create a Dataset with Train, Validation and Test splits</b>"
   ]
  },
  {
   "cell_type": "code",
   "execution_count": 13,
   "id": "21ddef4f-3947-48f4-89e8-7447379adf72",
   "metadata": {},
   "outputs": [
    {
     "data": {
      "text/plain": [
       "DatasetDict({\n",
       "    train: Dataset({\n",
       "        features: ['subject', 'description', 'key_phrase', 'class', 'label', '__index_level_0__'],\n",
       "        num_rows: 645\n",
       "    })\n",
       "    valid: Dataset({\n",
       "        features: ['subject', 'description', 'key_phrase', 'class', 'label', '__index_level_0__'],\n",
       "        num_rows: 214\n",
       "    })\n",
       "    test: Dataset({\n",
       "        features: ['subject', 'description', 'key_phrase', 'class', 'label', '__index_level_0__'],\n",
       "        num_rows: 214\n",
       "    })\n",
       "})"
      ]
     },
     "execution_count": 13,
     "metadata": {},
     "output_type": "execute_result"
    }
   ],
   "source": [
    "ds_splits = DatasetDict({\n",
    "                        'train': Dataset.from_pandas(\n",
    "                                                    df_set.iloc[ind2subset['train']]\n",
    "                                                    ),\n",
    "                        'valid': Dataset.from_pandas(\n",
    "                                                    df_set.iloc[ind2subset['valid']]\n",
    "                                                    ),\n",
    "                        'test': Dataset.from_pandas(\n",
    "                                                    df_set.iloc[ind2subset['test']]\n",
    "                                                    )\n",
    "                        })\n",
    "ds_splits"
   ]
  },
  {
   "cell_type": "code",
   "execution_count": 14,
   "id": "de527a40-d6e0-406f-95aa-bcc41d7d8223",
   "metadata": {},
   "outputs": [
    {
     "data": {
      "text/plain": [
       "DatasetDict({\n",
       "    train: Dataset({\n",
       "        features: ['subject', 'description', 'key_phrase', 'class', 'label', '__index_level_0__'],\n",
       "        num_rows: 645\n",
       "    })\n",
       "    valid: Dataset({\n",
       "        features: ['subject', 'description', 'key_phrase', 'class', 'label', '__index_level_0__'],\n",
       "        num_rows: 214\n",
       "    })\n",
       "    test: Dataset({\n",
       "        features: ['subject', 'description', 'key_phrase', 'class', 'label', '__index_level_0__'],\n",
       "        num_rows: 214\n",
       "    })\n",
       "})"
      ]
     },
     "execution_count": 14,
     "metadata": {},
     "output_type": "execute_result"
    }
   ],
   "source": [
    "subsets = ['train','valid','test']\n",
    "split_dict = { key: Dataset.from_pandas(df_set.iloc[ind2subset[key]]) for key in subsets}\n",
    "support_tickets_splits = DatasetDict(split_dict)\n",
    "support_tickets_splits"
   ]
  },
  {
   "cell_type": "markdown",
   "id": "2bf82a01",
   "metadata": {},
   "source": [
    "### 2. Train BERT base Model"
   ]
  },
  {
   "cell_type": "markdown",
   "id": "4014827b-2f92-457b-83be-7709943a0746",
   "metadata": {},
   "source": [
    "<b>2.1 Load model from HuggingFace Hub</b>"
   ]
  },
  {
   "cell_type": "code",
   "execution_count": 32,
   "id": "aa14cce7-dd90-439e-aa96-f743f10cee4e",
   "metadata": {},
   "outputs": [
    {
     "data": {
      "text/plain": [
       "{'user': 0,\n",
       " 'servers': 1,\n",
       " 'printer': 2,\n",
       " 'access': 3,\n",
       " 'network': 4,\n",
       " 'storage': 5}"
      ]
     },
     "execution_count": 32,
     "metadata": {},
     "output_type": "execute_result"
    }
   ],
   "source": [
    "label_name_dict"
   ]
  },
  {
   "cell_type": "code",
   "execution_count": 66,
   "id": "ec0311bd",
   "metadata": {},
   "outputs": [],
   "source": [
    "model_path = \"google-bert/bert-base-uncased\"\n",
    "#model_path = 'distilbert-base-uncased'\n",
    "\n",
    "tokenizer = AutoTokenizer.from_pretrained(model_path)\n",
    "\n",
    "label2id = label_name_dict.copy()\n",
    "id2label = {label2id[key]:key for key in label2id}\n",
    "#id2label = {0: \"access\", 1: \"disk\", 2: \"user\"}\n",
    "#label2id = {id2label[key]:key for key in id2label}\n",
    "\n",
    "model = AutoModelForSequenceClassification.from_pretrained(model_path, \n",
    "                                                           num_labels=len(list(id2label.keys())), \n",
    "                                                           id2label=id2label, \n",
    "                                                           label2id=label2id\n",
    "                                                          )"
   ]
  },
  {
   "cell_type": "code",
   "execution_count": 34,
   "id": "c5c1b471-fadb-44d5-8e42-f827749a6478",
   "metadata": {},
   "outputs": [
    {
     "data": {
      "text/plain": [
       "{'user': 0,\n",
       " 'servers': 1,\n",
       " 'printer': 2,\n",
       " 'access': 3,\n",
       " 'network': 4,\n",
       " 'storage': 5}"
      ]
     },
     "execution_count": 34,
     "metadata": {},
     "output_type": "execute_result"
    }
   ],
   "source": [
    "label2id"
   ]
  },
  {
   "cell_type": "code",
   "execution_count": 35,
   "id": "66136d81-b7f6-4125-849e-4e0199afda7f",
   "metadata": {},
   "outputs": [
    {
     "data": {
      "text/plain": [
       "{0: 'user',\n",
       " 1: 'servers',\n",
       " 2: 'printer',\n",
       " 3: 'access',\n",
       " 4: 'network',\n",
       " 5: 'storage'}"
      ]
     },
     "execution_count": 35,
     "metadata": {},
     "output_type": "execute_result"
    }
   ],
   "source": [
    "id2label"
   ]
  },
  {
   "cell_type": "markdown",
   "id": "826084b6",
   "metadata": {},
   "source": [
    "<b>2.2 Viz Model Stru</b>"
   ]
  },
  {
   "cell_type": "code",
   "execution_count": 36,
   "id": "03aa44f2",
   "metadata": {
    "scrolled": true
   },
   "outputs": [
    {
     "name": "stdout",
     "output_type": "stream",
     "text": [
      "bert.embeddings.word_embeddings.weight True\n",
      "bert.embeddings.position_embeddings.weight True\n",
      "bert.embeddings.token_type_embeddings.weight True\n",
      "bert.embeddings.LayerNorm.weight True\n",
      "bert.embeddings.LayerNorm.bias True\n",
      "bert.encoder.layer.0.attention.self.query.weight True\n",
      "bert.encoder.layer.0.attention.self.query.bias True\n",
      "bert.encoder.layer.0.attention.self.key.weight True\n",
      "bert.encoder.layer.0.attention.self.key.bias True\n",
      "bert.encoder.layer.0.attention.self.value.weight True\n",
      "bert.encoder.layer.0.attention.self.value.bias True\n",
      "bert.encoder.layer.0.attention.output.dense.weight True\n",
      "bert.encoder.layer.0.attention.output.dense.bias True\n",
      "bert.encoder.layer.0.attention.output.LayerNorm.weight True\n",
      "bert.encoder.layer.0.attention.output.LayerNorm.bias True\n",
      "bert.encoder.layer.0.intermediate.dense.weight True\n",
      "bert.encoder.layer.0.intermediate.dense.bias True\n",
      "bert.encoder.layer.0.output.dense.weight True\n",
      "bert.encoder.layer.0.output.dense.bias True\n",
      "bert.encoder.layer.0.output.LayerNorm.weight True\n",
      "bert.encoder.layer.0.output.LayerNorm.bias True\n",
      "bert.encoder.layer.1.attention.self.query.weight True\n",
      "bert.encoder.layer.1.attention.self.query.bias True\n",
      "bert.encoder.layer.1.attention.self.key.weight True\n",
      "bert.encoder.layer.1.attention.self.key.bias True\n",
      "bert.encoder.layer.1.attention.self.value.weight True\n",
      "bert.encoder.layer.1.attention.self.value.bias True\n",
      "bert.encoder.layer.1.attention.output.dense.weight True\n",
      "bert.encoder.layer.1.attention.output.dense.bias True\n",
      "bert.encoder.layer.1.attention.output.LayerNorm.weight True\n",
      "bert.encoder.layer.1.attention.output.LayerNorm.bias True\n",
      "bert.encoder.layer.1.intermediate.dense.weight True\n",
      "bert.encoder.layer.1.intermediate.dense.bias True\n",
      "bert.encoder.layer.1.output.dense.weight True\n",
      "bert.encoder.layer.1.output.dense.bias True\n",
      "bert.encoder.layer.1.output.LayerNorm.weight True\n",
      "bert.encoder.layer.1.output.LayerNorm.bias True\n",
      "bert.encoder.layer.2.attention.self.query.weight True\n",
      "bert.encoder.layer.2.attention.self.query.bias True\n",
      "bert.encoder.layer.2.attention.self.key.weight True\n",
      "bert.encoder.layer.2.attention.self.key.bias True\n",
      "bert.encoder.layer.2.attention.self.value.weight True\n",
      "bert.encoder.layer.2.attention.self.value.bias True\n",
      "bert.encoder.layer.2.attention.output.dense.weight True\n",
      "bert.encoder.layer.2.attention.output.dense.bias True\n",
      "bert.encoder.layer.2.attention.output.LayerNorm.weight True\n",
      "bert.encoder.layer.2.attention.output.LayerNorm.bias True\n",
      "bert.encoder.layer.2.intermediate.dense.weight True\n",
      "bert.encoder.layer.2.intermediate.dense.bias True\n",
      "bert.encoder.layer.2.output.dense.weight True\n",
      "bert.encoder.layer.2.output.dense.bias True\n",
      "bert.encoder.layer.2.output.LayerNorm.weight True\n",
      "bert.encoder.layer.2.output.LayerNorm.bias True\n",
      "bert.encoder.layer.3.attention.self.query.weight True\n",
      "bert.encoder.layer.3.attention.self.query.bias True\n",
      "bert.encoder.layer.3.attention.self.key.weight True\n",
      "bert.encoder.layer.3.attention.self.key.bias True\n",
      "bert.encoder.layer.3.attention.self.value.weight True\n",
      "bert.encoder.layer.3.attention.self.value.bias True\n",
      "bert.encoder.layer.3.attention.output.dense.weight True\n",
      "bert.encoder.layer.3.attention.output.dense.bias True\n",
      "bert.encoder.layer.3.attention.output.LayerNorm.weight True\n",
      "bert.encoder.layer.3.attention.output.LayerNorm.bias True\n",
      "bert.encoder.layer.3.intermediate.dense.weight True\n",
      "bert.encoder.layer.3.intermediate.dense.bias True\n",
      "bert.encoder.layer.3.output.dense.weight True\n",
      "bert.encoder.layer.3.output.dense.bias True\n",
      "bert.encoder.layer.3.output.LayerNorm.weight True\n",
      "bert.encoder.layer.3.output.LayerNorm.bias True\n",
      "bert.encoder.layer.4.attention.self.query.weight True\n",
      "bert.encoder.layer.4.attention.self.query.bias True\n",
      "bert.encoder.layer.4.attention.self.key.weight True\n",
      "bert.encoder.layer.4.attention.self.key.bias True\n",
      "bert.encoder.layer.4.attention.self.value.weight True\n",
      "bert.encoder.layer.4.attention.self.value.bias True\n",
      "bert.encoder.layer.4.attention.output.dense.weight True\n",
      "bert.encoder.layer.4.attention.output.dense.bias True\n",
      "bert.encoder.layer.4.attention.output.LayerNorm.weight True\n",
      "bert.encoder.layer.4.attention.output.LayerNorm.bias True\n",
      "bert.encoder.layer.4.intermediate.dense.weight True\n",
      "bert.encoder.layer.4.intermediate.dense.bias True\n",
      "bert.encoder.layer.4.output.dense.weight True\n",
      "bert.encoder.layer.4.output.dense.bias True\n",
      "bert.encoder.layer.4.output.LayerNorm.weight True\n",
      "bert.encoder.layer.4.output.LayerNorm.bias True\n",
      "bert.encoder.layer.5.attention.self.query.weight True\n",
      "bert.encoder.layer.5.attention.self.query.bias True\n",
      "bert.encoder.layer.5.attention.self.key.weight True\n",
      "bert.encoder.layer.5.attention.self.key.bias True\n",
      "bert.encoder.layer.5.attention.self.value.weight True\n",
      "bert.encoder.layer.5.attention.self.value.bias True\n",
      "bert.encoder.layer.5.attention.output.dense.weight True\n",
      "bert.encoder.layer.5.attention.output.dense.bias True\n",
      "bert.encoder.layer.5.attention.output.LayerNorm.weight True\n",
      "bert.encoder.layer.5.attention.output.LayerNorm.bias True\n",
      "bert.encoder.layer.5.intermediate.dense.weight True\n",
      "bert.encoder.layer.5.intermediate.dense.bias True\n",
      "bert.encoder.layer.5.output.dense.weight True\n",
      "bert.encoder.layer.5.output.dense.bias True\n",
      "bert.encoder.layer.5.output.LayerNorm.weight True\n",
      "bert.encoder.layer.5.output.LayerNorm.bias True\n",
      "bert.encoder.layer.6.attention.self.query.weight True\n",
      "bert.encoder.layer.6.attention.self.query.bias True\n",
      "bert.encoder.layer.6.attention.self.key.weight True\n",
      "bert.encoder.layer.6.attention.self.key.bias True\n",
      "bert.encoder.layer.6.attention.self.value.weight True\n",
      "bert.encoder.layer.6.attention.self.value.bias True\n",
      "bert.encoder.layer.6.attention.output.dense.weight True\n",
      "bert.encoder.layer.6.attention.output.dense.bias True\n",
      "bert.encoder.layer.6.attention.output.LayerNorm.weight True\n",
      "bert.encoder.layer.6.attention.output.LayerNorm.bias True\n",
      "bert.encoder.layer.6.intermediate.dense.weight True\n",
      "bert.encoder.layer.6.intermediate.dense.bias True\n",
      "bert.encoder.layer.6.output.dense.weight True\n",
      "bert.encoder.layer.6.output.dense.bias True\n",
      "bert.encoder.layer.6.output.LayerNorm.weight True\n",
      "bert.encoder.layer.6.output.LayerNorm.bias True\n",
      "bert.encoder.layer.7.attention.self.query.weight True\n",
      "bert.encoder.layer.7.attention.self.query.bias True\n",
      "bert.encoder.layer.7.attention.self.key.weight True\n",
      "bert.encoder.layer.7.attention.self.key.bias True\n",
      "bert.encoder.layer.7.attention.self.value.weight True\n",
      "bert.encoder.layer.7.attention.self.value.bias True\n",
      "bert.encoder.layer.7.attention.output.dense.weight True\n",
      "bert.encoder.layer.7.attention.output.dense.bias True\n",
      "bert.encoder.layer.7.attention.output.LayerNorm.weight True\n",
      "bert.encoder.layer.7.attention.output.LayerNorm.bias True\n",
      "bert.encoder.layer.7.intermediate.dense.weight True\n",
      "bert.encoder.layer.7.intermediate.dense.bias True\n",
      "bert.encoder.layer.7.output.dense.weight True\n",
      "bert.encoder.layer.7.output.dense.bias True\n",
      "bert.encoder.layer.7.output.LayerNorm.weight True\n",
      "bert.encoder.layer.7.output.LayerNorm.bias True\n",
      "bert.encoder.layer.8.attention.self.query.weight True\n",
      "bert.encoder.layer.8.attention.self.query.bias True\n",
      "bert.encoder.layer.8.attention.self.key.weight True\n",
      "bert.encoder.layer.8.attention.self.key.bias True\n",
      "bert.encoder.layer.8.attention.self.value.weight True\n",
      "bert.encoder.layer.8.attention.self.value.bias True\n",
      "bert.encoder.layer.8.attention.output.dense.weight True\n",
      "bert.encoder.layer.8.attention.output.dense.bias True\n",
      "bert.encoder.layer.8.attention.output.LayerNorm.weight True\n",
      "bert.encoder.layer.8.attention.output.LayerNorm.bias True\n",
      "bert.encoder.layer.8.intermediate.dense.weight True\n",
      "bert.encoder.layer.8.intermediate.dense.bias True\n",
      "bert.encoder.layer.8.output.dense.weight True\n",
      "bert.encoder.layer.8.output.dense.bias True\n",
      "bert.encoder.layer.8.output.LayerNorm.weight True\n",
      "bert.encoder.layer.8.output.LayerNorm.bias True\n",
      "bert.encoder.layer.9.attention.self.query.weight True\n",
      "bert.encoder.layer.9.attention.self.query.bias True\n",
      "bert.encoder.layer.9.attention.self.key.weight True\n",
      "bert.encoder.layer.9.attention.self.key.bias True\n",
      "bert.encoder.layer.9.attention.self.value.weight True\n",
      "bert.encoder.layer.9.attention.self.value.bias True\n",
      "bert.encoder.layer.9.attention.output.dense.weight True\n",
      "bert.encoder.layer.9.attention.output.dense.bias True\n",
      "bert.encoder.layer.9.attention.output.LayerNorm.weight True\n",
      "bert.encoder.layer.9.attention.output.LayerNorm.bias True\n",
      "bert.encoder.layer.9.intermediate.dense.weight True\n",
      "bert.encoder.layer.9.intermediate.dense.bias True\n",
      "bert.encoder.layer.9.output.dense.weight True\n",
      "bert.encoder.layer.9.output.dense.bias True\n",
      "bert.encoder.layer.9.output.LayerNorm.weight True\n",
      "bert.encoder.layer.9.output.LayerNorm.bias True\n",
      "bert.encoder.layer.10.attention.self.query.weight True\n",
      "bert.encoder.layer.10.attention.self.query.bias True\n",
      "bert.encoder.layer.10.attention.self.key.weight True\n",
      "bert.encoder.layer.10.attention.self.key.bias True\n",
      "bert.encoder.layer.10.attention.self.value.weight True\n",
      "bert.encoder.layer.10.attention.self.value.bias True\n",
      "bert.encoder.layer.10.attention.output.dense.weight True\n",
      "bert.encoder.layer.10.attention.output.dense.bias True\n",
      "bert.encoder.layer.10.attention.output.LayerNorm.weight True\n",
      "bert.encoder.layer.10.attention.output.LayerNorm.bias True\n",
      "bert.encoder.layer.10.intermediate.dense.weight True\n",
      "bert.encoder.layer.10.intermediate.dense.bias True\n",
      "bert.encoder.layer.10.output.dense.weight True\n",
      "bert.encoder.layer.10.output.dense.bias True\n",
      "bert.encoder.layer.10.output.LayerNorm.weight True\n",
      "bert.encoder.layer.10.output.LayerNorm.bias True\n",
      "bert.encoder.layer.11.attention.self.query.weight True\n",
      "bert.encoder.layer.11.attention.self.query.bias True\n",
      "bert.encoder.layer.11.attention.self.key.weight True\n",
      "bert.encoder.layer.11.attention.self.key.bias True\n",
      "bert.encoder.layer.11.attention.self.value.weight True\n",
      "bert.encoder.layer.11.attention.self.value.bias True\n",
      "bert.encoder.layer.11.attention.output.dense.weight True\n",
      "bert.encoder.layer.11.attention.output.dense.bias True\n",
      "bert.encoder.layer.11.attention.output.LayerNorm.weight True\n",
      "bert.encoder.layer.11.attention.output.LayerNorm.bias True\n",
      "bert.encoder.layer.11.intermediate.dense.weight True\n",
      "bert.encoder.layer.11.intermediate.dense.bias True\n",
      "bert.encoder.layer.11.output.dense.weight True\n",
      "bert.encoder.layer.11.output.dense.bias True\n",
      "bert.encoder.layer.11.output.LayerNorm.weight True\n",
      "bert.encoder.layer.11.output.LayerNorm.bias True\n",
      "bert.pooler.dense.weight True\n",
      "bert.pooler.dense.bias True\n",
      "classifier.weight True\n",
      "classifier.bias True\n"
     ]
    }
   ],
   "source": [
    "# print layers\n",
    "for name, param in model.named_parameters():\n",
    "   print(name, param.requires_grad)"
   ]
  },
  {
   "cell_type": "markdown",
   "id": "4e2e3400-8a57-4ff7-a1ae-cc9e212e1d92",
   "metadata": {},
   "source": [
    "<b>2.3 Freeze base model</b>"
   ]
  },
  {
   "cell_type": "code",
   "execution_count": 37,
   "id": "9b569296",
   "metadata": {},
   "outputs": [],
   "source": [
    "# freeze base model parameters and unfreeze base model pooling layers\n",
    "for name, param in model.base_model.named_parameters():\n",
    "    if \"pooler\" in name:\n",
    "        param.requires_grad = True\n",
    "    else:\n",
    "        param.requires_grad = False"
   ]
  },
  {
   "cell_type": "code",
   "execution_count": 38,
   "id": "161d7c59",
   "metadata": {
    "scrolled": true
   },
   "outputs": [
    {
     "name": "stdout",
     "output_type": "stream",
     "text": [
      "bert.embeddings.word_embeddings.weight False\n",
      "bert.embeddings.position_embeddings.weight False\n",
      "bert.embeddings.token_type_embeddings.weight False\n",
      "bert.embeddings.LayerNorm.weight False\n",
      "bert.embeddings.LayerNorm.bias False\n",
      "bert.encoder.layer.0.attention.self.query.weight False\n",
      "bert.encoder.layer.0.attention.self.query.bias False\n",
      "bert.encoder.layer.0.attention.self.key.weight False\n",
      "bert.encoder.layer.0.attention.self.key.bias False\n",
      "bert.encoder.layer.0.attention.self.value.weight False\n",
      "bert.encoder.layer.0.attention.self.value.bias False\n",
      "bert.encoder.layer.0.attention.output.dense.weight False\n",
      "bert.encoder.layer.0.attention.output.dense.bias False\n",
      "bert.encoder.layer.0.attention.output.LayerNorm.weight False\n",
      "bert.encoder.layer.0.attention.output.LayerNorm.bias False\n",
      "bert.encoder.layer.0.intermediate.dense.weight False\n",
      "bert.encoder.layer.0.intermediate.dense.bias False\n",
      "bert.encoder.layer.0.output.dense.weight False\n",
      "bert.encoder.layer.0.output.dense.bias False\n",
      "bert.encoder.layer.0.output.LayerNorm.weight False\n",
      "bert.encoder.layer.0.output.LayerNorm.bias False\n",
      "bert.encoder.layer.1.attention.self.query.weight False\n",
      "bert.encoder.layer.1.attention.self.query.bias False\n",
      "bert.encoder.layer.1.attention.self.key.weight False\n",
      "bert.encoder.layer.1.attention.self.key.bias False\n",
      "bert.encoder.layer.1.attention.self.value.weight False\n",
      "bert.encoder.layer.1.attention.self.value.bias False\n",
      "bert.encoder.layer.1.attention.output.dense.weight False\n",
      "bert.encoder.layer.1.attention.output.dense.bias False\n",
      "bert.encoder.layer.1.attention.output.LayerNorm.weight False\n",
      "bert.encoder.layer.1.attention.output.LayerNorm.bias False\n",
      "bert.encoder.layer.1.intermediate.dense.weight False\n",
      "bert.encoder.layer.1.intermediate.dense.bias False\n",
      "bert.encoder.layer.1.output.dense.weight False\n",
      "bert.encoder.layer.1.output.dense.bias False\n",
      "bert.encoder.layer.1.output.LayerNorm.weight False\n",
      "bert.encoder.layer.1.output.LayerNorm.bias False\n",
      "bert.encoder.layer.2.attention.self.query.weight False\n",
      "bert.encoder.layer.2.attention.self.query.bias False\n",
      "bert.encoder.layer.2.attention.self.key.weight False\n",
      "bert.encoder.layer.2.attention.self.key.bias False\n",
      "bert.encoder.layer.2.attention.self.value.weight False\n",
      "bert.encoder.layer.2.attention.self.value.bias False\n",
      "bert.encoder.layer.2.attention.output.dense.weight False\n",
      "bert.encoder.layer.2.attention.output.dense.bias False\n",
      "bert.encoder.layer.2.attention.output.LayerNorm.weight False\n",
      "bert.encoder.layer.2.attention.output.LayerNorm.bias False\n",
      "bert.encoder.layer.2.intermediate.dense.weight False\n",
      "bert.encoder.layer.2.intermediate.dense.bias False\n",
      "bert.encoder.layer.2.output.dense.weight False\n",
      "bert.encoder.layer.2.output.dense.bias False\n",
      "bert.encoder.layer.2.output.LayerNorm.weight False\n",
      "bert.encoder.layer.2.output.LayerNorm.bias False\n",
      "bert.encoder.layer.3.attention.self.query.weight False\n",
      "bert.encoder.layer.3.attention.self.query.bias False\n",
      "bert.encoder.layer.3.attention.self.key.weight False\n",
      "bert.encoder.layer.3.attention.self.key.bias False\n",
      "bert.encoder.layer.3.attention.self.value.weight False\n",
      "bert.encoder.layer.3.attention.self.value.bias False\n",
      "bert.encoder.layer.3.attention.output.dense.weight False\n",
      "bert.encoder.layer.3.attention.output.dense.bias False\n",
      "bert.encoder.layer.3.attention.output.LayerNorm.weight False\n",
      "bert.encoder.layer.3.attention.output.LayerNorm.bias False\n",
      "bert.encoder.layer.3.intermediate.dense.weight False\n",
      "bert.encoder.layer.3.intermediate.dense.bias False\n",
      "bert.encoder.layer.3.output.dense.weight False\n",
      "bert.encoder.layer.3.output.dense.bias False\n",
      "bert.encoder.layer.3.output.LayerNorm.weight False\n",
      "bert.encoder.layer.3.output.LayerNorm.bias False\n",
      "bert.encoder.layer.4.attention.self.query.weight False\n",
      "bert.encoder.layer.4.attention.self.query.bias False\n",
      "bert.encoder.layer.4.attention.self.key.weight False\n",
      "bert.encoder.layer.4.attention.self.key.bias False\n",
      "bert.encoder.layer.4.attention.self.value.weight False\n",
      "bert.encoder.layer.4.attention.self.value.bias False\n",
      "bert.encoder.layer.4.attention.output.dense.weight False\n",
      "bert.encoder.layer.4.attention.output.dense.bias False\n",
      "bert.encoder.layer.4.attention.output.LayerNorm.weight False\n",
      "bert.encoder.layer.4.attention.output.LayerNorm.bias False\n",
      "bert.encoder.layer.4.intermediate.dense.weight False\n",
      "bert.encoder.layer.4.intermediate.dense.bias False\n",
      "bert.encoder.layer.4.output.dense.weight False\n",
      "bert.encoder.layer.4.output.dense.bias False\n",
      "bert.encoder.layer.4.output.LayerNorm.weight False\n",
      "bert.encoder.layer.4.output.LayerNorm.bias False\n",
      "bert.encoder.layer.5.attention.self.query.weight False\n",
      "bert.encoder.layer.5.attention.self.query.bias False\n",
      "bert.encoder.layer.5.attention.self.key.weight False\n",
      "bert.encoder.layer.5.attention.self.key.bias False\n",
      "bert.encoder.layer.5.attention.self.value.weight False\n",
      "bert.encoder.layer.5.attention.self.value.bias False\n",
      "bert.encoder.layer.5.attention.output.dense.weight False\n",
      "bert.encoder.layer.5.attention.output.dense.bias False\n",
      "bert.encoder.layer.5.attention.output.LayerNorm.weight False\n",
      "bert.encoder.layer.5.attention.output.LayerNorm.bias False\n",
      "bert.encoder.layer.5.intermediate.dense.weight False\n",
      "bert.encoder.layer.5.intermediate.dense.bias False\n",
      "bert.encoder.layer.5.output.dense.weight False\n",
      "bert.encoder.layer.5.output.dense.bias False\n",
      "bert.encoder.layer.5.output.LayerNorm.weight False\n",
      "bert.encoder.layer.5.output.LayerNorm.bias False\n",
      "bert.encoder.layer.6.attention.self.query.weight False\n",
      "bert.encoder.layer.6.attention.self.query.bias False\n",
      "bert.encoder.layer.6.attention.self.key.weight False\n",
      "bert.encoder.layer.6.attention.self.key.bias False\n",
      "bert.encoder.layer.6.attention.self.value.weight False\n",
      "bert.encoder.layer.6.attention.self.value.bias False\n",
      "bert.encoder.layer.6.attention.output.dense.weight False\n",
      "bert.encoder.layer.6.attention.output.dense.bias False\n",
      "bert.encoder.layer.6.attention.output.LayerNorm.weight False\n",
      "bert.encoder.layer.6.attention.output.LayerNorm.bias False\n",
      "bert.encoder.layer.6.intermediate.dense.weight False\n",
      "bert.encoder.layer.6.intermediate.dense.bias False\n",
      "bert.encoder.layer.6.output.dense.weight False\n",
      "bert.encoder.layer.6.output.dense.bias False\n",
      "bert.encoder.layer.6.output.LayerNorm.weight False\n",
      "bert.encoder.layer.6.output.LayerNorm.bias False\n",
      "bert.encoder.layer.7.attention.self.query.weight False\n",
      "bert.encoder.layer.7.attention.self.query.bias False\n",
      "bert.encoder.layer.7.attention.self.key.weight False\n",
      "bert.encoder.layer.7.attention.self.key.bias False\n",
      "bert.encoder.layer.7.attention.self.value.weight False\n",
      "bert.encoder.layer.7.attention.self.value.bias False\n",
      "bert.encoder.layer.7.attention.output.dense.weight False\n",
      "bert.encoder.layer.7.attention.output.dense.bias False\n",
      "bert.encoder.layer.7.attention.output.LayerNorm.weight False\n",
      "bert.encoder.layer.7.attention.output.LayerNorm.bias False\n",
      "bert.encoder.layer.7.intermediate.dense.weight False\n",
      "bert.encoder.layer.7.intermediate.dense.bias False\n",
      "bert.encoder.layer.7.output.dense.weight False\n",
      "bert.encoder.layer.7.output.dense.bias False\n",
      "bert.encoder.layer.7.output.LayerNorm.weight False\n",
      "bert.encoder.layer.7.output.LayerNorm.bias False\n",
      "bert.encoder.layer.8.attention.self.query.weight False\n",
      "bert.encoder.layer.8.attention.self.query.bias False\n",
      "bert.encoder.layer.8.attention.self.key.weight False\n",
      "bert.encoder.layer.8.attention.self.key.bias False\n",
      "bert.encoder.layer.8.attention.self.value.weight False\n",
      "bert.encoder.layer.8.attention.self.value.bias False\n",
      "bert.encoder.layer.8.attention.output.dense.weight False\n",
      "bert.encoder.layer.8.attention.output.dense.bias False\n",
      "bert.encoder.layer.8.attention.output.LayerNorm.weight False\n",
      "bert.encoder.layer.8.attention.output.LayerNorm.bias False\n",
      "bert.encoder.layer.8.intermediate.dense.weight False\n",
      "bert.encoder.layer.8.intermediate.dense.bias False\n",
      "bert.encoder.layer.8.output.dense.weight False\n",
      "bert.encoder.layer.8.output.dense.bias False\n",
      "bert.encoder.layer.8.output.LayerNorm.weight False\n",
      "bert.encoder.layer.8.output.LayerNorm.bias False\n",
      "bert.encoder.layer.9.attention.self.query.weight False\n",
      "bert.encoder.layer.9.attention.self.query.bias False\n",
      "bert.encoder.layer.9.attention.self.key.weight False\n",
      "bert.encoder.layer.9.attention.self.key.bias False\n",
      "bert.encoder.layer.9.attention.self.value.weight False\n",
      "bert.encoder.layer.9.attention.self.value.bias False\n",
      "bert.encoder.layer.9.attention.output.dense.weight False\n",
      "bert.encoder.layer.9.attention.output.dense.bias False\n",
      "bert.encoder.layer.9.attention.output.LayerNorm.weight False\n",
      "bert.encoder.layer.9.attention.output.LayerNorm.bias False\n",
      "bert.encoder.layer.9.intermediate.dense.weight False\n",
      "bert.encoder.layer.9.intermediate.dense.bias False\n",
      "bert.encoder.layer.9.output.dense.weight False\n",
      "bert.encoder.layer.9.output.dense.bias False\n",
      "bert.encoder.layer.9.output.LayerNorm.weight False\n",
      "bert.encoder.layer.9.output.LayerNorm.bias False\n",
      "bert.encoder.layer.10.attention.self.query.weight False\n",
      "bert.encoder.layer.10.attention.self.query.bias False\n",
      "bert.encoder.layer.10.attention.self.key.weight False\n",
      "bert.encoder.layer.10.attention.self.key.bias False\n",
      "bert.encoder.layer.10.attention.self.value.weight False\n",
      "bert.encoder.layer.10.attention.self.value.bias False\n",
      "bert.encoder.layer.10.attention.output.dense.weight False\n",
      "bert.encoder.layer.10.attention.output.dense.bias False\n",
      "bert.encoder.layer.10.attention.output.LayerNorm.weight False\n",
      "bert.encoder.layer.10.attention.output.LayerNorm.bias False\n",
      "bert.encoder.layer.10.intermediate.dense.weight False\n",
      "bert.encoder.layer.10.intermediate.dense.bias False\n",
      "bert.encoder.layer.10.output.dense.weight False\n",
      "bert.encoder.layer.10.output.dense.bias False\n",
      "bert.encoder.layer.10.output.LayerNorm.weight False\n",
      "bert.encoder.layer.10.output.LayerNorm.bias False\n",
      "bert.encoder.layer.11.attention.self.query.weight False\n",
      "bert.encoder.layer.11.attention.self.query.bias False\n",
      "bert.encoder.layer.11.attention.self.key.weight False\n",
      "bert.encoder.layer.11.attention.self.key.bias False\n",
      "bert.encoder.layer.11.attention.self.value.weight False\n",
      "bert.encoder.layer.11.attention.self.value.bias False\n",
      "bert.encoder.layer.11.attention.output.dense.weight False\n",
      "bert.encoder.layer.11.attention.output.dense.bias False\n",
      "bert.encoder.layer.11.attention.output.LayerNorm.weight False\n",
      "bert.encoder.layer.11.attention.output.LayerNorm.bias False\n",
      "bert.encoder.layer.11.intermediate.dense.weight False\n",
      "bert.encoder.layer.11.intermediate.dense.bias False\n",
      "bert.encoder.layer.11.output.dense.weight False\n",
      "bert.encoder.layer.11.output.dense.bias False\n",
      "bert.encoder.layer.11.output.LayerNorm.weight False\n",
      "bert.encoder.layer.11.output.LayerNorm.bias False\n",
      "bert.pooler.dense.weight True\n",
      "bert.pooler.dense.bias True\n",
      "classifier.weight True\n",
      "classifier.bias True\n"
     ]
    }
   ],
   "source": [
    "# print layers\n",
    "for name, param in model.named_parameters():\n",
    "   print(name, param.requires_grad)"
   ]
  },
  {
   "cell_type": "markdown",
   "id": "5d2e421a",
   "metadata": {},
   "source": [
    "#### 3. Training Helpers"
   ]
  },
  {
   "cell_type": "markdown",
   "id": "66acee3d-9f7c-4d4d-add9-b4e6d3b52f94",
   "metadata": {},
   "source": [
    "<b>3.1 Preprocess Text Data</b>"
   ]
  },
  {
   "cell_type": "code",
   "execution_count": 39,
   "id": "cf0dc1e1",
   "metadata": {},
   "outputs": [],
   "source": [
    "# define text preprocessing\n",
    "def preprocess_function(examples):\n",
    "    return tokenizer(examples[\"description\"], truncation='only_first')"
   ]
  },
  {
   "cell_type": "code",
   "execution_count": 40,
   "id": "b42616c7",
   "metadata": {},
   "outputs": [
    {
     "data": {
      "application/vnd.jupyter.widget-view+json": {
       "model_id": "3d7ac253e77e4c89932370541b6c3c1a",
       "version_major": 2,
       "version_minor": 0
      },
      "text/plain": [
       "Map:   0%|          | 0/645 [00:00<?, ? examples/s]"
      ]
     },
     "metadata": {},
     "output_type": "display_data"
    },
    {
     "data": {
      "application/vnd.jupyter.widget-view+json": {
       "model_id": "76f32119e612498fa972231ef7bdbf8a",
       "version_major": 2,
       "version_minor": 0
      },
      "text/plain": [
       "Map:   0%|          | 0/214 [00:00<?, ? examples/s]"
      ]
     },
     "metadata": {},
     "output_type": "display_data"
    },
    {
     "data": {
      "application/vnd.jupyter.widget-view+json": {
       "model_id": "6e006593d567468ab59b1d6166e24223",
       "version_major": 2,
       "version_minor": 0
      },
      "text/plain": [
       "Map:   0%|          | 0/214 [00:00<?, ? examples/s]"
      ]
     },
     "metadata": {},
     "output_type": "display_data"
    }
   ],
   "source": [
    "# tokenize all datasetse\n",
    "tokenized_data = support_tickets_splits.map(preprocess_function, batched=True)"
   ]
  },
  {
   "cell_type": "code",
   "execution_count": 41,
   "id": "04a04a18",
   "metadata": {},
   "outputs": [],
   "source": [
    "# create data collator\n",
    "data_collator = DataCollatorWithPadding(tokenizer=tokenizer)"
   ]
  },
  {
   "cell_type": "markdown",
   "id": "7e2ce8c7",
   "metadata": {},
   "source": [
    "<b>3.2 Evaluation metrics</b>"
   ]
  },
  {
   "cell_type": "code",
   "execution_count": 42,
   "id": "16b12c6d",
   "metadata": {},
   "outputs": [],
   "source": [
    "# load metrics\n",
    "accuracy = evaluate.load(\"accuracy\")\n",
    "#auc_score = evaluate.load(\"roc_auc\")\n",
    "\n",
    "def compute_softmax(preds):\n",
    "    max_val = preds.max()\n",
    "    pred_exp = np.exp(preds-max_val)\n",
    "    probs = pred_exp/pred_exp.sum(-1, keepdims=True)\n",
    "    return probs \n",
    "\n",
    "\n",
    "def compute_metrics(eval_pred):\n",
    "    # get predictions\n",
    "    predictions, labels = eval_pred\n",
    "    \n",
    "    # apply softmax to get probabilities\n",
    "    probabilities = compute_softmax(predictions)\n",
    "    # use probabilities of the positive class for ROC AUC\n",
    "    positive_class_probs = probabilities[:, 1]\n",
    "    # compute auc\n",
    "    #auc = float(round(auc_score.compute(prediction_scores=positive_class_probs, references=labels)['roc_auc'],3))\n",
    "    \n",
    "    # predict most probable class\n",
    "    predicted_classes = np.argmax(predictions, axis=1)\n",
    "    # compute accuracy\n",
    "    acc = float(round(accuracy.compute(predictions=predicted_classes, references=labels)['accuracy'],3))\n",
    "    \n",
    "    return {\"Accuracy\": acc}#, \"AUC\": auc}"
   ]
  },
  {
   "cell_type": "markdown",
   "id": "68613386",
   "metadata": {},
   "source": [
    "#### 4. Train model"
   ]
  },
  {
   "cell_type": "markdown",
   "id": "00032f77-a1d7-44b7-94ae-8cfb47970669",
   "metadata": {},
   "source": [
    "<b>4.1 Set Training Arguments</b>"
   ]
  },
  {
   "cell_type": "code",
   "execution_count": 44,
   "id": "579f1230",
   "metadata": {},
   "outputs": [],
   "source": [
    "# hyperparameters\n",
    "lr = 1e-2\n",
    "batch_size = 8\n",
    "num_epochs = 100\n",
    "\n",
    "training_args = TrainingArguments(\n",
    "    output_dir=\"bert_ticket_classifier\",\n",
    "    learning_rate=lr,\n",
    "    per_device_train_batch_size=batch_size,\n",
    "    per_device_eval_batch_size=batch_size,\n",
    "    num_train_epochs=num_epochs,\n",
    "    logging_strategy=\"epoch\",\n",
    "    eval_strategy=\"epoch\",\n",
    "    save_strategy=\"epoch\",\n",
    "    load_best_model_at_end=True,\n",
    "    use_cpu=False\n",
    ")"
   ]
  },
  {
   "cell_type": "code",
   "execution_count": 45,
   "id": "d5512263-b4af-40ec-bfcc-5300de961fd2",
   "metadata": {},
   "outputs": [
    {
     "data": {
      "text/plain": [
       "TrainingArguments(\n",
       "_n_gpu=1,\n",
       "accelerator_config={'split_batches': False, 'dispatch_batches': None, 'even_batches': True, 'use_seedable_sampler': True, 'non_blocking': False, 'gradient_accumulation_kwargs': None, 'use_configured_state': False},\n",
       "adafactor=False,\n",
       "adam_beta1=0.9,\n",
       "adam_beta2=0.999,\n",
       "adam_epsilon=1e-08,\n",
       "auto_find_batch_size=False,\n",
       "average_tokens_across_devices=False,\n",
       "batch_eval_metrics=False,\n",
       "bf16=False,\n",
       "bf16_full_eval=False,\n",
       "data_seed=None,\n",
       "dataloader_drop_last=False,\n",
       "dataloader_num_workers=0,\n",
       "dataloader_persistent_workers=False,\n",
       "dataloader_pin_memory=True,\n",
       "dataloader_prefetch_factor=None,\n",
       "ddp_backend=None,\n",
       "ddp_broadcast_buffers=None,\n",
       "ddp_bucket_cap_mb=None,\n",
       "ddp_find_unused_parameters=None,\n",
       "ddp_timeout=1800,\n",
       "debug=[],\n",
       "deepspeed=None,\n",
       "disable_tqdm=True,\n",
       "dispatch_batches=None,\n",
       "do_eval=True,\n",
       "do_predict=False,\n",
       "do_train=False,\n",
       "eval_accumulation_steps=None,\n",
       "eval_delay=0,\n",
       "eval_do_concat_batches=True,\n",
       "eval_on_start=False,\n",
       "eval_steps=None,\n",
       "eval_strategy=epoch,\n",
       "eval_use_gather_object=False,\n",
       "evaluation_strategy=None,\n",
       "fp16=False,\n",
       "fp16_backend=auto,\n",
       "fp16_full_eval=False,\n",
       "fp16_opt_level=O1,\n",
       "fsdp=[],\n",
       "fsdp_config={'min_num_params': 0, 'xla': False, 'xla_fsdp_v2': False, 'xla_fsdp_grad_ckpt': False},\n",
       "fsdp_min_num_params=0,\n",
       "fsdp_transformer_layer_cls_to_wrap=None,\n",
       "full_determinism=False,\n",
       "gradient_accumulation_steps=1,\n",
       "gradient_checkpointing=False,\n",
       "gradient_checkpointing_kwargs=None,\n",
       "greater_is_better=False,\n",
       "group_by_length=False,\n",
       "half_precision_backend=auto,\n",
       "hub_always_push=False,\n",
       "hub_model_id=None,\n",
       "hub_private_repo=False,\n",
       "hub_strategy=every_save,\n",
       "hub_token=<HUB_TOKEN>,\n",
       "ignore_data_skip=False,\n",
       "include_for_metrics=[],\n",
       "include_inputs_for_metrics=False,\n",
       "include_num_input_tokens_seen=False,\n",
       "include_tokens_per_second=False,\n",
       "jit_mode_eval=False,\n",
       "label_names=None,\n",
       "label_smoothing_factor=0.0,\n",
       "learning_rate=0.01,\n",
       "length_column_name=length,\n",
       "load_best_model_at_end=True,\n",
       "local_rank=0,\n",
       "log_level=passive,\n",
       "log_level_replica=warning,\n",
       "log_on_each_node=True,\n",
       "logging_dir=bert_ticket_classifier\\runs\\Dec24_23-36-56_MSI,\n",
       "logging_first_step=False,\n",
       "logging_nan_inf_filter=True,\n",
       "logging_steps=500,\n",
       "logging_strategy=epoch,\n",
       "lr_scheduler_kwargs={},\n",
       "lr_scheduler_type=linear,\n",
       "max_grad_norm=1.0,\n",
       "max_steps=-1,\n",
       "metric_for_best_model=loss,\n",
       "mp_parameters=,\n",
       "neftune_noise_alpha=None,\n",
       "no_cuda=False,\n",
       "num_train_epochs=100,\n",
       "optim=adamw_torch,\n",
       "optim_args=None,\n",
       "optim_target_modules=None,\n",
       "output_dir=bert_ticket_classifier,\n",
       "overwrite_output_dir=False,\n",
       "past_index=-1,\n",
       "per_device_eval_batch_size=8,\n",
       "per_device_train_batch_size=8,\n",
       "prediction_loss_only=False,\n",
       "push_to_hub=False,\n",
       "push_to_hub_model_id=None,\n",
       "push_to_hub_organization=None,\n",
       "push_to_hub_token=<PUSH_TO_HUB_TOKEN>,\n",
       "ray_scope=last,\n",
       "remove_unused_columns=True,\n",
       "report_to=['tensorboard'],\n",
       "restore_callback_states_from_checkpoint=False,\n",
       "resume_from_checkpoint=None,\n",
       "run_name=bert_ticket_classifier,\n",
       "save_on_each_node=False,\n",
       "save_only_model=False,\n",
       "save_safetensors=True,\n",
       "save_steps=500,\n",
       "save_strategy=epoch,\n",
       "save_total_limit=None,\n",
       "seed=42,\n",
       "skip_memory_metrics=True,\n",
       "split_batches=None,\n",
       "tf32=None,\n",
       "torch_compile=False,\n",
       "torch_compile_backend=None,\n",
       "torch_compile_mode=None,\n",
       "torch_empty_cache_steps=None,\n",
       "torchdynamo=None,\n",
       "tpu_metrics_debug=False,\n",
       "tpu_num_cores=None,\n",
       "use_cpu=False,\n",
       "use_ipex=False,\n",
       "use_legacy_prediction_loop=False,\n",
       "use_liger_kernel=False,\n",
       "use_mps_device=False,\n",
       "warmup_ratio=0.0,\n",
       "warmup_steps=0,\n",
       "weight_decay=0.0,\n",
       ")"
      ]
     },
     "execution_count": 45,
     "metadata": {},
     "output_type": "execute_result"
    }
   ],
   "source": [
    "training_args"
   ]
  },
  {
   "cell_type": "code",
   "execution_count": 46,
   "id": "fa5002ac-b3a6-43a0-b4af-eed77063577b",
   "metadata": {},
   "outputs": [],
   "source": [
    "import os\n",
    "os.environ[\"CUDA_LAUNCH_BLOCKING\"] = \"1\""
   ]
  },
  {
   "cell_type": "markdown",
   "id": "0c4482e9-ebaf-4bd4-8e36-31ad6820b593",
   "metadata": {},
   "source": [
    "<b>4.2 Define Trainer Module</b>"
   ]
  },
  {
   "cell_type": "code",
   "execution_count": 47,
   "id": "2b8e24f5-d794-46b0-8b42-66e3049741e8",
   "metadata": {},
   "outputs": [
    {
     "name": "stderr",
     "output_type": "stream",
     "text": [
      "C:\\Users\\18623\\AppData\\Local\\Temp\\ipykernel_22168\\1785676439.py:1: FutureWarning: `tokenizer` is deprecated and will be removed in version 5.0.0 for `Trainer.__init__`. Use `processing_class` instead.\n",
      "  trainer = Trainer(\n"
     ]
    }
   ],
   "source": [
    "trainer = Trainer(\n",
    "    model=model,\n",
    "    args=training_args,\n",
    "    train_dataset=tokenized_data[\"train\"],\n",
    "    eval_dataset=tokenized_data[\"test\"],\n",
    "    tokenizer=tokenizer,\n",
    "    data_collator=data_collator,\n",
    "    compute_metrics=compute_metrics\n",
    ")"
   ]
  },
  {
   "cell_type": "code",
   "execution_count": 48,
   "id": "04d169f1-d0f3-4303-8112-29115a3b0c9b",
   "metadata": {},
   "outputs": [],
   "source": [
    "import torch"
   ]
  },
  {
   "cell_type": "code",
   "execution_count": 49,
   "id": "8d9a2714-b865-4075-8b0f-1b16f0b407b8",
   "metadata": {},
   "outputs": [
    {
     "data": {
      "text/plain": [
       "device(type='cuda', index=0)"
      ]
     },
     "execution_count": 49,
     "metadata": {},
     "output_type": "execute_result"
    }
   ],
   "source": [
    "#trainer.__dict__['args'].device = torch.device('cpu')\n",
    "trainer.args.device"
   ]
  },
  {
   "cell_type": "markdown",
   "id": "a105c6da-e0e9-42f0-912b-f623296c5148",
   "metadata": {},
   "source": [
    "<b>4.3 Fine-tune BERT Model</b>"
   ]
  },
  {
   "cell_type": "code",
   "execution_count": 50,
   "id": "e4cd1d59-ea44-4f6d-8825-d1c890714bef",
   "metadata": {},
   "outputs": [
    {
     "name": "stderr",
     "output_type": "stream",
     "text": [
      "C:\\Users\\18623\\anaconda3\\envs\\transformers\\lib\\site-packages\\transformers\\models\\bert\\modeling_bert.py:440: UserWarning: 1Torch was not compiled with flash attention. (Triggered internally at C:\\actions-runner\\_work\\pytorch\\pytorch\\builder\\windows\\pytorch\\aten\\src\\ATen\\native\\transformers\\cuda\\sdp_utils.cpp:455.)\n",
      "  attn_output = torch.nn.functional.scaled_dot_product_attention(\n"
     ]
    },
    {
     "name": "stdout",
     "output_type": "stream",
     "text": [
      "{'loss': 2.0212, 'grad_norm': 14.358091354370117, 'learning_rate': 0.0099, 'epoch': 1.0}\n",
      "{'eval_loss': 1.600338339805603, 'eval_Accuracy': 0.593, 'eval_runtime': 0.5976, 'eval_samples_per_second': 358.12, 'eval_steps_per_second': 45.183, 'epoch': 1.0}\n",
      "{'loss': 1.2775, 'grad_norm': 6.5310869216918945, 'learning_rate': 0.0098, 'epoch': 2.0}\n",
      "{'eval_loss': 1.178826928138733, 'eval_Accuracy': 0.668, 'eval_runtime': 0.5394, 'eval_samples_per_second': 396.74, 'eval_steps_per_second': 50.056, 'epoch': 2.0}\n",
      "{'loss': 1.7034, 'grad_norm': 9.957550048828125, 'learning_rate': 0.0097, 'epoch': 3.0}\n",
      "{'eval_loss': 1.4956490993499756, 'eval_Accuracy': 0.621, 'eval_runtime': 0.5692, 'eval_samples_per_second': 375.944, 'eval_steps_per_second': 47.432, 'epoch': 3.0}\n",
      "{'loss': 1.2921, 'grad_norm': 6.431549072265625, 'learning_rate': 0.0096, 'epoch': 4.0}\n",
      "{'eval_loss': 1.5104053020477295, 'eval_Accuracy': 0.724, 'eval_runtime': 0.5246, 'eval_samples_per_second': 407.941, 'eval_steps_per_second': 51.469, 'epoch': 4.0}\n",
      "{'loss': 1.257, 'grad_norm': 8.712606430053711, 'learning_rate': 0.0095, 'epoch': 5.0}\n",
      "{'eval_loss': 1.889670491218567, 'eval_Accuracy': 0.607, 'eval_runtime': 0.5631, 'eval_samples_per_second': 380.051, 'eval_steps_per_second': 47.95, 'epoch': 5.0}\n",
      "{'loss': 1.3413, 'grad_norm': 14.598250389099121, 'learning_rate': 0.0094, 'epoch': 6.0}\n",
      "{'eval_loss': 0.5227786898612976, 'eval_Accuracy': 0.818, 'eval_runtime': 0.4792, 'eval_samples_per_second': 446.533, 'eval_steps_per_second': 56.338, 'epoch': 6.0}\n",
      "{'loss': 0.7906, 'grad_norm': 10.024346351623535, 'learning_rate': 0.009300000000000001, 'epoch': 7.0}\n",
      "{'eval_loss': 0.6607946753501892, 'eval_Accuracy': 0.855, 'eval_runtime': 0.4952, 'eval_samples_per_second': 432.157, 'eval_steps_per_second': 54.524, 'epoch': 7.0}\n",
      "{'loss': 1.2516, 'grad_norm': 19.60793685913086, 'learning_rate': 0.0092, 'epoch': 8.0}\n",
      "{'eval_loss': 1.9461236000061035, 'eval_Accuracy': 0.682, 'eval_runtime': 0.5607, 'eval_samples_per_second': 381.634, 'eval_steps_per_second': 48.15, 'epoch': 8.0}\n",
      "{'loss': 1.3148, 'grad_norm': 5.5857930183410645, 'learning_rate': 0.0091, 'epoch': 9.0}\n",
      "{'eval_loss': 0.5054450631141663, 'eval_Accuracy': 0.785, 'eval_runtime': 0.5074, 'eval_samples_per_second': 421.735, 'eval_steps_per_second': 53.21, 'epoch': 9.0}\n",
      "{'loss': 1.2974, 'grad_norm': 12.113360404968262, 'learning_rate': 0.009000000000000001, 'epoch': 10.0}\n",
      "{'eval_loss': 1.0253123044967651, 'eval_Accuracy': 0.808, 'eval_runtime': 0.4912, 'eval_samples_per_second': 435.699, 'eval_steps_per_second': 54.971, 'epoch': 10.0}\n",
      "{'loss': 1.2389, 'grad_norm': 23.04060935974121, 'learning_rate': 0.0089, 'epoch': 11.0}\n",
      "{'eval_loss': 3.7007155418395996, 'eval_Accuracy': 0.486, 'eval_runtime': 0.4715, 'eval_samples_per_second': 453.901, 'eval_steps_per_second': 57.268, 'epoch': 11.0}\n",
      "{'loss': 1.1045, 'grad_norm': 15.458878517150879, 'learning_rate': 0.0088, 'epoch': 12.0}\n",
      "{'eval_loss': 0.8337281346321106, 'eval_Accuracy': 0.85, 'eval_runtime': 0.4715, 'eval_samples_per_second': 453.847, 'eval_steps_per_second': 57.261, 'epoch': 12.0}\n",
      "{'loss': 1.3437, 'grad_norm': 13.485881805419922, 'learning_rate': 0.0087, 'epoch': 13.0}\n",
      "{'eval_loss': 1.508250117301941, 'eval_Accuracy': 0.659, 'eval_runtime': 0.4545, 'eval_samples_per_second': 470.858, 'eval_steps_per_second': 59.407, 'epoch': 13.0}\n",
      "{'loss': 0.8278, 'grad_norm': 3.761751890182495, 'learning_rate': 0.0086, 'epoch': 14.0}\n",
      "{'eval_loss': 1.3365117311477661, 'eval_Accuracy': 0.678, 'eval_runtime': 0.5213, 'eval_samples_per_second': 410.474, 'eval_steps_per_second': 51.789, 'epoch': 14.0}\n",
      "{'loss': 0.9239, 'grad_norm': 1.4397618770599365, 'learning_rate': 0.0085, 'epoch': 15.0}\n",
      "{'eval_loss': 0.7084679007530212, 'eval_Accuracy': 0.832, 'eval_runtime': 0.5921, 'eval_samples_per_second': 361.417, 'eval_steps_per_second': 45.599, 'epoch': 15.0}\n",
      "{'loss': 1.0084, 'grad_norm': 5.2011942863464355, 'learning_rate': 0.0084, 'epoch': 16.0}\n",
      "{'eval_loss': 0.6960354447364807, 'eval_Accuracy': 0.813, 'eval_runtime': 0.5705, 'eval_samples_per_second': 375.088, 'eval_steps_per_second': 47.324, 'epoch': 16.0}\n",
      "{'loss': 0.877, 'grad_norm': 5.847499847412109, 'learning_rate': 0.0083, 'epoch': 17.0}\n",
      "{'eval_loss': 0.7014650106430054, 'eval_Accuracy': 0.771, 'eval_runtime': 0.5713, 'eval_samples_per_second': 374.596, 'eval_steps_per_second': 47.262, 'epoch': 17.0}\n",
      "{'loss': 1.0983, 'grad_norm': 8.757171630859375, 'learning_rate': 0.008199999999999999, 'epoch': 18.0}\n",
      "{'eval_loss': 0.5239092111587524, 'eval_Accuracy': 0.841, 'eval_runtime': 0.5341, 'eval_samples_per_second': 400.67, 'eval_steps_per_second': 50.552, 'epoch': 18.0}\n",
      "{'loss': 1.2775, 'grad_norm': 8.675660133361816, 'learning_rate': 0.008100000000000001, 'epoch': 19.0}\n",
      "{'eval_loss': 0.5200501084327698, 'eval_Accuracy': 0.827, 'eval_runtime': 0.5947, 'eval_samples_per_second': 359.87, 'eval_steps_per_second': 45.404, 'epoch': 19.0}\n",
      "{'loss': 0.9663, 'grad_norm': 13.142644882202148, 'learning_rate': 0.008, 'epoch': 20.0}\n",
      "{'eval_loss': 0.6896121501922607, 'eval_Accuracy': 0.86, 'eval_runtime': 0.6118, 'eval_samples_per_second': 349.781, 'eval_steps_per_second': 44.131, 'epoch': 20.0}\n",
      "{'loss': 1.1278, 'grad_norm': 2.8795089721679688, 'learning_rate': 0.0079, 'epoch': 21.0}\n",
      "{'eval_loss': 0.8119305968284607, 'eval_Accuracy': 0.827, 'eval_runtime': 0.6327, 'eval_samples_per_second': 338.223, 'eval_steps_per_second': 42.673, 'epoch': 21.0}\n",
      "{'loss': 0.8827, 'grad_norm': 1.881699562072754, 'learning_rate': 0.0078000000000000005, 'epoch': 22.0}\n",
      "{'eval_loss': 0.2701704204082489, 'eval_Accuracy': 0.921, 'eval_runtime': 0.7023, 'eval_samples_per_second': 304.713, 'eval_steps_per_second': 38.445, 'epoch': 22.0}\n",
      "{'loss': 1.0061, 'grad_norm': 13.566530227661133, 'learning_rate': 0.0077, 'epoch': 23.0}\n",
      "{'eval_loss': 0.6312216520309448, 'eval_Accuracy': 0.869, 'eval_runtime': 0.6511, 'eval_samples_per_second': 328.659, 'eval_steps_per_second': 41.466, 'epoch': 23.0}\n",
      "{'loss': 1.2043, 'grad_norm': 13.50732421875, 'learning_rate': 0.0076, 'epoch': 24.0}\n",
      "{'eval_loss': 0.4688240885734558, 'eval_Accuracy': 0.869, 'eval_runtime': 0.5333, 'eval_samples_per_second': 401.307, 'eval_steps_per_second': 50.632, 'epoch': 24.0}\n",
      "{'loss': 0.9315, 'grad_norm': 0.8113678693771362, 'learning_rate': 0.0075, 'epoch': 25.0}\n",
      "{'eval_loss': 0.6711567044258118, 'eval_Accuracy': 0.86, 'eval_runtime': 0.5432, 'eval_samples_per_second': 393.989, 'eval_steps_per_second': 49.709, 'epoch': 25.0}\n",
      "{'loss': 0.8766, 'grad_norm': 1.1099340915679932, 'learning_rate': 0.0074, 'epoch': 26.0}\n",
      "{'eval_loss': 0.7334936857223511, 'eval_Accuracy': 0.85, 'eval_runtime': 0.5201, 'eval_samples_per_second': 411.437, 'eval_steps_per_second': 51.91, 'epoch': 26.0}\n",
      "{'loss': 0.7483, 'grad_norm': 12.046875, 'learning_rate': 0.0073, 'epoch': 27.0}\n",
      "{'eval_loss': 0.9712463021278381, 'eval_Accuracy': 0.864, 'eval_runtime': 0.4913, 'eval_samples_per_second': 435.606, 'eval_steps_per_second': 54.96, 'epoch': 27.0}\n",
      "{'loss': 1.2985, 'grad_norm': 8.68653392791748, 'learning_rate': 0.0072, 'epoch': 28.0}\n",
      "{'eval_loss': 0.6353179216384888, 'eval_Accuracy': 0.888, 'eval_runtime': 0.5129, 'eval_samples_per_second': 417.201, 'eval_steps_per_second': 52.638, 'epoch': 28.0}\n",
      "{'loss': 0.9424, 'grad_norm': 5.547816276550293, 'learning_rate': 0.0070999999999999995, 'epoch': 29.0}\n",
      "{'eval_loss': 0.6108714938163757, 'eval_Accuracy': 0.879, 'eval_runtime': 0.5529, 'eval_samples_per_second': 387.076, 'eval_steps_per_second': 48.837, 'epoch': 29.0}\n",
      "{'loss': 1.1101, 'grad_norm': 9.521387100219727, 'learning_rate': 0.006999999999999999, 'epoch': 30.0}\n",
      "{'eval_loss': 1.0802693367004395, 'eval_Accuracy': 0.804, 'eval_runtime': 0.534, 'eval_samples_per_second': 400.762, 'eval_steps_per_second': 50.563, 'epoch': 30.0}\n",
      "{'loss': 0.9561, 'grad_norm': 0.5613985657691956, 'learning_rate': 0.0069, 'epoch': 31.0}\n",
      "{'eval_loss': 0.9947496056556702, 'eval_Accuracy': 0.757, 'eval_runtime': 0.5509, 'eval_samples_per_second': 388.466, 'eval_steps_per_second': 49.012, 'epoch': 31.0}\n",
      "{'loss': 1.0855, 'grad_norm': 0.6626697778701782, 'learning_rate': 0.0068000000000000005, 'epoch': 32.0}\n",
      "{'eval_loss': 0.3808053135871887, 'eval_Accuracy': 0.897, 'eval_runtime': 0.5702, 'eval_samples_per_second': 375.324, 'eval_steps_per_second': 47.354, 'epoch': 32.0}\n",
      "{'loss': 0.8964, 'grad_norm': 4.209824085235596, 'learning_rate': 0.0067, 'epoch': 33.0}\n",
      "{'eval_loss': 0.3113914430141449, 'eval_Accuracy': 0.925, 'eval_runtime': 0.6336, 'eval_samples_per_second': 337.778, 'eval_steps_per_second': 42.617, 'epoch': 33.0}\n",
      "{'loss': 1.0509, 'grad_norm': 0.5959255695343018, 'learning_rate': 0.006600000000000001, 'epoch': 34.0}\n",
      "{'eval_loss': 0.6015836596488953, 'eval_Accuracy': 0.841, 'eval_runtime': 0.5126, 'eval_samples_per_second': 417.471, 'eval_steps_per_second': 52.672, 'epoch': 34.0}\n",
      "{'loss': 0.7739, 'grad_norm': 3.1385624408721924, 'learning_rate': 0.006500000000000001, 'epoch': 35.0}\n",
      "{'eval_loss': 0.35553088784217834, 'eval_Accuracy': 0.907, 'eval_runtime': 0.5822, 'eval_samples_per_second': 367.553, 'eval_steps_per_second': 46.373, 'epoch': 35.0}\n",
      "{'loss': 0.7851, 'grad_norm': 0.15032662451267242, 'learning_rate': 0.0064, 'epoch': 36.0}\n",
      "{'eval_loss': 0.36563530564308167, 'eval_Accuracy': 0.935, 'eval_runtime': 0.6051, 'eval_samples_per_second': 353.676, 'eval_steps_per_second': 44.623, 'epoch': 36.0}\n",
      "{'loss': 0.8152, 'grad_norm': 0.0011597115080803633, 'learning_rate': 0.0063, 'epoch': 37.0}\n",
      "{'eval_loss': 1.0430171489715576, 'eval_Accuracy': 0.86, 'eval_runtime': 0.6319, 'eval_samples_per_second': 338.671, 'eval_steps_per_second': 42.73, 'epoch': 37.0}\n",
      "{'loss': 0.8836, 'grad_norm': 5.717004776000977, 'learning_rate': 0.0062, 'epoch': 38.0}\n",
      "{'eval_loss': 0.2615112364292145, 'eval_Accuracy': 0.939, 'eval_runtime': 0.6798, 'eval_samples_per_second': 314.814, 'eval_steps_per_second': 39.72, 'epoch': 38.0}\n",
      "{'loss': 0.7723, 'grad_norm': 21.1871280670166, 'learning_rate': 0.0061, 'epoch': 39.0}\n",
      "{'eval_loss': 0.4062962532043457, 'eval_Accuracy': 0.921, 'eval_runtime': 0.6025, 'eval_samples_per_second': 355.209, 'eval_steps_per_second': 44.816, 'epoch': 39.0}\n",
      "{'loss': 0.7501, 'grad_norm': 20.571481704711914, 'learning_rate': 0.006, 'epoch': 40.0}\n",
      "{'eval_loss': 0.557954728603363, 'eval_Accuracy': 0.893, 'eval_runtime': 0.5646, 'eval_samples_per_second': 379.058, 'eval_steps_per_second': 47.825, 'epoch': 40.0}\n",
      "{'loss': 0.483, 'grad_norm': 1.3629767894744873, 'learning_rate': 0.0059, 'epoch': 41.0}\n",
      "{'eval_loss': 0.8143664002418518, 'eval_Accuracy': 0.832, 'eval_runtime': 0.6047, 'eval_samples_per_second': 353.882, 'eval_steps_per_second': 44.649, 'epoch': 41.0}\n",
      "{'loss': 1.0584, 'grad_norm': 7.230319976806641, 'learning_rate': 0.0058, 'epoch': 42.0}\n",
      "{'eval_loss': 0.8290591239929199, 'eval_Accuracy': 0.832, 'eval_runtime': 0.6836, 'eval_samples_per_second': 313.034, 'eval_steps_per_second': 39.495, 'epoch': 42.0}\n",
      "{'loss': 0.6389, 'grad_norm': 1.420983076095581, 'learning_rate': 0.005699999999999999, 'epoch': 43.0}\n",
      "{'eval_loss': 0.47433096170425415, 'eval_Accuracy': 0.916, 'eval_runtime': 0.6667, 'eval_samples_per_second': 321.004, 'eval_steps_per_second': 40.501, 'epoch': 43.0}\n",
      "{'loss': 0.7146, 'grad_norm': 0.2760719358921051, 'learning_rate': 0.005600000000000001, 'epoch': 44.0}\n",
      "{'eval_loss': 0.675574779510498, 'eval_Accuracy': 0.86, 'eval_runtime': 0.6724, 'eval_samples_per_second': 318.265, 'eval_steps_per_second': 40.155, 'epoch': 44.0}\n",
      "{'loss': 0.6928, 'grad_norm': 0.00383535074070096, 'learning_rate': 0.0055000000000000005, 'epoch': 45.0}\n",
      "{'eval_loss': 0.28545257449150085, 'eval_Accuracy': 0.935, 'eval_runtime': 0.5673, 'eval_samples_per_second': 377.209, 'eval_steps_per_second': 47.592, 'epoch': 45.0}\n",
      "{'loss': 0.4639, 'grad_norm': 0.009216487407684326, 'learning_rate': 0.0054, 'epoch': 46.0}\n",
      "{'eval_loss': 0.5636981129646301, 'eval_Accuracy': 0.897, 'eval_runtime': 0.5884, 'eval_samples_per_second': 363.678, 'eval_steps_per_second': 45.885, 'epoch': 46.0}\n",
      "{'loss': 0.6033, 'grad_norm': 1.0625109672546387, 'learning_rate': 0.0053, 'epoch': 47.0}\n",
      "{'eval_loss': 0.8763267993927002, 'eval_Accuracy': 0.762, 'eval_runtime': 0.6513, 'eval_samples_per_second': 328.555, 'eval_steps_per_second': 41.453, 'epoch': 47.0}\n",
      "{'loss': 0.6962, 'grad_norm': 4.8560075759887695, 'learning_rate': 0.005200000000000001, 'epoch': 48.0}\n",
      "{'eval_loss': 0.3709581196308136, 'eval_Accuracy': 0.888, 'eval_runtime': 0.623, 'eval_samples_per_second': 343.487, 'eval_steps_per_second': 43.337, 'epoch': 48.0}\n",
      "{'loss': 0.9246, 'grad_norm': 7.923516750335693, 'learning_rate': 0.0051, 'epoch': 49.0}\n",
      "{'eval_loss': 0.32391250133514404, 'eval_Accuracy': 0.911, 'eval_runtime': 0.5795, 'eval_samples_per_second': 369.278, 'eval_steps_per_second': 46.591, 'epoch': 49.0}\n",
      "{'loss': 0.6567, 'grad_norm': 0.022665802389383316, 'learning_rate': 0.005, 'epoch': 50.0}\n",
      "{'eval_loss': 0.2433350682258606, 'eval_Accuracy': 0.939, 'eval_runtime': 0.5436, 'eval_samples_per_second': 393.654, 'eval_steps_per_second': 49.667, 'epoch': 50.0}\n",
      "{'loss': 0.5567, 'grad_norm': 8.241451263427734, 'learning_rate': 0.0049, 'epoch': 51.0}\n",
      "{'eval_loss': 0.2863343358039856, 'eval_Accuracy': 0.935, 'eval_runtime': 0.5639, 'eval_samples_per_second': 379.505, 'eval_steps_per_second': 47.881, 'epoch': 51.0}\n",
      "{'loss': 0.7044, 'grad_norm': 0.9659853577613831, 'learning_rate': 0.0048, 'epoch': 52.0}\n",
      "{'eval_loss': 0.4201984703540802, 'eval_Accuracy': 0.911, 'eval_runtime': 0.6346, 'eval_samples_per_second': 337.235, 'eval_steps_per_second': 42.548, 'epoch': 52.0}\n",
      "{'loss': 0.5335, 'grad_norm': 8.188182830810547, 'learning_rate': 0.0047, 'epoch': 53.0}\n",
      "{'eval_loss': 0.30785226821899414, 'eval_Accuracy': 0.935, 'eval_runtime': 0.5526, 'eval_samples_per_second': 387.251, 'eval_steps_per_second': 48.859, 'epoch': 53.0}\n",
      "{'loss': 0.626, 'grad_norm': 7.589549541473389, 'learning_rate': 0.0046, 'epoch': 54.0}\n",
      "{'eval_loss': 0.6383518576622009, 'eval_Accuracy': 0.85, 'eval_runtime': 0.661, 'eval_samples_per_second': 323.74, 'eval_steps_per_second': 40.846, 'epoch': 54.0}\n",
      "{'loss': 0.5281, 'grad_norm': 26.333986282348633, 'learning_rate': 0.0045000000000000005, 'epoch': 55.0}\n",
      "{'eval_loss': 0.2547313868999481, 'eval_Accuracy': 0.949, 'eval_runtime': 0.5815, 'eval_samples_per_second': 367.998, 'eval_steps_per_second': 46.43, 'epoch': 55.0}\n",
      "{'loss': 0.5379, 'grad_norm': 0.00010135224147234112, 'learning_rate': 0.0044, 'epoch': 56.0}\n",
      "{'eval_loss': 0.4426400661468506, 'eval_Accuracy': 0.93, 'eval_runtime': 0.6117, 'eval_samples_per_second': 349.847, 'eval_steps_per_second': 44.14, 'epoch': 56.0}\n",
      "{'loss': 0.6508, 'grad_norm': 0.055090878158807755, 'learning_rate': 0.0043, 'epoch': 57.0}\n",
      "{'eval_loss': 0.33346807956695557, 'eval_Accuracy': 0.939, 'eval_runtime': 0.6211, 'eval_samples_per_second': 344.524, 'eval_steps_per_second': 43.468, 'epoch': 57.0}\n",
      "{'loss': 0.554, 'grad_norm': 3.523425579071045, 'learning_rate': 0.0042, 'epoch': 58.0}\n",
      "{'eval_loss': 0.17995549738407135, 'eval_Accuracy': 0.953, 'eval_runtime': 0.7032, 'eval_samples_per_second': 304.305, 'eval_steps_per_second': 38.394, 'epoch': 58.0}\n",
      "{'loss': 0.5865, 'grad_norm': 0.00013192174083087593, 'learning_rate': 0.0040999999999999995, 'epoch': 59.0}\n",
      "{'eval_loss': 0.3584353029727936, 'eval_Accuracy': 0.944, 'eval_runtime': 0.5714, 'eval_samples_per_second': 374.503, 'eval_steps_per_second': 47.25, 'epoch': 59.0}\n",
      "{'loss': 0.3566, 'grad_norm': 0.0016340228030458093, 'learning_rate': 0.004, 'epoch': 60.0}\n",
      "{'eval_loss': 0.3103821873664856, 'eval_Accuracy': 0.925, 'eval_runtime': 0.5635, 'eval_samples_per_second': 379.737, 'eval_steps_per_second': 47.911, 'epoch': 60.0}\n",
      "{'loss': 0.4272, 'grad_norm': 0.0150980893522501, 'learning_rate': 0.0039000000000000003, 'epoch': 61.0}\n",
      "{'eval_loss': 0.25003284215927124, 'eval_Accuracy': 0.935, 'eval_runtime': 0.5601, 'eval_samples_per_second': 382.073, 'eval_steps_per_second': 48.205, 'epoch': 61.0}\n",
      "{'loss': 0.482, 'grad_norm': 16.730451583862305, 'learning_rate': 0.0038, 'epoch': 62.0}\n",
      "{'eval_loss': 0.3380352258682251, 'eval_Accuracy': 0.939, 'eval_runtime': 0.57, 'eval_samples_per_second': 375.43, 'eval_steps_per_second': 47.367, 'epoch': 62.0}\n",
      "{'loss': 0.5246, 'grad_norm': 1.3833564519882202, 'learning_rate': 0.0037, 'epoch': 63.0}\n",
      "{'eval_loss': 0.35670286417007446, 'eval_Accuracy': 0.925, 'eval_runtime': 0.5901, 'eval_samples_per_second': 362.638, 'eval_steps_per_second': 45.753, 'epoch': 63.0}\n",
      "{'loss': 0.5808, 'grad_norm': 0.04754975065588951, 'learning_rate': 0.0036, 'epoch': 64.0}\n",
      "{'eval_loss': 0.31207340955734253, 'eval_Accuracy': 0.944, 'eval_runtime': 0.5801, 'eval_samples_per_second': 368.931, 'eval_steps_per_second': 46.547, 'epoch': 64.0}\n",
      "{'loss': 0.3696, 'grad_norm': 0.4129210114479065, 'learning_rate': 0.0034999999999999996, 'epoch': 65.0}\n",
      "{'eval_loss': 0.49443167448043823, 'eval_Accuracy': 0.916, 'eval_runtime': 0.6001, 'eval_samples_per_second': 356.604, 'eval_steps_per_second': 44.992, 'epoch': 65.0}\n",
      "{'loss': 0.5993, 'grad_norm': 0.49499642848968506, 'learning_rate': 0.0034000000000000002, 'epoch': 66.0}\n",
      "{'eval_loss': 0.34555092453956604, 'eval_Accuracy': 0.921, 'eval_runtime': 0.6823, 'eval_samples_per_second': 313.662, 'eval_steps_per_second': 39.574, 'epoch': 66.0}\n",
      "{'loss': 0.4631, 'grad_norm': 0.2054557204246521, 'learning_rate': 0.0033000000000000004, 'epoch': 67.0}\n",
      "{'eval_loss': 0.2162238359451294, 'eval_Accuracy': 0.935, 'eval_runtime': 0.5617, 'eval_samples_per_second': 380.972, 'eval_steps_per_second': 48.067, 'epoch': 67.0}\n",
      "{'loss': 0.3637, 'grad_norm': 0.2925513684749603, 'learning_rate': 0.0032, 'epoch': 68.0}\n",
      "{'eval_loss': 0.21603311598300934, 'eval_Accuracy': 0.949, 'eval_runtime': 0.5738, 'eval_samples_per_second': 372.972, 'eval_steps_per_second': 47.057, 'epoch': 68.0}\n",
      "{'loss': 0.3746, 'grad_norm': 0.00014208252832759172, 'learning_rate': 0.0031, 'epoch': 69.0}\n",
      "{'eval_loss': 0.2750711143016815, 'eval_Accuracy': 0.935, 'eval_runtime': 0.5549, 'eval_samples_per_second': 385.632, 'eval_steps_per_second': 48.655, 'epoch': 69.0}\n",
      "{'loss': 0.4117, 'grad_norm': 9.977852821350098, 'learning_rate': 0.003, 'epoch': 70.0}\n",
      "{'eval_loss': 0.26048752665519714, 'eval_Accuracy': 0.944, 'eval_runtime': 0.5144, 'eval_samples_per_second': 416.008, 'eval_steps_per_second': 52.487, 'epoch': 70.0}\n",
      "{'loss': 0.3401, 'grad_norm': 0.000388708314858377, 'learning_rate': 0.0029, 'epoch': 71.0}\n",
      "{'eval_loss': 0.34151092171669006, 'eval_Accuracy': 0.953, 'eval_runtime': 0.599, 'eval_samples_per_second': 357.253, 'eval_steps_per_second': 45.074, 'epoch': 71.0}\n",
      "{'loss': 0.5826, 'grad_norm': 8.364133834838867, 'learning_rate': 0.0028000000000000004, 'epoch': 72.0}\n",
      "{'eval_loss': 0.2720920443534851, 'eval_Accuracy': 0.944, 'eval_runtime': 0.5475, 'eval_samples_per_second': 390.858, 'eval_steps_per_second': 49.314, 'epoch': 72.0}\n",
      "{'loss': 0.6382, 'grad_norm': 3.918825387954712, 'learning_rate': 0.0027, 'epoch': 73.0}\n",
      "{'eval_loss': 0.2648591697216034, 'eval_Accuracy': 0.935, 'eval_runtime': 0.5041, 'eval_samples_per_second': 424.501, 'eval_steps_per_second': 53.559, 'epoch': 73.0}\n",
      "{'loss': 0.3372, 'grad_norm': 8.254136085510254, 'learning_rate': 0.0026000000000000003, 'epoch': 74.0}\n",
      "{'eval_loss': 0.3726053237915039, 'eval_Accuracy': 0.939, 'eval_runtime': 0.5326, 'eval_samples_per_second': 401.775, 'eval_steps_per_second': 50.691, 'epoch': 74.0}\n",
      "{'loss': 0.3392, 'grad_norm': 19.573999404907227, 'learning_rate': 0.0025, 'epoch': 75.0}\n",
      "{'eval_loss': 0.31796756386756897, 'eval_Accuracy': 0.939, 'eval_runtime': 0.5527, 'eval_samples_per_second': 387.16, 'eval_steps_per_second': 48.847, 'epoch': 75.0}\n",
      "{'loss': 0.455, 'grad_norm': 0.23455151915550232, 'learning_rate': 0.0024, 'epoch': 76.0}\n",
      "{'eval_loss': 0.43000859022140503, 'eval_Accuracy': 0.925, 'eval_runtime': 0.5414, 'eval_samples_per_second': 395.29, 'eval_steps_per_second': 49.873, 'epoch': 76.0}\n",
      "{'loss': 0.2926, 'grad_norm': 5.094538688659668, 'learning_rate': 0.0023, 'epoch': 77.0}\n",
      "{'eval_loss': 0.1633480042219162, 'eval_Accuracy': 0.949, 'eval_runtime': 0.4912, 'eval_samples_per_second': 435.67, 'eval_steps_per_second': 54.968, 'epoch': 77.0}\n",
      "{'loss': 0.3121, 'grad_norm': 0.0011616564588621259, 'learning_rate': 0.0022, 'epoch': 78.0}\n",
      "{'eval_loss': 0.34082701802253723, 'eval_Accuracy': 0.925, 'eval_runtime': 0.5014, 'eval_samples_per_second': 426.774, 'eval_steps_per_second': 53.845, 'epoch': 78.0}\n",
      "{'loss': 0.4019, 'grad_norm': 0.2074405401945114, 'learning_rate': 0.0021, 'epoch': 79.0}\n",
      "{'eval_loss': 0.4522330164909363, 'eval_Accuracy': 0.907, 'eval_runtime': 0.5319, 'eval_samples_per_second': 402.293, 'eval_steps_per_second': 50.757, 'epoch': 79.0}\n",
      "{'loss': 0.3274, 'grad_norm': 0.0033633930142968893, 'learning_rate': 0.002, 'epoch': 80.0}\n",
      "{'eval_loss': 0.277427077293396, 'eval_Accuracy': 0.949, 'eval_runtime': 0.5064, 'eval_samples_per_second': 422.624, 'eval_steps_per_second': 53.322, 'epoch': 80.0}\n",
      "{'loss': 0.3323, 'grad_norm': 8.191353151332237e-10, 'learning_rate': 0.0019, 'epoch': 81.0}\n",
      "{'eval_loss': 0.29758867621421814, 'eval_Accuracy': 0.944, 'eval_runtime': 0.5014, 'eval_samples_per_second': 426.822, 'eval_steps_per_second': 53.851, 'epoch': 81.0}\n",
      "{'loss': 0.3841, 'grad_norm': 6.644054412841797, 'learning_rate': 0.0018, 'epoch': 82.0}\n",
      "{'eval_loss': 0.265280544757843, 'eval_Accuracy': 0.958, 'eval_runtime': 0.5927, 'eval_samples_per_second': 361.076, 'eval_steps_per_second': 45.556, 'epoch': 82.0}\n",
      "{'loss': 0.3506, 'grad_norm': 19.565038681030273, 'learning_rate': 0.0017000000000000001, 'epoch': 83.0}\n",
      "{'eval_loss': 0.2470257431268692, 'eval_Accuracy': 0.953, 'eval_runtime': 0.5706, 'eval_samples_per_second': 375.026, 'eval_steps_per_second': 47.316, 'epoch': 83.0}\n",
      "{'loss': 0.257, 'grad_norm': 0.2240479737520218, 'learning_rate': 0.0016, 'epoch': 84.0}\n",
      "{'eval_loss': 0.2869246006011963, 'eval_Accuracy': 0.925, 'eval_runtime': 0.5614, 'eval_samples_per_second': 381.212, 'eval_steps_per_second': 48.097, 'epoch': 84.0}\n",
      "{'loss': 0.2488, 'grad_norm': 8.154179573059082, 'learning_rate': 0.0015, 'epoch': 85.0}\n",
      "{'eval_loss': 0.22769588232040405, 'eval_Accuracy': 0.953, 'eval_runtime': 0.5612, 'eval_samples_per_second': 381.352, 'eval_steps_per_second': 48.114, 'epoch': 85.0}\n",
      "{'loss': 0.267, 'grad_norm': 0.0030702485237270594, 'learning_rate': 0.0014000000000000002, 'epoch': 86.0}\n",
      "{'eval_loss': 0.26392778754234314, 'eval_Accuracy': 0.958, 'eval_runtime': 0.5411, 'eval_samples_per_second': 395.499, 'eval_steps_per_second': 49.899, 'epoch': 86.0}\n",
      "{'loss': 0.331, 'grad_norm': 4.813592022401281e-05, 'learning_rate': 0.0013000000000000002, 'epoch': 87.0}\n",
      "{'eval_loss': 0.20610760152339935, 'eval_Accuracy': 0.953, 'eval_runtime': 0.6216, 'eval_samples_per_second': 344.263, 'eval_steps_per_second': 43.435, 'epoch': 87.0}\n",
      "{'loss': 0.2808, 'grad_norm': 0.0002770173887256533, 'learning_rate': 0.0012, 'epoch': 88.0}\n",
      "{'eval_loss': 0.25546732544898987, 'eval_Accuracy': 0.958, 'eval_runtime': 0.5513, 'eval_samples_per_second': 388.187, 'eval_steps_per_second': 48.977, 'epoch': 88.0}\n",
      "{'loss': 0.2847, 'grad_norm': 16.6050968170166, 'learning_rate': 0.0011, 'epoch': 89.0}\n",
      "{'eval_loss': 0.20740756392478943, 'eval_Accuracy': 0.953, 'eval_runtime': 0.5627, 'eval_samples_per_second': 380.29, 'eval_steps_per_second': 47.98, 'epoch': 89.0}\n",
      "{'loss': 0.186, 'grad_norm': 0.022499850019812584, 'learning_rate': 0.001, 'epoch': 90.0}\n",
      "{'eval_loss': 0.21600989997386932, 'eval_Accuracy': 0.953, 'eval_runtime': 0.6965, 'eval_samples_per_second': 307.262, 'eval_steps_per_second': 38.767, 'epoch': 90.0}\n",
      "{'loss': 0.253, 'grad_norm': 0.16508343815803528, 'learning_rate': 0.0009, 'epoch': 91.0}\n",
      "{'eval_loss': 0.250051349401474, 'eval_Accuracy': 0.939, 'eval_runtime': 0.5941, 'eval_samples_per_second': 360.215, 'eval_steps_per_second': 45.448, 'epoch': 91.0}\n",
      "{'loss': 0.2368, 'grad_norm': 0.0028033656999468803, 'learning_rate': 0.0008, 'epoch': 92.0}\n",
      "{'eval_loss': 0.23898999392986298, 'eval_Accuracy': 0.958, 'eval_runtime': 0.5101, 'eval_samples_per_second': 419.504, 'eval_steps_per_second': 52.928, 'epoch': 92.0}\n",
      "{'loss': 0.2744, 'grad_norm': 0.12502145767211914, 'learning_rate': 0.0007000000000000001, 'epoch': 93.0}\n",
      "{'eval_loss': 0.16722117364406586, 'eval_Accuracy': 0.963, 'eval_runtime': 0.5415, 'eval_samples_per_second': 395.181, 'eval_steps_per_second': 49.859, 'epoch': 93.0}\n",
      "{'loss': 0.1824, 'grad_norm': 2.451741920594941e-06, 'learning_rate': 0.0006, 'epoch': 94.0}\n",
      "{'eval_loss': 0.17868414521217346, 'eval_Accuracy': 0.972, 'eval_runtime': 0.5715, 'eval_samples_per_second': 374.45, 'eval_steps_per_second': 47.244, 'epoch': 94.0}\n",
      "{'loss': 0.2044, 'grad_norm': 0.048025235533714294, 'learning_rate': 0.0005, 'epoch': 95.0}\n",
      "{'eval_loss': 0.1779167801141739, 'eval_Accuracy': 0.972, 'eval_runtime': 0.5481, 'eval_samples_per_second': 390.416, 'eval_steps_per_second': 49.258, 'epoch': 95.0}\n",
      "{'loss': 0.2148, 'grad_norm': 0.0003471011877991259, 'learning_rate': 0.0004, 'epoch': 96.0}\n",
      "{'eval_loss': 0.1731812059879303, 'eval_Accuracy': 0.958, 'eval_runtime': 0.5414, 'eval_samples_per_second': 395.303, 'eval_steps_per_second': 49.875, 'epoch': 96.0}\n",
      "{'loss': 0.2387, 'grad_norm': 0.08814038336277008, 'learning_rate': 0.0003, 'epoch': 97.0}\n",
      "{'eval_loss': 0.1678553819656372, 'eval_Accuracy': 0.977, 'eval_runtime': 0.5623, 'eval_samples_per_second': 380.6, 'eval_steps_per_second': 48.02, 'epoch': 97.0}\n",
      "{'loss': 0.2226, 'grad_norm': 0.0001873352302936837, 'learning_rate': 0.0002, 'epoch': 98.0}\n",
      "{'eval_loss': 0.16287082433700562, 'eval_Accuracy': 0.972, 'eval_runtime': 0.6589, 'eval_samples_per_second': 324.761, 'eval_steps_per_second': 40.975, 'epoch': 98.0}\n",
      "{'loss': 0.1734, 'grad_norm': 2.833200216293335, 'learning_rate': 0.0001, 'epoch': 99.0}\n",
      "{'eval_loss': 0.16113491356372833, 'eval_Accuracy': 0.977, 'eval_runtime': 0.5182, 'eval_samples_per_second': 412.984, 'eval_steps_per_second': 52.105, 'epoch': 99.0}\n",
      "{'loss': 0.2277, 'grad_norm': 0.000739448587410152, 'learning_rate': 0.0, 'epoch': 100.0}\n",
      "{'eval_loss': 0.1736508011817932, 'eval_Accuracy': 0.972, 'eval_runtime': 0.7662, 'eval_samples_per_second': 279.309, 'eval_steps_per_second': 35.24, 'epoch': 100.0}\n",
      "{'train_runtime': 346.6432, 'train_samples_per_second': 186.07, 'train_steps_per_second': 23.367, 'train_loss': 0.6945069548524456, 'epoch': 100.0}\n"
     ]
    },
    {
     "data": {
      "text/plain": [
       "TrainOutput(global_step=8100, training_loss=0.6945069548524456, metrics={'train_runtime': 346.6432, 'train_samples_per_second': 186.07, 'train_steps_per_second': 23.367, 'train_loss': 0.6945069548524456, 'epoch': 100.0})"
      ]
     },
     "execution_count": 50,
     "metadata": {},
     "output_type": "execute_result"
    }
   ],
   "source": [
    "trainer.train()"
   ]
  },
  {
   "cell_type": "markdown",
   "id": "36865773-e6e2-4434-ad1d-4e8d42d2f7cd",
   "metadata": {},
   "source": [
    "<b>4.4 Extract Training History</b>"
   ]
  },
  {
   "cell_type": "code",
   "execution_count": 51,
   "id": "ae41fcb7-9c9b-426b-b488-2f626c3d5b4d",
   "metadata": {},
   "outputs": [
    {
     "data": {
      "text/plain": [
       "{'loss': 1.2974,\n",
       " 'grad_norm': 12.113360404968262,\n",
       " 'learning_rate': 0.009000000000000001,\n",
       " 'epoch': 10.0,\n",
       " 'step': 810}"
      ]
     },
     "execution_count": 51,
     "metadata": {},
     "output_type": "execute_result"
    }
   ],
   "source": [
    "trainer.state.log_history[18]"
   ]
  },
  {
   "cell_type": "code",
   "execution_count": 52,
   "id": "6e7711fa-4b9c-48b7-bb22-14202ea9fecc",
   "metadata": {},
   "outputs": [
    {
     "data": {
      "text/plain": [
       "{'eval_loss': 1.0253123044967651,\n",
       " 'eval_Accuracy': 0.808,\n",
       " 'eval_runtime': 0.4912,\n",
       " 'eval_samples_per_second': 435.699,\n",
       " 'eval_steps_per_second': 54.971,\n",
       " 'epoch': 10.0,\n",
       " 'step': 810}"
      ]
     },
     "execution_count": 52,
     "metadata": {},
     "output_type": "execute_result"
    }
   ],
   "source": [
    "trainer.state.log_history[19]"
   ]
  },
  {
   "cell_type": "code",
   "execution_count": 53,
   "id": "5e02a72a-895c-4d1d-b05d-66c31b847e1d",
   "metadata": {},
   "outputs": [
    {
     "data": {
      "text/plain": [
       "{'loss': 1.2389,\n",
       " 'grad_norm': 23.04060935974121,\n",
       " 'learning_rate': 0.0089,\n",
       " 'epoch': 11.0,\n",
       " 'step': 891}"
      ]
     },
     "execution_count": 53,
     "metadata": {},
     "output_type": "execute_result"
    }
   ],
   "source": [
    "trainer.state.log_history[20]"
   ]
  },
  {
   "cell_type": "code",
   "execution_count": 54,
   "id": "98301720-7d0d-4674-9ca7-331cc986114f",
   "metadata": {},
   "outputs": [
    {
     "data": {
      "text/plain": [
       "(200, 201)"
      ]
     },
     "execution_count": 54,
     "metadata": {},
     "output_type": "execute_result"
    }
   ],
   "source": [
    "len(trainer.state.log_history[:-1]),len(trainer.state.log_history)"
   ]
  },
  {
   "cell_type": "code",
   "execution_count": 55,
   "id": "ca8ac094-ecdb-4fd3-a904-59c3fb785290",
   "metadata": {},
   "outputs": [],
   "source": [
    "learning_history = trainer.state.log_history[:-1]"
   ]
  },
  {
   "cell_type": "code",
   "execution_count": 56,
   "id": "14870d6b-3f1e-4b1e-9d22-37e1177c5aba",
   "metadata": {},
   "outputs": [],
   "source": [
    "hist_dict = {\n",
    "'train_loss': [],\n",
    "'valid_loss': [],\n",
    "'valid_acc': []\n",
    "}\n",
    "\n",
    "for item in learning_history:\n",
    "    if 'loss' in item:\n",
    "        hist_dict['train_loss'].append(item['loss'])\n",
    "        continue\n",
    "        \n",
    "    if 'eval_loss' in item:\n",
    "        hist_dict['valid_loss'].append(item['eval_loss'])\n",
    "        hist_dict['valid_acc'].append(item['eval_Accuracy'])"
   ]
  },
  {
   "cell_type": "code",
   "execution_count": 57,
   "id": "996060fa-06e1-4f2d-86c6-bd1772deb091",
   "metadata": {},
   "outputs": [
    {
     "name": "stdout",
     "output_type": "stream",
     "text": [
      "train_loss [2.0212, 1.2775, 1.7034, 1.2921, 1.257, 1.3413, 0.7906, 1.2516, 1.3148, 1.2974, 1.2389, 1.1045, 1.3437, 0.8278, 0.9239, 1.0084, 0.877, 1.0983, 1.2775, 0.9663, 1.1278, 0.8827, 1.0061, 1.2043, 0.9315, 0.8766, 0.7483, 1.2985, 0.9424, 1.1101, 0.9561, 1.0855, 0.8964, 1.0509, 0.7739, 0.7851, 0.8152, 0.8836, 0.7723, 0.7501, 0.483, 1.0584, 0.6389, 0.7146, 0.6928, 0.4639, 0.6033, 0.6962, 0.9246, 0.6567, 0.5567, 0.7044, 0.5335, 0.626, 0.5281, 0.5379, 0.6508, 0.554, 0.5865, 0.3566, 0.4272, 0.482, 0.5246, 0.5808, 0.3696, 0.5993, 0.4631, 0.3637, 0.3746, 0.4117, 0.3401, 0.5826, 0.6382, 0.3372, 0.3392, 0.455, 0.2926, 0.3121, 0.4019, 0.3274, 0.3323, 0.3841, 0.3506, 0.257, 0.2488, 0.267, 0.331, 0.2808, 0.2847, 0.186, 0.253, 0.2368, 0.2744, 0.1824, 0.2044, 0.2148, 0.2387, 0.2226, 0.1734, 0.2277]\n",
      "valid_loss [1.600338339805603, 1.178826928138733, 1.4956490993499756, 1.5104053020477295, 1.889670491218567, 0.5227786898612976, 0.6607946753501892, 1.9461236000061035, 0.5054450631141663, 1.0253123044967651, 3.7007155418395996, 0.8337281346321106, 1.508250117301941, 1.3365117311477661, 0.7084679007530212, 0.6960354447364807, 0.7014650106430054, 0.5239092111587524, 0.5200501084327698, 0.6896121501922607, 0.8119305968284607, 0.2701704204082489, 0.6312216520309448, 0.4688240885734558, 0.6711567044258118, 0.7334936857223511, 0.9712463021278381, 0.6353179216384888, 0.6108714938163757, 1.0802693367004395, 0.9947496056556702, 0.3808053135871887, 0.3113914430141449, 0.6015836596488953, 0.35553088784217834, 0.36563530564308167, 1.0430171489715576, 0.2615112364292145, 0.4062962532043457, 0.557954728603363, 0.8143664002418518, 0.8290591239929199, 0.47433096170425415, 0.675574779510498, 0.28545257449150085, 0.5636981129646301, 0.8763267993927002, 0.3709581196308136, 0.32391250133514404, 0.2433350682258606, 0.2863343358039856, 0.4201984703540802, 0.30785226821899414, 0.6383518576622009, 0.2547313868999481, 0.4426400661468506, 0.33346807956695557, 0.17995549738407135, 0.3584353029727936, 0.3103821873664856, 0.25003284215927124, 0.3380352258682251, 0.35670286417007446, 0.31207340955734253, 0.49443167448043823, 0.34555092453956604, 0.2162238359451294, 0.21603311598300934, 0.2750711143016815, 0.26048752665519714, 0.34151092171669006, 0.2720920443534851, 0.2648591697216034, 0.3726053237915039, 0.31796756386756897, 0.43000859022140503, 0.1633480042219162, 0.34082701802253723, 0.4522330164909363, 0.277427077293396, 0.29758867621421814, 0.265280544757843, 0.2470257431268692, 0.2869246006011963, 0.22769588232040405, 0.26392778754234314, 0.20610760152339935, 0.25546732544898987, 0.20740756392478943, 0.21600989997386932, 0.250051349401474, 0.23898999392986298, 0.16722117364406586, 0.17868414521217346, 0.1779167801141739, 0.1731812059879303, 0.1678553819656372, 0.16287082433700562, 0.16113491356372833, 0.1736508011817932]\n",
      "valid_acc [0.593, 0.668, 0.621, 0.724, 0.607, 0.818, 0.855, 0.682, 0.785, 0.808, 0.486, 0.85, 0.659, 0.678, 0.832, 0.813, 0.771, 0.841, 0.827, 0.86, 0.827, 0.921, 0.869, 0.869, 0.86, 0.85, 0.864, 0.888, 0.879, 0.804, 0.757, 0.897, 0.925, 0.841, 0.907, 0.935, 0.86, 0.939, 0.921, 0.893, 0.832, 0.832, 0.916, 0.86, 0.935, 0.897, 0.762, 0.888, 0.911, 0.939, 0.935, 0.911, 0.935, 0.85, 0.949, 0.93, 0.939, 0.953, 0.944, 0.925, 0.935, 0.939, 0.925, 0.944, 0.916, 0.921, 0.935, 0.949, 0.935, 0.944, 0.953, 0.944, 0.935, 0.939, 0.939, 0.925, 0.949, 0.925, 0.907, 0.949, 0.944, 0.958, 0.953, 0.925, 0.953, 0.958, 0.953, 0.958, 0.953, 0.953, 0.939, 0.958, 0.963, 0.972, 0.972, 0.958, 0.977, 0.972, 0.977, 0.972]\n"
     ]
    }
   ],
   "source": [
    "for key in  hist_dict:\n",
    "    print(key,hist_dict[key])"
   ]
  },
  {
   "cell_type": "code",
   "execution_count": 58,
   "id": "f16f8a62-208d-4860-8e21-136b8965b62e",
   "metadata": {},
   "outputs": [
    {
     "data": {
      "text/plain": [
       "Text(0.5, 0, 'Epochs')"
      ]
     },
     "execution_count": 58,
     "metadata": {},
     "output_type": "execute_result"
    },
    {
     "data": {
      "image/png": "[encoded data removed]",
      "text/plain": [
       "<Figure size 640x480 with 2 Axes>"
      ]
     },
     "metadata": {},
     "output_type": "display_data"
    }
   ],
   "source": [
    "plt.subplot(1,2,1)\n",
    "for key in  list(hist_dict.keys())[:-1]:\n",
    "    plt.plot(hist_dict[key])\n",
    "plt.legend(list(hist_dict.keys())[:-1])\n",
    "plt.title('Train vs. Validation Loss')\n",
    "plt.xlabel('Epochs')\n",
    "\n",
    "plt.subplot(1,2,2)\n",
    "for key in  [list(hist_dict.keys())[-1]]:\n",
    "    plt.plot(hist_dict[key])\n",
    "plt.legend([list(hist_dict.keys())[-1]])\n",
    "plt.title('Validation Acc')\n",
    "plt.xlabel('Epochs')"
   ]
  },
  {
   "cell_type": "markdown",
   "id": "cf6b12cc",
   "metadata": {},
   "source": [
    "<b> 4.5 Apply Model to Validation Dataset</b>"
   ]
  },
  {
   "cell_type": "code",
   "execution_count": 106,
   "id": "ba1f2710",
   "metadata": {},
   "outputs": [
    {
     "name": "stdout",
     "output_type": "stream",
     "text": [
      "Accuracy 1.0\n"
     ]
    }
   ],
   "source": [
    "# apply model to validation dataset\n",
    "split_key = 'test'\n",
    "\n",
    "predictions = trainer.predict(tokenized_data[split_key])\n",
    "\n",
    "# Extract the logits and labels from the predictions object\n",
    "logits = predictions.predictions\n",
    "labels = predictions.label_ids\n",
    "\n",
    "# Use your compute_metrics function\n",
    "#metrics = compute_metrics((logits, labels))\n",
    "#print(metrics)\n",
    "true_count = 0\n",
    "for pred_l,actu_l in zip(labels,support_tickets_splits[split_key]['label']): \n",
    "    if pred_l == actu_l:\n",
    "        true_count += 1\n",
    "print(f'Accuracy {true_count/len(labels)}')"
   ]
  },
  {
   "cell_type": "code",
   "execution_count": 107,
   "id": "0d02c7ab-744b-4848-8111-b7e916ba64c4",
   "metadata": {},
   "outputs": [
    {
     "data": {
      "text/plain": [
       "array([2, 5, 5, 2, 5, 0, 5, 5, 5, 5, 4, 4, 0, 1, 2, 5, 0, 4, 0, 1, 3, 4,\n",
       "       5, 0, 3, 2, 2, 1, 5, 0, 0, 0, 2, 0, 0, 2, 5, 1, 2, 5, 5, 2, 5, 5,\n",
       "       0, 1, 5, 0, 1, 2, 0, 0, 0, 0, 0, 2, 0, 1, 4, 2, 0, 2, 4, 5, 5, 3,\n",
       "       4, 5, 2, 1, 5, 2, 0, 5, 2, 1, 5, 5, 5, 5, 2, 5, 5, 5, 0, 3, 5, 1,\n",
       "       3, 0, 2, 0, 5, 0, 3, 5, 0, 0, 0, 5, 4, 4, 3, 2, 1, 5, 5, 0, 0, 3,\n",
       "       5, 4, 0, 0, 3, 5, 4, 0, 5, 5, 0, 1, 3, 4, 5, 0, 5, 0, 5, 2, 5, 1,\n",
       "       3, 0, 4, 0, 5, 4, 4, 2, 5, 2, 5, 3, 5, 1, 5, 1, 0, 5, 0, 0, 2, 5,\n",
       "       2, 1, 3, 5, 2, 1, 0, 2, 2, 3, 5, 5, 2, 2, 0, 0, 4, 3, 3, 0, 2, 2,\n",
       "       1, 2, 5, 5, 3, 0, 0, 0, 1, 1, 5, 0, 5, 5, 4, 2, 2, 5, 5, 5, 2, 0,\n",
       "       0, 5, 0, 3, 4, 5, 1, 1, 5, 1, 0, 5, 5, 5, 5, 2], dtype=int64)"
      ]
     },
     "execution_count": 107,
     "metadata": {},
     "output_type": "execute_result"
    }
   ],
   "source": [
    "labels"
   ]
  },
  {
   "cell_type": "code",
   "execution_count": 108,
   "id": "0465f670-327f-48c4-b64b-0d50bd650684",
   "metadata": {},
   "outputs": [
    {
     "data": {
      "text/plain": [
       "[2,\n",
       " 5,\n",
       " 5,\n",
       " 2,\n",
       " 5,\n",
       " 0,\n",
       " 5,\n",
       " 5,\n",
       " 5,\n",
       " 5,\n",
       " 4,\n",
       " 4,\n",
       " 0,\n",
       " 1,\n",
       " 2,\n",
       " 5,\n",
       " 0,\n",
       " 4,\n",
       " 0,\n",
       " 1,\n",
       " 3,\n",
       " 4,\n",
       " 5,\n",
       " 0,\n",
       " 3,\n",
       " 2,\n",
       " 2,\n",
       " 1,\n",
       " 5,\n",
       " 0,\n",
       " 0,\n",
       " 0,\n",
       " 2,\n",
       " 0,\n",
       " 0,\n",
       " 2,\n",
       " 5,\n",
       " 1,\n",
       " 2,\n",
       " 5,\n",
       " 5,\n",
       " 2,\n",
       " 5,\n",
       " 5,\n",
       " 0,\n",
       " 1,\n",
       " 5,\n",
       " 0,\n",
       " 1,\n",
       " 2,\n",
       " 0,\n",
       " 0,\n",
       " 0,\n",
       " 0,\n",
       " 0,\n",
       " 2,\n",
       " 0,\n",
       " 1,\n",
       " 4,\n",
       " 2,\n",
       " 0,\n",
       " 2,\n",
       " 4,\n",
       " 5,\n",
       " 5,\n",
       " 3,\n",
       " 4,\n",
       " 5,\n",
       " 2,\n",
       " 1,\n",
       " 5,\n",
       " 2,\n",
       " 0,\n",
       " 5,\n",
       " 2,\n",
       " 1,\n",
       " 5,\n",
       " 5,\n",
       " 5,\n",
       " 5,\n",
       " 2,\n",
       " 5,\n",
       " 5,\n",
       " 5,\n",
       " 0,\n",
       " 3,\n",
       " 5,\n",
       " 1,\n",
       " 3,\n",
       " 0,\n",
       " 2,\n",
       " 0,\n",
       " 5,\n",
       " 0,\n",
       " 3,\n",
       " 5,\n",
       " 0,\n",
       " 0,\n",
       " 0,\n",
       " 5,\n",
       " 4,\n",
       " 4,\n",
       " 3,\n",
       " 2,\n",
       " 1,\n",
       " 5,\n",
       " 5,\n",
       " 0,\n",
       " 0,\n",
       " 3,\n",
       " 5,\n",
       " 4,\n",
       " 0,\n",
       " 0,\n",
       " 3,\n",
       " 5,\n",
       " 4,\n",
       " 0,\n",
       " 5,\n",
       " 5,\n",
       " 0,\n",
       " 1,\n",
       " 3,\n",
       " 4,\n",
       " 5,\n",
       " 0,\n",
       " 5,\n",
       " 0,\n",
       " 5,\n",
       " 2,\n",
       " 5,\n",
       " 1,\n",
       " 3,\n",
       " 0,\n",
       " 4,\n",
       " 0,\n",
       " 5,\n",
       " 4,\n",
       " 4,\n",
       " 2,\n",
       " 5,\n",
       " 2,\n",
       " 5,\n",
       " 3,\n",
       " 5,\n",
       " 1,\n",
       " 5,\n",
       " 1,\n",
       " 0,\n",
       " 5,\n",
       " 0,\n",
       " 0,\n",
       " 2,\n",
       " 5,\n",
       " 2,\n",
       " 1,\n",
       " 3,\n",
       " 5,\n",
       " 2,\n",
       " 1,\n",
       " 0,\n",
       " 2,\n",
       " 2,\n",
       " 3,\n",
       " 5,\n",
       " 5,\n",
       " 2,\n",
       " 2,\n",
       " 0,\n",
       " 0,\n",
       " 4,\n",
       " 3,\n",
       " 3,\n",
       " 0,\n",
       " 2,\n",
       " 2,\n",
       " 1,\n",
       " 2,\n",
       " 5,\n",
       " 5,\n",
       " 3,\n",
       " 0,\n",
       " 0,\n",
       " 0,\n",
       " 1,\n",
       " 1,\n",
       " 5,\n",
       " 0,\n",
       " 5,\n",
       " 5,\n",
       " 4,\n",
       " 2,\n",
       " 2,\n",
       " 5,\n",
       " 5,\n",
       " 5,\n",
       " 2,\n",
       " 0,\n",
       " 0,\n",
       " 5,\n",
       " 0,\n",
       " 3,\n",
       " 4,\n",
       " 5,\n",
       " 1,\n",
       " 1,\n",
       " 5,\n",
       " 1,\n",
       " 0,\n",
       " 5,\n",
       " 5,\n",
       " 5,\n",
       " 5,\n",
       " 2]"
      ]
     },
     "execution_count": 108,
     "metadata": {},
     "output_type": "execute_result"
    }
   ],
   "source": [
    "support_tickets_splits['test']['label']"
   ]
  },
  {
   "cell_type": "code",
   "execution_count": 109,
   "id": "ff36f052-6ad2-48bf-8b1a-36597eaab1c0",
   "metadata": {},
   "outputs": [
    {
     "data": {
      "image/png": "[encoded data removed]",
      "text/plain": [
       "<Figure size 800x500 with 2 Axes>"
      ]
     },
     "metadata": {},
     "output_type": "display_data"
    }
   ],
   "source": [
    "from sklearn.metrics import confusion_matrix\n",
    "from sklearn.metrics import classification_report\n",
    "import seaborn as sns\n",
    "\n",
    "font_size = 12\n",
    "label_class = list(label2id.keys())\n",
    "cl_rep = classification_report(support_tickets_splits['test']['label'],\n",
    "                               labels,\n",
    "                               target_names=label_class,\n",
    "                               output_dict=True\n",
    "                            )\n",
    "\n",
    "cm = confusion_matrix(support_tickets_splits['test']['label'],\n",
    "                      labels)\n",
    "\n",
    "plt.figure(figsize = (8, 5))\n",
    "sns.heatmap(cm,\n",
    "            xticklabels=label_class,\n",
    "            yticklabels=label_class,\n",
    "            annot = True,  fmt = '.0f',\n",
    "            annot_kws={'size': font_size})\n",
    "plt.ylabel('Actual')\n",
    "plt.xlabel('Predicted')\n",
    "plt.show()"
   ]
  },
  {
   "cell_type": "code",
   "execution_count": 110,
   "id": "f1832793-145e-4784-8316-ece75174b197",
   "metadata": {},
   "outputs": [
    {
     "data": {
      "text/html": [
       "<div>\n",
       "<style scoped>\n",
       "    .dataframe tbody tr th:only-of-type {\n",
       "        vertical-align: middle;\n",
       "    }\n",
       "\n",
       "    .dataframe tbody tr th {\n",
       "        vertical-align: top;\n",
       "    }\n",
       "\n",
       "    .dataframe thead th {\n",
       "        text-align: right;\n",
       "    }\n",
       "</style>\n",
       "<table border=\"1\" class=\"dataframe\">\n",
       "  <thead>\n",
       "    <tr style=\"text-align: right;\">\n",
       "      <th></th>\n",
       "      <th>user</th>\n",
       "      <th>servers</th>\n",
       "      <th>printer</th>\n",
       "      <th>access</th>\n",
       "      <th>network</th>\n",
       "      <th>storage</th>\n",
       "      <th>accuracy</th>\n",
       "      <th>macro avg</th>\n",
       "      <th>weighted avg</th>\n",
       "    </tr>\n",
       "  </thead>\n",
       "  <tbody>\n",
       "    <tr>\n",
       "      <th>precision</th>\n",
       "      <td>1.0</td>\n",
       "      <td>1.0</td>\n",
       "      <td>1.0</td>\n",
       "      <td>1.0</td>\n",
       "      <td>1.0</td>\n",
       "      <td>1.0</td>\n",
       "      <td>1.0</td>\n",
       "      <td>1.0</td>\n",
       "      <td>1.0</td>\n",
       "    </tr>\n",
       "    <tr>\n",
       "      <th>recall</th>\n",
       "      <td>1.0</td>\n",
       "      <td>1.0</td>\n",
       "      <td>1.0</td>\n",
       "      <td>1.0</td>\n",
       "      <td>1.0</td>\n",
       "      <td>1.0</td>\n",
       "      <td>1.0</td>\n",
       "      <td>1.0</td>\n",
       "      <td>1.0</td>\n",
       "    </tr>\n",
       "    <tr>\n",
       "      <th>f1-score</th>\n",
       "      <td>1.0</td>\n",
       "      <td>1.0</td>\n",
       "      <td>1.0</td>\n",
       "      <td>1.0</td>\n",
       "      <td>1.0</td>\n",
       "      <td>1.0</td>\n",
       "      <td>1.0</td>\n",
       "      <td>1.0</td>\n",
       "      <td>1.0</td>\n",
       "    </tr>\n",
       "    <tr>\n",
       "      <th>support</th>\n",
       "      <td>52.0</td>\n",
       "      <td>23.0</td>\n",
       "      <td>36.0</td>\n",
       "      <td>18.0</td>\n",
       "      <td>18.0</td>\n",
       "      <td>67.0</td>\n",
       "      <td>1.0</td>\n",
       "      <td>214.0</td>\n",
       "      <td>214.0</td>\n",
       "    </tr>\n",
       "  </tbody>\n",
       "</table>\n",
       "</div>"
      ],
      "text/plain": [
       "           user  servers  printer  access  network  storage  accuracy  \\\n",
       "precision   1.0      1.0      1.0     1.0      1.0      1.0       1.0   \n",
       "recall      1.0      1.0      1.0     1.0      1.0      1.0       1.0   \n",
       "f1-score    1.0      1.0      1.0     1.0      1.0      1.0       1.0   \n",
       "support    52.0     23.0     36.0    18.0     18.0     67.0       1.0   \n",
       "\n",
       "           macro avg  weighted avg  \n",
       "precision        1.0           1.0  \n",
       "recall           1.0           1.0  \n",
       "f1-score         1.0           1.0  \n",
       "support        214.0         214.0  "
      ]
     },
     "execution_count": 110,
     "metadata": {},
     "output_type": "execute_result"
    }
   ],
   "source": [
    "df = pd.DataFrame(cl_rep)\n",
    "df"
   ]
  },
  {
   "cell_type": "code",
   "execution_count": null,
   "id": "eb89b178",
   "metadata": {},
   "outputs": [],
   "source": [
    "# # push model to hub\n",
    "# trainer.push_to_hub()"
   ]
  },
  {
   "cell_type": "markdown",
   "id": "0d56ddf5-7bf5-4261-a9bc-30c80ae17b12",
   "metadata": {},
   "source": [
    "## LORA"
   ]
  },
  {
   "cell_type": "code",
   "execution_count": 111,
   "id": "a7e1c1c4-2f99-4a18-9818-cf1df96fd4fc",
   "metadata": {},
   "outputs": [],
   "source": [
    "#model_path = \"google-bert/bert-base-uncased\"\n",
    "model_path_dict = {}\n",
    "model_path_dict['lora'] = 'distilbert-base-uncased'\n",
    "\n",
    "label2id = label_name_dict.copy()\n",
    "id2label = {label2id[key]:key for key in label2id}\n",
    "#id2label = {0: \"access\", 1: \"disk\", 2: \"user\"}\n",
    "#label2id = {id2label[key]:key for key in id2label}\n",
    "\n",
    "model_dict = {}\n",
    "\n",
    "model_dict['lora'] = AutoModelForSequenceClassification.from_pretrained(model_path_dict['lora'], \n",
    "                                                                        num_labels=len(list(id2label.keys())), \n",
    "                                                                        id2label=id2label, \n",
    "                                                                        label2id=label2id\n",
    "                                                                       )"
   ]
  },
  {
   "cell_type": "code",
   "execution_count": 112,
   "id": "a79f48bd-920f-40d2-a281-68679111d478",
   "metadata": {},
   "outputs": [],
   "source": [
    "# create tokenizer\n",
    "tokenizer_dict = {}\n",
    "tokenizer_dict['lora'] = AutoTokenizer.from_pretrained(model_path_dict['lora'], \n",
    "                                                       add_prefix_space=True)\n",
    "\n",
    "# add pad token if none exists\n",
    "if tokenizer_dict['lora'].pad_token is None:\n",
    "    tokenizer_dict['lora'].add_special_tokens({'pad_token': '[PAD]'})\n",
    "    model.resize_token_embeddings(len(tokenizer_dict['lora']))"
   ]
  },
  {
   "cell_type": "code",
   "execution_count": 113,
   "id": "63ddb32d-a8ca-43d8-a9fc-a6a3a3d1c4e2",
   "metadata": {},
   "outputs": [
    {
     "data": {
      "text/plain": [
       "DistilBertTokenizerFast(name_or_path='distilbert-base-uncased', vocab_size=30522, model_max_length=512, is_fast=True, padding_side='right', truncation_side='right', special_tokens={'unk_token': '[UNK]', 'sep_token': '[SEP]', 'pad_token': '[PAD]', 'cls_token': '[CLS]', 'mask_token': '[MASK]'}, clean_up_tokenization_spaces=False),  added_tokens_decoder={\n",
       "\t0: AddedToken(\"[PAD]\", rstrip=False, lstrip=False, single_word=False, normalized=False, special=True),\n",
       "\t100: AddedToken(\"[UNK]\", rstrip=False, lstrip=False, single_word=False, normalized=False, special=True),\n",
       "\t101: AddedToken(\"[CLS]\", rstrip=False, lstrip=False, single_word=False, normalized=False, special=True),\n",
       "\t102: AddedToken(\"[SEP]\", rstrip=False, lstrip=False, single_word=False, normalized=False, special=True),\n",
       "\t103: AddedToken(\"[MASK]\", rstrip=False, lstrip=False, single_word=False, normalized=False, special=True),\n",
       "}"
      ]
     },
     "execution_count": 113,
     "metadata": {},
     "output_type": "execute_result"
    }
   ],
   "source": [
    "tokenizer_dict['lora']"
   ]
  },
  {
   "cell_type": "code",
   "execution_count": 116,
   "id": "9d5755d2-5af6-4c4f-9703-17827ffc84a9",
   "metadata": {},
   "outputs": [],
   "source": [
    "# create tokenize function\n",
    "def tokenize_function_lora(examples):\n",
    "    # extract text\n",
    "    text = examples[\"description\"]\n",
    "\n",
    "    #tokenize and truncate text\n",
    "    tokenizer_dict['lora'].truncation_side = \"left\"\n",
    "    tokenized_inputs = tokenizer_dict['lora'](text,\n",
    "                                              return_tensors=\"np\",\n",
    "                                              truncation=True,\n",
    "                                              max_length=512\n",
    "                                             )\n",
    "\n",
    "    return tokenized_inputs"
   ]
  },
  {
   "cell_type": "code",
   "execution_count": 117,
   "id": "e35a3ffe-d349-40d6-b556-a9956ec6a359",
   "metadata": {},
   "outputs": [
    {
     "data": {
      "application/vnd.jupyter.widget-view+json": {
       "model_id": "a4254eb29e614c8693d91cc04b29bdbd",
       "version_major": 2,
       "version_minor": 0
      },
      "text/plain": [
       "Map:   0%|          | 0/645 [00:00<?, ? examples/s]"
      ]
     },
     "metadata": {},
     "output_type": "display_data"
    },
    {
     "data": {
      "application/vnd.jupyter.widget-view+json": {
       "model_id": "ce0b267daae94c0b93dd7e67bbcad3c5",
       "version_major": 2,
       "version_minor": 0
      },
      "text/plain": [
       "Map:   0%|          | 0/214 [00:00<?, ? examples/s]"
      ]
     },
     "metadata": {},
     "output_type": "display_data"
    },
    {
     "data": {
      "application/vnd.jupyter.widget-view+json": {
       "model_id": "de71b55bc88e40e2a0dc73eb3add611d",
       "version_major": 2,
       "version_minor": 0
      },
      "text/plain": [
       "Map:   0%|          | 0/214 [00:00<?, ? examples/s]"
      ]
     },
     "metadata": {},
     "output_type": "display_data"
    },
    {
     "data": {
      "text/plain": [
       "DatasetDict({\n",
       "    train: Dataset({\n",
       "        features: ['subject', 'description', 'key_phrase', 'class', 'label', '__index_level_0__', 'input_ids', 'attention_mask'],\n",
       "        num_rows: 645\n",
       "    })\n",
       "    valid: Dataset({\n",
       "        features: ['subject', 'description', 'key_phrase', 'class', 'label', '__index_level_0__', 'input_ids', 'attention_mask'],\n",
       "        num_rows: 214\n",
       "    })\n",
       "    test: Dataset({\n",
       "        features: ['subject', 'description', 'key_phrase', 'class', 'label', '__index_level_0__', 'input_ids', 'attention_mask'],\n",
       "        num_rows: 214\n",
       "    })\n",
       "})"
      ]
     },
     "execution_count": 117,
     "metadata": {},
     "output_type": "execute_result"
    }
   ],
   "source": [
    "# tokenize training and validation datasets\n",
    "\n",
    "tokenized_dataset_dict = {}\n",
    "tokenized_dataset_dict['lora'] = ds_splits.map(tokenize_function_lora, \n",
    "                                               batched=True)\n",
    "tokenized_dataset_dict['lora']"
   ]
  },
  {
   "cell_type": "code",
   "execution_count": 118,
   "id": "ab6b9c7e-5bf1-456b-9cba-5aa16084a6a4",
   "metadata": {},
   "outputs": [],
   "source": [
    "# create data collator\n",
    "data_collator_dict = {}\n",
    "\n",
    "data_collator_dict['lora'] = DataCollatorWithPadding(tokenizer=tokenizer_dict['lora'])"
   ]
  },
  {
   "cell_type": "code",
   "execution_count": 85,
   "id": "608cf78c-0eab-4035-8c8b-c457229b093b",
   "metadata": {},
   "outputs": [],
   "source": [
    "# import accuracy evaluation metric\n",
    "accuracy = evaluate.load(\"accuracy\")\n",
    "\n",
    "# define an evaluation function to pass into trainer later\n",
    "def compute_metrics(p):\n",
    "    predictions, labels = p\n",
    "    predictions = np.argmax(predictions, axis=1)\n",
    "\n",
    "    return {\"accuracy\": accuracy.compute(predictions=predictions, references=labels)}"
   ]
  },
  {
   "cell_type": "code",
   "execution_count": 75,
   "id": "7edd7502-c29a-45ab-957b-56ce0a37821c",
   "metadata": {},
   "outputs": [],
   "source": [
    "from peft import PeftModel, PeftConfig, get_peft_model, LoraConfig\n",
    "import evaluate"
   ]
  },
  {
   "cell_type": "code",
   "execution_count": 76,
   "id": "d6c13566-8393-48b1-b5a4-8e1627b1dee6",
   "metadata": {},
   "outputs": [
    {
     "name": "stdout",
     "output_type": "stream",
     "text": [
      "distilbert.embeddings.word_embeddings.weight True\n",
      "distilbert.embeddings.position_embeddings.weight True\n",
      "distilbert.embeddings.LayerNorm.weight True\n",
      "distilbert.embeddings.LayerNorm.bias True\n",
      "distilbert.transformer.layer.0.attention.q_lin.weight True\n",
      "distilbert.transformer.layer.0.attention.q_lin.bias True\n",
      "distilbert.transformer.layer.0.attention.k_lin.weight True\n",
      "distilbert.transformer.layer.0.attention.k_lin.bias True\n",
      "distilbert.transformer.layer.0.attention.v_lin.weight True\n",
      "distilbert.transformer.layer.0.attention.v_lin.bias True\n",
      "distilbert.transformer.layer.0.attention.out_lin.weight True\n",
      "distilbert.transformer.layer.0.attention.out_lin.bias True\n",
      "distilbert.transformer.layer.0.sa_layer_norm.weight True\n",
      "distilbert.transformer.layer.0.sa_layer_norm.bias True\n",
      "distilbert.transformer.layer.0.ffn.lin1.weight True\n",
      "distilbert.transformer.layer.0.ffn.lin1.bias True\n",
      "distilbert.transformer.layer.0.ffn.lin2.weight True\n",
      "distilbert.transformer.layer.0.ffn.lin2.bias True\n",
      "distilbert.transformer.layer.0.output_layer_norm.weight True\n",
      "distilbert.transformer.layer.0.output_layer_norm.bias True\n",
      "distilbert.transformer.layer.1.attention.q_lin.weight True\n",
      "distilbert.transformer.layer.1.attention.q_lin.bias True\n",
      "distilbert.transformer.layer.1.attention.k_lin.weight True\n",
      "distilbert.transformer.layer.1.attention.k_lin.bias True\n",
      "distilbert.transformer.layer.1.attention.v_lin.weight True\n",
      "distilbert.transformer.layer.1.attention.v_lin.bias True\n",
      "distilbert.transformer.layer.1.attention.out_lin.weight True\n",
      "distilbert.transformer.layer.1.attention.out_lin.bias True\n",
      "distilbert.transformer.layer.1.sa_layer_norm.weight True\n",
      "distilbert.transformer.layer.1.sa_layer_norm.bias True\n",
      "distilbert.transformer.layer.1.ffn.lin1.weight True\n",
      "distilbert.transformer.layer.1.ffn.lin1.bias True\n",
      "distilbert.transformer.layer.1.ffn.lin2.weight True\n",
      "distilbert.transformer.layer.1.ffn.lin2.bias True\n",
      "distilbert.transformer.layer.1.output_layer_norm.weight True\n",
      "distilbert.transformer.layer.1.output_layer_norm.bias True\n",
      "distilbert.transformer.layer.2.attention.q_lin.weight True\n",
      "distilbert.transformer.layer.2.attention.q_lin.bias True\n",
      "distilbert.transformer.layer.2.attention.k_lin.weight True\n",
      "distilbert.transformer.layer.2.attention.k_lin.bias True\n",
      "distilbert.transformer.layer.2.attention.v_lin.weight True\n",
      "distilbert.transformer.layer.2.attention.v_lin.bias True\n",
      "distilbert.transformer.layer.2.attention.out_lin.weight True\n",
      "distilbert.transformer.layer.2.attention.out_lin.bias True\n",
      "distilbert.transformer.layer.2.sa_layer_norm.weight True\n",
      "distilbert.transformer.layer.2.sa_layer_norm.bias True\n",
      "distilbert.transformer.layer.2.ffn.lin1.weight True\n",
      "distilbert.transformer.layer.2.ffn.lin1.bias True\n",
      "distilbert.transformer.layer.2.ffn.lin2.weight True\n",
      "distilbert.transformer.layer.2.ffn.lin2.bias True\n",
      "distilbert.transformer.layer.2.output_layer_norm.weight True\n",
      "distilbert.transformer.layer.2.output_layer_norm.bias True\n",
      "distilbert.transformer.layer.3.attention.q_lin.weight True\n",
      "distilbert.transformer.layer.3.attention.q_lin.bias True\n",
      "distilbert.transformer.layer.3.attention.k_lin.weight True\n",
      "distilbert.transformer.layer.3.attention.k_lin.bias True\n",
      "distilbert.transformer.layer.3.attention.v_lin.weight True\n",
      "distilbert.transformer.layer.3.attention.v_lin.bias True\n",
      "distilbert.transformer.layer.3.attention.out_lin.weight True\n",
      "distilbert.transformer.layer.3.attention.out_lin.bias True\n",
      "distilbert.transformer.layer.3.sa_layer_norm.weight True\n",
      "distilbert.transformer.layer.3.sa_layer_norm.bias True\n",
      "distilbert.transformer.layer.3.ffn.lin1.weight True\n",
      "distilbert.transformer.layer.3.ffn.lin1.bias True\n",
      "distilbert.transformer.layer.3.ffn.lin2.weight True\n",
      "distilbert.transformer.layer.3.ffn.lin2.bias True\n",
      "distilbert.transformer.layer.3.output_layer_norm.weight True\n",
      "distilbert.transformer.layer.3.output_layer_norm.bias True\n",
      "distilbert.transformer.layer.4.attention.q_lin.weight True\n",
      "distilbert.transformer.layer.4.attention.q_lin.bias True\n",
      "distilbert.transformer.layer.4.attention.k_lin.weight True\n",
      "distilbert.transformer.layer.4.attention.k_lin.bias True\n",
      "distilbert.transformer.layer.4.attention.v_lin.weight True\n",
      "distilbert.transformer.layer.4.attention.v_lin.bias True\n",
      "distilbert.transformer.layer.4.attention.out_lin.weight True\n",
      "distilbert.transformer.layer.4.attention.out_lin.bias True\n",
      "distilbert.transformer.layer.4.sa_layer_norm.weight True\n",
      "distilbert.transformer.layer.4.sa_layer_norm.bias True\n",
      "distilbert.transformer.layer.4.ffn.lin1.weight True\n",
      "distilbert.transformer.layer.4.ffn.lin1.bias True\n",
      "distilbert.transformer.layer.4.ffn.lin2.weight True\n",
      "distilbert.transformer.layer.4.ffn.lin2.bias True\n",
      "distilbert.transformer.layer.4.output_layer_norm.weight True\n",
      "distilbert.transformer.layer.4.output_layer_norm.bias True\n",
      "distilbert.transformer.layer.5.attention.q_lin.weight True\n",
      "distilbert.transformer.layer.5.attention.q_lin.bias True\n",
      "distilbert.transformer.layer.5.attention.k_lin.weight True\n",
      "distilbert.transformer.layer.5.attention.k_lin.bias True\n",
      "distilbert.transformer.layer.5.attention.v_lin.weight True\n",
      "distilbert.transformer.layer.5.attention.v_lin.bias True\n",
      "distilbert.transformer.layer.5.attention.out_lin.weight True\n",
      "distilbert.transformer.layer.5.attention.out_lin.bias True\n",
      "distilbert.transformer.layer.5.sa_layer_norm.weight True\n",
      "distilbert.transformer.layer.5.sa_layer_norm.bias True\n",
      "distilbert.transformer.layer.5.ffn.lin1.weight True\n",
      "distilbert.transformer.layer.5.ffn.lin1.bias True\n",
      "distilbert.transformer.layer.5.ffn.lin2.weight True\n",
      "distilbert.transformer.layer.5.ffn.lin2.bias True\n",
      "distilbert.transformer.layer.5.output_layer_norm.weight True\n",
      "distilbert.transformer.layer.5.output_layer_norm.bias True\n",
      "pre_classifier.weight True\n",
      "pre_classifier.bias True\n",
      "classifier.weight True\n",
      "classifier.bias True\n"
     ]
    }
   ],
   "source": [
    "for name, param in model_lora.named_parameters():\n",
    "   print(name, param.requires_grad)"
   ]
  },
  {
   "cell_type": "code",
   "execution_count": 79,
   "id": "b066abc4-2fbb-4c87-a180-be09e90d1fd5",
   "metadata": {},
   "outputs": [],
   "source": [
    "peft_config = LoraConfig(task_type=\"SEQ_CLS\",\n",
    "                        r=4,\n",
    "                        lora_alpha=32,\n",
    "                        lora_dropout=0.01,\n",
    "                        target_modules = ['q_lin','k_lin','v_lin'])"
   ]
  },
  {
   "cell_type": "code",
   "execution_count": 119,
   "id": "8b42f7b6-89a9-4a3f-a57d-8bce62cd0e51",
   "metadata": {},
   "outputs": [
    {
     "name": "stdout",
     "output_type": "stream",
     "text": [
      "trainable params: 705,798 || all params: 67,663,884 || trainable%: 1.0431\n"
     ]
    }
   ],
   "source": [
    "model_dict['lora'] = get_peft_model(model_dict['lora'], \n",
    "                                    peft_config)\n",
    "model_dict['lora'].print_trainable_parameters()"
   ]
  },
  {
   "cell_type": "code",
   "execution_count": 120,
   "id": "9e39adc1-1f8f-4867-b29b-c1673d3fbc57",
   "metadata": {},
   "outputs": [],
   "source": [
    "# hyperparameters\n",
    "lr = 1e-3\n",
    "batch_size = 16\n",
    "num_epochs = 10"
   ]
  },
  {
   "cell_type": "code",
   "execution_count": 121,
   "id": "9471b699-13b7-4d05-bd00-d186fb238f4a",
   "metadata": {},
   "outputs": [],
   "source": [
    "train_arg_dict = {}\n",
    "# define training arguments\n",
    "train_arg_dict['lora'] = TrainingArguments(\n",
    "                                            output_dir= model_path_dict['lora'] + \"-lora-text-classification\",\n",
    "                                            learning_rate=lr,\n",
    "                                            per_device_train_batch_size=batch_size,\n",
    "                                            per_device_eval_batch_size=batch_size,\n",
    "                                            num_train_epochs=num_epochs,\n",
    "                                            weight_decay=0.01,\n",
    "                                            eval_strategy=\"epoch\",\n",
    "                                            save_strategy=\"epoch\",\n",
    "                                            load_best_model_at_end=True,\n",
    "                                        )"
   ]
  },
  {
   "cell_type": "code",
   "execution_count": 131,
   "id": "ab3bee80-e298-4880-b983-55c0392cbcbb",
   "metadata": {},
   "outputs": [
    {
     "name": "stderr",
     "output_type": "stream",
     "text": [
      "C:\\Users\\18623\\AppData\\Local\\Temp\\ipykernel_22168\\2244444475.py:2: FutureWarning: `tokenizer` is deprecated and will be removed in version 5.0.0 for `Trainer.__init__`. Use `processing_class` instead.\n",
      "  trainer_dict['lora'] = Trainer(model=model_dict['lora'],\n"
     ]
    }
   ],
   "source": [
    "trainer_dict = {}\n",
    "trainer_dict['lora'] = Trainer(model=model_dict['lora'],\n",
    "                               args=train_arg_dict['lora'],\n",
    "                               train_dataset=tokenized_dataset_dict['lora'][\"train\"],\n",
    "                               eval_dataset=tokenized_dataset_dict['lora'][\"valid\"],\n",
    "                               tokenizer=tokenizer_dict['lora'],\n",
    "                               data_collator=data_collator_dict['lora'],\n",
    "                               compute_metrics=compute_metrics)"
   ]
  },
  {
   "cell_type": "code",
   "execution_count": 132,
   "id": "6415e91e-2113-4b0f-ba20-74d978825231",
   "metadata": {},
   "outputs": [
    {
     "name": "stdout",
     "output_type": "stream",
     "text": [
      "{'eval_loss': 0.26290515065193176, 'eval_accuracy': {'accuracy': 0.9626168224299065}, 'eval_runtime': 0.2207, 'eval_samples_per_second': 969.592, 'eval_steps_per_second': 63.431, 'epoch': 1.0}\n",
      "{'eval_loss': 0.05531955137848854, 'eval_accuracy': {'accuracy': 0.985981308411215}, 'eval_runtime': 0.2007, 'eval_samples_per_second': 1066.356, 'eval_steps_per_second': 69.762, 'epoch': 2.0}\n",
      "{'eval_loss': 0.02245279774069786, 'eval_accuracy': {'accuracy': 0.9906542056074766}, 'eval_runtime': 0.2329, 'eval_samples_per_second': 918.857, 'eval_steps_per_second': 60.112, 'epoch': 3.0}\n",
      "{'eval_loss': 0.02124192751944065, 'eval_accuracy': {'accuracy': 0.9906542056074766}, 'eval_runtime': 0.2414, 'eval_samples_per_second': 886.543, 'eval_steps_per_second': 57.998, 'epoch': 4.0}\n",
      "{'eval_loss': 0.05824288725852966, 'eval_accuracy': {'accuracy': 0.9906542056074766}, 'eval_runtime': 0.2233, 'eval_samples_per_second': 958.412, 'eval_steps_per_second': 62.7, 'epoch': 5.0}\n",
      "{'eval_loss': 0.05232155695557594, 'eval_accuracy': {'accuracy': 0.9906542056074766}, 'eval_runtime': 0.2725, 'eval_samples_per_second': 785.34, 'eval_steps_per_second': 51.377, 'epoch': 6.0}\n",
      "{'eval_loss': 0.041869889944791794, 'eval_accuracy': {'accuracy': 0.9813084112149533}, 'eval_runtime': 0.2213, 'eval_samples_per_second': 967.094, 'eval_steps_per_second': 63.268, 'epoch': 7.0}\n",
      "{'eval_loss': 0.04540935903787613, 'eval_accuracy': {'accuracy': 0.9813084112149533}, 'eval_runtime': 0.2516, 'eval_samples_per_second': 850.606, 'eval_steps_per_second': 55.647, 'epoch': 8.0}\n",
      "{'eval_loss': 0.03809085115790367, 'eval_accuracy': {'accuracy': 0.9813084112149533}, 'eval_runtime': 0.2519, 'eval_samples_per_second': 849.378, 'eval_steps_per_second': 55.567, 'epoch': 9.0}\n",
      "{'eval_loss': 0.022986512631177902, 'eval_accuracy': {'accuracy': 0.9906542056074766}, 'eval_runtime': 0.2621, 'eval_samples_per_second': 816.397, 'eval_steps_per_second': 53.409, 'epoch': 10.0}\n",
      "{'train_runtime': 20.7797, 'train_samples_per_second': 310.399, 'train_steps_per_second': 19.731, 'train_loss': 0.01899763432944693, 'epoch': 10.0}\n"
     ]
    },
    {
     "data": {
      "text/plain": [
       "TrainOutput(global_step=410, training_loss=0.01899763432944693, metrics={'train_runtime': 20.7797, 'train_samples_per_second': 310.399, 'train_steps_per_second': 19.731, 'train_loss': 0.01899763432944693, 'epoch': 10.0})"
      ]
     },
     "execution_count": 132,
     "metadata": {},
     "output_type": "execute_result"
    }
   ],
   "source": [
    "trainer_dict['lora'].train()"
   ]
  },
  {
   "cell_type": "code",
   "execution_count": 133,
   "id": "befa38fe-2c72-4ffc-87f5-404b86859bdb",
   "metadata": {},
   "outputs": [
    {
     "name": "stdout",
     "output_type": "stream",
     "text": [
      "Accuracy 1.0\n"
     ]
    }
   ],
   "source": [
    "split_key = \"test\"\n",
    "\n",
    "# apply model to validation dataset\n",
    "predictions = trainer.predict(tokenized_data[split_key])\n",
    "\n",
    "# Extract the logits and labels from the predictions object\n",
    "logits = predictions.predictions\n",
    "labels = predictions.label_ids\n",
    "\n",
    "# Use your compute_metrics function\n",
    "#metrics = compute_metrics((logits, labels))\n",
    "#print(metrics)\n",
    "true_count = 0\n",
    "for pred_l,actu_l in zip(labels,support_tickets_splits[split_key]['label']): \n",
    "    if pred_l == actu_l:\n",
    "        true_count += 1\n",
    "print(f'Accuracy {true_count/len(labels)}')"
   ]
  },
  {
   "cell_type": "code",
   "execution_count": 135,
   "id": "baa1ad5a-006c-4342-a624-bd9b125b9402",
   "metadata": {},
   "outputs": [
    {
     "data": {
      "image/png": "[encoded data removed]",
      "text/plain": [
       "<Figure size 800x500 with 2 Axes>"
      ]
     },
     "metadata": {},
     "output_type": "display_data"
    }
   ],
   "source": [
    "font_size = 12\n",
    "label_class = list(label2id.keys())\n",
    "cl_rep = classification_report(support_tickets_splits['test']['label'],\n",
    "                               labels,\n",
    "                               target_names=label_class,\n",
    "                               output_dict=True\n",
    "                            )\n",
    "\n",
    "cm = confusion_matrix(support_tickets_splits['test']['label'],\n",
    "                      labels)\n",
    "\n",
    "plt.figure(figsize = (8, 5))\n",
    "sns.heatmap(cm,\n",
    "            xticklabels=label_class,\n",
    "            yticklabels=label_class,\n",
    "            annot = True,  fmt = '.0f',\n",
    "            annot_kws={'size': font_size})\n",
    "plt.ylabel('Actual')\n",
    "plt.xlabel('Predicted')\n",
    "plt.show()"
   ]
  },
  {
   "cell_type": "code",
   "execution_count": null,
   "id": "1d0fd90c-b69a-49a8-8c21-7b8a6aa1c636",
   "metadata": {},
   "outputs": [],
   "source": []
  }
 ],
 "metadata": {
  "kernelspec": {
   "display_name": "Python 3 (ipykernel)",
   "language": "python",
   "name": "python3"
  },
  "language_info": {
   "codemirror_mode": {
    "name": "ipython",
    "version": 3
   },
   "file_extension": ".py",
   "mimetype": "text/x-python",
   "name": "python",
   "nbconvert_exporter": "python",
   "pygments_lexer": "ipython3",
   "version": "3.8.19"
  }
 },
 "nbformat": 4,
 "nbformat_minor": 5
}
